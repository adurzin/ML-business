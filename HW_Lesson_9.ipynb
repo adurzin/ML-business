{
 "cells": [
  {
   "cell_type": "markdown",
   "id": "eae2c191",
   "metadata": {},
   "source": [
    "# Lesson 9. Интеграция. Итоговый проект"
   ]
  },
  {
   "cell_type": "markdown",
   "id": "73d3a93e",
   "metadata": {},
   "source": [
    "Определение вероятности наличия сердечно-сосудистых заболеваний по данным первичного осмотра "
   ]
  },
  {
   "cell_type": "code",
   "execution_count": 1,
   "id": "15bb5ef5",
   "metadata": {},
   "outputs": [],
   "source": [
    "import numpy as np\n",
    "import pandas as pd\n",
    "from sklearn.model_selection import train_test_split"
   ]
  },
  {
   "cell_type": "code",
   "execution_count": 2,
   "id": "7ba0808b",
   "metadata": {},
   "outputs": [],
   "source": [
    "df = pd.read_csv('train.csv')"
   ]
  },
  {
   "cell_type": "code",
   "execution_count": 3,
   "id": "78385467",
   "metadata": {},
   "outputs": [
    {
     "data": {
      "text/html": [
       "<div>\n",
       "<style scoped>\n",
       "    .dataframe tbody tr th:only-of-type {\n",
       "        vertical-align: middle;\n",
       "    }\n",
       "\n",
       "    .dataframe tbody tr th {\n",
       "        vertical-align: top;\n",
       "    }\n",
       "\n",
       "    .dataframe thead th {\n",
       "        text-align: right;\n",
       "    }\n",
       "</style>\n",
       "<table border=\"1\" class=\"dataframe\">\n",
       "  <thead>\n",
       "    <tr style=\"text-align: right;\">\n",
       "      <th></th>\n",
       "      <th>id</th>\n",
       "      <th>comment_text</th>\n",
       "      <th>toxic</th>\n",
       "      <th>severe_toxic</th>\n",
       "      <th>obscene</th>\n",
       "      <th>threat</th>\n",
       "      <th>insult</th>\n",
       "      <th>identity_hate</th>\n",
       "    </tr>\n",
       "  </thead>\n",
       "  <tbody>\n",
       "    <tr>\n",
       "      <th>0</th>\n",
       "      <td>0000997932d777bf</td>\n",
       "      <td>Explanation\\nWhy the edits made under my usern...</td>\n",
       "      <td>0</td>\n",
       "      <td>0</td>\n",
       "      <td>0</td>\n",
       "      <td>0</td>\n",
       "      <td>0</td>\n",
       "      <td>0</td>\n",
       "    </tr>\n",
       "    <tr>\n",
       "      <th>1</th>\n",
       "      <td>000103f0d9cfb60f</td>\n",
       "      <td>D'aww! He matches this background colour I'm s...</td>\n",
       "      <td>0</td>\n",
       "      <td>0</td>\n",
       "      <td>0</td>\n",
       "      <td>0</td>\n",
       "      <td>0</td>\n",
       "      <td>0</td>\n",
       "    </tr>\n",
       "    <tr>\n",
       "      <th>2</th>\n",
       "      <td>000113f07ec002fd</td>\n",
       "      <td>Hey man, I'm really not trying to edit war. It...</td>\n",
       "      <td>0</td>\n",
       "      <td>0</td>\n",
       "      <td>0</td>\n",
       "      <td>0</td>\n",
       "      <td>0</td>\n",
       "      <td>0</td>\n",
       "    </tr>\n",
       "  </tbody>\n",
       "</table>\n",
       "</div>"
      ],
      "text/plain": [
       "                 id                                       comment_text  toxic  \\\n",
       "0  0000997932d777bf  Explanation\\nWhy the edits made under my usern...      0   \n",
       "1  000103f0d9cfb60f  D'aww! He matches this background colour I'm s...      0   \n",
       "2  000113f07ec002fd  Hey man, I'm really not trying to edit war. It...      0   \n",
       "\n",
       "   severe_toxic  obscene  threat  insult  identity_hate  \n",
       "0             0        0       0       0              0  \n",
       "1             0        0       0       0              0  \n",
       "2             0        0       0       0              0  "
      ]
     },
     "execution_count": 3,
     "metadata": {},
     "output_type": "execute_result"
    }
   ],
   "source": [
    "df.head(3)"
   ]
  },
  {
   "cell_type": "code",
   "execution_count": 4,
   "id": "098293d0",
   "metadata": {},
   "outputs": [
    {
     "data": {
      "text/plain": [
       "0    158166\n",
       "1      1405\n",
       "Name: identity_hate, dtype: int64"
      ]
     },
     "execution_count": 4,
     "metadata": {},
     "output_type": "execute_result"
    }
   ],
   "source": [
    "df.identity_hate.value_counts()"
   ]
  },
  {
   "cell_type": "code",
   "execution_count": 5,
   "id": "490dc1b3",
   "metadata": {},
   "outputs": [
    {
     "data": {
      "text/plain": [
       "id               0\n",
       "comment_text     0\n",
       "toxic            0\n",
       "severe_toxic     0\n",
       "obscene          0\n",
       "threat           0\n",
       "insult           0\n",
       "identity_hate    0\n",
       "dtype: int64"
      ]
     },
     "execution_count": 5,
     "metadata": {},
     "output_type": "execute_result"
    }
   ],
   "source": [
    "df.isna().sum()"
   ]
  },
  {
   "cell_type": "code",
   "execution_count": 6,
   "id": "2c67b22f",
   "metadata": {},
   "outputs": [
    {
     "name": "stdout",
     "output_type": "stream",
     "text": [
      "<class 'pandas.core.frame.DataFrame'>\n",
      "RangeIndex: 159571 entries, 0 to 159570\n",
      "Data columns (total 8 columns):\n",
      " #   Column         Non-Null Count   Dtype \n",
      "---  ------         --------------   ----- \n",
      " 0   id             159571 non-null  object\n",
      " 1   comment_text   159571 non-null  object\n",
      " 2   toxic          159571 non-null  int64 \n",
      " 3   severe_toxic   159571 non-null  int64 \n",
      " 4   obscene        159571 non-null  int64 \n",
      " 5   threat         159571 non-null  int64 \n",
      " 6   insult         159571 non-null  int64 \n",
      " 7   identity_hate  159571 non-null  int64 \n",
      "dtypes: int64(6), object(2)\n",
      "memory usage: 9.7+ MB\n"
     ]
    }
   ],
   "source": [
    "df.info()"
   ]
  },
  {
   "cell_type": "code",
   "execution_count": 7,
   "id": "da04ae1d",
   "metadata": {},
   "outputs": [],
   "source": [
    "X = df.drop(columns=['insult', 'id'])\n",
    "y = df.insult"
   ]
  },
  {
   "cell_type": "code",
   "execution_count": 8,
   "id": "1a5b0e19",
   "metadata": {},
   "outputs": [
    {
     "data": {
      "text/plain": [
       "Index(['toxic', 'severe_toxic', 'obscene', 'threat', 'identity_hate'], dtype='object')"
      ]
     },
     "execution_count": 8,
     "metadata": {},
     "output_type": "execute_result"
    }
   ],
   "source": [
    "continious_cols = X.select_dtypes(include='int64').columns\n",
    "continious_cols"
   ]
  },
  {
   "cell_type": "code",
   "execution_count": 9,
   "id": "818fea69",
   "metadata": {},
   "outputs": [],
   "source": [
    "cat_cols = ['comment_text']"
   ]
  },
  {
   "cell_type": "code",
   "execution_count": 10,
   "id": "019683cb",
   "metadata": {},
   "outputs": [
    {
     "data": {
      "text/plain": [
       "0    151694\n",
       "1      7877\n",
       "Name: insult, dtype: int64"
      ]
     },
     "execution_count": 10,
     "metadata": {},
     "output_type": "execute_result"
    }
   ],
   "source": [
    "df['insult'].value_counts()"
   ]
  },
  {
   "cell_type": "code",
   "execution_count": 11,
   "id": "6456a01c",
   "metadata": {},
   "outputs": [],
   "source": [
    "from sklearn.metrics import classification_report, precision_recall_curve, roc_auc_score\n",
    "from sklearn.feature_extraction.text import TfidfVectorizer\n",
    "from sklearn.pipeline import Pipeline, make_pipeline, FeatureUnion\n",
    "from sklearn.base import TransformerMixin, BaseEstimator\n",
    "from sklearn.preprocessing import StandardScaler"
   ]
  },
  {
   "cell_type": "markdown",
   "id": "74bf4dfc",
   "metadata": {},
   "source": [
    "Создаем классы обработки признаков"
   ]
  },
  {
   "cell_type": "code",
   "execution_count": 12,
   "id": "b48c713b",
   "metadata": {},
   "outputs": [],
   "source": [
    "class NumberSelector(BaseEstimator, TransformerMixin):\n",
    "    def __init__(self, key):\n",
    "        self.key = key\n",
    "        \n",
    "    def fit(self, X, y=None):\n",
    "        return self\n",
    "    \n",
    "    def transform(self, X):\n",
    "        return X[[self.key]]\n",
    "    \n",
    "    \n",
    "class CatSelector(BaseEstimator, TransformerMixin):\n",
    "    def __init__(self, key):\n",
    "        self.key = key\n",
    "        \n",
    "    def fit(self, X, y=None):\n",
    "        return self\n",
    "    \n",
    "    def transform(self, X):\n",
    "        return X[self.key]"
   ]
  },
  {
   "cell_type": "code",
   "execution_count": 13,
   "id": "ca1ba6ea",
   "metadata": {},
   "outputs": [],
   "source": [
    "final_transformers = []\n",
    "\n",
    "for cat_col in cat_cols:\n",
    "    cat_transformer = Pipeline([\n",
    "        ('selector', CatSelector(key=cat_col)),\n",
    "        ('tfdf', TfidfVectorizer())\n",
    "    ])\n",
    "    \n",
    "    final_transformers.append((cat_col, cat_transformer))\n",
    "    \n",
    "for num_col in continious_cols:\n",
    "    num_transformer = Pipeline([\n",
    "        ('selector', NumberSelector(key=num_col))\n",
    "    ])\n",
    "    \n",
    "    final_transformers.append((num_col, num_transformer))"
   ]
  },
  {
   "cell_type": "code",
   "execution_count": 14,
   "id": "c6568a93",
   "metadata": {},
   "outputs": [],
   "source": [
    "feats = FeatureUnion(final_transformers)"
   ]
  },
  {
   "cell_type": "code",
   "execution_count": 15,
   "id": "06794cc9",
   "metadata": {},
   "outputs": [],
   "source": [
    "from catboost import CatBoostClassifier\n",
    "from lightgbm import LGBMClassifier\n",
    "from xgboost import XGBClassifier\n",
    "from sklearn.linear_model import LogisticRegression\n",
    "from sklearn.model_selection import GridSearchCV"
   ]
  },
  {
   "cell_type": "code",
   "execution_count": 16,
   "id": "b629b568",
   "metadata": {},
   "outputs": [],
   "source": [
    "X_train, X_test, y_train, y_test = train_test_split(X, y, test_size=0.25, random_state=50, stratify=y)"
   ]
  },
  {
   "cell_type": "code",
   "execution_count": 17,
   "id": "72016b5f",
   "metadata": {},
   "outputs": [],
   "source": [
    "# pipeline = Pipeline([\n",
    "#     ('features', feats),\n",
    "#     ('model', LGBMClassifier(random_state=1))\n",
    "# ])"
   ]
  },
  {
   "cell_type": "code",
   "execution_count": 18,
   "id": "ed2d9ee6",
   "metadata": {},
   "outputs": [
    {
     "data": {
      "text/plain": [
       "{'memory': None,\n",
       " 'steps': [('features',\n",
       "   FeatureUnion(transformer_list=[('comment_text',\n",
       "                                   Pipeline(steps=[('selector',\n",
       "                                                    CatSelector(key='comment_text')),\n",
       "                                                   ('tfdf', TfidfVectorizer())])),\n",
       "                                  ('toxic',\n",
       "                                   Pipeline(steps=[('selector',\n",
       "                                                    NumberSelector(key='toxic'))])),\n",
       "                                  ('severe_toxic',\n",
       "                                   Pipeline(steps=[('selector',\n",
       "                                                    NumberSelector(key='severe_toxic'))])),\n",
       "                                  ('obscene',\n",
       "                                   Pipeline(steps=[('selector',\n",
       "                                                    NumberSelector(key='obscene'))])),\n",
       "                                  ('threat',\n",
       "                                   Pipeline(steps=[('selector',\n",
       "                                                    NumberSelector(key='threat'))])),\n",
       "                                  ('identity_hate',\n",
       "                                   Pipeline(steps=[('selector',\n",
       "                                                    NumberSelector(key='identity_hate'))]))])),\n",
       "  ('model', LGBMClassifier(random_state=1))],\n",
       " 'verbose': False,\n",
       " 'features': FeatureUnion(transformer_list=[('comment_text',\n",
       "                                 Pipeline(steps=[('selector',\n",
       "                                                  CatSelector(key='comment_text')),\n",
       "                                                 ('tfdf', TfidfVectorizer())])),\n",
       "                                ('toxic',\n",
       "                                 Pipeline(steps=[('selector',\n",
       "                                                  NumberSelector(key='toxic'))])),\n",
       "                                ('severe_toxic',\n",
       "                                 Pipeline(steps=[('selector',\n",
       "                                                  NumberSelector(key='severe_toxic'))])),\n",
       "                                ('obscene',\n",
       "                                 Pipeline(steps=[('selector',\n",
       "                                                  NumberSelector(key='obscene'))])),\n",
       "                                ('threat',\n",
       "                                 Pipeline(steps=[('selector',\n",
       "                                                  NumberSelector(key='threat'))])),\n",
       "                                ('identity_hate',\n",
       "                                 Pipeline(steps=[('selector',\n",
       "                                                  NumberSelector(key='identity_hate'))]))]),\n",
       " 'model': LGBMClassifier(random_state=1),\n",
       " 'features__n_jobs': None,\n",
       " 'features__transformer_list': [('comment_text',\n",
       "   Pipeline(steps=[('selector', CatSelector(key='comment_text')),\n",
       "                   ('tfdf', TfidfVectorizer())])),\n",
       "  ('toxic', Pipeline(steps=[('selector', NumberSelector(key='toxic'))])),\n",
       "  ('severe_toxic',\n",
       "   Pipeline(steps=[('selector', NumberSelector(key='severe_toxic'))])),\n",
       "  ('obscene', Pipeline(steps=[('selector', NumberSelector(key='obscene'))])),\n",
       "  ('threat', Pipeline(steps=[('selector', NumberSelector(key='threat'))])),\n",
       "  ('identity_hate',\n",
       "   Pipeline(steps=[('selector', NumberSelector(key='identity_hate'))]))],\n",
       " 'features__transformer_weights': None,\n",
       " 'features__verbose': False,\n",
       " 'features__comment_text': Pipeline(steps=[('selector', CatSelector(key='comment_text')),\n",
       "                 ('tfdf', TfidfVectorizer())]),\n",
       " 'features__toxic': Pipeline(steps=[('selector', NumberSelector(key='toxic'))]),\n",
       " 'features__severe_toxic': Pipeline(steps=[('selector', NumberSelector(key='severe_toxic'))]),\n",
       " 'features__obscene': Pipeline(steps=[('selector', NumberSelector(key='obscene'))]),\n",
       " 'features__threat': Pipeline(steps=[('selector', NumberSelector(key='threat'))]),\n",
       " 'features__identity_hate': Pipeline(steps=[('selector', NumberSelector(key='identity_hate'))]),\n",
       " 'features__comment_text__memory': None,\n",
       " 'features__comment_text__steps': [('selector',\n",
       "   CatSelector(key='comment_text')),\n",
       "  ('tfdf', TfidfVectorizer())],\n",
       " 'features__comment_text__verbose': False,\n",
       " 'features__comment_text__selector': CatSelector(key='comment_text'),\n",
       " 'features__comment_text__tfdf': TfidfVectorizer(),\n",
       " 'features__comment_text__selector__key': 'comment_text',\n",
       " 'features__comment_text__tfdf__analyzer': 'word',\n",
       " 'features__comment_text__tfdf__binary': False,\n",
       " 'features__comment_text__tfdf__decode_error': 'strict',\n",
       " 'features__comment_text__tfdf__dtype': numpy.float64,\n",
       " 'features__comment_text__tfdf__encoding': 'utf-8',\n",
       " 'features__comment_text__tfdf__input': 'content',\n",
       " 'features__comment_text__tfdf__lowercase': True,\n",
       " 'features__comment_text__tfdf__max_df': 1.0,\n",
       " 'features__comment_text__tfdf__max_features': None,\n",
       " 'features__comment_text__tfdf__min_df': 1,\n",
       " 'features__comment_text__tfdf__ngram_range': (1, 1),\n",
       " 'features__comment_text__tfdf__norm': 'l2',\n",
       " 'features__comment_text__tfdf__preprocessor': None,\n",
       " 'features__comment_text__tfdf__smooth_idf': True,\n",
       " 'features__comment_text__tfdf__stop_words': None,\n",
       " 'features__comment_text__tfdf__strip_accents': None,\n",
       " 'features__comment_text__tfdf__sublinear_tf': False,\n",
       " 'features__comment_text__tfdf__token_pattern': '(?u)\\\\b\\\\w\\\\w+\\\\b',\n",
       " 'features__comment_text__tfdf__tokenizer': None,\n",
       " 'features__comment_text__tfdf__use_idf': True,\n",
       " 'features__comment_text__tfdf__vocabulary': None,\n",
       " 'features__toxic__memory': None,\n",
       " 'features__toxic__steps': [('selector', NumberSelector(key='toxic'))],\n",
       " 'features__toxic__verbose': False,\n",
       " 'features__toxic__selector': NumberSelector(key='toxic'),\n",
       " 'features__toxic__selector__key': 'toxic',\n",
       " 'features__severe_toxic__memory': None,\n",
       " 'features__severe_toxic__steps': [('selector',\n",
       "   NumberSelector(key='severe_toxic'))],\n",
       " 'features__severe_toxic__verbose': False,\n",
       " 'features__severe_toxic__selector': NumberSelector(key='severe_toxic'),\n",
       " 'features__severe_toxic__selector__key': 'severe_toxic',\n",
       " 'features__obscene__memory': None,\n",
       " 'features__obscene__steps': [('selector', NumberSelector(key='obscene'))],\n",
       " 'features__obscene__verbose': False,\n",
       " 'features__obscene__selector': NumberSelector(key='obscene'),\n",
       " 'features__obscene__selector__key': 'obscene',\n",
       " 'features__threat__memory': None,\n",
       " 'features__threat__steps': [('selector', NumberSelector(key='threat'))],\n",
       " 'features__threat__verbose': False,\n",
       " 'features__threat__selector': NumberSelector(key='threat'),\n",
       " 'features__threat__selector__key': 'threat',\n",
       " 'features__identity_hate__memory': None,\n",
       " 'features__identity_hate__steps': [('selector',\n",
       "   NumberSelector(key='identity_hate'))],\n",
       " 'features__identity_hate__verbose': False,\n",
       " 'features__identity_hate__selector': NumberSelector(key='identity_hate'),\n",
       " 'features__identity_hate__selector__key': 'identity_hate',\n",
       " 'model__boosting_type': 'gbdt',\n",
       " 'model__class_weight': None,\n",
       " 'model__colsample_bytree': 1.0,\n",
       " 'model__importance_type': 'split',\n",
       " 'model__learning_rate': 0.1,\n",
       " 'model__max_depth': -1,\n",
       " 'model__min_child_samples': 20,\n",
       " 'model__min_child_weight': 0.001,\n",
       " 'model__min_split_gain': 0.0,\n",
       " 'model__n_estimators': 100,\n",
       " 'model__n_jobs': -1,\n",
       " 'model__num_leaves': 31,\n",
       " 'model__objective': None,\n",
       " 'model__random_state': 1,\n",
       " 'model__reg_alpha': 0.0,\n",
       " 'model__reg_lambda': 0.0,\n",
       " 'model__silent': 'warn',\n",
       " 'model__subsample': 1.0,\n",
       " 'model__subsample_for_bin': 200000,\n",
       " 'model__subsample_freq': 0}"
      ]
     },
     "execution_count": 18,
     "metadata": {},
     "output_type": "execute_result"
    }
   ],
   "source": [
    "# pipeline.get_params()"
   ]
  },
  {
   "cell_type": "code",
   "execution_count": 19,
   "id": "fc60c0d1",
   "metadata": {},
   "outputs": [],
   "source": [
    "parameters = {\n",
    "    'model__reg_lambda': [0.001, 0.01, 100, 10, 1, 0.1],\n",
    "    'model__learning_rate': [0.001, 0.01, 0.1, 0.5, 1]\n",
    "#     'features__comment_text__tfdf__stop_words': ('english', None),\n",
    "#     'features__comment_text__tfdf__max_features': [10, 50, 100, 300, 500, 1000, None]\n",
    "}\n"
   ]
  },
  {
   "cell_type": "code",
   "execution_count": 20,
   "id": "7bc1649d",
   "metadata": {
    "scrolled": true
   },
   "outputs": [
    {
     "name": "stdout",
     "output_type": "stream",
     "text": [
      "Fitting 3 folds for each of 30 candidates, totalling 90 fits\n"
     ]
    },
    {
     "data": {
      "text/html": [
       "<style>#sk-container-id-1 {color: black;background-color: white;}#sk-container-id-1 pre{padding: 0;}#sk-container-id-1 div.sk-toggleable {background-color: white;}#sk-container-id-1 label.sk-toggleable__label {cursor: pointer;display: block;width: 100%;margin-bottom: 0;padding: 0.3em;box-sizing: border-box;text-align: center;}#sk-container-id-1 label.sk-toggleable__label-arrow:before {content: \"▸\";float: left;margin-right: 0.25em;color: #696969;}#sk-container-id-1 label.sk-toggleable__label-arrow:hover:before {color: black;}#sk-container-id-1 div.sk-estimator:hover label.sk-toggleable__label-arrow:before {color: black;}#sk-container-id-1 div.sk-toggleable__content {max-height: 0;max-width: 0;overflow: hidden;text-align: left;background-color: #f0f8ff;}#sk-container-id-1 div.sk-toggleable__content pre {margin: 0.2em;color: black;border-radius: 0.25em;background-color: #f0f8ff;}#sk-container-id-1 input.sk-toggleable__control:checked~div.sk-toggleable__content {max-height: 200px;max-width: 100%;overflow: auto;}#sk-container-id-1 input.sk-toggleable__control:checked~label.sk-toggleable__label-arrow:before {content: \"▾\";}#sk-container-id-1 div.sk-estimator input.sk-toggleable__control:checked~label.sk-toggleable__label {background-color: #d4ebff;}#sk-container-id-1 div.sk-label input.sk-toggleable__control:checked~label.sk-toggleable__label {background-color: #d4ebff;}#sk-container-id-1 input.sk-hidden--visually {border: 0;clip: rect(1px 1px 1px 1px);clip: rect(1px, 1px, 1px, 1px);height: 1px;margin: -1px;overflow: hidden;padding: 0;position: absolute;width: 1px;}#sk-container-id-1 div.sk-estimator {font-family: monospace;background-color: #f0f8ff;border: 1px dotted black;border-radius: 0.25em;box-sizing: border-box;margin-bottom: 0.5em;}#sk-container-id-1 div.sk-estimator:hover {background-color: #d4ebff;}#sk-container-id-1 div.sk-parallel-item::after {content: \"\";width: 100%;border-bottom: 1px solid gray;flex-grow: 1;}#sk-container-id-1 div.sk-label:hover label.sk-toggleable__label {background-color: #d4ebff;}#sk-container-id-1 div.sk-serial::before {content: \"\";position: absolute;border-left: 1px solid gray;box-sizing: border-box;top: 0;bottom: 0;left: 50%;z-index: 0;}#sk-container-id-1 div.sk-serial {display: flex;flex-direction: column;align-items: center;background-color: white;padding-right: 0.2em;padding-left: 0.2em;position: relative;}#sk-container-id-1 div.sk-item {position: relative;z-index: 1;}#sk-container-id-1 div.sk-parallel {display: flex;align-items: stretch;justify-content: center;background-color: white;position: relative;}#sk-container-id-1 div.sk-item::before, #sk-container-id-1 div.sk-parallel-item::before {content: \"\";position: absolute;border-left: 1px solid gray;box-sizing: border-box;top: 0;bottom: 0;left: 50%;z-index: -1;}#sk-container-id-1 div.sk-parallel-item {display: flex;flex-direction: column;z-index: 1;position: relative;background-color: white;}#sk-container-id-1 div.sk-parallel-item:first-child::after {align-self: flex-end;width: 50%;}#sk-container-id-1 div.sk-parallel-item:last-child::after {align-self: flex-start;width: 50%;}#sk-container-id-1 div.sk-parallel-item:only-child::after {width: 0;}#sk-container-id-1 div.sk-dashed-wrapped {border: 1px dashed gray;margin: 0 0.4em 0.5em 0.4em;box-sizing: border-box;padding-bottom: 0.4em;background-color: white;}#sk-container-id-1 div.sk-label label {font-family: monospace;font-weight: bold;display: inline-block;line-height: 1.2em;}#sk-container-id-1 div.sk-label-container {text-align: center;}#sk-container-id-1 div.sk-container {/* jupyter's `normalize.less` sets `[hidden] { display: none; }` but bootstrap.min.css set `[hidden] { display: none !important; }` so we also need the `!important` here to be able to override the default hidden behavior on the sphinx rendered scikit-learn.org. See: https://github.com/scikit-learn/scikit-learn/issues/21755 */display: inline-block !important;position: relative;}#sk-container-id-1 div.sk-text-repr-fallback {display: none;}</style><div id=\"sk-container-id-1\" class=\"sk-top-container\"><div class=\"sk-text-repr-fallback\"><pre>GridSearchCV(cv=3,\n",
       "             estimator=Pipeline(steps=[(&#x27;features&#x27;,\n",
       "                                        FeatureUnion(transformer_list=[(&#x27;comment_text&#x27;,\n",
       "                                                                        Pipeline(steps=[(&#x27;selector&#x27;,\n",
       "                                                                                         CatSelector(key=&#x27;comment_text&#x27;)),\n",
       "                                                                                        (&#x27;tfdf&#x27;,\n",
       "                                                                                         TfidfVectorizer())])),\n",
       "                                                                       (&#x27;toxic&#x27;,\n",
       "                                                                        Pipeline(steps=[(&#x27;selector&#x27;,\n",
       "                                                                                         NumberSelector(key=&#x27;toxic&#x27;))])),\n",
       "                                                                       (&#x27;severe_toxic&#x27;,\n",
       "                                                                        Pipeline(steps=[(&#x27;selector&#x27;,\n",
       "                                                                                         NumberSelector(key=&#x27;severe_toxic&#x27;))])),\n",
       "                                                                       (&#x27;ob...\n",
       "                                                                                         NumberSelector(key=&#x27;obscene&#x27;))])),\n",
       "                                                                       (&#x27;threat&#x27;,\n",
       "                                                                        Pipeline(steps=[(&#x27;selector&#x27;,\n",
       "                                                                                         NumberSelector(key=&#x27;threat&#x27;))])),\n",
       "                                                                       (&#x27;identity_hate&#x27;,\n",
       "                                                                        Pipeline(steps=[(&#x27;selector&#x27;,\n",
       "                                                                                         NumberSelector(key=&#x27;identity_hate&#x27;))]))])),\n",
       "                                       (&#x27;model&#x27;,\n",
       "                                        LGBMClassifier(random_state=1))]),\n",
       "             param_grid={&#x27;model__learning_rate&#x27;: [0.001, 0.01, 0.1, 0.5, 1],\n",
       "                         &#x27;model__reg_lambda&#x27;: [0.001, 0.01, 100, 10, 1, 0.1]},\n",
       "             verbose=1)</pre><b>In a Jupyter environment, please rerun this cell to show the HTML representation or trust the notebook. <br />On GitHub, the HTML representation is unable to render, please try loading this page with nbviewer.org.</b></div><div class=\"sk-container\" hidden><div class=\"sk-item sk-dashed-wrapped\"><div class=\"sk-label-container\"><div class=\"sk-label sk-toggleable\"><input class=\"sk-toggleable__control sk-hidden--visually\" id=\"sk-estimator-id-1\" type=\"checkbox\" ><label for=\"sk-estimator-id-1\" class=\"sk-toggleable__label sk-toggleable__label-arrow\">GridSearchCV</label><div class=\"sk-toggleable__content\"><pre>GridSearchCV(cv=3,\n",
       "             estimator=Pipeline(steps=[(&#x27;features&#x27;,\n",
       "                                        FeatureUnion(transformer_list=[(&#x27;comment_text&#x27;,\n",
       "                                                                        Pipeline(steps=[(&#x27;selector&#x27;,\n",
       "                                                                                         CatSelector(key=&#x27;comment_text&#x27;)),\n",
       "                                                                                        (&#x27;tfdf&#x27;,\n",
       "                                                                                         TfidfVectorizer())])),\n",
       "                                                                       (&#x27;toxic&#x27;,\n",
       "                                                                        Pipeline(steps=[(&#x27;selector&#x27;,\n",
       "                                                                                         NumberSelector(key=&#x27;toxic&#x27;))])),\n",
       "                                                                       (&#x27;severe_toxic&#x27;,\n",
       "                                                                        Pipeline(steps=[(&#x27;selector&#x27;,\n",
       "                                                                                         NumberSelector(key=&#x27;severe_toxic&#x27;))])),\n",
       "                                                                       (&#x27;ob...\n",
       "                                                                                         NumberSelector(key=&#x27;obscene&#x27;))])),\n",
       "                                                                       (&#x27;threat&#x27;,\n",
       "                                                                        Pipeline(steps=[(&#x27;selector&#x27;,\n",
       "                                                                                         NumberSelector(key=&#x27;threat&#x27;))])),\n",
       "                                                                       (&#x27;identity_hate&#x27;,\n",
       "                                                                        Pipeline(steps=[(&#x27;selector&#x27;,\n",
       "                                                                                         NumberSelector(key=&#x27;identity_hate&#x27;))]))])),\n",
       "                                       (&#x27;model&#x27;,\n",
       "                                        LGBMClassifier(random_state=1))]),\n",
       "             param_grid={&#x27;model__learning_rate&#x27;: [0.001, 0.01, 0.1, 0.5, 1],\n",
       "                         &#x27;model__reg_lambda&#x27;: [0.001, 0.01, 100, 10, 1, 0.1]},\n",
       "             verbose=1)</pre></div></div></div><div class=\"sk-parallel\"><div class=\"sk-parallel-item\"><div class=\"sk-item\"><div class=\"sk-label-container\"><div class=\"sk-label sk-toggleable\"><input class=\"sk-toggleable__control sk-hidden--visually\" id=\"sk-estimator-id-2\" type=\"checkbox\" ><label for=\"sk-estimator-id-2\" class=\"sk-toggleable__label sk-toggleable__label-arrow\">estimator: Pipeline</label><div class=\"sk-toggleable__content\"><pre>Pipeline(steps=[(&#x27;features&#x27;,\n",
       "                 FeatureUnion(transformer_list=[(&#x27;comment_text&#x27;,\n",
       "                                                 Pipeline(steps=[(&#x27;selector&#x27;,\n",
       "                                                                  CatSelector(key=&#x27;comment_text&#x27;)),\n",
       "                                                                 (&#x27;tfdf&#x27;,\n",
       "                                                                  TfidfVectorizer())])),\n",
       "                                                (&#x27;toxic&#x27;,\n",
       "                                                 Pipeline(steps=[(&#x27;selector&#x27;,\n",
       "                                                                  NumberSelector(key=&#x27;toxic&#x27;))])),\n",
       "                                                (&#x27;severe_toxic&#x27;,\n",
       "                                                 Pipeline(steps=[(&#x27;selector&#x27;,\n",
       "                                                                  NumberSelector(key=&#x27;severe_toxic&#x27;))])),\n",
       "                                                (&#x27;obscene&#x27;,\n",
       "                                                 Pipeline(steps=[(&#x27;selector&#x27;,\n",
       "                                                                  NumberSelector(key=&#x27;obscene&#x27;))])),\n",
       "                                                (&#x27;threat&#x27;,\n",
       "                                                 Pipeline(steps=[(&#x27;selector&#x27;,\n",
       "                                                                  NumberSelector(key=&#x27;threat&#x27;))])),\n",
       "                                                (&#x27;identity_hate&#x27;,\n",
       "                                                 Pipeline(steps=[(&#x27;selector&#x27;,\n",
       "                                                                  NumberSelector(key=&#x27;identity_hate&#x27;))]))])),\n",
       "                (&#x27;model&#x27;, LGBMClassifier(random_state=1))])</pre></div></div></div><div class=\"sk-serial\"><div class=\"sk-item\"><div class=\"sk-serial\"><div class=\"sk-item sk-dashed-wrapped\"><div class=\"sk-label-container\"><div class=\"sk-label sk-toggleable\"><input class=\"sk-toggleable__control sk-hidden--visually\" id=\"sk-estimator-id-3\" type=\"checkbox\" ><label for=\"sk-estimator-id-3\" class=\"sk-toggleable__label sk-toggleable__label-arrow\">features: FeatureUnion</label><div class=\"sk-toggleable__content\"><pre>FeatureUnion(transformer_list=[(&#x27;comment_text&#x27;,\n",
       "                                Pipeline(steps=[(&#x27;selector&#x27;,\n",
       "                                                 CatSelector(key=&#x27;comment_text&#x27;)),\n",
       "                                                (&#x27;tfdf&#x27;, TfidfVectorizer())])),\n",
       "                               (&#x27;toxic&#x27;,\n",
       "                                Pipeline(steps=[(&#x27;selector&#x27;,\n",
       "                                                 NumberSelector(key=&#x27;toxic&#x27;))])),\n",
       "                               (&#x27;severe_toxic&#x27;,\n",
       "                                Pipeline(steps=[(&#x27;selector&#x27;,\n",
       "                                                 NumberSelector(key=&#x27;severe_toxic&#x27;))])),\n",
       "                               (&#x27;obscene&#x27;,\n",
       "                                Pipeline(steps=[(&#x27;selector&#x27;,\n",
       "                                                 NumberSelector(key=&#x27;obscene&#x27;))])),\n",
       "                               (&#x27;threat&#x27;,\n",
       "                                Pipeline(steps=[(&#x27;selector&#x27;,\n",
       "                                                 NumberSelector(key=&#x27;threat&#x27;))])),\n",
       "                               (&#x27;identity_hate&#x27;,\n",
       "                                Pipeline(steps=[(&#x27;selector&#x27;,\n",
       "                                                 NumberSelector(key=&#x27;identity_hate&#x27;))]))])</pre></div></div></div><div class=\"sk-parallel\"><div class=\"sk-parallel-item\"><div class=\"sk-item\"><div class=\"sk-label-container\"><div class=\"sk-label sk-toggleable\"><label>comment_text</label></div></div><div class=\"sk-serial\"><div class=\"sk-item\"><div class=\"sk-serial\"><div class=\"sk-item\"><div class=\"sk-estimator sk-toggleable\"><input class=\"sk-toggleable__control sk-hidden--visually\" id=\"sk-estimator-id-4\" type=\"checkbox\" ><label for=\"sk-estimator-id-4\" class=\"sk-toggleable__label sk-toggleable__label-arrow\">CatSelector</label><div class=\"sk-toggleable__content\"><pre>CatSelector(key=&#x27;comment_text&#x27;)</pre></div></div></div><div class=\"sk-item\"><div class=\"sk-estimator sk-toggleable\"><input class=\"sk-toggleable__control sk-hidden--visually\" id=\"sk-estimator-id-5\" type=\"checkbox\" ><label for=\"sk-estimator-id-5\" class=\"sk-toggleable__label sk-toggleable__label-arrow\">TfidfVectorizer</label><div class=\"sk-toggleable__content\"><pre>TfidfVectorizer()</pre></div></div></div></div></div></div></div></div><div class=\"sk-parallel-item\"><div class=\"sk-item\"><div class=\"sk-label-container\"><div class=\"sk-label sk-toggleable\"><label>toxic</label></div></div><div class=\"sk-serial\"><div class=\"sk-item\"><div class=\"sk-serial\"><div class=\"sk-item\"><div class=\"sk-estimator sk-toggleable\"><input class=\"sk-toggleable__control sk-hidden--visually\" id=\"sk-estimator-id-6\" type=\"checkbox\" ><label for=\"sk-estimator-id-6\" class=\"sk-toggleable__label sk-toggleable__label-arrow\">NumberSelector</label><div class=\"sk-toggleable__content\"><pre>NumberSelector(key=&#x27;toxic&#x27;)</pre></div></div></div></div></div></div></div></div><div class=\"sk-parallel-item\"><div class=\"sk-item\"><div class=\"sk-label-container\"><div class=\"sk-label sk-toggleable\"><label>severe_toxic</label></div></div><div class=\"sk-serial\"><div class=\"sk-item\"><div class=\"sk-serial\"><div class=\"sk-item\"><div class=\"sk-estimator sk-toggleable\"><input class=\"sk-toggleable__control sk-hidden--visually\" id=\"sk-estimator-id-7\" type=\"checkbox\" ><label for=\"sk-estimator-id-7\" class=\"sk-toggleable__label sk-toggleable__label-arrow\">NumberSelector</label><div class=\"sk-toggleable__content\"><pre>NumberSelector(key=&#x27;severe_toxic&#x27;)</pre></div></div></div></div></div></div></div></div><div class=\"sk-parallel-item\"><div class=\"sk-item\"><div class=\"sk-label-container\"><div class=\"sk-label sk-toggleable\"><label>obscene</label></div></div><div class=\"sk-serial\"><div class=\"sk-item\"><div class=\"sk-serial\"><div class=\"sk-item\"><div class=\"sk-estimator sk-toggleable\"><input class=\"sk-toggleable__control sk-hidden--visually\" id=\"sk-estimator-id-8\" type=\"checkbox\" ><label for=\"sk-estimator-id-8\" class=\"sk-toggleable__label sk-toggleable__label-arrow\">NumberSelector</label><div class=\"sk-toggleable__content\"><pre>NumberSelector(key=&#x27;obscene&#x27;)</pre></div></div></div></div></div></div></div></div><div class=\"sk-parallel-item\"><div class=\"sk-item\"><div class=\"sk-label-container\"><div class=\"sk-label sk-toggleable\"><label>threat</label></div></div><div class=\"sk-serial\"><div class=\"sk-item\"><div class=\"sk-serial\"><div class=\"sk-item\"><div class=\"sk-estimator sk-toggleable\"><input class=\"sk-toggleable__control sk-hidden--visually\" id=\"sk-estimator-id-9\" type=\"checkbox\" ><label for=\"sk-estimator-id-9\" class=\"sk-toggleable__label sk-toggleable__label-arrow\">NumberSelector</label><div class=\"sk-toggleable__content\"><pre>NumberSelector(key=&#x27;threat&#x27;)</pre></div></div></div></div></div></div></div></div><div class=\"sk-parallel-item\"><div class=\"sk-item\"><div class=\"sk-label-container\"><div class=\"sk-label sk-toggleable\"><label>identity_hate</label></div></div><div class=\"sk-serial\"><div class=\"sk-item\"><div class=\"sk-serial\"><div class=\"sk-item\"><div class=\"sk-estimator sk-toggleable\"><input class=\"sk-toggleable__control sk-hidden--visually\" id=\"sk-estimator-id-10\" type=\"checkbox\" ><label for=\"sk-estimator-id-10\" class=\"sk-toggleable__label sk-toggleable__label-arrow\">NumberSelector</label><div class=\"sk-toggleable__content\"><pre>NumberSelector(key=&#x27;identity_hate&#x27;)</pre></div></div></div></div></div></div></div></div></div></div><div class=\"sk-item\"><div class=\"sk-estimator sk-toggleable\"><input class=\"sk-toggleable__control sk-hidden--visually\" id=\"sk-estimator-id-11\" type=\"checkbox\" ><label for=\"sk-estimator-id-11\" class=\"sk-toggleable__label sk-toggleable__label-arrow\">LGBMClassifier</label><div class=\"sk-toggleable__content\"><pre>LGBMClassifier(random_state=1)</pre></div></div></div></div></div></div></div></div></div></div></div></div>"
      ],
      "text/plain": [
       "GridSearchCV(cv=3,\n",
       "             estimator=Pipeline(steps=[('features',\n",
       "                                        FeatureUnion(transformer_list=[('comment_text',\n",
       "                                                                        Pipeline(steps=[('selector',\n",
       "                                                                                         CatSelector(key='comment_text')),\n",
       "                                                                                        ('tfdf',\n",
       "                                                                                         TfidfVectorizer())])),\n",
       "                                                                       ('toxic',\n",
       "                                                                        Pipeline(steps=[('selector',\n",
       "                                                                                         NumberSelector(key='toxic'))])),\n",
       "                                                                       ('severe_toxic',\n",
       "                                                                        Pipeline(steps=[('selector',\n",
       "                                                                                         NumberSelector(key='severe_toxic'))])),\n",
       "                                                                       ('ob...\n",
       "                                                                                         NumberSelector(key='obscene'))])),\n",
       "                                                                       ('threat',\n",
       "                                                                        Pipeline(steps=[('selector',\n",
       "                                                                                         NumberSelector(key='threat'))])),\n",
       "                                                                       ('identity_hate',\n",
       "                                                                        Pipeline(steps=[('selector',\n",
       "                                                                                         NumberSelector(key='identity_hate'))]))])),\n",
       "                                       ('model',\n",
       "                                        LGBMClassifier(random_state=1))]),\n",
       "             param_grid={'model__learning_rate': [0.001, 0.01, 0.1, 0.5, 1],\n",
       "                         'model__reg_lambda': [0.001, 0.01, 100, 10, 1, 0.1]},\n",
       "             verbose=1)"
      ]
     },
     "execution_count": 20,
     "metadata": {},
     "output_type": "execute_result"
    }
   ],
   "source": [
    "# grid = GridSearchCV(pipeline, parameters, cv=3, verbose=1)\n",
    "# grid.fit(X_train, y_train)"
   ]
  },
  {
   "cell_type": "code",
   "execution_count": 21,
   "id": "b0092c73",
   "metadata": {},
   "outputs": [
    {
     "data": {
      "text/plain": [
       "{'model__learning_rate': 0.1, 'model__reg_lambda': 0.001}"
      ]
     },
     "execution_count": 21,
     "metadata": {},
     "output_type": "execute_result"
    }
   ],
   "source": [
    "# grid.best_params_"
   ]
  },
  {
   "cell_type": "code",
   "execution_count": 22,
   "id": "3bc56e40",
   "metadata": {},
   "outputs": [
    {
     "data": {
      "text/plain": [
       "0.9783335269015311"
      ]
     },
     "execution_count": 22,
     "metadata": {},
     "output_type": "execute_result"
    }
   ],
   "source": [
    "# grid.best_score_"
   ]
  },
  {
   "cell_type": "code",
   "execution_count": 34,
   "id": "353c8a5c",
   "metadata": {},
   "outputs": [],
   "source": [
    "pipeline = Pipeline([\n",
    "    ('features', feats),\n",
    "    ('model', LGBMClassifier(random_state=1,\n",
    "                            learning_rate=0.1,\n",
    "                            reg_lambda=0.001))\n",
    "])"
   ]
  },
  {
   "cell_type": "code",
   "execution_count": 35,
   "id": "10d07357",
   "metadata": {},
   "outputs": [
    {
     "data": {
      "text/html": [
       "<style>#sk-container-id-3 {color: black;background-color: white;}#sk-container-id-3 pre{padding: 0;}#sk-container-id-3 div.sk-toggleable {background-color: white;}#sk-container-id-3 label.sk-toggleable__label {cursor: pointer;display: block;width: 100%;margin-bottom: 0;padding: 0.3em;box-sizing: border-box;text-align: center;}#sk-container-id-3 label.sk-toggleable__label-arrow:before {content: \"▸\";float: left;margin-right: 0.25em;color: #696969;}#sk-container-id-3 label.sk-toggleable__label-arrow:hover:before {color: black;}#sk-container-id-3 div.sk-estimator:hover label.sk-toggleable__label-arrow:before {color: black;}#sk-container-id-3 div.sk-toggleable__content {max-height: 0;max-width: 0;overflow: hidden;text-align: left;background-color: #f0f8ff;}#sk-container-id-3 div.sk-toggleable__content pre {margin: 0.2em;color: black;border-radius: 0.25em;background-color: #f0f8ff;}#sk-container-id-3 input.sk-toggleable__control:checked~div.sk-toggleable__content {max-height: 200px;max-width: 100%;overflow: auto;}#sk-container-id-3 input.sk-toggleable__control:checked~label.sk-toggleable__label-arrow:before {content: \"▾\";}#sk-container-id-3 div.sk-estimator input.sk-toggleable__control:checked~label.sk-toggleable__label {background-color: #d4ebff;}#sk-container-id-3 div.sk-label input.sk-toggleable__control:checked~label.sk-toggleable__label {background-color: #d4ebff;}#sk-container-id-3 input.sk-hidden--visually {border: 0;clip: rect(1px 1px 1px 1px);clip: rect(1px, 1px, 1px, 1px);height: 1px;margin: -1px;overflow: hidden;padding: 0;position: absolute;width: 1px;}#sk-container-id-3 div.sk-estimator {font-family: monospace;background-color: #f0f8ff;border: 1px dotted black;border-radius: 0.25em;box-sizing: border-box;margin-bottom: 0.5em;}#sk-container-id-3 div.sk-estimator:hover {background-color: #d4ebff;}#sk-container-id-3 div.sk-parallel-item::after {content: \"\";width: 100%;border-bottom: 1px solid gray;flex-grow: 1;}#sk-container-id-3 div.sk-label:hover label.sk-toggleable__label {background-color: #d4ebff;}#sk-container-id-3 div.sk-serial::before {content: \"\";position: absolute;border-left: 1px solid gray;box-sizing: border-box;top: 0;bottom: 0;left: 50%;z-index: 0;}#sk-container-id-3 div.sk-serial {display: flex;flex-direction: column;align-items: center;background-color: white;padding-right: 0.2em;padding-left: 0.2em;position: relative;}#sk-container-id-3 div.sk-item {position: relative;z-index: 1;}#sk-container-id-3 div.sk-parallel {display: flex;align-items: stretch;justify-content: center;background-color: white;position: relative;}#sk-container-id-3 div.sk-item::before, #sk-container-id-3 div.sk-parallel-item::before {content: \"\";position: absolute;border-left: 1px solid gray;box-sizing: border-box;top: 0;bottom: 0;left: 50%;z-index: -1;}#sk-container-id-3 div.sk-parallel-item {display: flex;flex-direction: column;z-index: 1;position: relative;background-color: white;}#sk-container-id-3 div.sk-parallel-item:first-child::after {align-self: flex-end;width: 50%;}#sk-container-id-3 div.sk-parallel-item:last-child::after {align-self: flex-start;width: 50%;}#sk-container-id-3 div.sk-parallel-item:only-child::after {width: 0;}#sk-container-id-3 div.sk-dashed-wrapped {border: 1px dashed gray;margin: 0 0.4em 0.5em 0.4em;box-sizing: border-box;padding-bottom: 0.4em;background-color: white;}#sk-container-id-3 div.sk-label label {font-family: monospace;font-weight: bold;display: inline-block;line-height: 1.2em;}#sk-container-id-3 div.sk-label-container {text-align: center;}#sk-container-id-3 div.sk-container {/* jupyter's `normalize.less` sets `[hidden] { display: none; }` but bootstrap.min.css set `[hidden] { display: none !important; }` so we also need the `!important` here to be able to override the default hidden behavior on the sphinx rendered scikit-learn.org. See: https://github.com/scikit-learn/scikit-learn/issues/21755 */display: inline-block !important;position: relative;}#sk-container-id-3 div.sk-text-repr-fallback {display: none;}</style><div id=\"sk-container-id-3\" class=\"sk-top-container\"><div class=\"sk-text-repr-fallback\"><pre>Pipeline(steps=[(&#x27;features&#x27;,\n",
       "                 FeatureUnion(transformer_list=[(&#x27;comment_text&#x27;,\n",
       "                                                 Pipeline(steps=[(&#x27;selector&#x27;,\n",
       "                                                                  CatSelector(key=&#x27;comment_text&#x27;)),\n",
       "                                                                 (&#x27;tfdf&#x27;,\n",
       "                                                                  TfidfVectorizer())])),\n",
       "                                                (&#x27;toxic&#x27;,\n",
       "                                                 Pipeline(steps=[(&#x27;selector&#x27;,\n",
       "                                                                  NumberSelector(key=&#x27;toxic&#x27;))])),\n",
       "                                                (&#x27;severe_toxic&#x27;,\n",
       "                                                 Pipeline(steps=[(&#x27;selector&#x27;,\n",
       "                                                                  NumberSelector(key=&#x27;severe_toxic&#x27;))])),\n",
       "                                                (&#x27;obscene&#x27;,\n",
       "                                                 Pipeline(steps=[(&#x27;selector&#x27;,\n",
       "                                                                  NumberSelector(key=&#x27;obscene&#x27;))])),\n",
       "                                                (&#x27;threat&#x27;,\n",
       "                                                 Pipeline(steps=[(&#x27;selector&#x27;,\n",
       "                                                                  NumberSelector(key=&#x27;threat&#x27;))])),\n",
       "                                                (&#x27;identity_hate&#x27;,\n",
       "                                                 Pipeline(steps=[(&#x27;selector&#x27;,\n",
       "                                                                  NumberSelector(key=&#x27;identity_hate&#x27;))]))])),\n",
       "                (&#x27;model&#x27;, LGBMClassifier(random_state=1, reg_lambda=0.001))])</pre><b>In a Jupyter environment, please rerun this cell to show the HTML representation or trust the notebook. <br />On GitHub, the HTML representation is unable to render, please try loading this page with nbviewer.org.</b></div><div class=\"sk-container\" hidden><div class=\"sk-item sk-dashed-wrapped\"><div class=\"sk-label-container\"><div class=\"sk-label sk-toggleable\"><input class=\"sk-toggleable__control sk-hidden--visually\" id=\"sk-estimator-id-22\" type=\"checkbox\" ><label for=\"sk-estimator-id-22\" class=\"sk-toggleable__label sk-toggleable__label-arrow\">Pipeline</label><div class=\"sk-toggleable__content\"><pre>Pipeline(steps=[(&#x27;features&#x27;,\n",
       "                 FeatureUnion(transformer_list=[(&#x27;comment_text&#x27;,\n",
       "                                                 Pipeline(steps=[(&#x27;selector&#x27;,\n",
       "                                                                  CatSelector(key=&#x27;comment_text&#x27;)),\n",
       "                                                                 (&#x27;tfdf&#x27;,\n",
       "                                                                  TfidfVectorizer())])),\n",
       "                                                (&#x27;toxic&#x27;,\n",
       "                                                 Pipeline(steps=[(&#x27;selector&#x27;,\n",
       "                                                                  NumberSelector(key=&#x27;toxic&#x27;))])),\n",
       "                                                (&#x27;severe_toxic&#x27;,\n",
       "                                                 Pipeline(steps=[(&#x27;selector&#x27;,\n",
       "                                                                  NumberSelector(key=&#x27;severe_toxic&#x27;))])),\n",
       "                                                (&#x27;obscene&#x27;,\n",
       "                                                 Pipeline(steps=[(&#x27;selector&#x27;,\n",
       "                                                                  NumberSelector(key=&#x27;obscene&#x27;))])),\n",
       "                                                (&#x27;threat&#x27;,\n",
       "                                                 Pipeline(steps=[(&#x27;selector&#x27;,\n",
       "                                                                  NumberSelector(key=&#x27;threat&#x27;))])),\n",
       "                                                (&#x27;identity_hate&#x27;,\n",
       "                                                 Pipeline(steps=[(&#x27;selector&#x27;,\n",
       "                                                                  NumberSelector(key=&#x27;identity_hate&#x27;))]))])),\n",
       "                (&#x27;model&#x27;, LGBMClassifier(random_state=1, reg_lambda=0.001))])</pre></div></div></div><div class=\"sk-serial\"><div class=\"sk-item sk-dashed-wrapped\"><div class=\"sk-label-container\"><div class=\"sk-label sk-toggleable\"><input class=\"sk-toggleable__control sk-hidden--visually\" id=\"sk-estimator-id-23\" type=\"checkbox\" ><label for=\"sk-estimator-id-23\" class=\"sk-toggleable__label sk-toggleable__label-arrow\">features: FeatureUnion</label><div class=\"sk-toggleable__content\"><pre>FeatureUnion(transformer_list=[(&#x27;comment_text&#x27;,\n",
       "                                Pipeline(steps=[(&#x27;selector&#x27;,\n",
       "                                                 CatSelector(key=&#x27;comment_text&#x27;)),\n",
       "                                                (&#x27;tfdf&#x27;, TfidfVectorizer())])),\n",
       "                               (&#x27;toxic&#x27;,\n",
       "                                Pipeline(steps=[(&#x27;selector&#x27;,\n",
       "                                                 NumberSelector(key=&#x27;toxic&#x27;))])),\n",
       "                               (&#x27;severe_toxic&#x27;,\n",
       "                                Pipeline(steps=[(&#x27;selector&#x27;,\n",
       "                                                 NumberSelector(key=&#x27;severe_toxic&#x27;))])),\n",
       "                               (&#x27;obscene&#x27;,\n",
       "                                Pipeline(steps=[(&#x27;selector&#x27;,\n",
       "                                                 NumberSelector(key=&#x27;obscene&#x27;))])),\n",
       "                               (&#x27;threat&#x27;,\n",
       "                                Pipeline(steps=[(&#x27;selector&#x27;,\n",
       "                                                 NumberSelector(key=&#x27;threat&#x27;))])),\n",
       "                               (&#x27;identity_hate&#x27;,\n",
       "                                Pipeline(steps=[(&#x27;selector&#x27;,\n",
       "                                                 NumberSelector(key=&#x27;identity_hate&#x27;))]))])</pre></div></div></div><div class=\"sk-parallel\"><div class=\"sk-parallel-item\"><div class=\"sk-item\"><div class=\"sk-label-container\"><div class=\"sk-label sk-toggleable\"><label>comment_text</label></div></div><div class=\"sk-serial\"><div class=\"sk-item\"><div class=\"sk-serial\"><div class=\"sk-item\"><div class=\"sk-estimator sk-toggleable\"><input class=\"sk-toggleable__control sk-hidden--visually\" id=\"sk-estimator-id-24\" type=\"checkbox\" ><label for=\"sk-estimator-id-24\" class=\"sk-toggleable__label sk-toggleable__label-arrow\">CatSelector</label><div class=\"sk-toggleable__content\"><pre>CatSelector(key=&#x27;comment_text&#x27;)</pre></div></div></div><div class=\"sk-item\"><div class=\"sk-estimator sk-toggleable\"><input class=\"sk-toggleable__control sk-hidden--visually\" id=\"sk-estimator-id-25\" type=\"checkbox\" ><label for=\"sk-estimator-id-25\" class=\"sk-toggleable__label sk-toggleable__label-arrow\">TfidfVectorizer</label><div class=\"sk-toggleable__content\"><pre>TfidfVectorizer()</pre></div></div></div></div></div></div></div></div><div class=\"sk-parallel-item\"><div class=\"sk-item\"><div class=\"sk-label-container\"><div class=\"sk-label sk-toggleable\"><label>toxic</label></div></div><div class=\"sk-serial\"><div class=\"sk-item\"><div class=\"sk-serial\"><div class=\"sk-item\"><div class=\"sk-estimator sk-toggleable\"><input class=\"sk-toggleable__control sk-hidden--visually\" id=\"sk-estimator-id-26\" type=\"checkbox\" ><label for=\"sk-estimator-id-26\" class=\"sk-toggleable__label sk-toggleable__label-arrow\">NumberSelector</label><div class=\"sk-toggleable__content\"><pre>NumberSelector(key=&#x27;toxic&#x27;)</pre></div></div></div></div></div></div></div></div><div class=\"sk-parallel-item\"><div class=\"sk-item\"><div class=\"sk-label-container\"><div class=\"sk-label sk-toggleable\"><label>severe_toxic</label></div></div><div class=\"sk-serial\"><div class=\"sk-item\"><div class=\"sk-serial\"><div class=\"sk-item\"><div class=\"sk-estimator sk-toggleable\"><input class=\"sk-toggleable__control sk-hidden--visually\" id=\"sk-estimator-id-27\" type=\"checkbox\" ><label for=\"sk-estimator-id-27\" class=\"sk-toggleable__label sk-toggleable__label-arrow\">NumberSelector</label><div class=\"sk-toggleable__content\"><pre>NumberSelector(key=&#x27;severe_toxic&#x27;)</pre></div></div></div></div></div></div></div></div><div class=\"sk-parallel-item\"><div class=\"sk-item\"><div class=\"sk-label-container\"><div class=\"sk-label sk-toggleable\"><label>obscene</label></div></div><div class=\"sk-serial\"><div class=\"sk-item\"><div class=\"sk-serial\"><div class=\"sk-item\"><div class=\"sk-estimator sk-toggleable\"><input class=\"sk-toggleable__control sk-hidden--visually\" id=\"sk-estimator-id-28\" type=\"checkbox\" ><label for=\"sk-estimator-id-28\" class=\"sk-toggleable__label sk-toggleable__label-arrow\">NumberSelector</label><div class=\"sk-toggleable__content\"><pre>NumberSelector(key=&#x27;obscene&#x27;)</pre></div></div></div></div></div></div></div></div><div class=\"sk-parallel-item\"><div class=\"sk-item\"><div class=\"sk-label-container\"><div class=\"sk-label sk-toggleable\"><label>threat</label></div></div><div class=\"sk-serial\"><div class=\"sk-item\"><div class=\"sk-serial\"><div class=\"sk-item\"><div class=\"sk-estimator sk-toggleable\"><input class=\"sk-toggleable__control sk-hidden--visually\" id=\"sk-estimator-id-29\" type=\"checkbox\" ><label for=\"sk-estimator-id-29\" class=\"sk-toggleable__label sk-toggleable__label-arrow\">NumberSelector</label><div class=\"sk-toggleable__content\"><pre>NumberSelector(key=&#x27;threat&#x27;)</pre></div></div></div></div></div></div></div></div><div class=\"sk-parallel-item\"><div class=\"sk-item\"><div class=\"sk-label-container\"><div class=\"sk-label sk-toggleable\"><label>identity_hate</label></div></div><div class=\"sk-serial\"><div class=\"sk-item\"><div class=\"sk-serial\"><div class=\"sk-item\"><div class=\"sk-estimator sk-toggleable\"><input class=\"sk-toggleable__control sk-hidden--visually\" id=\"sk-estimator-id-30\" type=\"checkbox\" ><label for=\"sk-estimator-id-30\" class=\"sk-toggleable__label sk-toggleable__label-arrow\">NumberSelector</label><div class=\"sk-toggleable__content\"><pre>NumberSelector(key=&#x27;identity_hate&#x27;)</pre></div></div></div></div></div></div></div></div></div></div><div class=\"sk-item\"><div class=\"sk-estimator sk-toggleable\"><input class=\"sk-toggleable__control sk-hidden--visually\" id=\"sk-estimator-id-31\" type=\"checkbox\" ><label for=\"sk-estimator-id-31\" class=\"sk-toggleable__label sk-toggleable__label-arrow\">LGBMClassifier</label><div class=\"sk-toggleable__content\"><pre>LGBMClassifier(random_state=1, reg_lambda=0.001)</pre></div></div></div></div></div></div></div>"
      ],
      "text/plain": [
       "Pipeline(steps=[('features',\n",
       "                 FeatureUnion(transformer_list=[('comment_text',\n",
       "                                                 Pipeline(steps=[('selector',\n",
       "                                                                  CatSelector(key='comment_text')),\n",
       "                                                                 ('tfdf',\n",
       "                                                                  TfidfVectorizer())])),\n",
       "                                                ('toxic',\n",
       "                                                 Pipeline(steps=[('selector',\n",
       "                                                                  NumberSelector(key='toxic'))])),\n",
       "                                                ('severe_toxic',\n",
       "                                                 Pipeline(steps=[('selector',\n",
       "                                                                  NumberSelector(key='severe_toxic'))])),\n",
       "                                                ('obscene',\n",
       "                                                 Pipeline(steps=[('selector',\n",
       "                                                                  NumberSelector(key='obscene'))])),\n",
       "                                                ('threat',\n",
       "                                                 Pipeline(steps=[('selector',\n",
       "                                                                  NumberSelector(key='threat'))])),\n",
       "                                                ('identity_hate',\n",
       "                                                 Pipeline(steps=[('selector',\n",
       "                                                                  NumberSelector(key='identity_hate'))]))])),\n",
       "                ('model', LGBMClassifier(random_state=1, reg_lambda=0.001))])"
      ]
     },
     "execution_count": 35,
     "metadata": {},
     "output_type": "execute_result"
    }
   ],
   "source": [
    "pipeline.fit(X_train, y_train)"
   ]
  },
  {
   "cell_type": "code",
   "execution_count": 36,
   "id": "c4992fe8",
   "metadata": {},
   "outputs": [],
   "source": [
    "train_pred = pipeline.predict(X_train)"
   ]
  },
  {
   "cell_type": "code",
   "execution_count": 37,
   "id": "968e84a8",
   "metadata": {},
   "outputs": [
    {
     "name": "stdout",
     "output_type": "stream",
     "text": [
      "              precision    recall  f1-score   support\n",
      "\n",
      "           0       0.99      0.99      0.99    113770\n",
      "           1       0.87      0.83      0.85      5908\n",
      "\n",
      "    accuracy                           0.99    119678\n",
      "   macro avg       0.93      0.91      0.92    119678\n",
      "weighted avg       0.99      0.99      0.99    119678\n",
      "\n"
     ]
    }
   ],
   "source": [
    "print(classification_report(y_train, train_pred))"
   ]
  },
  {
   "cell_type": "code",
   "execution_count": 38,
   "id": "05d1b1b4",
   "metadata": {},
   "outputs": [],
   "source": [
    "# сохранение модели"
   ]
  },
  {
   "cell_type": "code",
   "execution_count": 39,
   "id": "6197dea9",
   "metadata": {},
   "outputs": [],
   "source": [
    "preds = pipeline.predict_proba(X_test)[:, 1]\n",
    "y_pred = pipeline.predict(X_test)"
   ]
  },
  {
   "cell_type": "code",
   "execution_count": 40,
   "id": "79047d99",
   "metadata": {},
   "outputs": [
    {
     "name": "stdout",
     "output_type": "stream",
     "text": [
      "0.9894302585015531\n"
     ]
    }
   ],
   "source": [
    "print(roc_auc_score(y_test, preds))"
   ]
  },
  {
   "cell_type": "code",
   "execution_count": 41,
   "id": "41f260d0",
   "metadata": {},
   "outputs": [
    {
     "name": "stdout",
     "output_type": "stream",
     "text": [
      "b=1, threshold = 0.41278958033146573,       \n",
      "precision = 0.7640287769784173,       \n",
      "recall = 0.8090401218892839,       \n",
      "f_score = 0.7858904785397137\n"
     ]
    }
   ],
   "source": [
    "precision, recall, threshold = precision_recall_curve(y_test, preds)\n",
    "b = 1\n",
    "f_score = (1 + b ** 2) * (precision * recall) / (b ** 2 * precision + recall)\n",
    "idx = np.nanargmax(f_score)\n",
    "print(f'b={b}, threshold = {threshold[idx]}, \\\n",
    "      \\nprecision = {precision[idx]}, \\\n",
    "      \\nrecall = {recall[idx]}, \\\n",
    "      \\nf_score = {f_score[idx]}')"
   ]
  },
  {
   "cell_type": "code",
   "execution_count": 42,
   "id": "5ca86d25",
   "metadata": {
    "scrolled": true
   },
   "outputs": [
    {
     "name": "stdout",
     "output_type": "stream",
     "text": [
      "              precision    recall  f1-score   support\n",
      "\n",
      "           0       0.99      0.99      0.99     37924\n",
      "           1       0.80      0.77      0.78      1969\n",
      "\n",
      "    accuracy                           0.98     39893\n",
      "   macro avg       0.89      0.88      0.89     39893\n",
      "weighted avg       0.98      0.98      0.98     39893\n",
      "\n"
     ]
    }
   ],
   "source": [
    "print(classification_report(y_test, y_pred))"
   ]
  },
  {
   "cell_type": "code",
   "execution_count": 43,
   "id": "fd01ab62",
   "metadata": {},
   "outputs": [],
   "source": [
    "import dill"
   ]
  },
  {
   "cell_type": "code",
   "execution_count": 44,
   "id": "62daf34c",
   "metadata": {},
   "outputs": [],
   "source": [
    "with open('logreg_pipeline.dill', 'wb') as f:\n",
    "    dill.dump(pipeline, f)"
   ]
  },
  {
   "cell_type": "code",
   "execution_count": null,
   "id": "e7c8b286",
   "metadata": {},
   "outputs": [],
   "source": []
  }
 ],
 "metadata": {
  "kernelspec": {
   "display_name": "Python 3 (ipykernel)",
   "language": "python",
   "name": "python3"
  },
  "language_info": {
   "codemirror_mode": {
    "name": "ipython",
    "version": 3
   },
   "file_extension": ".py",
   "mimetype": "text/x-python",
   "name": "python",
   "nbconvert_exporter": "python",
   "pygments_lexer": "ipython3",
   "version": "3.10.4"
  }
 },
 "nbformat": 4,
 "nbformat_minor": 5
}
