{
 "cells": [
  {
   "cell_type": "markdown",
   "id": "eae2c191",
   "metadata": {},
   "source": [
    "# Lesson 9. Интеграция. Итоговый проект"
   ]
  },
  {
   "cell_type": "markdown",
   "id": "73d3a93e",
   "metadata": {},
   "source": [
    "Определение вероятности наличия сердечно-сосудистых заболеваний по данным первичного осмотра "
   ]
  },
  {
   "cell_type": "code",
   "execution_count": null,
   "id": "15bb5ef5",
   "metadata": {},
   "outputs": [],
   "source": [
    "import numpy as np\n",
    "import pandas as pd\n",
    "from sklearn.model_selection import train_test_split"
   ]
  },
  {
   "cell_type": "code",
   "execution_count": null,
   "id": "7ba0808b",
   "metadata": {},
   "outputs": [],
   "source": [
    "df = pd.read_csv('train.csv')"
   ]
  },
  {
   "cell_type": "code",
   "execution_count": null,
   "id": "78385467",
   "metadata": {},
   "outputs": [],
   "source": [
    "df.head(3)"
   ]
  },
  {
   "cell_type": "code",
   "execution_count": null,
   "id": "098293d0",
   "metadata": {},
   "outputs": [],
   "source": [
    "df.identity_hate.value_counts()"
   ]
  },
  {
   "cell_type": "code",
   "execution_count": null,
   "id": "490dc1b3",
   "metadata": {},
   "outputs": [],
   "source": [
    "df.isna().sum()"
   ]
  },
  {
   "cell_type": "code",
   "execution_count": null,
   "id": "2c67b22f",
   "metadata": {},
   "outputs": [],
   "source": [
    "df.info()"
   ]
  },
  {
   "cell_type": "code",
   "execution_count": null,
   "id": "da04ae1d",
   "metadata": {},
   "outputs": [],
   "source": [
    "X = df.drop(columns=['insult', 'id'])\n",
    "y = df.insult"
   ]
  },
  {
   "cell_type": "code",
   "execution_count": null,
   "id": "1a5b0e19",
   "metadata": {},
   "outputs": [],
   "source": [
    "continious_cols = X.select_dtypes(include='int64').columns\n",
    "continious_cols"
   ]
  },
  {
   "cell_type": "code",
   "execution_count": null,
   "id": "818fea69",
   "metadata": {},
   "outputs": [],
   "source": [
    "cat_cols = ['comment_text']"
   ]
  },
  {
   "cell_type": "code",
   "execution_count": null,
   "id": "019683cb",
   "metadata": {},
   "outputs": [],
   "source": [
    "df['insult'].value_counts()"
   ]
  },
  {
   "cell_type": "code",
   "execution_count": null,
   "id": "6456a01c",
   "metadata": {},
   "outputs": [],
   "source": [
    "from sklearn.metrics import classification_report, precision_recall_curve, roc_auc_score\n",
    "from sklearn.feature_extraction.text import TfidfVectorizer\n",
    "from sklearn.pipeline import Pipeline, make_pipeline, FeatureUnion\n",
    "from sklearn.base import TransformerMixin, BaseEstimator\n",
    "from sklearn.preprocessing import StandardScaler"
   ]
  },
  {
   "cell_type": "markdown",
   "id": "74bf4dfc",
   "metadata": {},
   "source": [
    "Создаем классы обработки признаков"
   ]
  },
  {
   "cell_type": "code",
   "execution_count": null,
   "id": "b48c713b",
   "metadata": {},
   "outputs": [],
   "source": [
    "class NumberSelector(BaseEstimator, TransformerMixin):\n",
    "    def __init__(self, key):\n",
    "        self.key = key\n",
    "        \n",
    "    def fit(self, X, y=None):\n",
    "        return self\n",
    "    \n",
    "    def transform(self, X):\n",
    "        return X[[self.key]]\n",
    "    \n",
    "    \n",
    "class CatSelector(BaseEstimator, TransformerMixin):\n",
    "    def __init__(self, key):\n",
    "        self.key = key\n",
    "        \n",
    "    def fit(self, X, y=None):\n",
    "        return self\n",
    "    \n",
    "    def transform(self, X):\n",
    "        return X[self.key]"
   ]
  },
  {
   "cell_type": "code",
   "execution_count": null,
   "id": "ca1ba6ea",
   "metadata": {},
   "outputs": [],
   "source": [
    "final_transformers = []\n",
    "\n",
    "for cat_col in cat_cols:\n",
    "    cat_transformer = Pipeline([\n",
    "        ('selector', CatSelector(key=cat_col)),\n",
    "        ('tfdf', TfidfVectorizer())\n",
    "    ])\n",
    "    \n",
    "    final_transformers.append((cat_col, cat_transformer))\n",
    "    \n",
    "for num_col in continious_cols:\n",
    "    num_transformer = Pipeline([\n",
    "        ('selector', NumberSelector(key=num_col))\n",
    "    ])\n",
    "    \n",
    "    final_transformers.append((num_col, num_transformer))"
   ]
  },
  {
   "cell_type": "code",
   "execution_count": null,
   "id": "c6568a93",
   "metadata": {},
   "outputs": [],
   "source": [
    "feats = FeatureUnion(final_transformers)"
   ]
  },
  {
   "cell_type": "code",
   "execution_count": null,
   "id": "06794cc9",
   "metadata": {},
   "outputs": [],
   "source": [
    "from catboost import CatBoostClassifier\n",
    "from lightgbm import LGBMClassifier\n",
    "from xgboost import XGBClassifier\n",
    "from sklearn.linear_model import LogisticRegression\n",
    "from sklearn.model_selection import GridSearchCV"
   ]
  },
  {
   "cell_type": "markdown",
   "id": "9494c009",
   "metadata": {},
   "source": [
    "Разбиение данных на обучение и тест"
   ]
  },
  {
   "cell_type": "code",
   "execution_count": null,
   "id": "b629b568",
   "metadata": {},
   "outputs": [],
   "source": [
    "X_train, X_test, y_train, y_test = train_test_split(X, y, test_size=0.25, random_state=50, stratify=y)"
   ]
  },
  {
   "cell_type": "markdown",
   "id": "f9dbb617",
   "metadata": {},
   "source": [
    "Подбор гиперпараметров, кросс-валидация"
   ]
  },
  {
   "cell_type": "code",
   "execution_count": null,
   "id": "72016b5f",
   "metadata": {},
   "outputs": [],
   "source": [
    "# pipeline = Pipeline([\n",
    "#     ('features', feats),\n",
    "#     ('model', LGBMClassifier(random_state=1))\n",
    "# ])"
   ]
  },
  {
   "cell_type": "code",
   "execution_count": null,
   "id": "ed2d9ee6",
   "metadata": {},
   "outputs": [],
   "source": [
    "# pipeline.get_params()"
   ]
  },
  {
   "cell_type": "code",
   "execution_count": null,
   "id": "fc60c0d1",
   "metadata": {},
   "outputs": [],
   "source": [
    "# parameters = {\n",
    "#     'model__reg_lambda': [0.001, 0.01, 100, 10, 1, 0.1],\n",
    "#     'model__learning_rate': [0.001, 0.01, 0.1, 0.5, 1]\n",
    "# #     'features__comment_text__tfdf__stop_words': ('english', None),\n",
    "# #     'features__comment_text__tfdf__max_features': [10, 50, 100, 300, 500, 1000, None]\n",
    "# }\n"
   ]
  },
  {
   "cell_type": "code",
   "execution_count": null,
   "id": "7bc1649d",
   "metadata": {
    "scrolled": true
   },
   "outputs": [],
   "source": [
    "# grid = GridSearchCV(pipeline, parameters, cv=3, verbose=1)\n",
    "# grid.fit(X_train, y_train)"
   ]
  },
  {
   "cell_type": "code",
   "execution_count": null,
   "id": "b0092c73",
   "metadata": {},
   "outputs": [],
   "source": [
    "# grid.best_params_"
   ]
  },
  {
   "cell_type": "code",
   "execution_count": null,
   "id": "3bc56e40",
   "metadata": {},
   "outputs": [],
   "source": [
    "# grid.best_score_"
   ]
  },
  {
   "cell_type": "code",
   "execution_count": null,
   "id": "353c8a5c",
   "metadata": {},
   "outputs": [],
   "source": [
    "pipeline = Pipeline([\n",
    "    ('features', feats),\n",
    "    ('model', LGBMClassifier(random_state=1,\n",
    "                             learning_rate=0.1,\n",
    "                             reg_lambda=0.001))\n",
    "])"
   ]
  },
  {
   "cell_type": "code",
   "execution_count": null,
   "id": "10d07357",
   "metadata": {},
   "outputs": [],
   "source": [
    "pipeline.fit(X_train, y_train)"
   ]
  },
  {
   "cell_type": "code",
   "execution_count": null,
   "id": "c4992fe8",
   "metadata": {},
   "outputs": [],
   "source": [
    "train_pred = pipeline.predict(X_train)"
   ]
  },
  {
   "cell_type": "code",
   "execution_count": null,
   "id": "968e84a8",
   "metadata": {},
   "outputs": [],
   "source": [
    "print(classification_report(y_train, train_pred))"
   ]
  },
  {
   "cell_type": "code",
   "execution_count": null,
   "id": "05d1b1b4",
   "metadata": {},
   "outputs": [],
   "source": [
    "# сохранение модели"
   ]
  },
  {
   "cell_type": "code",
   "execution_count": null,
   "id": "4e2f91dd",
   "metadata": {},
   "outputs": [],
   "source": [
    "X_test.to_csv('X_test.csv', index=False)\n",
    "y_test.to_csv('y_test.csv', index=False)"
   ]
  },
  {
   "cell_type": "code",
   "execution_count": null,
   "id": "d5ec14a5",
   "metadata": {},
   "outputs": [],
   "source": [
    "import dill"
   ]
  },
  {
   "cell_type": "code",
   "execution_count": null,
   "id": "12c85a96",
   "metadata": {},
   "outputs": [],
   "source": [
    "with open('logreg_pipeline.dill', 'wb') as f:\n",
    "    dill.dump(pipeline, f)"
   ]
  },
  {
   "cell_type": "markdown",
   "id": "6d2056ec",
   "metadata": {},
   "source": [
    "Проверка модели"
   ]
  },
  {
   "cell_type": "code",
   "execution_count": null,
   "id": "a679a15b",
   "metadata": {},
   "outputs": [],
   "source": [
    "import pandas as pd\n",
    "import numpy as np\n",
    "import dill\n",
    "from sklearn.metrics import roc_auc_score, precision_recall_curve"
   ]
  },
  {
   "cell_type": "code",
   "execution_count": null,
   "id": "e1323659",
   "metadata": {},
   "outputs": [],
   "source": [
    "X_test = pd.read_csv('X_test.csv')\n",
    "y_test = pd.read_csv('y_test.csv')"
   ]
  },
  {
   "cell_type": "code",
   "execution_count": null,
   "id": "6fc8bd8a",
   "metadata": {},
   "outputs": [],
   "source": [
    "X_test.head(2)"
   ]
  },
  {
   "cell_type": "code",
   "execution_count": null,
   "id": "482b8df9",
   "metadata": {},
   "outputs": [],
   "source": [
    "with open('logreg_pipeline.dill', 'rb') as f:\n",
    "    pipeline = dill.load(f)"
   ]
  },
  {
   "cell_type": "code",
   "execution_count": null,
   "id": "fbd2ed1a",
   "metadata": {},
   "outputs": [],
   "source": [
    "pipeline"
   ]
  },
  {
   "cell_type": "code",
   "execution_count": null,
   "id": "28b2a4ae",
   "metadata": {},
   "outputs": [],
   "source": [
    "preds = pipeline.predict_proba(X_test)[:, 1]"
   ]
  },
  {
   "cell_type": "code",
   "execution_count": null,
   "id": "79047d99",
   "metadata": {},
   "outputs": [],
   "source": [
    "print(roc_auc_score(y_test, preds))"
   ]
  },
  {
   "cell_type": "code",
   "execution_count": null,
   "id": "41f260d0",
   "metadata": {},
   "outputs": [],
   "source": [
    "precision, recall, threshold = precision_recall_curve(y_test, preds)\n",
    "b = 1.5 # так как полнота важнее, чем точность в определении заболевания\n",
    "f_score = (1 + b ** 2) * (precision * recall) / (b ** 2 * precision + recall)\n",
    "idx = np.nanargmax(f_score)\n",
    "print(f'b={b}, \\\n",
    "      \\nthreshold = {threshold[idx]}, \\\n",
    "      \\nprecision = {precision[idx]}, \\\n",
    "      \\nrecall = {recall[idx]}, \\\n",
    "      \\nf_score = {f_score[idx]}')"
   ]
  },
  {
   "cell_type": "code",
   "execution_count": null,
   "id": "63371071",
   "metadata": {},
   "outputs": [],
   "source": [
    "threshold[idx]"
   ]
  },
  {
   "cell_type": "markdown",
   "id": "3d5b91b8",
   "metadata": {},
   "source": [
    "## Flask"
   ]
  },
  {
   "cell_type": "code",
   "execution_count": 8,
   "id": "d35c9035",
   "metadata": {},
   "outputs": [],
   "source": [
    "from flask import Flask, request, jsonify"
   ]
  },
  {
   "cell_type": "code",
   "execution_count": 4,
   "id": "c34ec3c1",
   "metadata": {},
   "outputs": [],
   "source": [
    "import pandas as pd\n",
    "import dill"
   ]
  },
  {
   "cell_type": "code",
   "execution_count": 5,
   "id": "5832b5fc",
   "metadata": {},
   "outputs": [],
   "source": [
    "with open('logreg_pipeline.dill', 'rb') as f:\n",
    "    model = dill.load(f)"
   ]
  },
  {
   "cell_type": "code",
   "execution_count": null,
   "id": "0c49f57a",
   "metadata": {},
   "outputs": [],
   "source": [
    "X_test = pd.read_csv('X_test.csv')\n",
    "y_test = pd.read_csv('y_test.csv')"
   ]
  },
  {
   "cell_type": "code",
   "execution_count": 6,
   "id": "c258dfdf",
   "metadata": {},
   "outputs": [
    {
     "data": {
      "text/html": [
       "<div>\n",
       "<style scoped>\n",
       "    .dataframe tbody tr th:only-of-type {\n",
       "        vertical-align: middle;\n",
       "    }\n",
       "\n",
       "    .dataframe tbody tr th {\n",
       "        vertical-align: top;\n",
       "    }\n",
       "\n",
       "    .dataframe thead th {\n",
       "        text-align: right;\n",
       "    }\n",
       "</style>\n",
       "<table border=\"1\" class=\"dataframe\">\n",
       "  <thead>\n",
       "    <tr style=\"text-align: right;\">\n",
       "      <th></th>\n",
       "      <th>comment_text</th>\n",
       "      <th>toxic</th>\n",
       "      <th>severe_toxic</th>\n",
       "      <th>obscene</th>\n",
       "      <th>threat</th>\n",
       "      <th>identity_hate</th>\n",
       "    </tr>\n",
       "  </thead>\n",
       "  <tbody>\n",
       "    <tr>\n",
       "      <th>31825</th>\n",
       "      <td>There is a big difference between promotion an...</td>\n",
       "      <td>0</td>\n",
       "      <td>0</td>\n",
       "      <td>0</td>\n",
       "      <td>0</td>\n",
       "      <td>0</td>\n",
       "    </tr>\n",
       "  </tbody>\n",
       "</table>\n",
       "</div>"
      ],
      "text/plain": [
       "                                            comment_text  toxic  severe_toxic  \\\n",
       "31825  There is a big difference between promotion an...      0             0   \n",
       "\n",
       "       obscene  threat  identity_hate  \n",
       "31825        0       0              0  "
      ]
     },
     "execution_count": 6,
     "metadata": {},
     "output_type": "execute_result"
    }
   ],
   "source": [
    "X_test.sample(1)"
   ]
  },
  {
   "cell_type": "code",
   "execution_count": 10,
   "id": "ecf4bcc5",
   "metadata": {
    "scrolled": true
   },
   "outputs": [
    {
     "name": "stdout",
     "output_type": "stream",
     "text": [
      " * Serving Flask app '__main__' (lazy loading)\n",
      " * Environment: production\n",
      "\u001b[31m   WARNING: This is a development server. Do not use it in a production deployment.\u001b[0m\n",
      "\u001b[2m   Use a production WSGI server instead.\u001b[0m\n",
      " * Debug mode: off\n"
     ]
    },
    {
     "name": "stderr",
     "output_type": "stream",
     "text": [
      " * Running on http://127.0.0.1:5000 (Press CTRL+C to quit)\n",
      "127.0.0.1 - - [19/Jul/2022 12:33:03] \"GET / HTTP/1.1\" 200 -\n",
      "127.0.0.1 - - [19/Jul/2022 12:33:10] \"GET /prediction HTTP/1.1\" 404 -\n",
      "127.0.0.1 - - [19/Jul/2022 12:33:17] \"GET /predict HTTP/1.1\" 405 -\n",
      "127.0.0.1 - - [19/Jul/2022 12:33:32] \"GET /predict HTTP/1.1\" 405 -\n"
     ]
    }
   ],
   "source": [
    "app = Flask(__name__)\n",
    "\n",
    "\n",
    "@app.route('/', methods=['GET'])\n",
    "def general():\n",
    "    return 'Welcome to prediction process'\n",
    "\n",
    "@app.route('/predict', methods=['POST'])\n",
    "def predict():\n",
    "    data = {'succes': False}\n",
    "    \n",
    "    comment_text, toxic, severe_toxic, obscene, threat, identity_hate = '', 0, 0, 0, 0, 0\n",
    "    request_json = request.get_json()\n",
    "    \n",
    "    if request_json['comment_text']:\n",
    "        comment_text = request_json['comment_text']\n",
    "    \n",
    "    if request_json['toxic']:\n",
    "        toxic = request_json['toxic']\n",
    "    \n",
    "    if request_json['severe_toxic']:\n",
    "        toxic = request_json['severe_toxic']\n",
    "    \n",
    "    if request_json['obscene']:\n",
    "        toxic = request_json['obscene']\n",
    "    \n",
    "    if request_json['threat']:\n",
    "        toxic = request_json['threat']\n",
    "    \n",
    "    if request_json['identity_hate']:\n",
    "        toxic = request_json['identity_hate']\n",
    "    \n",
    "    \n",
    "    preds = model.predict_proba(pd.DataFrame({'comment_text': [comment_text],\n",
    "                                             'toxic': [toxic],\n",
    "                                             'severe_toxic': [severe_toxic],\n",
    "                                             'obscene': [obscene],\n",
    "                                             'threat': [threat],\n",
    "                                             'identity_hate': [identity_hate]}))\n",
    "    \n",
    "    data['predictions'] = preds[:, 1]\n",
    "    data['comment_text'] = comment_text\n",
    "    \n",
    "    data['succes'] = True\n",
    "    print('OK')\n",
    "    \n",
    "    return jsonify(data)\n",
    "\n",
    "if __name__ == '__main__':\n",
    "    app.run()"
   ]
  }
 ],
 "metadata": {
  "kernelspec": {
   "display_name": "Python 3 (ipykernel)",
   "language": "python",
   "name": "python3"
  },
  "language_info": {
   "codemirror_mode": {
    "name": "ipython",
    "version": 3
   },
   "file_extension": ".py",
   "mimetype": "text/x-python",
   "name": "python",
   "nbconvert_exporter": "python",
   "pygments_lexer": "ipython3",
   "version": "3.10.0"
  }
 },
 "nbformat": 4,
 "nbformat_minor": 5
}
