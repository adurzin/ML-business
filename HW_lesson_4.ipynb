{
 "cells": [
  {
   "cell_type": "markdown",
   "id": "1145692c",
   "metadata": {},
   "source": [
    "# HW Lesson_4"
   ]
  },
  {
   "cell_type": "markdown",
   "id": "f75bdcee",
   "metadata": {},
   "source": [
    "### 1). \n",
    "#### скачать набор данных маркетинговых кампаний отсюда https://www.kaggle.com/davinwijaya/customer-retention"
   ]
  },
  {
   "cell_type": "code",
   "execution_count": 1,
   "id": "14b50d49",
   "metadata": {},
   "outputs": [],
   "source": [
    "import numpy as np\n",
    "import pandas as pd\n",
    "from sklearn.model_selection import train_test_split\n",
    "import catboost"
   ]
  },
  {
   "cell_type": "markdown",
   "id": "3cfd4c74",
   "metadata": {},
   "source": [
    "#### Marketing Promotion Campaign Uplift Modelling"
   ]
  },
  {
   "cell_type": "markdown",
   "id": "ceb093e7",
   "metadata": {},
   "source": [
    "- **recency** - months since last purchase\n",
    "- **history** - value of the historical purchases\n",
    "- **used_discount** - indicates if the customer used a discount before\n",
    "- **zip_code** - class of the zip code as Suburban/Urban/Rural\n",
    "- **is_referral** - inicates if the custormer was acquired from referral channel\n",
    "- **channel** - channels that the customer using. Phone/Web/Multichannel\n",
    "- **offer** - the offers sent to the customers, Discount/But One Get One/No Offer\n",
    "- **conversion** - customer conversion (buy or not)"
   ]
  },
  {
   "cell_type": "code",
   "execution_count": 2,
   "id": "f8d2d24c",
   "metadata": {},
   "outputs": [],
   "source": [
    "df_data = pd.read_csv('data.csv')"
   ]
  },
  {
   "cell_type": "code",
   "execution_count": 3,
   "id": "a061cb3d",
   "metadata": {
    "scrolled": true
   },
   "outputs": [
    {
     "data": {
      "text/html": [
       "<div>\n",
       "<style scoped>\n",
       "    .dataframe tbody tr th:only-of-type {\n",
       "        vertical-align: middle;\n",
       "    }\n",
       "\n",
       "    .dataframe tbody tr th {\n",
       "        vertical-align: top;\n",
       "    }\n",
       "\n",
       "    .dataframe thead th {\n",
       "        text-align: right;\n",
       "    }\n",
       "</style>\n",
       "<table border=\"1\" class=\"dataframe\">\n",
       "  <thead>\n",
       "    <tr style=\"text-align: right;\">\n",
       "      <th></th>\n",
       "      <th>recency</th>\n",
       "      <th>history</th>\n",
       "      <th>used_discount</th>\n",
       "      <th>used_bogo</th>\n",
       "      <th>zip_code</th>\n",
       "      <th>is_referral</th>\n",
       "      <th>channel</th>\n",
       "      <th>offer</th>\n",
       "      <th>conversion</th>\n",
       "    </tr>\n",
       "  </thead>\n",
       "  <tbody>\n",
       "    <tr>\n",
       "      <th>0</th>\n",
       "      <td>10</td>\n",
       "      <td>142.44</td>\n",
       "      <td>1</td>\n",
       "      <td>0</td>\n",
       "      <td>Surburban</td>\n",
       "      <td>0</td>\n",
       "      <td>Phone</td>\n",
       "      <td>Buy One Get One</td>\n",
       "      <td>0</td>\n",
       "    </tr>\n",
       "    <tr>\n",
       "      <th>1</th>\n",
       "      <td>6</td>\n",
       "      <td>329.08</td>\n",
       "      <td>1</td>\n",
       "      <td>1</td>\n",
       "      <td>Rural</td>\n",
       "      <td>1</td>\n",
       "      <td>Web</td>\n",
       "      <td>No Offer</td>\n",
       "      <td>0</td>\n",
       "    </tr>\n",
       "    <tr>\n",
       "      <th>2</th>\n",
       "      <td>7</td>\n",
       "      <td>180.65</td>\n",
       "      <td>0</td>\n",
       "      <td>1</td>\n",
       "      <td>Surburban</td>\n",
       "      <td>1</td>\n",
       "      <td>Web</td>\n",
       "      <td>Buy One Get One</td>\n",
       "      <td>0</td>\n",
       "    </tr>\n",
       "    <tr>\n",
       "      <th>3</th>\n",
       "      <td>9</td>\n",
       "      <td>675.83</td>\n",
       "      <td>1</td>\n",
       "      <td>0</td>\n",
       "      <td>Rural</td>\n",
       "      <td>1</td>\n",
       "      <td>Web</td>\n",
       "      <td>Discount</td>\n",
       "      <td>0</td>\n",
       "    </tr>\n",
       "    <tr>\n",
       "      <th>4</th>\n",
       "      <td>2</td>\n",
       "      <td>45.34</td>\n",
       "      <td>1</td>\n",
       "      <td>0</td>\n",
       "      <td>Urban</td>\n",
       "      <td>0</td>\n",
       "      <td>Web</td>\n",
       "      <td>Buy One Get One</td>\n",
       "      <td>0</td>\n",
       "    </tr>\n",
       "    <tr>\n",
       "      <th>...</th>\n",
       "      <td>...</td>\n",
       "      <td>...</td>\n",
       "      <td>...</td>\n",
       "      <td>...</td>\n",
       "      <td>...</td>\n",
       "      <td>...</td>\n",
       "      <td>...</td>\n",
       "      <td>...</td>\n",
       "      <td>...</td>\n",
       "    </tr>\n",
       "    <tr>\n",
       "      <th>63995</th>\n",
       "      <td>10</td>\n",
       "      <td>105.54</td>\n",
       "      <td>1</td>\n",
       "      <td>0</td>\n",
       "      <td>Urban</td>\n",
       "      <td>0</td>\n",
       "      <td>Web</td>\n",
       "      <td>Discount</td>\n",
       "      <td>0</td>\n",
       "    </tr>\n",
       "    <tr>\n",
       "      <th>63996</th>\n",
       "      <td>5</td>\n",
       "      <td>38.91</td>\n",
       "      <td>0</td>\n",
       "      <td>1</td>\n",
       "      <td>Urban</td>\n",
       "      <td>1</td>\n",
       "      <td>Phone</td>\n",
       "      <td>Discount</td>\n",
       "      <td>0</td>\n",
       "    </tr>\n",
       "    <tr>\n",
       "      <th>63997</th>\n",
       "      <td>6</td>\n",
       "      <td>29.99</td>\n",
       "      <td>1</td>\n",
       "      <td>0</td>\n",
       "      <td>Urban</td>\n",
       "      <td>1</td>\n",
       "      <td>Phone</td>\n",
       "      <td>Discount</td>\n",
       "      <td>0</td>\n",
       "    </tr>\n",
       "    <tr>\n",
       "      <th>63998</th>\n",
       "      <td>1</td>\n",
       "      <td>552.94</td>\n",
       "      <td>1</td>\n",
       "      <td>0</td>\n",
       "      <td>Surburban</td>\n",
       "      <td>1</td>\n",
       "      <td>Multichannel</td>\n",
       "      <td>Buy One Get One</td>\n",
       "      <td>0</td>\n",
       "    </tr>\n",
       "    <tr>\n",
       "      <th>63999</th>\n",
       "      <td>1</td>\n",
       "      <td>472.82</td>\n",
       "      <td>0</td>\n",
       "      <td>1</td>\n",
       "      <td>Surburban</td>\n",
       "      <td>0</td>\n",
       "      <td>Web</td>\n",
       "      <td>Discount</td>\n",
       "      <td>0</td>\n",
       "    </tr>\n",
       "  </tbody>\n",
       "</table>\n",
       "<p>64000 rows × 9 columns</p>\n",
       "</div>"
      ],
      "text/plain": [
       "       recency  history  used_discount  used_bogo   zip_code  is_referral  \\\n",
       "0           10   142.44              1          0  Surburban            0   \n",
       "1            6   329.08              1          1      Rural            1   \n",
       "2            7   180.65              0          1  Surburban            1   \n",
       "3            9   675.83              1          0      Rural            1   \n",
       "4            2    45.34              1          0      Urban            0   \n",
       "...        ...      ...            ...        ...        ...          ...   \n",
       "63995       10   105.54              1          0      Urban            0   \n",
       "63996        5    38.91              0          1      Urban            1   \n",
       "63997        6    29.99              1          0      Urban            1   \n",
       "63998        1   552.94              1          0  Surburban            1   \n",
       "63999        1   472.82              0          1  Surburban            0   \n",
       "\n",
       "            channel            offer  conversion  \n",
       "0             Phone  Buy One Get One           0  \n",
       "1               Web         No Offer           0  \n",
       "2               Web  Buy One Get One           0  \n",
       "3               Web         Discount           0  \n",
       "4               Web  Buy One Get One           0  \n",
       "...             ...              ...         ...  \n",
       "63995           Web         Discount           0  \n",
       "63996         Phone         Discount           0  \n",
       "63997         Phone         Discount           0  \n",
       "63998  Multichannel  Buy One Get One           0  \n",
       "63999           Web         Discount           0  \n",
       "\n",
       "[64000 rows x 9 columns]"
      ]
     },
     "execution_count": 3,
     "metadata": {},
     "output_type": "execute_result"
    }
   ],
   "source": [
    "df_data"
   ]
  },
  {
   "cell_type": "markdown",
   "id": "d01ceb1b",
   "metadata": {},
   "source": [
    "### 2). \n",
    "#### поле conversion - это целевая переменная, а offer - коммуникация. Переименовать поля (conversion -> target, offer -> treatment) и привести поле treatment к бинарному виду (1 или 0, т.е было какое-то предложение или нет) - значение No Offer означает отсутствие коммуникации, а все остальные - наличие."
   ]
  },
  {
   "cell_type": "code",
   "execution_count": 4,
   "id": "1b235390",
   "metadata": {},
   "outputs": [],
   "source": [
    "df_data.rename(columns={\n",
    "    'offer': 'treatment',\n",
    "    'conversion': 'target'\n",
    "}, inplace=True)"
   ]
  },
  {
   "cell_type": "code",
   "execution_count": 5,
   "id": "1337a30f",
   "metadata": {},
   "outputs": [],
   "source": [
    "df_data.loc[df_data['treatment'] == 'No Offer', 'treatment'] = 0\n",
    "df_data.loc[df_data['treatment'] != 0, 'treatment'] = 1"
   ]
  },
  {
   "cell_type": "code",
   "execution_count": 6,
   "id": "4cc29132",
   "metadata": {},
   "outputs": [],
   "source": [
    "df_data['treatment'] = df_data['treatment'].astype(int)"
   ]
  },
  {
   "cell_type": "code",
   "execution_count": 7,
   "id": "cc71e60f",
   "metadata": {},
   "outputs": [
    {
     "data": {
      "text/plain": [
       "dtype('int32')"
      ]
     },
     "execution_count": 7,
     "metadata": {},
     "output_type": "execute_result"
    }
   ],
   "source": [
    "df_data['treatment'].dtype"
   ]
  },
  {
   "cell_type": "code",
   "execution_count": 8,
   "id": "6557676b",
   "metadata": {},
   "outputs": [],
   "source": [
    "y = df_data['target']\n",
    "X = df_data.drop(columns='target')"
   ]
  },
  {
   "cell_type": "markdown",
   "id": "386d2ce1",
   "metadata": {},
   "source": [
    "### 3).  \n",
    "#### сделать разбиение набора данных не тренировочную и тестовую выборки"
   ]
  },
  {
   "cell_type": "code",
   "execution_count": 9,
   "id": "19b2d352",
   "metadata": {},
   "outputs": [],
   "source": [
    "X_train, X_test, y_train, y_test = train_test_split(X, y, test_size=0.3, shuffle=True, stratify=y, random_state=15)"
   ]
  },
  {
   "cell_type": "code",
   "execution_count": 10,
   "id": "3bea9448",
   "metadata": {},
   "outputs": [
    {
     "data": {
      "text/html": [
       "<div>\n",
       "<style scoped>\n",
       "    .dataframe tbody tr th:only-of-type {\n",
       "        vertical-align: middle;\n",
       "    }\n",
       "\n",
       "    .dataframe tbody tr th {\n",
       "        vertical-align: top;\n",
       "    }\n",
       "\n",
       "    .dataframe thead th {\n",
       "        text-align: right;\n",
       "    }\n",
       "</style>\n",
       "<table border=\"1\" class=\"dataframe\">\n",
       "  <thead>\n",
       "    <tr style=\"text-align: right;\">\n",
       "      <th></th>\n",
       "      <th>recency</th>\n",
       "      <th>history</th>\n",
       "      <th>used_discount</th>\n",
       "      <th>used_bogo</th>\n",
       "      <th>zip_code</th>\n",
       "      <th>is_referral</th>\n",
       "      <th>channel</th>\n",
       "      <th>treatment</th>\n",
       "    </tr>\n",
       "  </thead>\n",
       "  <tbody>\n",
       "    <tr>\n",
       "      <th>23036</th>\n",
       "      <td>1</td>\n",
       "      <td>526.72</td>\n",
       "      <td>1</td>\n",
       "      <td>0</td>\n",
       "      <td>Urban</td>\n",
       "      <td>1</td>\n",
       "      <td>Web</td>\n",
       "      <td>1</td>\n",
       "    </tr>\n",
       "    <tr>\n",
       "      <th>53943</th>\n",
       "      <td>9</td>\n",
       "      <td>670.23</td>\n",
       "      <td>0</td>\n",
       "      <td>1</td>\n",
       "      <td>Surburban</td>\n",
       "      <td>1</td>\n",
       "      <td>Web</td>\n",
       "      <td>1</td>\n",
       "    </tr>\n",
       "    <tr>\n",
       "      <th>16392</th>\n",
       "      <td>5</td>\n",
       "      <td>118.70</td>\n",
       "      <td>0</td>\n",
       "      <td>1</td>\n",
       "      <td>Rural</td>\n",
       "      <td>1</td>\n",
       "      <td>Phone</td>\n",
       "      <td>1</td>\n",
       "    </tr>\n",
       "    <tr>\n",
       "      <th>60643</th>\n",
       "      <td>2</td>\n",
       "      <td>97.11</td>\n",
       "      <td>1</td>\n",
       "      <td>0</td>\n",
       "      <td>Urban</td>\n",
       "      <td>0</td>\n",
       "      <td>Phone</td>\n",
       "      <td>0</td>\n",
       "    </tr>\n",
       "    <tr>\n",
       "      <th>8809</th>\n",
       "      <td>1</td>\n",
       "      <td>1139.94</td>\n",
       "      <td>1</td>\n",
       "      <td>1</td>\n",
       "      <td>Urban</td>\n",
       "      <td>1</td>\n",
       "      <td>Phone</td>\n",
       "      <td>1</td>\n",
       "    </tr>\n",
       "  </tbody>\n",
       "</table>\n",
       "</div>"
      ],
      "text/plain": [
       "       recency  history  used_discount  used_bogo   zip_code  is_referral  \\\n",
       "23036        1   526.72              1          0      Urban            1   \n",
       "53943        9   670.23              0          1  Surburban            1   \n",
       "16392        5   118.70              0          1      Rural            1   \n",
       "60643        2    97.11              1          0      Urban            0   \n",
       "8809         1  1139.94              1          1      Urban            1   \n",
       "\n",
       "      channel  treatment  \n",
       "23036     Web          1  \n",
       "53943     Web          1  \n",
       "16392   Phone          1  \n",
       "60643   Phone          0  \n",
       "8809    Phone          1  "
      ]
     },
     "execution_count": 10,
     "metadata": {},
     "output_type": "execute_result"
    }
   ],
   "source": [
    "X_train.iloc[:5]"
   ]
  },
  {
   "cell_type": "code",
   "execution_count": 11,
   "id": "54edee71",
   "metadata": {},
   "outputs": [],
   "source": [
    "treat_train = X_train['treatment']\n",
    "treat_test = X_test['treatment']"
   ]
  },
  {
   "cell_type": "code",
   "execution_count": 12,
   "id": "e2a81aec",
   "metadata": {},
   "outputs": [],
   "source": [
    "X_train = X_train.drop(columns='treatment')\n",
    "X_test = X_test.drop(columns='treatment')"
   ]
  },
  {
   "cell_type": "markdown",
   "id": "d7a243c0",
   "metadata": {},
   "source": [
    "### 4). \n",
    "#### провести uplift-моделирование 3 способами:\n",
    "- одна модель с признаком коммуникации (S-learner)\n",
    "- модель с трансформацией таргета\n",
    "- вариант с двумя независимыми моделями"
   ]
  },
  {
   "cell_type": "code",
   "execution_count": 13,
   "id": "9403ed35",
   "metadata": {},
   "outputs": [],
   "source": [
    "models_results = {\n",
    "    'approach': [],\n",
    "    'uplift@10%': [],\n",
    "    'uplift@20%': [],\n",
    "    'uplift@30%': [],\n",
    "    'uplift@50%': []\n",
    "}"
   ]
  },
  {
   "cell_type": "markdown",
   "id": "97a62200",
   "metadata": {},
   "source": [
    "**Solo model**"
   ]
  },
  {
   "cell_type": "code",
   "execution_count": 14,
   "id": "3b3afb9b",
   "metadata": {},
   "outputs": [],
   "source": [
    "from sklift.models import SoloModel\n",
    "from catboost import CatBoostClassifier\n",
    "from sklift.metrics import uplift_at_k\n",
    "from sklift.viz import plot_uplift_curve"
   ]
  },
  {
   "cell_type": "code",
   "execution_count": 15,
   "id": "3e45ddc0",
   "metadata": {},
   "outputs": [],
   "source": [
    "cat_features = ['zip_code', 'channel']"
   ]
  },
  {
   "cell_type": "code",
   "execution_count": 16,
   "id": "db57dda3",
   "metadata": {},
   "outputs": [],
   "source": [
    "sm = SoloModel(\n",
    "    CatBoostClassifier(iterations=100, random_state=15,\n",
    "                       silent=True, cat_features=cat_features)\n",
    ")"
   ]
  },
  {
   "cell_type": "code",
   "execution_count": 17,
   "id": "9194f817",
   "metadata": {},
   "outputs": [
    {
     "data": {
      "text/html": [
       "<style>#sk-container-id-1 {color: black;background-color: white;}#sk-container-id-1 pre{padding: 0;}#sk-container-id-1 div.sk-toggleable {background-color: white;}#sk-container-id-1 label.sk-toggleable__label {cursor: pointer;display: block;width: 100%;margin-bottom: 0;padding: 0.3em;box-sizing: border-box;text-align: center;}#sk-container-id-1 label.sk-toggleable__label-arrow:before {content: \"▸\";float: left;margin-right: 0.25em;color: #696969;}#sk-container-id-1 label.sk-toggleable__label-arrow:hover:before {color: black;}#sk-container-id-1 div.sk-estimator:hover label.sk-toggleable__label-arrow:before {color: black;}#sk-container-id-1 div.sk-toggleable__content {max-height: 0;max-width: 0;overflow: hidden;text-align: left;background-color: #f0f8ff;}#sk-container-id-1 div.sk-toggleable__content pre {margin: 0.2em;color: black;border-radius: 0.25em;background-color: #f0f8ff;}#sk-container-id-1 input.sk-toggleable__control:checked~div.sk-toggleable__content {max-height: 200px;max-width: 100%;overflow: auto;}#sk-container-id-1 input.sk-toggleable__control:checked~label.sk-toggleable__label-arrow:before {content: \"▾\";}#sk-container-id-1 div.sk-estimator input.sk-toggleable__control:checked~label.sk-toggleable__label {background-color: #d4ebff;}#sk-container-id-1 div.sk-label input.sk-toggleable__control:checked~label.sk-toggleable__label {background-color: #d4ebff;}#sk-container-id-1 input.sk-hidden--visually {border: 0;clip: rect(1px 1px 1px 1px);clip: rect(1px, 1px, 1px, 1px);height: 1px;margin: -1px;overflow: hidden;padding: 0;position: absolute;width: 1px;}#sk-container-id-1 div.sk-estimator {font-family: monospace;background-color: #f0f8ff;border: 1px dotted black;border-radius: 0.25em;box-sizing: border-box;margin-bottom: 0.5em;}#sk-container-id-1 div.sk-estimator:hover {background-color: #d4ebff;}#sk-container-id-1 div.sk-parallel-item::after {content: \"\";width: 100%;border-bottom: 1px solid gray;flex-grow: 1;}#sk-container-id-1 div.sk-label:hover label.sk-toggleable__label {background-color: #d4ebff;}#sk-container-id-1 div.sk-serial::before {content: \"\";position: absolute;border-left: 1px solid gray;box-sizing: border-box;top: 0;bottom: 0;left: 50%;z-index: 0;}#sk-container-id-1 div.sk-serial {display: flex;flex-direction: column;align-items: center;background-color: white;padding-right: 0.2em;padding-left: 0.2em;position: relative;}#sk-container-id-1 div.sk-item {position: relative;z-index: 1;}#sk-container-id-1 div.sk-parallel {display: flex;align-items: stretch;justify-content: center;background-color: white;position: relative;}#sk-container-id-1 div.sk-item::before, #sk-container-id-1 div.sk-parallel-item::before {content: \"\";position: absolute;border-left: 1px solid gray;box-sizing: border-box;top: 0;bottom: 0;left: 50%;z-index: -1;}#sk-container-id-1 div.sk-parallel-item {display: flex;flex-direction: column;z-index: 1;position: relative;background-color: white;}#sk-container-id-1 div.sk-parallel-item:first-child::after {align-self: flex-end;width: 50%;}#sk-container-id-1 div.sk-parallel-item:last-child::after {align-self: flex-start;width: 50%;}#sk-container-id-1 div.sk-parallel-item:only-child::after {width: 0;}#sk-container-id-1 div.sk-dashed-wrapped {border: 1px dashed gray;margin: 0 0.4em 0.5em 0.4em;box-sizing: border-box;padding-bottom: 0.4em;background-color: white;}#sk-container-id-1 div.sk-label label {font-family: monospace;font-weight: bold;display: inline-block;line-height: 1.2em;}#sk-container-id-1 div.sk-label-container {text-align: center;}#sk-container-id-1 div.sk-container {/* jupyter's `normalize.less` sets `[hidden] { display: none; }` but bootstrap.min.css set `[hidden] { display: none !important; }` so we also need the `!important` here to be able to override the default hidden behavior on the sphinx rendered scikit-learn.org. See: https://github.com/scikit-learn/scikit-learn/issues/21755 */display: inline-block !important;position: relative;}#sk-container-id-1 div.sk-text-repr-fallback {display: none;}</style><div id=\"sk-container-id-1\" class=\"sk-top-container\"><div class=\"sk-text-repr-fallback\"><pre>SoloModel(estimator=&lt;catboost.core.CatBoostClassifier object at 0x000002C871C608B0&gt;)</pre><b>In a Jupyter environment, please rerun this cell to show the HTML representation or trust the notebook. <br />On GitHub, the HTML representation is unable to render, please try loading this page with nbviewer.org.</b></div><div class=\"sk-container\" hidden><div class=\"sk-item sk-dashed-wrapped\"><div class=\"sk-label-container\"><div class=\"sk-label sk-toggleable\"><input class=\"sk-toggleable__control sk-hidden--visually\" id=\"sk-estimator-id-1\" type=\"checkbox\" ><label for=\"sk-estimator-id-1\" class=\"sk-toggleable__label sk-toggleable__label-arrow\">SoloModel</label><div class=\"sk-toggleable__content\"><pre>SoloModel(estimator=&lt;catboost.core.CatBoostClassifier object at 0x000002C871C608B0&gt;)</pre></div></div></div><div class=\"sk-parallel\"><div class=\"sk-parallel-item\"><div class=\"sk-item\"><div class=\"sk-label-container\"><div class=\"sk-label sk-toggleable\"><input class=\"sk-toggleable__control sk-hidden--visually\" id=\"sk-estimator-id-2\" type=\"checkbox\" ><label for=\"sk-estimator-id-2\" class=\"sk-toggleable__label sk-toggleable__label-arrow\">estimator: CatBoostClassifier</label><div class=\"sk-toggleable__content\"><pre>&lt;catboost.core.CatBoostClassifier object at 0x000002C871C608B0&gt;</pre></div></div></div><div class=\"sk-serial\"><div class=\"sk-item\"><div class=\"sk-estimator sk-toggleable\"><input class=\"sk-toggleable__control sk-hidden--visually\" id=\"sk-estimator-id-3\" type=\"checkbox\" ><label for=\"sk-estimator-id-3\" class=\"sk-toggleable__label sk-toggleable__label-arrow\">CatBoostClassifier</label><div class=\"sk-toggleable__content\"><pre>&lt;catboost.core.CatBoostClassifier object at 0x000002C871C608B0&gt;</pre></div></div></div></div></div></div></div></div></div></div>"
      ],
      "text/plain": [
       "SoloModel(estimator=<catboost.core.CatBoostClassifier object at 0x000002C871C608B0>)"
      ]
     },
     "execution_count": 17,
     "metadata": {},
     "output_type": "execute_result"
    }
   ],
   "source": [
    "sm.fit(X_train, y_train, treat_train)"
   ]
  },
  {
   "cell_type": "code",
   "execution_count": 18,
   "id": "bc2b4488",
   "metadata": {},
   "outputs": [],
   "source": [
    "uplift_sm = sm.predict(X_test)"
   ]
  },
  {
   "cell_type": "code",
   "execution_count": 19,
   "id": "326568f6",
   "metadata": {},
   "outputs": [],
   "source": [
    "# функция внесения результата модели в словарь models_results\n",
    "def score(model_pred, k):\n",
    "    sm_score_k = uplift_at_k(y_true=y_test, uplift=model_pred,\n",
    "                           treatment=treat_test, strategy='by_group',\n",
    "                           k=k)\n",
    "    return sm_score_k"
   ]
  },
  {
   "cell_type": "code",
   "execution_count": 20,
   "id": "109a935f",
   "metadata": {},
   "outputs": [],
   "source": [
    "models_results['approach'].append('SoloModel')\n",
    "models_results['uplift@10%'].append(score(uplift_sm, 0.1))\n",
    "models_results['uplift@20%'].append(score(uplift_sm, 0.2))\n",
    "models_results['uplift@30%'].append(score(uplift_sm, 0.3))\n",
    "models_results['uplift@50%'].append(score(uplift_sm, 0.5))"
   ]
  },
  {
   "cell_type": "markdown",
   "id": "161acc40",
   "metadata": {},
   "source": [
    "**Transformation class**"
   ]
  },
  {
   "cell_type": "code",
   "execution_count": 21,
   "id": "3267bee2",
   "metadata": {},
   "outputs": [],
   "source": [
    "from sklift.models import ClassTransformation"
   ]
  },
  {
   "cell_type": "code",
   "execution_count": 22,
   "id": "4beb0a77",
   "metadata": {},
   "outputs": [],
   "source": [
    "ct = ClassTransformation(\n",
    "    CatBoostClassifier(iterations=100, random_state=15,\n",
    "                       silent=True, cat_features=cat_features)\n",
    ")"
   ]
  },
  {
   "cell_type": "code",
   "execution_count": 23,
   "id": "4158b135",
   "metadata": {},
   "outputs": [],
   "source": [
    "ct.fit(X_train, y_train, treat_train)\n",
    "uplift_ct = ct.predict(X_test)"
   ]
  },
  {
   "cell_type": "code",
   "execution_count": 24,
   "id": "7fd96fd5",
   "metadata": {},
   "outputs": [],
   "source": [
    "models_results['approach'].append('ClassTransformation')\n",
    "models_results['uplift@10%'].append(score(uplift_ct, 0.1))\n",
    "models_results['uplift@20%'].append(score(uplift_ct, 0.2))\n",
    "models_results['uplift@30%'].append(score(uplift_ct, 0.3))\n",
    "models_results['uplift@50%'].append(score(uplift_ct, 0.5))"
   ]
  },
  {
   "cell_type": "code",
   "execution_count": 25,
   "id": "187fae96",
   "metadata": {},
   "outputs": [
    {
     "data": {
      "text/plain": [
       "{'approach': ['SoloModel', 'ClassTransformation'],\n",
       " 'uplift@10%': [0.07679603431914267, 0.06745877824047308],\n",
       " 'uplift@20%': [0.07077198822173858, 0.05830300370052002],\n",
       " 'uplift@30%': [0.06875946682618209, 0.05473562783056579],\n",
       " 'uplift@50%': [0.0641619235553319, 0.05762591369804701]}"
      ]
     },
     "execution_count": 25,
     "metadata": {},
     "output_type": "execute_result"
    }
   ],
   "source": [
    "models_results"
   ]
  },
  {
   "cell_type": "markdown",
   "id": "ff8231ba",
   "metadata": {},
   "source": [
    "**Two independed models**"
   ]
  },
  {
   "cell_type": "code",
   "execution_count": 26,
   "id": "cb6b882e",
   "metadata": {},
   "outputs": [],
   "source": [
    "from sklift.models import TwoModels"
   ]
  },
  {
   "cell_type": "code",
   "execution_count": 27,
   "id": "48988b9e",
   "metadata": {},
   "outputs": [],
   "source": [
    "tm = TwoModels(\n",
    "    CatBoostClassifier(iterations=100, random_state=15,\n",
    "                       silent=True, cat_features=cat_features),\n",
    "    CatBoostClassifier(iterations=100, random_state=15,\n",
    "                       silent=True, cat_features=cat_features)\n",
    ")"
   ]
  },
  {
   "cell_type": "code",
   "execution_count": 28,
   "id": "635a4cea",
   "metadata": {},
   "outputs": [],
   "source": [
    "tm = tm.fit(X_train, y_train, treat_train)"
   ]
  },
  {
   "cell_type": "code",
   "execution_count": 29,
   "id": "d260da8a",
   "metadata": {},
   "outputs": [],
   "source": [
    "uplitf_tm = tm.predict(X_test)"
   ]
  },
  {
   "cell_type": "code",
   "execution_count": 30,
   "id": "3d0c3473",
   "metadata": {},
   "outputs": [],
   "source": [
    "models_results['approach'].append('TwoModels')\n",
    "models_results['uplift@10%'].append(score(uplitf_tm, 0.1))\n",
    "models_results['uplift@20%'].append(score(uplitf_tm, 0.2))\n",
    "models_results['uplift@30%'].append(score(uplitf_tm, 0.3))\n",
    "models_results['uplift@50%'].append(score(uplitf_tm, 0.5))"
   ]
  },
  {
   "cell_type": "markdown",
   "id": "470b6a3b",
   "metadata": {},
   "source": [
    "### 5). \n",
    "#### в конце вывести единую таблицу сравнения метрик uplift@10%, uplift@20% 3 моделей"
   ]
  },
  {
   "cell_type": "code",
   "execution_count": 31,
   "id": "eff2dcec",
   "metadata": {},
   "outputs": [
    {
     "data": {
      "text/html": [
       "<div>\n",
       "<style scoped>\n",
       "    .dataframe tbody tr th:only-of-type {\n",
       "        vertical-align: middle;\n",
       "    }\n",
       "\n",
       "    .dataframe tbody tr th {\n",
       "        vertical-align: top;\n",
       "    }\n",
       "\n",
       "    .dataframe thead th {\n",
       "        text-align: right;\n",
       "    }\n",
       "</style>\n",
       "<table border=\"1\" class=\"dataframe\">\n",
       "  <thead>\n",
       "    <tr style=\"text-align: right;\">\n",
       "      <th></th>\n",
       "      <th>approach</th>\n",
       "      <th>uplift@10%</th>\n",
       "      <th>uplift@20%</th>\n",
       "      <th>uplift@30%</th>\n",
       "      <th>uplift@50%</th>\n",
       "    </tr>\n",
       "  </thead>\n",
       "  <tbody>\n",
       "    <tr>\n",
       "      <th>0</th>\n",
       "      <td>SoloModel</td>\n",
       "      <td>0.076796</td>\n",
       "      <td>0.070772</td>\n",
       "      <td>0.068759</td>\n",
       "      <td>0.064162</td>\n",
       "    </tr>\n",
       "    <tr>\n",
       "      <th>1</th>\n",
       "      <td>ClassTransformation</td>\n",
       "      <td>0.067459</td>\n",
       "      <td>0.058303</td>\n",
       "      <td>0.054736</td>\n",
       "      <td>0.057626</td>\n",
       "    </tr>\n",
       "    <tr>\n",
       "      <th>2</th>\n",
       "      <td>TwoModels</td>\n",
       "      <td>0.051746</td>\n",
       "      <td>0.069969</td>\n",
       "      <td>0.068971</td>\n",
       "      <td>0.064731</td>\n",
       "    </tr>\n",
       "  </tbody>\n",
       "</table>\n",
       "</div>"
      ],
      "text/plain": [
       "              approach  uplift@10%  uplift@20%  uplift@30%  uplift@50%\n",
       "0            SoloModel    0.076796    0.070772    0.068759    0.064162\n",
       "1  ClassTransformation    0.067459    0.058303    0.054736    0.057626\n",
       "2            TwoModels    0.051746    0.069969    0.068971    0.064731"
      ]
     },
     "execution_count": 31,
     "metadata": {},
     "output_type": "execute_result"
    }
   ],
   "source": [
    "pd.DataFrame(data=models_results)"
   ]
  },
  {
   "cell_type": "markdown",
   "id": "9f771f3e",
   "metadata": {},
   "source": [
    "### 6).\n",
    "#### *для модели S-learner построить зависимость таргета (конверсии - поле conversion) от значения uplift:\n",
    "- сделать прогноз и получить uplift для тестовой выборки\n",
    "- отсортировать тестовую выборку по uplift по убыванию\n",
    "- разбить на децили (pandas qcut вам в помощь)\n",
    "- для каждого дециля посчитать среднюю conversion"
   ]
  },
  {
   "cell_type": "code",
   "execution_count": 32,
   "id": "3de1a68c",
   "metadata": {},
   "outputs": [],
   "source": [
    "solo = SoloModel(CatBoostClassifier(n_estimators=1000, silent=True, learning_rate=0.01,\n",
    "                                    cat_features=cat_features, random_state=10))"
   ]
  },
  {
   "cell_type": "code",
   "execution_count": 33,
   "id": "e1816a5c",
   "metadata": {},
   "outputs": [
    {
     "data": {
      "text/html": [
       "<style>#sk-container-id-2 {color: black;background-color: white;}#sk-container-id-2 pre{padding: 0;}#sk-container-id-2 div.sk-toggleable {background-color: white;}#sk-container-id-2 label.sk-toggleable__label {cursor: pointer;display: block;width: 100%;margin-bottom: 0;padding: 0.3em;box-sizing: border-box;text-align: center;}#sk-container-id-2 label.sk-toggleable__label-arrow:before {content: \"▸\";float: left;margin-right: 0.25em;color: #696969;}#sk-container-id-2 label.sk-toggleable__label-arrow:hover:before {color: black;}#sk-container-id-2 div.sk-estimator:hover label.sk-toggleable__label-arrow:before {color: black;}#sk-container-id-2 div.sk-toggleable__content {max-height: 0;max-width: 0;overflow: hidden;text-align: left;background-color: #f0f8ff;}#sk-container-id-2 div.sk-toggleable__content pre {margin: 0.2em;color: black;border-radius: 0.25em;background-color: #f0f8ff;}#sk-container-id-2 input.sk-toggleable__control:checked~div.sk-toggleable__content {max-height: 200px;max-width: 100%;overflow: auto;}#sk-container-id-2 input.sk-toggleable__control:checked~label.sk-toggleable__label-arrow:before {content: \"▾\";}#sk-container-id-2 div.sk-estimator input.sk-toggleable__control:checked~label.sk-toggleable__label {background-color: #d4ebff;}#sk-container-id-2 div.sk-label input.sk-toggleable__control:checked~label.sk-toggleable__label {background-color: #d4ebff;}#sk-container-id-2 input.sk-hidden--visually {border: 0;clip: rect(1px 1px 1px 1px);clip: rect(1px, 1px, 1px, 1px);height: 1px;margin: -1px;overflow: hidden;padding: 0;position: absolute;width: 1px;}#sk-container-id-2 div.sk-estimator {font-family: monospace;background-color: #f0f8ff;border: 1px dotted black;border-radius: 0.25em;box-sizing: border-box;margin-bottom: 0.5em;}#sk-container-id-2 div.sk-estimator:hover {background-color: #d4ebff;}#sk-container-id-2 div.sk-parallel-item::after {content: \"\";width: 100%;border-bottom: 1px solid gray;flex-grow: 1;}#sk-container-id-2 div.sk-label:hover label.sk-toggleable__label {background-color: #d4ebff;}#sk-container-id-2 div.sk-serial::before {content: \"\";position: absolute;border-left: 1px solid gray;box-sizing: border-box;top: 0;bottom: 0;left: 50%;z-index: 0;}#sk-container-id-2 div.sk-serial {display: flex;flex-direction: column;align-items: center;background-color: white;padding-right: 0.2em;padding-left: 0.2em;position: relative;}#sk-container-id-2 div.sk-item {position: relative;z-index: 1;}#sk-container-id-2 div.sk-parallel {display: flex;align-items: stretch;justify-content: center;background-color: white;position: relative;}#sk-container-id-2 div.sk-item::before, #sk-container-id-2 div.sk-parallel-item::before {content: \"\";position: absolute;border-left: 1px solid gray;box-sizing: border-box;top: 0;bottom: 0;left: 50%;z-index: -1;}#sk-container-id-2 div.sk-parallel-item {display: flex;flex-direction: column;z-index: 1;position: relative;background-color: white;}#sk-container-id-2 div.sk-parallel-item:first-child::after {align-self: flex-end;width: 50%;}#sk-container-id-2 div.sk-parallel-item:last-child::after {align-self: flex-start;width: 50%;}#sk-container-id-2 div.sk-parallel-item:only-child::after {width: 0;}#sk-container-id-2 div.sk-dashed-wrapped {border: 1px dashed gray;margin: 0 0.4em 0.5em 0.4em;box-sizing: border-box;padding-bottom: 0.4em;background-color: white;}#sk-container-id-2 div.sk-label label {font-family: monospace;font-weight: bold;display: inline-block;line-height: 1.2em;}#sk-container-id-2 div.sk-label-container {text-align: center;}#sk-container-id-2 div.sk-container {/* jupyter's `normalize.less` sets `[hidden] { display: none; }` but bootstrap.min.css set `[hidden] { display: none !important; }` so we also need the `!important` here to be able to override the default hidden behavior on the sphinx rendered scikit-learn.org. See: https://github.com/scikit-learn/scikit-learn/issues/21755 */display: inline-block !important;position: relative;}#sk-container-id-2 div.sk-text-repr-fallback {display: none;}</style><div id=\"sk-container-id-2\" class=\"sk-top-container\"><div class=\"sk-text-repr-fallback\"><pre>SoloModel(estimator=&lt;catboost.core.CatBoostClassifier object at 0x000002C871C62110&gt;)</pre><b>In a Jupyter environment, please rerun this cell to show the HTML representation or trust the notebook. <br />On GitHub, the HTML representation is unable to render, please try loading this page with nbviewer.org.</b></div><div class=\"sk-container\" hidden><div class=\"sk-item sk-dashed-wrapped\"><div class=\"sk-label-container\"><div class=\"sk-label sk-toggleable\"><input class=\"sk-toggleable__control sk-hidden--visually\" id=\"sk-estimator-id-4\" type=\"checkbox\" ><label for=\"sk-estimator-id-4\" class=\"sk-toggleable__label sk-toggleable__label-arrow\">SoloModel</label><div class=\"sk-toggleable__content\"><pre>SoloModel(estimator=&lt;catboost.core.CatBoostClassifier object at 0x000002C871C62110&gt;)</pre></div></div></div><div class=\"sk-parallel\"><div class=\"sk-parallel-item\"><div class=\"sk-item\"><div class=\"sk-label-container\"><div class=\"sk-label sk-toggleable\"><input class=\"sk-toggleable__control sk-hidden--visually\" id=\"sk-estimator-id-5\" type=\"checkbox\" ><label for=\"sk-estimator-id-5\" class=\"sk-toggleable__label sk-toggleable__label-arrow\">estimator: CatBoostClassifier</label><div class=\"sk-toggleable__content\"><pre>&lt;catboost.core.CatBoostClassifier object at 0x000002C871C62110&gt;</pre></div></div></div><div class=\"sk-serial\"><div class=\"sk-item\"><div class=\"sk-estimator sk-toggleable\"><input class=\"sk-toggleable__control sk-hidden--visually\" id=\"sk-estimator-id-6\" type=\"checkbox\" ><label for=\"sk-estimator-id-6\" class=\"sk-toggleable__label sk-toggleable__label-arrow\">CatBoostClassifier</label><div class=\"sk-toggleable__content\"><pre>&lt;catboost.core.CatBoostClassifier object at 0x000002C871C62110&gt;</pre></div></div></div></div></div></div></div></div></div></div>"
      ],
      "text/plain": [
       "SoloModel(estimator=<catboost.core.CatBoostClassifier object at 0x000002C871C62110>)"
      ]
     },
     "execution_count": 33,
     "metadata": {},
     "output_type": "execute_result"
    }
   ],
   "source": [
    "solo.fit(X_train, y_train, treat_train)"
   ]
  },
  {
   "cell_type": "code",
   "execution_count": 34,
   "id": "a94666a4",
   "metadata": {},
   "outputs": [],
   "source": [
    "uplift_solo = solo.predict(X_test)"
   ]
  },
  {
   "cell_type": "code",
   "execution_count": 35,
   "id": "c7c69fff",
   "metadata": {},
   "outputs": [],
   "source": [
    "df = pd.DataFrame()"
   ]
  },
  {
   "cell_type": "code",
   "execution_count": 36,
   "id": "602df11d",
   "metadata": {},
   "outputs": [],
   "source": [
    "df = pd.DataFrame({'true': y_test,\n",
    "                  'treat': treat_test,\n",
    "                  'uplift': uplift_solo})"
   ]
  },
  {
   "cell_type": "code",
   "execution_count": 37,
   "id": "77737854",
   "metadata": {},
   "outputs": [],
   "source": [
    "df.sort_values('uplift', ascending=False, inplace=True)"
   ]
  },
  {
   "cell_type": "code",
   "execution_count": 38,
   "id": "5436d4f5",
   "metadata": {},
   "outputs": [],
   "source": [
    "data, bins = pd.qcut(df['uplift'], q=10, retbins=True)"
   ]
  },
  {
   "cell_type": "code",
   "execution_count": 39,
   "id": "aaceacf0",
   "metadata": {},
   "outputs": [],
   "source": [
    "df_decile = pd.DataFrame(\n",
    "    {'percentile': [],\n",
    "    'mean_conversion': []})\n",
    "num = 0\n",
    "\n",
    "for i in range(len(bins) - 1, 0, -1):\n",
    "    decile = df.loc[(df['uplift'] <= bins[i]) & df['uplift'] > bins[i - 1], 'true'].mean()\n",
    "    df_decile = pd.concat([df_decile, pd.DataFrame({'percentile': f'{num * 10} - {(num + 1 * 10)}',\n",
    "                                                    'mean_conversion': [decile]})])\n",
    "    num += 1"
   ]
  },
  {
   "cell_type": "code",
   "execution_count": 40,
   "id": "7fc2522e",
   "metadata": {},
   "outputs": [
    {
     "data": {
      "text/html": [
       "<div>\n",
       "<style scoped>\n",
       "    .dataframe tbody tr th:only-of-type {\n",
       "        vertical-align: middle;\n",
       "    }\n",
       "\n",
       "    .dataframe tbody tr th {\n",
       "        vertical-align: top;\n",
       "    }\n",
       "\n",
       "    .dataframe thead th {\n",
       "        text-align: right;\n",
       "    }\n",
       "</style>\n",
       "<table border=\"1\" class=\"dataframe\">\n",
       "  <thead>\n",
       "    <tr style=\"text-align: right;\">\n",
       "      <th></th>\n",
       "      <th>percentile</th>\n",
       "      <th>mean_conversion</th>\n",
       "    </tr>\n",
       "  </thead>\n",
       "  <tbody>\n",
       "    <tr>\n",
       "      <th>0</th>\n",
       "      <td>0 - 10</td>\n",
       "      <td>0.146771</td>\n",
       "    </tr>\n",
       "    <tr>\n",
       "      <th>0</th>\n",
       "      <td>10 - 11</td>\n",
       "      <td>0.138831</td>\n",
       "    </tr>\n",
       "    <tr>\n",
       "      <th>0</th>\n",
       "      <td>20 - 12</td>\n",
       "      <td>0.133325</td>\n",
       "    </tr>\n",
       "    <tr>\n",
       "      <th>0</th>\n",
       "      <td>30 - 13</td>\n",
       "      <td>0.130952</td>\n",
       "    </tr>\n",
       "    <tr>\n",
       "      <th>0</th>\n",
       "      <td>40 - 14</td>\n",
       "      <td>0.126736</td>\n",
       "    </tr>\n",
       "    <tr>\n",
       "      <th>0</th>\n",
       "      <td>50 - 15</td>\n",
       "      <td>0.124271</td>\n",
       "    </tr>\n",
       "    <tr>\n",
       "      <th>0</th>\n",
       "      <td>60 - 16</td>\n",
       "      <td>0.123682</td>\n",
       "    </tr>\n",
       "    <tr>\n",
       "      <th>0</th>\n",
       "      <td>70 - 17</td>\n",
       "      <td>0.108488</td>\n",
       "    </tr>\n",
       "    <tr>\n",
       "      <th>0</th>\n",
       "      <td>80 - 18</td>\n",
       "      <td>0.095052</td>\n",
       "    </tr>\n",
       "    <tr>\n",
       "      <th>0</th>\n",
       "      <td>90 - 19</td>\n",
       "      <td>0.072396</td>\n",
       "    </tr>\n",
       "  </tbody>\n",
       "</table>\n",
       "</div>"
      ],
      "text/plain": [
       "  percentile  mean_conversion\n",
       "0     0 - 10         0.146771\n",
       "0    10 - 11         0.138831\n",
       "0    20 - 12         0.133325\n",
       "0    30 - 13         0.130952\n",
       "0    40 - 14         0.126736\n",
       "0    50 - 15         0.124271\n",
       "0    60 - 16         0.123682\n",
       "0    70 - 17         0.108488\n",
       "0    80 - 18         0.095052\n",
       "0    90 - 19         0.072396"
      ]
     },
     "execution_count": 40,
     "metadata": {},
     "output_type": "execute_result"
    }
   ],
   "source": [
    "df_decile"
   ]
  }
 ],
 "metadata": {
  "kernelspec": {
   "display_name": "Python 3 (ipykernel)",
   "language": "python",
   "name": "python3"
  },
  "language_info": {
   "codemirror_mode": {
    "name": "ipython",
    "version": 3
   },
   "file_extension": ".py",
   "mimetype": "text/x-python",
   "name": "python",
   "nbconvert_exporter": "python",
   "pygments_lexer": "ipython3",
   "version": "3.10.4"
  }
 },
 "nbformat": 4,
 "nbformat_minor": 5
}
