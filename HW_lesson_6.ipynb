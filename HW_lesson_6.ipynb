{
 "cells": [
  {
   "cell_type": "markdown",
   "id": "d37f5379",
   "metadata": {},
   "source": [
    "# Lesson 6 HW"
   ]
  },
  {
   "cell_type": "markdown",
   "id": "8581de3a",
   "metadata": {},
   "source": [
    "1. Взять любой набор данных для бинарной классификации (можно скачать один из модельных с https://archive.ics.uci.edu/ml/datasets.php)"
   ]
  },
  {
   "cell_type": "code",
   "execution_count": 54,
   "id": "906ce907",
   "metadata": {},
   "outputs": [],
   "source": [
    "import pandas as pd\n",
    "import numpy as np\n",
    "from sklearn.pipeline import Pipeline, make_pipeline, FeatureUnion\n",
    "from sklearn.base import BaseEstimator, TransformerMixin\n",
    "from sklearn.model_selection import train_test_split\n",
    "import seaborn as sns\n",
    "import matplotlib.pyplot as plt"
   ]
  },
  {
   "cell_type": "code",
   "execution_count": 55,
   "id": "a0952cac",
   "metadata": {},
   "outputs": [],
   "source": [
    "df = pd.read_csv('nursery.data', names=['parents', 'has_nurs', 'form', 'children', 'housing', 'finance', 'social', 'health', 'recommend'])"
   ]
  },
  {
   "cell_type": "markdown",
   "id": "48b0a496",
   "metadata": {},
   "source": [
    "- parents: usual, pretentious, great_pret\n",
    "- has_nurs:       proper, less_proper, improper, critical, very_crit\n",
    "- form:           complete, completed, incomplete, foster\n",
    "- children:       1, 2, 3, more\n",
    "- housing:        convenient, less_conv, critical\n",
    "- finance:        convenient, inconv\n",
    "- social:         non-prob, slightly_prob, problematic\n",
    "- health:         recommended, priority, not_recom"
   ]
  },
  {
   "cell_type": "code",
   "execution_count": 56,
   "id": "c039ccf1",
   "metadata": {
    "scrolled": true
   },
   "outputs": [
    {
     "data": {
      "text/html": [
       "<div>\n",
       "<style scoped>\n",
       "    .dataframe tbody tr th:only-of-type {\n",
       "        vertical-align: middle;\n",
       "    }\n",
       "\n",
       "    .dataframe tbody tr th {\n",
       "        vertical-align: top;\n",
       "    }\n",
       "\n",
       "    .dataframe thead th {\n",
       "        text-align: right;\n",
       "    }\n",
       "</style>\n",
       "<table border=\"1\" class=\"dataframe\">\n",
       "  <thead>\n",
       "    <tr style=\"text-align: right;\">\n",
       "      <th></th>\n",
       "      <th>parents</th>\n",
       "      <th>has_nurs</th>\n",
       "      <th>form</th>\n",
       "      <th>children</th>\n",
       "      <th>housing</th>\n",
       "      <th>finance</th>\n",
       "      <th>social</th>\n",
       "      <th>health</th>\n",
       "      <th>recommend</th>\n",
       "    </tr>\n",
       "  </thead>\n",
       "  <tbody>\n",
       "    <tr>\n",
       "      <th>7895</th>\n",
       "      <td>pretentious</td>\n",
       "      <td>very_crit</td>\n",
       "      <td>complete</td>\n",
       "      <td>3</td>\n",
       "      <td>convenient</td>\n",
       "      <td>inconv</td>\n",
       "      <td>nonprob</td>\n",
       "      <td>not_recom</td>\n",
       "      <td>not_recom</td>\n",
       "    </tr>\n",
       "    <tr>\n",
       "      <th>2935</th>\n",
       "      <td>usual</td>\n",
       "      <td>critical</td>\n",
       "      <td>completed</td>\n",
       "      <td>3</td>\n",
       "      <td>less_conv</td>\n",
       "      <td>convenient</td>\n",
       "      <td>nonprob</td>\n",
       "      <td>priority</td>\n",
       "      <td>spec_prior</td>\n",
       "    </tr>\n",
       "    <tr>\n",
       "      <th>9673</th>\n",
       "      <td>great_pret</td>\n",
       "      <td>less_proper</td>\n",
       "      <td>complete</td>\n",
       "      <td>more</td>\n",
       "      <td>convenient</td>\n",
       "      <td>convenient</td>\n",
       "      <td>problematic</td>\n",
       "      <td>priority</td>\n",
       "      <td>priority</td>\n",
       "    </tr>\n",
       "  </tbody>\n",
       "</table>\n",
       "</div>"
      ],
      "text/plain": [
       "          parents     has_nurs       form children     housing     finance  \\\n",
       "7895  pretentious    very_crit   complete        3  convenient      inconv   \n",
       "2935        usual     critical  completed        3   less_conv  convenient   \n",
       "9673   great_pret  less_proper   complete     more  convenient  convenient   \n",
       "\n",
       "           social     health   recommend  \n",
       "7895      nonprob  not_recom   not_recom  \n",
       "2935      nonprob   priority  spec_prior  \n",
       "9673  problematic   priority    priority  "
      ]
     },
     "execution_count": 56,
     "metadata": {},
     "output_type": "execute_result"
    }
   ],
   "source": [
    "df.sample(3)"
   ]
  },
  {
   "cell_type": "code",
   "execution_count": 57,
   "id": "b003b380",
   "metadata": {},
   "outputs": [],
   "source": [
    "df.rename(columns={'recommend': 'target'}, inplace=True)"
   ]
  },
  {
   "cell_type": "code",
   "execution_count": 58,
   "id": "8d01bfc6",
   "metadata": {},
   "outputs": [
    {
     "data": {
      "text/plain": [
       "not_recom     4320\n",
       "priority      4266\n",
       "spec_prior    4044\n",
       "very_recom     328\n",
       "recommend        2\n",
       "Name: target, dtype: int64"
      ]
     },
     "execution_count": 58,
     "metadata": {},
     "output_type": "execute_result"
    }
   ],
   "source": [
    "df['target'].value_counts()"
   ]
  },
  {
   "cell_type": "code",
   "execution_count": 59,
   "id": "3bd15682",
   "metadata": {
    "scrolled": true
   },
   "outputs": [],
   "source": [
    "df['target'] = np.where(df.target == ('not_recom'), 0, df.target)\n",
    "df['target'] = np.where(df.target != 0, 1, df.target)"
   ]
  },
  {
   "cell_type": "code",
   "execution_count": 60,
   "id": "2d8e936d",
   "metadata": {},
   "outputs": [
    {
     "data": {
      "text/plain": [
       "1    8640\n",
       "0    4320\n",
       "Name: target, dtype: int64"
      ]
     },
     "execution_count": 60,
     "metadata": {},
     "output_type": "execute_result"
    }
   ],
   "source": [
    "df.target.value_counts()"
   ]
  },
  {
   "cell_type": "code",
   "execution_count": 61,
   "id": "f0e1b86f",
   "metadata": {},
   "outputs": [],
   "source": [
    "class ColumnSelector(TransformerMixin, BaseEstimator):\n",
    "    def __init__(self, column):\n",
    "        self.column = column\n",
    "    \n",
    "    def fit(self, X, y=None):\n",
    "        return self\n",
    "    \n",
    "    def transform(self, X):\n",
    "        return X[self.column]\n",
    "    \n",
    "class OHEencoder(TransformerMixin, BaseEstimator):\n",
    "    def __init__(self, column):\n",
    "        self.column = column\n",
    "        self.columns = []\n",
    "    \n",
    "    def fit(self, X, y=None):\n",
    "        self.columns = [col for col in pd.get_dummies(X, prefix=self.column).columns]\n",
    "        return self\n",
    "    \n",
    "    def transform(self, X):\n",
    "        X = pd.get_dummies(X, prefix=self.column)\n",
    "        test_columns = [col for col in X.columns]\n",
    "        for col_ in self.columns:\n",
    "            if col_ not in test_columns:\n",
    "                X[col_] = 0\n",
    "        return X[self.columns]"
   ]
  },
  {
   "cell_type": "code",
   "execution_count": 62,
   "id": "9ed4f8f7",
   "metadata": {},
   "outputs": [],
   "source": [
    "X = df.drop(columns='target')\n",
    "y = df['target']"
   ]
  },
  {
   "cell_type": "code",
   "execution_count": 63,
   "id": "1d34cc5b",
   "metadata": {},
   "outputs": [],
   "source": [
    "y = y.astype('int')"
   ]
  },
  {
   "cell_type": "code",
   "execution_count": 64,
   "id": "76899807",
   "metadata": {},
   "outputs": [],
   "source": [
    "X_train, X_test, y_train, y_test = train_test_split(X, y, test_size=0.3,\n",
    "                                                   stratify=y, random_state=15)"
   ]
  },
  {
   "cell_type": "code",
   "execution_count": 76,
   "id": "c4d92a91",
   "metadata": {},
   "outputs": [
    {
     "data": {
      "image/png": "[encoded data removed]",
      "text/plain": [
       "<Figure size 432x288 with 1 Axes>"
      ]
     },
     "metadata": {
      "needs_background": "light"
     },
     "output_type": "display_data"
    }
   ],
   "source": [
    "sns.scatterplot(data=df, y=df['target'], x=df['health'])\n",
    "plt.show()"
   ]
  },
  {
   "cell_type": "code",
   "execution_count": 77,
   "id": "211d5a8b",
   "metadata": {},
   "outputs": [],
   "source": [
    "# признак health не берем из-за прямой корреляции с целевым\n",
    "cat_columns = [\n",
    "    'parents',\n",
    "    'has_nurs',\n",
    "    'form',\n",
    "    'children',\n",
    "    'housing',\n",
    "    'finance',\n",
    "    'social',\n",
    "              ]"
   ]
  },
  {
   "cell_type": "code",
   "execution_count": 78,
   "id": "36f8809c",
   "metadata": {},
   "outputs": [],
   "source": [
    "cat_transformers = []\n",
    "\n",
    "for col in cat_columns:\n",
    "    transformer = Pipeline([\n",
    "                ('selector', ColumnSelector(column=col)),\n",
    "                ('ohe', OHEencoder(column=col))\n",
    "           ])\n",
    "    cat_transformers.append((col, transformer))"
   ]
  },
  {
   "cell_type": "code",
   "execution_count": 79,
   "id": "ae5e9ecd",
   "metadata": {},
   "outputs": [],
   "source": [
    "feats = FeatureUnion(cat_transformers)"
   ]
  },
  {
   "cell_type": "markdown",
   "id": "3799f8c9",
   "metadata": {},
   "source": [
    "2. Обучить любой классификатор (какой вам нравится)"
   ]
  },
  {
   "cell_type": "code",
   "execution_count": 80,
   "id": "27221f63",
   "metadata": {},
   "outputs": [],
   "source": [
    "from sklearn.linear_model import LogisticRegression"
   ]
  },
  {
   "cell_type": "code",
   "execution_count": 81,
   "id": "5d9badb8",
   "metadata": {},
   "outputs": [],
   "source": [
    "from xgboost import XGBClassifier"
   ]
  },
  {
   "cell_type": "code",
   "execution_count": 82,
   "id": "62d0740c",
   "metadata": {},
   "outputs": [],
   "source": [
    "classifier = Pipeline([\n",
    "    ('features', feats),\n",
    "    ('classifier', LogisticRegression(random_state=1))\n",
    "])"
   ]
  },
  {
   "cell_type": "code",
   "execution_count": 83,
   "id": "86f80813",
   "metadata": {},
   "outputs": [],
   "source": [
    "classifier.fit(X_train, y_train)\n",
    "y_score = classifier.predict_proba(X_test)[:, 1]"
   ]
  },
  {
   "cell_type": "code",
   "execution_count": 84,
   "id": "3fb27569",
   "metadata": {},
   "outputs": [],
   "source": [
    "from sklearn.metrics import roc_auc_score, precision_recall_curve"
   ]
  },
  {
   "cell_type": "code",
   "execution_count": 85,
   "id": "e3387a82",
   "metadata": {},
   "outputs": [
    {
     "name": "stdout",
     "output_type": "stream",
     "text": [
      "Best Threshold=0.6305569557713075, F-Score=0.800, Precision=0.667, Recall=1.000\n"
     ]
    }
   ],
   "source": [
    "b = 1\n",
    "precision, recall, thresholds = precision_recall_curve(y_test, y_score)\n",
    "fscore = (1 + b**2) * (precision * recall) / (b**2 * precision + recall)\n",
    "ix = np.nanargmax(fscore)\n",
    "print(f'Best Threshold={thresholds[ix]}, F-Score={fscore[ix]:.3f}, Precision={precision[ix]:.3f}, Recall={recall[ix]:.3f}')"
   ]
  },
  {
   "cell_type": "code",
   "execution_count": 86,
   "id": "0b11402d",
   "metadata": {},
   "outputs": [
    {
     "name": "stdout",
     "output_type": "stream",
     "text": [
      "0.4675543398014784\n"
     ]
    }
   ],
   "source": [
    "print(roc_auc_score(y_test, y_score))"
   ]
  },
  {
   "cell_type": "markdown",
   "id": "aebdb59c",
   "metadata": {},
   "source": [
    "3. Разделить ваш набор данных на два множества: P (positives) и U (unlabeled). Причем брать нужно не все положительные примеры (класс 1), а только лишь часть"
   ]
  },
  {
   "cell_type": "code",
   "execution_count": null,
   "id": "9846430b",
   "metadata": {},
   "outputs": [],
   "source": []
  },
  {
   "cell_type": "code",
   "execution_count": null,
   "id": "b693f7e5",
   "metadata": {},
   "outputs": [],
   "source": []
  },
  {
   "cell_type": "code",
   "execution_count": null,
   "id": "7a3c7882",
   "metadata": {},
   "outputs": [],
   "source": []
  },
  {
   "cell_type": "markdown",
   "id": "84cc67ca",
   "metadata": {},
   "source": [
    "4. Применить random negative sampling для построения классификатора в новых условиях"
   ]
  },
  {
   "cell_type": "code",
   "execution_count": null,
   "id": "2127de08",
   "metadata": {},
   "outputs": [],
   "source": []
  },
  {
   "cell_type": "code",
   "execution_count": null,
   "id": "1707cf1f",
   "metadata": {},
   "outputs": [],
   "source": []
  },
  {
   "cell_type": "markdown",
   "id": "7857936b",
   "metadata": {},
   "source": [
    "5. Сравнить качество с решением из пункта 3 (построить отчет - таблицу метрик)"
   ]
  },
  {
   "cell_type": "code",
   "execution_count": null,
   "id": "911f0249",
   "metadata": {},
   "outputs": [],
   "source": []
  }
 ],
 "metadata": {
  "kernelspec": {
   "display_name": "Python 3 (ipykernel)",
   "language": "python",
   "name": "python3"
  },
  "language_info": {
   "codemirror_mode": {
    "name": "ipython",
    "version": 3
   },
   "file_extension": ".py",
   "mimetype": "text/x-python",
   "name": "python",
   "nbconvert_exporter": "python",
   "pygments_lexer": "ipython3",
   "version": "3.8.10"
  }
 },
 "nbformat": 4,
 "nbformat_minor": 5
}
