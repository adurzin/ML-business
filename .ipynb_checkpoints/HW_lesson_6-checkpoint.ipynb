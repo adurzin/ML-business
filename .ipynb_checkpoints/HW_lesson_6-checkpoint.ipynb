{
 "cells": [
  {
   "cell_type": "markdown",
   "id": "d37f5379",
   "metadata": {},
   "source": [
    "# Lesson 6 HW"
   ]
  },
  {
   "cell_type": "markdown",
   "id": "8581de3a",
   "metadata": {},
   "source": [
    "1. Взять любой набор данных для бинарной классификации (можно скачать один из модельных с https://archive.ics.uci.edu/ml/datasets.php)"
   ]
  },
  {
   "cell_type": "code",
   "execution_count": 299,
   "id": "906ce907",
   "metadata": {},
   "outputs": [],
   "source": [
    "import pandas as pd\n",
    "import numpy as np\n",
    "from sklearn.pipeline import Pipeline, make_pipeline, FeatureUnion\n",
    "from sklearn.base import BaseEstimator, TransformerMixin\n",
    "from sklearn.model_selection import train_test_split\n",
    "import seaborn as sns\n",
    "import matplotlib.pyplot as plt"
   ]
  },
  {
   "cell_type": "code",
   "execution_count": 300,
   "id": "1c165db8",
   "metadata": {},
   "outputs": [],
   "source": [
    "from sklearn.datasets import make_classification"
   ]
  },
  {
   "cell_type": "code",
   "execution_count": 301,
   "id": "8e9f1780",
   "metadata": {},
   "outputs": [],
   "source": [
    "# создадим датасет\n",
    "X, y = make_classification(n_samples=10000, n_features=7, n_informative=7, n_classes=2, n_redundant=0, scale=10)"
   ]
  },
  {
   "cell_type": "code",
   "execution_count": 302,
   "id": "2d8e936d",
   "metadata": {},
   "outputs": [],
   "source": [
    "X = pd.DataFrame(X)\n",
    "y = pd.Series(y)"
   ]
  },
  {
   "cell_type": "code",
   "execution_count": 303,
   "id": "76899807",
   "metadata": {},
   "outputs": [],
   "source": [
    "X_train, X_test, y_train, y_test = train_test_split(X, y, test_size=0.3,\n",
    "                                                   stratify=y, random_state=15)"
   ]
  },
  {
   "cell_type": "markdown",
   "id": "3799f8c9",
   "metadata": {},
   "source": [
    "2. Обучить любой классификатор (какой вам нравится)"
   ]
  },
  {
   "cell_type": "code",
   "execution_count": 304,
   "id": "27221f63",
   "metadata": {},
   "outputs": [],
   "source": [
    "from lightgbm import LGBMClassifier"
   ]
  },
  {
   "cell_type": "code",
   "execution_count": 305,
   "id": "dbfbd877",
   "metadata": {},
   "outputs": [],
   "source": [
    "model = LGBMClassifier(random_state=5)"
   ]
  },
  {
   "cell_type": "code",
   "execution_count": 306,
   "id": "88cbf099",
   "metadata": {},
   "outputs": [
    {
     "data": {
      "text/plain": [
       "LGBMClassifier(random_state=5)"
      ]
     },
     "execution_count": 306,
     "metadata": {},
     "output_type": "execute_result"
    }
   ],
   "source": [
    "model.fit(X_train, y_train)"
   ]
  },
  {
   "cell_type": "code",
   "execution_count": 307,
   "id": "4ce67883",
   "metadata": {},
   "outputs": [],
   "source": [
    "y_score = model.predict_proba(X_test)[:, 1]"
   ]
  },
  {
   "cell_type": "code",
   "execution_count": 308,
   "id": "3fb27569",
   "metadata": {},
   "outputs": [],
   "source": [
    "from sklearn.metrics import roc_auc_score, precision_recall_curve"
   ]
  },
  {
   "cell_type": "code",
   "execution_count": 309,
   "id": "f2c328bc",
   "metadata": {},
   "outputs": [],
   "source": [
    "results = pd.DataFrame(columns=['method', 'fscore', 'roc_auc', 'precision', 'recall'])"
   ]
  },
  {
   "cell_type": "code",
   "execution_count": 310,
   "id": "e3387a82",
   "metadata": {},
   "outputs": [
    {
     "name": "stdout",
     "output_type": "stream",
     "text": [
      "Best Threshold=0.49845019328774154, F-Score=0.943, Precision=0.953, Recall=0.933\n"
     ]
    }
   ],
   "source": [
    "b = 1\n",
    "precision, recall, thresholds = precision_recall_curve(y_test, y_score)\n",
    "fscore = (1 + b**2) * (precision * recall) / (b**2 * precision + recall)\n",
    "ix = np.nanargmax(fscore)\n",
    "print(f'Best Threshold={thresholds[ix]}, F-Score={fscore[ix]:.3f}, Precision={precision[ix]:.3f}, Recall={recall[ix]:.3f}')"
   ]
  },
  {
   "cell_type": "code",
   "execution_count": 311,
   "id": "5b9e2b62",
   "metadata": {},
   "outputs": [],
   "source": [
    "results = results.append({'method': 'usual',\n",
    "                'fscore': fscore[ix],\n",
    "                'roc_auc': roc_auc_score(y_test, y_score),\n",
    "                'precision': precision[ix],\n",
    "                'recall': recall[ix]}, ignore_index=True)"
   ]
  },
  {
   "cell_type": "markdown",
   "id": "aebdb59c",
   "metadata": {},
   "source": [
    "3. Разделить ваш набор данных на два множества: P (positives) и U (unlabeled). Причем брать нужно не все положительные примеры (класс 1), а только лишь часть"
   ]
  },
  {
   "cell_type": "code",
   "execution_count": 312,
   "id": "b693f7e5",
   "metadata": {},
   "outputs": [],
   "source": [
    "mod_data = X_train.copy()\n",
    "mod_data['label'] = y_train\n",
    "mod_data.reset_index(drop=True, inplace=True)"
   ]
  },
  {
   "cell_type": "code",
   "execution_count": 313,
   "id": "7a3c7882",
   "metadata": {},
   "outputs": [],
   "source": [
    "pos_ind = np.where(mod_data.iloc[:, -1].values == 1)[0]\n",
    "\n",
    "np.random.shuffle(pos_ind)\n",
    "\n",
    "perc = 0.2\n",
    "pos_sample_len = int(np.ceil(perc * len(pos_ind)))\n",
    "\n",
    "pos_sample = pos_ind[:pos_sample_len]"
   ]
  },
  {
   "cell_type": "code",
   "execution_count": 314,
   "id": "03effec2",
   "metadata": {},
   "outputs": [],
   "source": [
    "mod_data['class_test'] = -1"
   ]
  },
  {
   "cell_type": "code",
   "execution_count": 315,
   "id": "88133c66",
   "metadata": {},
   "outputs": [],
   "source": [
    "mod_data.loc[pos_sample, 'class_test'] = 1"
   ]
  },
  {
   "cell_type": "code",
   "execution_count": 316,
   "id": "a7d6ccd3",
   "metadata": {},
   "outputs": [
    {
     "data": {
      "text/plain": [
       "-1    6300\n",
       " 1     700\n",
       "Name: class_test, dtype: int64"
      ]
     },
     "execution_count": 316,
     "metadata": {},
     "output_type": "execute_result"
    }
   ],
   "source": [
    "mod_data['class_test'].value_counts()"
   ]
  },
  {
   "cell_type": "markdown",
   "id": "84cc67ca",
   "metadata": {},
   "source": [
    "4. Применить random negative sampling для построения классификатора в новых условиях"
   ]
  },
  {
   "cell_type": "code",
   "execution_count": 317,
   "id": "2127de08",
   "metadata": {},
   "outputs": [],
   "source": [
    "mod_data = mod_data.sample(frac=1)"
   ]
  },
  {
   "cell_type": "code",
   "execution_count": 318,
   "id": "1707cf1f",
   "metadata": {},
   "outputs": [],
   "source": [
    "data_N = mod_data[mod_data['class_test'] == - 1]\n",
    "data_P = mod_data[mod_data['class_test'] == 1]"
   ]
  },
  {
   "cell_type": "code",
   "execution_count": 319,
   "id": "418723af",
   "metadata": {},
   "outputs": [],
   "source": [
    "neg_sample = data_N[:data_P.shape[0]]\n",
    "sample_test = data_N[data_P.shape[0]:]\n",
    "pos_sample = data_P.copy()"
   ]
  },
  {
   "cell_type": "code",
   "execution_count": 320,
   "id": "7985de24",
   "metadata": {},
   "outputs": [],
   "source": [
    "sample_train = pd.concat([neg_sample, pos_sample]).sample(frac=1)"
   ]
  },
  {
   "cell_type": "code",
   "execution_count": 321,
   "id": "908c90c5",
   "metadata": {},
   "outputs": [
    {
     "data": {
      "text/html": [
       "<div>\n",
       "<style scoped>\n",
       "    .dataframe tbody tr th:only-of-type {\n",
       "        vertical-align: middle;\n",
       "    }\n",
       "\n",
       "    .dataframe tbody tr th {\n",
       "        vertical-align: top;\n",
       "    }\n",
       "\n",
       "    .dataframe thead th {\n",
       "        text-align: right;\n",
       "    }\n",
       "</style>\n",
       "<table border=\"1\" class=\"dataframe\">\n",
       "  <thead>\n",
       "    <tr style=\"text-align: right;\">\n",
       "      <th></th>\n",
       "      <th>0</th>\n",
       "      <th>1</th>\n",
       "      <th>2</th>\n",
       "      <th>3</th>\n",
       "      <th>4</th>\n",
       "      <th>5</th>\n",
       "      <th>6</th>\n",
       "      <th>label</th>\n",
       "      <th>class_test</th>\n",
       "    </tr>\n",
       "  </thead>\n",
       "  <tbody>\n",
       "    <tr>\n",
       "      <th>1135</th>\n",
       "      <td>-2.203329</td>\n",
       "      <td>-24.160735</td>\n",
       "      <td>10.052355</td>\n",
       "      <td>-6.598345</td>\n",
       "      <td>-6.904621</td>\n",
       "      <td>-8.680171</td>\n",
       "      <td>-8.641505</td>\n",
       "      <td>1</td>\n",
       "      <td>-1</td>\n",
       "    </tr>\n",
       "    <tr>\n",
       "      <th>3220</th>\n",
       "      <td>0.969711</td>\n",
       "      <td>-8.917024</td>\n",
       "      <td>32.774386</td>\n",
       "      <td>1.581046</td>\n",
       "      <td>8.235981</td>\n",
       "      <td>-27.675876</td>\n",
       "      <td>-3.380534</td>\n",
       "      <td>1</td>\n",
       "      <td>1</td>\n",
       "    </tr>\n",
       "  </tbody>\n",
       "</table>\n",
       "</div>"
      ],
      "text/plain": [
       "             0          1          2         3         4          5         6  \\\n",
       "1135 -2.203329 -24.160735  10.052355 -6.598345 -6.904621  -8.680171 -8.641505   \n",
       "3220  0.969711  -8.917024  32.774386  1.581046  8.235981 -27.675876 -3.380534   \n",
       "\n",
       "      label  class_test  \n",
       "1135      1          -1  \n",
       "3220      1           1  "
      ]
     },
     "execution_count": 321,
     "metadata": {},
     "output_type": "execute_result"
    }
   ],
   "source": [
    "sample_train.tail(2)"
   ]
  },
  {
   "cell_type": "code",
   "execution_count": 322,
   "id": "bdf9f713",
   "metadata": {},
   "outputs": [],
   "source": [
    "sample_train.loc[sample_train['class_test'] == -1, 'class_test'] = 0"
   ]
  },
  {
   "cell_type": "code",
   "execution_count": 323,
   "id": "13740773",
   "metadata": {},
   "outputs": [],
   "source": [
    "model.fit(sample_train.drop(columns=['class_test', 'label']),\n",
    "         sample_train['class_test'])\n",
    "\n",
    "y_score = model.predict_proba(X_test)[:, 1]"
   ]
  },
  {
   "cell_type": "code",
   "execution_count": 324,
   "id": "59bca4be",
   "metadata": {},
   "outputs": [
    {
     "name": "stdout",
     "output_type": "stream",
     "text": [
      "Best Threshold=0.23037748715942147, F-Score=0.868, Precision=0.832, Recall=0.907\n"
     ]
    }
   ],
   "source": [
    "b = 1\n",
    "precision, recall, thresholds = precision_recall_curve(y_test, y_score)\n",
    "fscore = (1 + b**2) * (precision * recall) / (b**2 * precision + recall)\n",
    "ix = np.nanargmax(fscore)\n",
    "print(f'Best Threshold={thresholds[ix]}, F-Score={fscore[ix]:.3f}, Precision={precision[ix]:.3f}, Recall={recall[ix]:.3f}')"
   ]
  },
  {
   "cell_type": "markdown",
   "id": "7857936b",
   "metadata": {},
   "source": [
    "5. Сравнить качество с решением из пункта 3 (построить отчет - таблицу метрик)"
   ]
  },
  {
   "cell_type": "code",
   "execution_count": 325,
   "id": "911f0249",
   "metadata": {},
   "outputs": [],
   "source": [
    "results = results.append({'method': 'Random Negative Sampling',\n",
    "                'fscore': fscore[ix],\n",
    "                'roc_auc': roc_auc_score(y_test, y_score),\n",
    "                'precision': precision[ix],\n",
    "                'recall': recall[ix]}, ignore_index=True)"
   ]
  },
  {
   "cell_type": "code",
   "execution_count": 326,
   "id": "4bec744e",
   "metadata": {},
   "outputs": [
    {
     "data": {
      "text/html": [
       "<div>\n",
       "<style scoped>\n",
       "    .dataframe tbody tr th:only-of-type {\n",
       "        vertical-align: middle;\n",
       "    }\n",
       "\n",
       "    .dataframe tbody tr th {\n",
       "        vertical-align: top;\n",
       "    }\n",
       "\n",
       "    .dataframe thead th {\n",
       "        text-align: right;\n",
       "    }\n",
       "</style>\n",
       "<table border=\"1\" class=\"dataframe\">\n",
       "  <thead>\n",
       "    <tr style=\"text-align: right;\">\n",
       "      <th></th>\n",
       "      <th>method</th>\n",
       "      <th>fscore</th>\n",
       "      <th>roc_auc</th>\n",
       "      <th>precision</th>\n",
       "      <th>recall</th>\n",
       "    </tr>\n",
       "  </thead>\n",
       "  <tbody>\n",
       "    <tr>\n",
       "      <th>0</th>\n",
       "      <td>usual</td>\n",
       "      <td>0.943078</td>\n",
       "      <td>0.985165</td>\n",
       "      <td>0.953029</td>\n",
       "      <td>0.933333</td>\n",
       "    </tr>\n",
       "    <tr>\n",
       "      <th>1</th>\n",
       "      <td>Random Negative Sampling</td>\n",
       "      <td>0.867985</td>\n",
       "      <td>0.934455</td>\n",
       "      <td>0.831907</td>\n",
       "      <td>0.907333</td>\n",
       "    </tr>\n",
       "  </tbody>\n",
       "</table>\n",
       "</div>"
      ],
      "text/plain": [
       "                     method    fscore   roc_auc  precision    recall\n",
       "0                     usual  0.943078  0.985165   0.953029  0.933333\n",
       "1  Random Negative Sampling  0.867985  0.934455   0.831907  0.907333"
      ]
     },
     "execution_count": 326,
     "metadata": {},
     "output_type": "execute_result"
    }
   ],
   "source": [
    "results"
   ]
  },
  {
   "cell_type": "code",
   "execution_count": 327,
   "id": "e9449cde",
   "metadata": {},
   "outputs": [
    {
     "data": {
      "text/plain": [
       "fscore       0.075094\n",
       "roc_auc      0.050711\n",
       "precision    0.121122\n",
       "recall       0.026000\n",
       "dtype: float64"
      ]
     },
     "execution_count": 327,
     "metadata": {},
     "output_type": "execute_result"
    }
   ],
   "source": [
    "results.drop(columns='method').iloc[0] - results.drop(columns='method').iloc[1]"
   ]
  },
  {
   "cell_type": "markdown",
   "id": "ac32853e",
   "metadata": {},
   "source": [
    "Основные потери произошли в точности из-за небольшого количества размеченных данных (20% от всего количества)."
   ]
  }
 ],
 "metadata": {
  "kernelspec": {
   "display_name": "Python 3 (ipykernel)",
   "language": "python",
   "name": "python3"
  },
  "language_info": {
   "codemirror_mode": {
    "name": "ipython",
    "version": 3
   },
   "file_extension": ".py",
   "mimetype": "text/x-python",
   "name": "python",
   "nbconvert_exporter": "python",
   "pygments_lexer": "ipython3",
   "version": "3.10.0"
  }
 },
 "nbformat": 4,
 "nbformat_minor": 5
}
