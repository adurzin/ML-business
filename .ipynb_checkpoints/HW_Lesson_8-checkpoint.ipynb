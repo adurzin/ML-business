{
 "cells": [
  {
   "cell_type": "markdown",
   "id": "30a84134",
   "metadata": {},
   "source": [
    "# HW Lesson 8"
   ]
  },
  {
   "cell_type": "markdown",
   "id": "e5d52464",
   "metadata": {},
   "source": [
    "**Взять датасет из google диска: https://drive.google.com/file/d/1MpWBFIbqu4mbiD0BBKYX6YhS-f4mN3Z_.**\n",
    "\n",
    "**Проверить гипотезу о том, в каком варианте теста (control/personalization) больше конверсия (converted) и значимо ли это отличие статистически.**"
   ]
  },
  {
   "cell_type": "code",
   "execution_count": 1,
   "id": "d89d754f",
   "metadata": {},
   "outputs": [],
   "source": [
    "import pandas as pd\n",
    "import numpy as np"
   ]
  },
  {
   "cell_type": "code",
   "execution_count": 2,
   "id": "d2e5f958",
   "metadata": {},
   "outputs": [],
   "source": [
    "df = pd.read_csv('marketing_campaign.csv')\n",
    "users = pd.read_csv('users.csv')\n",
    "subscribers = pd.read_csv('subscribers.csv')"
   ]
  },
  {
   "cell_type": "markdown",
   "id": "113084c2",
   "metadata": {},
   "source": [
    "1) user_id: идентификатор пользователя\n",
    "\n",
    "2) date_served: дата события\n",
    "\n",
    "3) marketing_channel: рекламный канал\n",
    "\n",
    "4) variant: показанный вариант рекламы\n",
    "\n",
    "5) converted: конверсия в покупку, 1 - пользователь совершил покупку, 0 - нет\n",
    "\n",
    "6) language_displayed: язык рекламного сообщения\n",
    "\n",
    "7) language_preferred: предпочитаемый пользователем язык\n",
    "\n",
    "8) age_group: возрастная группа пользователя\n",
    "\n",
    "9) date_subscribed: дата подписки на сервис\n",
    "\n",
    "10) date_canceled: дата отказа от подписки\n",
    "\n",
    "11) subscribing_channel: с какого рекламного канал пришел пользователь, когда подписался на сервис\n",
    "\n",
    "12) is_retained: удержание, 1 - пользователь продолжает пользоваться услугами сервиса, 0 - пользователь отвалился "
   ]
  },
  {
   "cell_type": "code",
   "execution_count": 3,
   "id": "005f9891",
   "metadata": {},
   "outputs": [
    {
     "data": {
      "text/html": [
       "<div>\n",
       "<style scoped>\n",
       "    .dataframe tbody tr th:only-of-type {\n",
       "        vertical-align: middle;\n",
       "    }\n",
       "\n",
       "    .dataframe tbody tr th {\n",
       "        vertical-align: top;\n",
       "    }\n",
       "\n",
       "    .dataframe thead th {\n",
       "        text-align: right;\n",
       "    }\n",
       "</style>\n",
       "<table border=\"1\" class=\"dataframe\">\n",
       "  <thead>\n",
       "    <tr style=\"text-align: right;\">\n",
       "      <th></th>\n",
       "      <th>user_id</th>\n",
       "      <th>date_served</th>\n",
       "      <th>marketing_channel</th>\n",
       "      <th>variant</th>\n",
       "      <th>language_displayed</th>\n",
       "      <th>converted</th>\n",
       "    </tr>\n",
       "  </thead>\n",
       "  <tbody>\n",
       "    <tr>\n",
       "      <th>0</th>\n",
       "      <td>a1000</td>\n",
       "      <td>1/1/18</td>\n",
       "      <td>House Ads</td>\n",
       "      <td>personalization</td>\n",
       "      <td>English</td>\n",
       "      <td>True</td>\n",
       "    </tr>\n",
       "    <tr>\n",
       "      <th>1</th>\n",
       "      <td>a1001</td>\n",
       "      <td>1/1/18</td>\n",
       "      <td>House Ads</td>\n",
       "      <td>personalization</td>\n",
       "      <td>English</td>\n",
       "      <td>True</td>\n",
       "    </tr>\n",
       "  </tbody>\n",
       "</table>\n",
       "</div>"
      ],
      "text/plain": [
       "  user_id date_served marketing_channel          variant language_displayed  \\\n",
       "0   a1000      1/1/18         House Ads  personalization            English   \n",
       "1   a1001      1/1/18         House Ads  personalization            English   \n",
       "\n",
       "  converted  \n",
       "0      True  \n",
       "1      True  "
      ]
     },
     "execution_count": 3,
     "metadata": {},
     "output_type": "execute_result"
    }
   ],
   "source": [
    "df.head(2)"
   ]
  },
  {
   "cell_type": "code",
   "execution_count": 4,
   "id": "816a6a4f",
   "metadata": {},
   "outputs": [
    {
     "data": {
      "text/plain": [
       "control            5091\n",
       "personalization    4946\n",
       "Name: variant, dtype: int64"
      ]
     },
     "execution_count": 4,
     "metadata": {},
     "output_type": "execute_result"
    }
   ],
   "source": [
    "df.variant.value_counts()"
   ]
  },
  {
   "cell_type": "markdown",
   "id": "fbe9295b",
   "metadata": {},
   "source": [
    "выборки для A|B теста сильного дисбаланса не имеют"
   ]
  },
  {
   "cell_type": "code",
   "execution_count": 5,
   "id": "ca32bdfd",
   "metadata": {},
   "outputs": [],
   "source": [
    "A = df[df.variant == 'personalization']\n",
    "B = df[df.variant != 'personalization']"
   ]
  },
  {
   "cell_type": "code",
   "execution_count": 6,
   "id": "6b8c9079",
   "metadata": {},
   "outputs": [],
   "source": [
    "n1 = A.shape[0]\n",
    "n2 = B.shape[0]\n",
    "k1 = A.loc[A.converted == 1, 'converted'].sum()\n",
    "k2 = B.loc[B.converted == 1, 'converted'].sum()"
   ]
  },
  {
   "cell_type": "code",
   "execution_count": 7,
   "id": "5621ec7c",
   "metadata": {},
   "outputs": [
    {
     "name": "stdout",
     "output_type": "stream",
     "text": [
      "конверсия при А = 0.14, при B = 0.07\n"
     ]
    }
   ],
   "source": [
    "p1, p2 = k1 / n1, k2 / n2\n",
    "print(f'конверсия при А = {p1:.2f}, при B = {p2:.2f}')"
   ]
  },
  {
   "cell_type": "markdown",
   "id": "4557f850",
   "metadata": {},
   "source": [
    "есть существенная разница конверсий при различных вариантах рекламы"
   ]
  },
  {
   "cell_type": "code",
   "execution_count": 8,
   "id": "24db1ffe",
   "metadata": {},
   "outputs": [
    {
     "data": {
      "text/plain": [
       "11.278864170859038"
      ]
     },
     "execution_count": 8,
     "metadata": {},
     "output_type": "execute_result"
    }
   ],
   "source": [
    "# посчитаем Z значение\n",
    "P = (p1 * n1 + p2 * n2) / (n1 + n2)\n",
    "z = (p1 - p2) / (P * (1 - P) * (1/n1 + 1/n2))**(1/2)\n",
    "z"
   ]
  },
  {
   "cell_type": "code",
   "execution_count": 9,
   "id": "a21a78d6",
   "metadata": {},
   "outputs": [
    {
     "name": "stdout",
     "output_type": "stream",
     "text": [
      "Results are z_score=11.279 pvalue=0.000\n"
     ]
    }
   ],
   "source": [
    "from statsmodels.stats import proportion\n",
    "\n",
    "z_score, z_pvalue = proportion.proportions_ztest(np.array([k1, k2]), \n",
    "                                                 np.array([n1, n2]))\n",
    "\n",
    "print(f'Results are z_score={z_score:.3f} pvalue={z_pvalue:.3f}')"
   ]
  },
  {
   "cell_type": "code",
   "execution_count": 10,
   "id": "3349076b",
   "metadata": {},
   "outputs": [
    {
     "name": "stdout",
     "output_type": "stream",
     "text": [
      "Results are chisq=127.213 pvalue=0.000\n"
     ]
    }
   ],
   "source": [
    "chisq, pvalue, table = proportion.proportions_chisquare(np.array([k1, k2]), \n",
    "                                                        np.array([n1, n2]))\n",
    "\n",
    "print(f'Results are chisq={chisq:.3f} pvalue={pvalue:.3f}')"
   ]
  },
  {
   "cell_type": "markdown",
   "id": "00d72770",
   "metadata": {},
   "source": [
    "**на обоих тестах очень низкий p_value и очень высокие показатели статистик, что соответствует тому, что альтернативная гипотеза о том, что выборка А существенно отличается от выборки B по целевому признаку**"
   ]
  },
  {
   "cell_type": "markdown",
   "id": "030dea15",
   "metadata": {},
   "source": [
    "сравним отдельно признаки между выборками A и B"
   ]
  },
  {
   "cell_type": "code",
   "execution_count": 11,
   "id": "028892cd",
   "metadata": {},
   "outputs": [],
   "source": [
    "import matplotlib.pyplot as plt\n",
    "import seaborn as sns"
   ]
  },
  {
   "cell_type": "code",
   "execution_count": 12,
   "id": "8c5d494c",
   "metadata": {},
   "outputs": [
    {
     "data": {
      "text/html": [
       "<div>\n",
       "<style scoped>\n",
       "    .dataframe tbody tr th:only-of-type {\n",
       "        vertical-align: middle;\n",
       "    }\n",
       "\n",
       "    .dataframe tbody tr th {\n",
       "        vertical-align: top;\n",
       "    }\n",
       "\n",
       "    .dataframe thead th {\n",
       "        text-align: right;\n",
       "    }\n",
       "</style>\n",
       "<table border=\"1\" class=\"dataframe\">\n",
       "  <thead>\n",
       "    <tr style=\"text-align: right;\">\n",
       "      <th></th>\n",
       "      <th>user_id</th>\n",
       "      <th>date_served</th>\n",
       "      <th>marketing_channel</th>\n",
       "      <th>variant</th>\n",
       "      <th>language_displayed</th>\n",
       "      <th>converted</th>\n",
       "      <th>age_group</th>\n",
       "      <th>language_preferred</th>\n",
       "      <th>subscribing_channel</th>\n",
       "      <th>date_subscribed</th>\n",
       "      <th>date_canceled</th>\n",
       "      <th>is_retained</th>\n",
       "    </tr>\n",
       "  </thead>\n",
       "  <tbody>\n",
       "    <tr>\n",
       "      <th>0</th>\n",
       "      <td>a1000</td>\n",
       "      <td>1/1/18</td>\n",
       "      <td>House Ads</td>\n",
       "      <td>personalization</td>\n",
       "      <td>English</td>\n",
       "      <td>True</td>\n",
       "      <td>0-18 years</td>\n",
       "      <td>English</td>\n",
       "      <td>House Ads</td>\n",
       "      <td>1/1/18</td>\n",
       "      <td>NaN</td>\n",
       "      <td>True</td>\n",
       "    </tr>\n",
       "    <tr>\n",
       "      <th>1</th>\n",
       "      <td>a1001</td>\n",
       "      <td>1/1/18</td>\n",
       "      <td>House Ads</td>\n",
       "      <td>personalization</td>\n",
       "      <td>English</td>\n",
       "      <td>True</td>\n",
       "      <td>19-24 years</td>\n",
       "      <td>English</td>\n",
       "      <td>House Ads</td>\n",
       "      <td>1/1/18</td>\n",
       "      <td>NaN</td>\n",
       "      <td>True</td>\n",
       "    </tr>\n",
       "  </tbody>\n",
       "</table>\n",
       "</div>"
      ],
      "text/plain": [
       "  user_id date_served marketing_channel          variant language_displayed  \\\n",
       "0   a1000      1/1/18         House Ads  personalization            English   \n",
       "1   a1001      1/1/18         House Ads  personalization            English   \n",
       "\n",
       "  converted    age_group language_preferred subscribing_channel  \\\n",
       "0      True   0-18 years            English           House Ads   \n",
       "1      True  19-24 years            English           House Ads   \n",
       "\n",
       "  date_subscribed date_canceled is_retained  \n",
       "0          1/1/18           NaN        True  \n",
       "1          1/1/18           NaN        True  "
      ]
     },
     "execution_count": 12,
     "metadata": {},
     "output_type": "execute_result"
    }
   ],
   "source": [
    "df = pd.merge(df, users, on='user_id').merge(subscribers, on='user_id')\n",
    "df.head(2)"
   ]
  },
  {
   "cell_type": "code",
   "execution_count": 13,
   "id": "46e981f5",
   "metadata": {},
   "outputs": [],
   "source": [
    "cols = ['marketing_channel', 'language_displayed', 'age_group', 'language_preferred', 'subscribing_channel', 'is_retained']"
   ]
  },
  {
   "cell_type": "code",
   "execution_count": 15,
   "id": "2277220a",
   "metadata": {
    "scrolled": false
   },
   "outputs": [
    {
     "data": {
      "image/png": "[encoded data removed]",
      "text/plain": [
       "<Figure size 720x216 with 1 Axes>"
      ]
     },
     "metadata": {
      "needs_background": "light"
     },
     "output_type": "display_data"
    },
    {
     "data": {
      "image/png": "[encoded data removed]",
      "text/plain": [
       "<Figure size 720x216 with 1 Axes>"
      ]
     },
     "metadata": {
      "needs_background": "light"
     },
     "output_type": "display_data"
    },
    {
     "data": {
      "image/png": "[encoded data removed]",
      "text/plain": [
       "<Figure size 720x216 with 1 Axes>"
      ]
     },
     "metadata": {
      "needs_background": "light"
     },
     "output_type": "display_data"
    },
    {
     "data": {
      "image/png": "[encoded data removed]",
      "text/plain": [
       "<Figure size 720x216 with 1 Axes>"
      ]
     },
     "metadata": {
      "needs_background": "light"
     },
     "output_type": "display_data"
    },
    {
     "data": {
      "image/png": "[encoded data removed]",
      "text/plain": [
       "<Figure size 720x216 with 1 Axes>"
      ]
     },
     "metadata": {
      "needs_background": "light"
     },
     "output_type": "display_data"
    },
    {
     "data": {
      "image/png": "[encoded data removed]",
      "text/plain": [
       "<Figure size 720x216 with 1 Axes>"
      ]
     },
     "metadata": {
      "needs_background": "light"
     },
     "output_type": "display_data"
    }
   ],
   "source": [
    "for col in cols:\n",
    "    plt.figure(figsize=(10, 3))\n",
    "    sns.countplot(data=df, x=col, hue='variant')\n",
    "    plt.show()"
   ]
  },
  {
   "cell_type": "code",
   "execution_count": null,
   "id": "83949d09",
   "metadata": {},
   "outputs": [],
   "source": []
  }
 ],
 "metadata": {
  "kernelspec": {
   "display_name": "Python 3 (ipykernel)",
   "language": "python",
   "name": "python3"
  },
  "language_info": {
   "codemirror_mode": {
    "name": "ipython",
    "version": 3
   },
   "file_extension": ".py",
   "mimetype": "text/x-python",
   "name": "python",
   "nbconvert_exporter": "python",
   "pygments_lexer": "ipython3",
   "version": "3.10.0"
  }
 },
 "nbformat": 4,
 "nbformat_minor": 5
}
