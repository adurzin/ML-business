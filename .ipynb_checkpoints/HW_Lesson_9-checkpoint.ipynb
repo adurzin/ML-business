{
 "cells": [
  {
   "cell_type": "markdown",
   "id": "eae2c191",
   "metadata": {},
   "source": [
    "# Lesson 9. Интеграция. Итоговый проект"
   ]
  },
  {
   "cell_type": "markdown",
   "id": "73d3a93e",
   "metadata": {},
   "source": [
    "Определение вероятности наличия сердечно-сосудистых заболеваний по данным первичного осмотра "
   ]
  },
  {
   "cell_type": "code",
   "execution_count": 1,
   "id": "15bb5ef5",
   "metadata": {},
   "outputs": [],
   "source": [
    "import numpy as np\n",
    "import pandas as pd\n",
    "from sklearn.model_selection import train_test_split"
   ]
  },
  {
   "cell_type": "code",
   "execution_count": 2,
   "id": "7ba0808b",
   "metadata": {},
   "outputs": [],
   "source": [
    "df = pd.read_csv('train.csv')"
   ]
  },
  {
   "cell_type": "code",
   "execution_count": 3,
   "id": "78385467",
   "metadata": {},
   "outputs": [
    {
     "data": {
      "text/html": [
       "<div>\n",
       "<style scoped>\n",
       "    .dataframe tbody tr th:only-of-type {\n",
       "        vertical-align: middle;\n",
       "    }\n",
       "\n",
       "    .dataframe tbody tr th {\n",
       "        vertical-align: top;\n",
       "    }\n",
       "\n",
       "    .dataframe thead th {\n",
       "        text-align: right;\n",
       "    }\n",
       "</style>\n",
       "<table border=\"1\" class=\"dataframe\">\n",
       "  <thead>\n",
       "    <tr style=\"text-align: right;\">\n",
       "      <th></th>\n",
       "      <th>id</th>\n",
       "      <th>comment_text</th>\n",
       "      <th>toxic</th>\n",
       "      <th>severe_toxic</th>\n",
       "      <th>obscene</th>\n",
       "      <th>threat</th>\n",
       "      <th>insult</th>\n",
       "      <th>identity_hate</th>\n",
       "    </tr>\n",
       "  </thead>\n",
       "  <tbody>\n",
       "    <tr>\n",
       "      <th>0</th>\n",
       "      <td>0000997932d777bf</td>\n",
       "      <td>Explanation\\r\\nWhy the edits made under my use...</td>\n",
       "      <td>0</td>\n",
       "      <td>0</td>\n",
       "      <td>0</td>\n",
       "      <td>0</td>\n",
       "      <td>0</td>\n",
       "      <td>0</td>\n",
       "    </tr>\n",
       "    <tr>\n",
       "      <th>1</th>\n",
       "      <td>000103f0d9cfb60f</td>\n",
       "      <td>D'aww! He matches this background colour I'm s...</td>\n",
       "      <td>0</td>\n",
       "      <td>0</td>\n",
       "      <td>0</td>\n",
       "      <td>0</td>\n",
       "      <td>0</td>\n",
       "      <td>0</td>\n",
       "    </tr>\n",
       "    <tr>\n",
       "      <th>2</th>\n",
       "      <td>000113f07ec002fd</td>\n",
       "      <td>Hey man, I'm really not trying to edit war. It...</td>\n",
       "      <td>0</td>\n",
       "      <td>0</td>\n",
       "      <td>0</td>\n",
       "      <td>0</td>\n",
       "      <td>0</td>\n",
       "      <td>0</td>\n",
       "    </tr>\n",
       "  </tbody>\n",
       "</table>\n",
       "</div>"
      ],
      "text/plain": [
       "                 id                                       comment_text  toxic  \\\n",
       "0  0000997932d777bf  Explanation\\r\\nWhy the edits made under my use...      0   \n",
       "1  000103f0d9cfb60f  D'aww! He matches this background colour I'm s...      0   \n",
       "2  000113f07ec002fd  Hey man, I'm really not trying to edit war. It...      0   \n",
       "\n",
       "   severe_toxic  obscene  threat  insult  identity_hate  \n",
       "0             0        0       0       0              0  \n",
       "1             0        0       0       0              0  \n",
       "2             0        0       0       0              0  "
      ]
     },
     "execution_count": 3,
     "metadata": {},
     "output_type": "execute_result"
    }
   ],
   "source": [
    "df.head(3)"
   ]
  },
  {
   "cell_type": "code",
   "execution_count": 4,
   "id": "098293d0",
   "metadata": {},
   "outputs": [
    {
     "data": {
      "text/plain": [
       "0    158166\n",
       "1      1405\n",
       "Name: identity_hate, dtype: int64"
      ]
     },
     "execution_count": 4,
     "metadata": {},
     "output_type": "execute_result"
    }
   ],
   "source": [
    "df.identity_hate.value_counts()"
   ]
  },
  {
   "cell_type": "code",
   "execution_count": 5,
   "id": "490dc1b3",
   "metadata": {},
   "outputs": [
    {
     "data": {
      "text/plain": [
       "id               0\n",
       "comment_text     0\n",
       "toxic            0\n",
       "severe_toxic     0\n",
       "obscene          0\n",
       "threat           0\n",
       "insult           0\n",
       "identity_hate    0\n",
       "dtype: int64"
      ]
     },
     "execution_count": 5,
     "metadata": {},
     "output_type": "execute_result"
    }
   ],
   "source": [
    "df.isna().sum()"
   ]
  },
  {
   "cell_type": "code",
   "execution_count": 6,
   "id": "2c67b22f",
   "metadata": {},
   "outputs": [
    {
     "name": "stdout",
     "output_type": "stream",
     "text": [
      "<class 'pandas.core.frame.DataFrame'>\n",
      "RangeIndex: 159571 entries, 0 to 159570\n",
      "Data columns (total 8 columns):\n",
      " #   Column         Non-Null Count   Dtype \n",
      "---  ------         --------------   ----- \n",
      " 0   id             159571 non-null  object\n",
      " 1   comment_text   159571 non-null  object\n",
      " 2   toxic          159571 non-null  int64 \n",
      " 3   severe_toxic   159571 non-null  int64 \n",
      " 4   obscene        159571 non-null  int64 \n",
      " 5   threat         159571 non-null  int64 \n",
      " 6   insult         159571 non-null  int64 \n",
      " 7   identity_hate  159571 non-null  int64 \n",
      "dtypes: int64(6), object(2)\n",
      "memory usage: 9.7+ MB\n"
     ]
    }
   ],
   "source": [
    "df.info()"
   ]
  },
  {
   "cell_type": "code",
   "execution_count": 7,
   "id": "da04ae1d",
   "metadata": {},
   "outputs": [],
   "source": [
    "X = df.drop(columns=['insult', 'id'])\n",
    "y = df.insult"
   ]
  },
  {
   "cell_type": "code",
   "execution_count": 8,
   "id": "1a5b0e19",
   "metadata": {},
   "outputs": [
    {
     "data": {
      "text/plain": [
       "Index(['toxic', 'severe_toxic', 'obscene', 'threat', 'identity_hate'], dtype='object')"
      ]
     },
     "execution_count": 8,
     "metadata": {},
     "output_type": "execute_result"
    }
   ],
   "source": [
    "continious_cols = X.select_dtypes(include='int64').columns\n",
    "continious_cols"
   ]
  },
  {
   "cell_type": "code",
   "execution_count": 9,
   "id": "818fea69",
   "metadata": {},
   "outputs": [],
   "source": [
    "cat_cols = ['comment_text']"
   ]
  },
  {
   "cell_type": "code",
   "execution_count": 10,
   "id": "019683cb",
   "metadata": {},
   "outputs": [
    {
     "data": {
      "text/plain": [
       "0    151694\n",
       "1      7877\n",
       "Name: insult, dtype: int64"
      ]
     },
     "execution_count": 10,
     "metadata": {},
     "output_type": "execute_result"
    }
   ],
   "source": [
    "df['insult'].value_counts()"
   ]
  },
  {
   "cell_type": "code",
   "execution_count": 11,
   "id": "6456a01c",
   "metadata": {},
   "outputs": [],
   "source": [
    "from sklearn.metrics import classification_report, precision_recall_curve, roc_auc_score\n",
    "from sklearn.feature_extraction.text import TfidfVectorizer\n",
    "from sklearn.pipeline import Pipeline, make_pipeline, FeatureUnion\n",
    "from sklearn.base import TransformerMixin, BaseEstimator\n",
    "from sklearn.preprocessing import StandardScaler"
   ]
  },
  {
   "cell_type": "markdown",
   "id": "74bf4dfc",
   "metadata": {},
   "source": [
    "Создаем классы обработки признаков"
   ]
  },
  {
   "cell_type": "code",
   "execution_count": 12,
   "id": "b48c713b",
   "metadata": {},
   "outputs": [],
   "source": [
    "class NumberSelector(BaseEstimator, TransformerMixin):\n",
    "    def __init__(self, key):\n",
    "        self.key = key\n",
    "        \n",
    "    def fit(self, X, y=None):\n",
    "        return self\n",
    "    \n",
    "    def transform(self, X):\n",
    "        return X[[self.key]]\n",
    "    \n",
    "    \n",
    "class CatSelector(BaseEstimator, TransformerMixin):\n",
    "    def __init__(self, key):\n",
    "        self.key = key\n",
    "        \n",
    "    def fit(self, X, y=None):\n",
    "        return self\n",
    "    \n",
    "    def transform(self, X):\n",
    "        return X[self.key]"
   ]
  },
  {
   "cell_type": "code",
   "execution_count": 13,
   "id": "ca1ba6ea",
   "metadata": {},
   "outputs": [],
   "source": [
    "final_transformers = []\n",
    "\n",
    "for cat_col in cat_cols:\n",
    "    cat_transformer = Pipeline([\n",
    "        ('selector', CatSelector(key=cat_col)),\n",
    "        ('tfdf', TfidfVectorizer())\n",
    "    ])\n",
    "    \n",
    "    final_transformers.append((cat_col, cat_transformer))\n",
    "    \n",
    "for num_col in continious_cols:\n",
    "    num_transformer = Pipeline([\n",
    "        ('selector', NumberSelector(key=num_col))\n",
    "    ])\n",
    "    \n",
    "    final_transformers.append((num_col, num_transformer))"
   ]
  },
  {
   "cell_type": "code",
   "execution_count": 14,
   "id": "c6568a93",
   "metadata": {},
   "outputs": [],
   "source": [
    "feats = FeatureUnion(final_transformers)"
   ]
  },
  {
   "cell_type": "code",
   "execution_count": 15,
   "id": "06794cc9",
   "metadata": {},
   "outputs": [],
   "source": [
    "from catboost import CatBoostClassifier\n",
    "from lightgbm import LGBMClassifier\n",
    "from xgboost import XGBClassifier\n",
    "from sklearn.linear_model import LogisticRegression\n",
    "from sklearn.model_selection import GridSearchCV"
   ]
  },
  {
   "cell_type": "code",
   "execution_count": 16,
   "id": "b629b568",
   "metadata": {},
   "outputs": [],
   "source": [
    "X_train, X_test, y_train, y_test = train_test_split(X, y, test_size=0.25, random_state=50, stratify=y)"
   ]
  },
  {
   "cell_type": "code",
   "execution_count": 17,
   "id": "72016b5f",
   "metadata": {},
   "outputs": [],
   "source": [
    "pipeline = Pipeline([\n",
    "    ('features', feats),\n",
    "    ('model', LGBMClassifier(random_state=1))\n",
    "])"
   ]
  },
  {
   "cell_type": "code",
   "execution_count": 18,
   "id": "ed2d9ee6",
   "metadata": {},
   "outputs": [
    {
     "data": {
      "text/plain": [
       "{'memory': None,\n",
       " 'steps': [('features',\n",
       "   FeatureUnion(transformer_list=[('comment_text',\n",
       "                                   Pipeline(steps=[('selector',\n",
       "                                                    CatSelector(key='comment_text')),\n",
       "                                                   ('tfdf', TfidfVectorizer())])),\n",
       "                                  ('toxic',\n",
       "                                   Pipeline(steps=[('selector',\n",
       "                                                    NumberSelector(key='toxic'))])),\n",
       "                                  ('severe_toxic',\n",
       "                                   Pipeline(steps=[('selector',\n",
       "                                                    NumberSelector(key='severe_toxic'))])),\n",
       "                                  ('obscene',\n",
       "                                   Pipeline(steps=[('selector',\n",
       "                                                    NumberSelector(key='obscene'))])),\n",
       "                                  ('threat',\n",
       "                                   Pipeline(steps=[('selector',\n",
       "                                                    NumberSelector(key='threat'))])),\n",
       "                                  ('identity_hate',\n",
       "                                   Pipeline(steps=[('selector',\n",
       "                                                    NumberSelector(key='identity_hate'))]))])),\n",
       "  ('model', LGBMClassifier(random_state=1))],\n",
       " 'verbose': False,\n",
       " 'features': FeatureUnion(transformer_list=[('comment_text',\n",
       "                                 Pipeline(steps=[('selector',\n",
       "                                                  CatSelector(key='comment_text')),\n",
       "                                                 ('tfdf', TfidfVectorizer())])),\n",
       "                                ('toxic',\n",
       "                                 Pipeline(steps=[('selector',\n",
       "                                                  NumberSelector(key='toxic'))])),\n",
       "                                ('severe_toxic',\n",
       "                                 Pipeline(steps=[('selector',\n",
       "                                                  NumberSelector(key='severe_toxic'))])),\n",
       "                                ('obscene',\n",
       "                                 Pipeline(steps=[('selector',\n",
       "                                                  NumberSelector(key='obscene'))])),\n",
       "                                ('threat',\n",
       "                                 Pipeline(steps=[('selector',\n",
       "                                                  NumberSelector(key='threat'))])),\n",
       "                                ('identity_hate',\n",
       "                                 Pipeline(steps=[('selector',\n",
       "                                                  NumberSelector(key='identity_hate'))]))]),\n",
       " 'model': LGBMClassifier(random_state=1),\n",
       " 'features__n_jobs': None,\n",
       " 'features__transformer_list': [('comment_text',\n",
       "   Pipeline(steps=[('selector', CatSelector(key='comment_text')),\n",
       "                   ('tfdf', TfidfVectorizer())])),\n",
       "  ('toxic', Pipeline(steps=[('selector', NumberSelector(key='toxic'))])),\n",
       "  ('severe_toxic',\n",
       "   Pipeline(steps=[('selector', NumberSelector(key='severe_toxic'))])),\n",
       "  ('obscene', Pipeline(steps=[('selector', NumberSelector(key='obscene'))])),\n",
       "  ('threat', Pipeline(steps=[('selector', NumberSelector(key='threat'))])),\n",
       "  ('identity_hate',\n",
       "   Pipeline(steps=[('selector', NumberSelector(key='identity_hate'))]))],\n",
       " 'features__transformer_weights': None,\n",
       " 'features__verbose': False,\n",
       " 'features__comment_text': Pipeline(steps=[('selector', CatSelector(key='comment_text')),\n",
       "                 ('tfdf', TfidfVectorizer())]),\n",
       " 'features__toxic': Pipeline(steps=[('selector', NumberSelector(key='toxic'))]),\n",
       " 'features__severe_toxic': Pipeline(steps=[('selector', NumberSelector(key='severe_toxic'))]),\n",
       " 'features__obscene': Pipeline(steps=[('selector', NumberSelector(key='obscene'))]),\n",
       " 'features__threat': Pipeline(steps=[('selector', NumberSelector(key='threat'))]),\n",
       " 'features__identity_hate': Pipeline(steps=[('selector', NumberSelector(key='identity_hate'))]),\n",
       " 'features__comment_text__memory': None,\n",
       " 'features__comment_text__steps': [('selector',\n",
       "   CatSelector(key='comment_text')),\n",
       "  ('tfdf', TfidfVectorizer())],\n",
       " 'features__comment_text__verbose': False,\n",
       " 'features__comment_text__selector': CatSelector(key='comment_text'),\n",
       " 'features__comment_text__tfdf': TfidfVectorizer(),\n",
       " 'features__comment_text__selector__key': 'comment_text',\n",
       " 'features__comment_text__tfdf__analyzer': 'word',\n",
       " 'features__comment_text__tfdf__binary': False,\n",
       " 'features__comment_text__tfdf__decode_error': 'strict',\n",
       " 'features__comment_text__tfdf__dtype': numpy.float64,\n",
       " 'features__comment_text__tfdf__encoding': 'utf-8',\n",
       " 'features__comment_text__tfdf__input': 'content',\n",
       " 'features__comment_text__tfdf__lowercase': True,\n",
       " 'features__comment_text__tfdf__max_df': 1.0,\n",
       " 'features__comment_text__tfdf__max_features': None,\n",
       " 'features__comment_text__tfdf__min_df': 1,\n",
       " 'features__comment_text__tfdf__ngram_range': (1, 1),\n",
       " 'features__comment_text__tfdf__norm': 'l2',\n",
       " 'features__comment_text__tfdf__preprocessor': None,\n",
       " 'features__comment_text__tfdf__smooth_idf': True,\n",
       " 'features__comment_text__tfdf__stop_words': None,\n",
       " 'features__comment_text__tfdf__strip_accents': None,\n",
       " 'features__comment_text__tfdf__sublinear_tf': False,\n",
       " 'features__comment_text__tfdf__token_pattern': '(?u)\\\\b\\\\w\\\\w+\\\\b',\n",
       " 'features__comment_text__tfdf__tokenizer': None,\n",
       " 'features__comment_text__tfdf__use_idf': True,\n",
       " 'features__comment_text__tfdf__vocabulary': None,\n",
       " 'features__toxic__memory': None,\n",
       " 'features__toxic__steps': [('selector', NumberSelector(key='toxic'))],\n",
       " 'features__toxic__verbose': False,\n",
       " 'features__toxic__selector': NumberSelector(key='toxic'),\n",
       " 'features__toxic__selector__key': 'toxic',\n",
       " 'features__severe_toxic__memory': None,\n",
       " 'features__severe_toxic__steps': [('selector',\n",
       "   NumberSelector(key='severe_toxic'))],\n",
       " 'features__severe_toxic__verbose': False,\n",
       " 'features__severe_toxic__selector': NumberSelector(key='severe_toxic'),\n",
       " 'features__severe_toxic__selector__key': 'severe_toxic',\n",
       " 'features__obscene__memory': None,\n",
       " 'features__obscene__steps': [('selector', NumberSelector(key='obscene'))],\n",
       " 'features__obscene__verbose': False,\n",
       " 'features__obscene__selector': NumberSelector(key='obscene'),\n",
       " 'features__obscene__selector__key': 'obscene',\n",
       " 'features__threat__memory': None,\n",
       " 'features__threat__steps': [('selector', NumberSelector(key='threat'))],\n",
       " 'features__threat__verbose': False,\n",
       " 'features__threat__selector': NumberSelector(key='threat'),\n",
       " 'features__threat__selector__key': 'threat',\n",
       " 'features__identity_hate__memory': None,\n",
       " 'features__identity_hate__steps': [('selector',\n",
       "   NumberSelector(key='identity_hate'))],\n",
       " 'features__identity_hate__verbose': False,\n",
       " 'features__identity_hate__selector': NumberSelector(key='identity_hate'),\n",
       " 'features__identity_hate__selector__key': 'identity_hate',\n",
       " 'model__boosting_type': 'gbdt',\n",
       " 'model__class_weight': None,\n",
       " 'model__colsample_bytree': 1.0,\n",
       " 'model__importance_type': 'split',\n",
       " 'model__learning_rate': 0.1,\n",
       " 'model__max_depth': -1,\n",
       " 'model__min_child_samples': 20,\n",
       " 'model__min_child_weight': 0.001,\n",
       " 'model__min_split_gain': 0.0,\n",
       " 'model__n_estimators': 100,\n",
       " 'model__n_jobs': -1,\n",
       " 'model__num_leaves': 31,\n",
       " 'model__objective': None,\n",
       " 'model__random_state': 1,\n",
       " 'model__reg_alpha': 0.0,\n",
       " 'model__reg_lambda': 0.0,\n",
       " 'model__silent': 'warn',\n",
       " 'model__subsample': 1.0,\n",
       " 'model__subsample_for_bin': 200000,\n",
       " 'model__subsample_freq': 0}"
      ]
     },
     "execution_count": 18,
     "metadata": {},
     "output_type": "execute_result"
    }
   ],
   "source": [
    "pipeline.get_params()"
   ]
  },
  {
   "cell_type": "code",
   "execution_count": 39,
   "id": "fc60c0d1",
   "metadata": {},
   "outputs": [],
   "source": [
    "parameters = {\n",
    "    'model__reg_lambda': [0.001, 0.01, 100, 10, 1, 0.1],\n",
    "    'model__learning_rate': [0.001, 0.01, 0.1, 0.5, 1]\n",
    "#     'features__comment_text__tfdf__stop_words': ('english', None),\n",
    "#     'features__comment_text__tfdf__max_features': [10, 50, 100, 300, 500, 1000, None]\n",
    "}\n"
   ]
  },
  {
   "cell_type": "code",
   "execution_count": null,
   "id": "7bc1649d",
   "metadata": {
    "scrolled": true
   },
   "outputs": [
    {
     "name": "stdout",
     "output_type": "stream",
     "text": [
      "Fitting 3 folds for each of 30 candidates, totalling 90 fits\n"
     ]
    }
   ],
   "source": [
    "grid = GridSearchCV(pipeline, parameters, cv=3, verbose=1)\n",
    "grid.fit(X_train, y_train)"
   ]
  },
  {
   "cell_type": "code",
   "execution_count": 21,
   "id": "b0092c73",
   "metadata": {},
   "outputs": [
    {
     "data": {
      "text/plain": [
       "{'features__comment_text__tfdf__max_features': None,\n",
       " 'features__comment_text__tfdf__stop_words': None}"
      ]
     },
     "execution_count": 21,
     "metadata": {},
     "output_type": "execute_result"
    }
   ],
   "source": [
    "grid.best_params_"
   ]
  },
  {
   "cell_type": "code",
   "execution_count": 22,
   "id": "3bc56e40",
   "metadata": {},
   "outputs": [
    {
     "data": {
      "text/plain": [
       "0.9781747688905181"
      ]
     },
     "execution_count": 22,
     "metadata": {},
     "output_type": "execute_result"
    }
   ],
   "source": [
    "grid.best_score_"
   ]
  },
  {
   "cell_type": "code",
   "execution_count": 23,
   "id": "353c8a5c",
   "metadata": {},
   "outputs": [],
   "source": [
    "pipeline = Pipeline([\n",
    "    ('features', feats),\n",
    "    ('model', LGBMClassifier(random_state=1))\n",
    "])"
   ]
  },
  {
   "cell_type": "code",
   "execution_count": 24,
   "id": "10d07357",
   "metadata": {},
   "outputs": [
    {
     "data": {
      "text/plain": [
       "Pipeline(steps=[('features',\n",
       "                 FeatureUnion(transformer_list=[('comment_text',\n",
       "                                                 Pipeline(steps=[('selector',\n",
       "                                                                  CatSelector(key='comment_text')),\n",
       "                                                                 ('tfdf',\n",
       "                                                                  TfidfVectorizer())])),\n",
       "                                                ('toxic',\n",
       "                                                 Pipeline(steps=[('selector',\n",
       "                                                                  NumberSelector(key='toxic'))])),\n",
       "                                                ('severe_toxic',\n",
       "                                                 Pipeline(steps=[('selector',\n",
       "                                                                  NumberSelector(key='severe_toxic'))])),\n",
       "                                                ('obscene',\n",
       "                                                 Pipeline(steps=[('selector',\n",
       "                                                                  NumberSelector(key='obscene'))])),\n",
       "                                                ('threat',\n",
       "                                                 Pipeline(steps=[('selector',\n",
       "                                                                  NumberSelector(key='threat'))])),\n",
       "                                                ('identity_hate',\n",
       "                                                 Pipeline(steps=[('selector',\n",
       "                                                                  NumberSelector(key='identity_hate'))]))])),\n",
       "                ('model', LGBMClassifier(random_state=1))])"
      ]
     },
     "execution_count": 24,
     "metadata": {},
     "output_type": "execute_result"
    }
   ],
   "source": [
    "pipeline.fit(X_train, y_train)"
   ]
  },
  {
   "cell_type": "code",
   "execution_count": 25,
   "id": "c4992fe8",
   "metadata": {},
   "outputs": [],
   "source": [
    "train_pred = pipeline.predict(X_train)"
   ]
  },
  {
   "cell_type": "code",
   "execution_count": 26,
   "id": "968e84a8",
   "metadata": {},
   "outputs": [
    {
     "name": "stdout",
     "output_type": "stream",
     "text": [
      "              precision    recall  f1-score   support\n",
      "\n",
      "           0       0.99      0.99      0.99    113770\n",
      "           1       0.87      0.83      0.85      5908\n",
      "\n",
      "    accuracy                           0.99    119678\n",
      "   macro avg       0.93      0.91      0.92    119678\n",
      "weighted avg       0.98      0.99      0.99    119678\n",
      "\n"
     ]
    }
   ],
   "source": [
    "print(classification_report(y_train, train_pred))"
   ]
  },
  {
   "cell_type": "code",
   "execution_count": 27,
   "id": "05d1b1b4",
   "metadata": {},
   "outputs": [],
   "source": [
    "# сохранение модели"
   ]
  },
  {
   "cell_type": "code",
   "execution_count": 28,
   "id": "6197dea9",
   "metadata": {},
   "outputs": [],
   "source": [
    "preds = pipeline.predict_proba(X_test)[:, 1]\n",
    "y_pred = pipeline.predict(X_test)"
   ]
  },
  {
   "cell_type": "code",
   "execution_count": 29,
   "id": "79047d99",
   "metadata": {},
   "outputs": [
    {
     "name": "stdout",
     "output_type": "stream",
     "text": [
      "0.989471799979098\n"
     ]
    }
   ],
   "source": [
    "print(roc_auc_score(y_test, preds))"
   ]
  },
  {
   "cell_type": "code",
   "execution_count": 30,
   "id": "41f260d0",
   "metadata": {},
   "outputs": [
    {
     "name": "stdout",
     "output_type": "stream",
     "text": [
      "b=1, threshold = 0.4243895923195976,       \n",
      "precision = 0.7702768334142788,       \n",
      "recall = 0.8054850177755206,       \n",
      "f_score = 0.7874875868917577\n"
     ]
    }
   ],
   "source": [
    "precision, recall, threshold = precision_recall_curve(y_test, preds)\n",
    "b = 1\n",
    "f_score = (1 + b ** 2) * (precision * recall) / (b ** 2 * precision + recall)\n",
    "idx = np.nanargmax(f_score)\n",
    "print(f'b={b}, threshold = {threshold[idx]}, \\\n",
    "      \\nprecision = {precision[idx]}, \\\n",
    "      \\nrecall = {recall[idx]}, \\\n",
    "      \\nf_score = {f_score[idx]}')"
   ]
  },
  {
   "cell_type": "code",
   "execution_count": 31,
   "id": "5ca86d25",
   "metadata": {
    "scrolled": true
   },
   "outputs": [
    {
     "name": "stdout",
     "output_type": "stream",
     "text": [
      "              precision    recall  f1-score   support\n",
      "\n",
      "           0       0.99      0.99      0.99     37924\n",
      "           1       0.80      0.76      0.78      1969\n",
      "\n",
      "    accuracy                           0.98     39893\n",
      "   macro avg       0.89      0.88      0.88     39893\n",
      "weighted avg       0.98      0.98      0.98     39893\n",
      "\n"
     ]
    }
   ],
   "source": [
    "print(classification_report(y_test, y_pred))"
   ]
  },
  {
   "cell_type": "code",
   "execution_count": 32,
   "id": "fd01ab62",
   "metadata": {},
   "outputs": [],
   "source": [
    "import dill"
   ]
  },
  {
   "cell_type": "code",
   "execution_count": 33,
   "id": "62daf34c",
   "metadata": {},
   "outputs": [],
   "source": [
    "with open('logreg_pipeline.dill', 'wb') as f:\n",
    "    dill.dump(pipeline, f)"
   ]
  }
 ],
 "metadata": {
  "kernelspec": {
   "display_name": "Python 3 (ipykernel)",
   "language": "python",
   "name": "python3"
  },
  "language_info": {
   "codemirror_mode": {
    "name": "ipython",
    "version": 3
   },
   "file_extension": ".py",
   "mimetype": "text/x-python",
   "name": "python",
   "nbconvert_exporter": "python",
   "pygments_lexer": "ipython3",
   "version": "3.10.0"
  }
 },
 "nbformat": 4,
 "nbformat_minor": 5
}
