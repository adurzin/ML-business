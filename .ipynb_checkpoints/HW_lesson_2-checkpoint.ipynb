{
 "cells": [
  {
   "cell_type": "markdown",
   "id": "68b534df",
   "metadata": {},
   "source": [
    "# Homework 2"
   ]
  },
  {
   "cell_type": "code",
   "execution_count": 1,
   "id": "ad43f878",
   "metadata": {},
   "outputs": [],
   "source": [
    "import pandas as pd\n",
    "\n",
    "import re\n",
    "import numpy as np\n",
    "from gensim.corpora.dictionary import Dictionary\n",
    "from razdel import tokenize # сегментация русскоязычного текста на токены и предложения\n",
    "import pymorphy2"
   ]
  },
  {
   "cell_type": "code",
   "execution_count": 2,
   "id": "4dbd5558",
   "metadata": {},
   "outputs": [
    {
     "name": "stdout",
     "output_type": "stream",
     "text": [
      "(27000, 2)\n"
     ]
    },
    {
     "data": {
      "text/html": [
       "<div>\n",
       "<style scoped>\n",
       "    .dataframe tbody tr th:only-of-type {\n",
       "        vertical-align: middle;\n",
       "    }\n",
       "\n",
       "    .dataframe tbody tr th {\n",
       "        vertical-align: top;\n",
       "    }\n",
       "\n",
       "    .dataframe thead th {\n",
       "        text-align: right;\n",
       "    }\n",
       "</style>\n",
       "<table border=\"1\" class=\"dataframe\">\n",
       "  <thead>\n",
       "    <tr style=\"text-align: right;\">\n",
       "      <th></th>\n",
       "      <th>doc_id</th>\n",
       "      <th>title</th>\n",
       "    </tr>\n",
       "  </thead>\n",
       "  <tbody>\n",
       "    <tr>\n",
       "      <th>0</th>\n",
       "      <td>6</td>\n",
       "      <td>Заместитель председателяnправительства РФnСерг...</td>\n",
       "    </tr>\n",
       "    <tr>\n",
       "      <th>1</th>\n",
       "      <td>4896</td>\n",
       "      <td>Матч 1/16 финала Кубка России по футболу был п...</td>\n",
       "    </tr>\n",
       "  </tbody>\n",
       "</table>\n",
       "</div>"
      ],
      "text/plain": [
       "   doc_id                                              title\n",
       "0       6  Заместитель председателяnправительства РФnСерг...\n",
       "1    4896  Матч 1/16 финала Кубка России по футболу был п..."
      ]
     },
     "execution_count": 2,
     "metadata": {},
     "output_type": "execute_result"
    }
   ],
   "source": [
    "news = pd.read_csv('articles.csv')\n",
    "print(news.shape)\n",
    "news.head(2)"
   ]
  },
  {
   "cell_type": "code",
   "execution_count": 3,
   "id": "e39c1910",
   "metadata": {},
   "outputs": [
    {
     "data": {
      "text/plain": [
       "'Форвард «Авангарда» Томаш Заборский прокомментировал игру своей команды в матче чемпионата КХЛ против «Атланта»n(4:3)n.nn«Мы провели плохой матч в Нижнем Новгороде против «Торпедо» и настраивались, что с первых же минут включимся в работу, — сказал Заборский. — У нас получилось забросить быстрый гол и задать хороший темп поединку. Мы можем играть еще лучше, но, с другой стороны, пять очков на выезде из девяти — это лучше, чем ничего».'"
      ]
     },
     "execution_count": 3,
     "metadata": {},
     "output_type": "execute_result"
    }
   ],
   "source": [
    "news.iloc[2]['title']"
   ]
  },
  {
   "cell_type": "code",
   "execution_count": 4,
   "id": "cf8b34bd",
   "metadata": {},
   "outputs": [
    {
     "data": {
      "text/html": [
       "<div>\n",
       "<style scoped>\n",
       "    .dataframe tbody tr th:only-of-type {\n",
       "        vertical-align: middle;\n",
       "    }\n",
       "\n",
       "    .dataframe tbody tr th {\n",
       "        vertical-align: top;\n",
       "    }\n",
       "\n",
       "    .dataframe thead th {\n",
       "        text-align: right;\n",
       "    }\n",
       "</style>\n",
       "<table border=\"1\" class=\"dataframe\">\n",
       "  <thead>\n",
       "    <tr style=\"text-align: right;\">\n",
       "      <th></th>\n",
       "      <th>uid</th>\n",
       "      <th>articles</th>\n",
       "    </tr>\n",
       "  </thead>\n",
       "  <tbody>\n",
       "    <tr>\n",
       "      <th>4712</th>\n",
       "      <td>u102960</td>\n",
       "      <td>[6964, 7715, 7811, 7049, 5000, 513170]</td>\n",
       "    </tr>\n",
       "    <tr>\n",
       "      <th>6475</th>\n",
       "      <td>u101610</td>\n",
       "      <td>[7534, 7083, 5640, 7510, 6037, 488013]</td>\n",
       "    </tr>\n",
       "    <tr>\n",
       "      <th>1590</th>\n",
       "      <td>u107990</td>\n",
       "      <td>[322363, 322859, 322753, 323591, 323431, 470763]</td>\n",
       "    </tr>\n",
       "  </tbody>\n",
       "</table>\n",
       "</div>"
      ],
      "text/plain": [
       "          uid                                          articles\n",
       "4712  u102960            [6964, 7715, 7811, 7049, 5000, 513170]\n",
       "6475  u101610            [7534, 7083, 5640, 7510, 6037, 488013]\n",
       "1590  u107990  [322363, 322859, 322753, 323591, 323431, 470763]"
      ]
     },
     "execution_count": 4,
     "metadata": {},
     "output_type": "execute_result"
    }
   ],
   "source": [
    "users = pd.read_csv('users_articles.csv')\n",
    "users.sample(3)"
   ]
  },
  {
   "cell_type": "code",
   "execution_count": 5,
   "id": "9a39e750",
   "metadata": {},
   "outputs": [
    {
     "name": "stderr",
     "output_type": "stream",
     "text": [
      "[nltk_data] Downloading package stopwords to\n",
      "[nltk_data]     C:\\Users\\adurz\\AppData\\Roaming\\nltk_data...\n",
      "[nltk_data]   Package stopwords is already up-to-date!\n"
     ]
    },
    {
     "data": {
      "text/plain": [
       "True"
      ]
     },
     "execution_count": 5,
     "metadata": {},
     "output_type": "execute_result"
    }
   ],
   "source": [
    "import nltk\n",
    "from nltk.corpus import stopwords\n",
    "nltk.download('stopwords')"
   ]
  },
  {
   "cell_type": "code",
   "execution_count": 6,
   "id": "02289913",
   "metadata": {},
   "outputs": [
    {
     "name": "stdout",
     "output_type": "stream",
     "text": [
      "151\n"
     ]
    }
   ],
   "source": [
    "stopword_ru = stopwords.words('russian')\n",
    "print(len(stopword_ru))"
   ]
  },
  {
   "cell_type": "code",
   "execution_count": 7,
   "id": "50cd449c",
   "metadata": {},
   "outputs": [],
   "source": [
    "with open('stopwords.txt', encoding='utf-8') as f:\n",
    "    additional_stopwords = [w.strip() for w in f.readlines() if w]"
   ]
  },
  {
   "cell_type": "code",
   "execution_count": 8,
   "id": "fc81f9f9",
   "metadata": {},
   "outputs": [
    {
     "data": {
      "text/plain": [
       "776"
      ]
     },
     "execution_count": 8,
     "metadata": {},
     "output_type": "execute_result"
    }
   ],
   "source": [
    "stopword_ru += additional_stopwords\n",
    "len(stopword_ru)"
   ]
  },
  {
   "cell_type": "code",
   "execution_count": 9,
   "id": "a7d98507",
   "metadata": {},
   "outputs": [],
   "source": [
    "# очистка текста\n",
    "\n",
    "def clean_text(text):\n",
    "    if not isinstance(text, str):\n",
    "        text = str(text)\n",
    "        \n",
    "    text = text.lower()\n",
    "    text = text.strip('\\n').strip('\\r').strip('\\t')\n",
    "    text = re.sub('-\\s\\r\\n\\|-\\s\\r\\n|\\r\\n', '', str(text))\n",
    "    \n",
    "    text = re.sub(\"[0-9]|[-—.,:;_%©«»?*!@#№$^•·&()]|[+=]|[[]|[]]|[/]|\", '', text)\n",
    "    text = re.sub(r\"\\r\\n\\t|\\n|\\\\s|\\r\\t|\\\\n\", ' ', text)\n",
    "    text = re.sub(r'[\\xad]|[\\s+]', ' ', text.strip())\n",
    "    text = re.sub('n', ' ', text)\n",
    "    \n",
    "    return text"
   ]
  },
  {
   "cell_type": "code",
   "execution_count": 10,
   "id": "be8934ac",
   "metadata": {},
   "outputs": [],
   "source": [
    "cache = {}\n",
    "morph = pymorphy2.MorphAnalyzer()"
   ]
  },
  {
   "cell_type": "code",
   "execution_count": 11,
   "id": "602747c9",
   "metadata": {},
   "outputs": [],
   "source": [
    "# Лемматизация\n",
    "\n",
    "def lemmatization(text):\n",
    "    '''\n",
    "    лемматизация\n",
    "        [0] если зашел тип не `str` делаем его `str`\n",
    "        [1] токенизация предложения через razdel\n",
    "        [2] проверка есть ли в начале слова '-'\n",
    "        [3] проверка токена с одного символа\n",
    "        [4] проверка есть ли данное слово в кэше\n",
    "        [5] лемматизация слова\n",
    "        [6] проверка на стоп-слова\n",
    "\n",
    "    на выходе лист лемматизированых токенов\n",
    "    '''\n",
    "    \n",
    "    # [0]\n",
    "    if not isinstance(text, str):\n",
    "        text = str(text)\n",
    "        \n",
    "    # [1]\n",
    "    tokens = list(tokenize(text))\n",
    "    words = [_.text for _ in tokens]\n",
    "    \n",
    "    words_lem = []\n",
    "    for w in words:\n",
    "        if w[0] == '-': # [2]\n",
    "            w = w[1:]\n",
    "        if len(w) > 1: # [3]\n",
    "            if w in cache: # [4]\n",
    "                words_lem.append(cache[w])\n",
    "            else: # [5]\n",
    "                temp_cach = cache[w] = morph.parse(w)[0].normal_form\n",
    "                words_lem.append(temp_cach)\n",
    "    \n",
    "    words_lem_without_stopwords = [i for i in words_lem if not i in stopword_ru]\n",
    "    \n",
    "    return words_lem_without_stopwords"
   ]
  },
  {
   "cell_type": "code",
   "execution_count": 12,
   "id": "962a1514",
   "metadata": {},
   "outputs": [
    {
     "name": "stderr",
     "output_type": "stream",
     "text": [
      "C:\\Users\\adurz\\AppData\\Local\\Temp/ipykernel_4624/415316496.py:11: FutureWarning: Possible nested set at position 39\n",
      "  text = re.sub(\"[0-9]|[-—.,:;_%©«»?*!@#№$^•·&()]|[+=]|[[]|[]]|[/]|\", '', text)\n"
     ]
    },
    {
     "data": {
      "text/plain": [
       "0    заместитель председателя правительства рф серг...\n",
       "1    матч  финала кубка россии по футболу был приос...\n",
       "Name: title, dtype: object"
      ]
     },
     "execution_count": 12,
     "metadata": {},
     "output_type": "execute_result"
    }
   ],
   "source": [
    "news['title'].iloc[:2].apply(lambda x: clean_text(x))"
   ]
  },
  {
   "cell_type": "code",
   "execution_count": 13,
   "id": "ff16e445",
   "metadata": {},
   "outputs": [
    {
     "name": "stderr",
     "output_type": "stream",
     "text": [
      "100%|███████████████████████████████████████████████████████████████████████████| 27000/27000 [00:27<00:00, 990.11it/s]"
     ]
    },
    {
     "name": "stdout",
     "output_type": "stream",
     "text": [
      "Wall time: 27.4 s\n"
     ]
    },
    {
     "name": "stderr",
     "output_type": "stream",
     "text": [
      "\n"
     ]
    }
   ],
   "source": [
    "%%time\n",
    "\n",
    "from tqdm import tqdm\n",
    "tqdm.pandas()\n",
    "\n",
    "news['title'] = news['title'].progress_apply(clean_text)"
   ]
  },
  {
   "cell_type": "code",
   "execution_count": 14,
   "id": "5cc72fc6",
   "metadata": {},
   "outputs": [
    {
     "data": {
      "text/plain": [
       "0    заместитель председателя правительства рф серг...\n",
       "1    матч  финала кубка россии по футболу был приос...\n",
       "Name: title, dtype: object"
      ]
     },
     "execution_count": 14,
     "metadata": {},
     "output_type": "execute_result"
    }
   ],
   "source": [
    "news['title'].iloc[:2]"
   ]
  },
  {
   "cell_type": "code",
   "execution_count": 15,
   "id": "3172ec06",
   "metadata": {},
   "outputs": [
    {
     "data": {
      "text/plain": [
       "0    [заместитель, председатель, правительство, рф,...\n",
       "1    [матч, финал, кубок, россия, футбол, приостано...\n",
       "Name: title, dtype: object"
      ]
     },
     "execution_count": 15,
     "metadata": {},
     "output_type": "execute_result"
    }
   ],
   "source": [
    "news['title'].iloc[:2].apply(lambda x: lemmatization(x))"
   ]
  },
  {
   "cell_type": "code",
   "execution_count": 16,
   "id": "a1923640",
   "metadata": {},
   "outputs": [
    {
     "name": "stderr",
     "output_type": "stream",
     "text": [
      "100%|███████████████████████████████████████████████████████████████████████████| 27000/27000 [03:13<00:00, 139.85it/s]"
     ]
    },
    {
     "name": "stdout",
     "output_type": "stream",
     "text": [
      "Wall time: 3min 13s\n"
     ]
    },
    {
     "name": "stderr",
     "output_type": "stream",
     "text": [
      "\n"
     ]
    }
   ],
   "source": [
    "%%time\n",
    "\n",
    "news['title'] = news['title'].progress_apply(lemmatization)"
   ]
  },
  {
   "cell_type": "code",
   "execution_count": 17,
   "id": "7c24a8d9",
   "metadata": {},
   "outputs": [],
   "source": [
    "# формируем список наших текстов\n",
    "texts = list(news['title'].values)"
   ]
  },
  {
   "cell_type": "code",
   "execution_count": 18,
   "id": "ee6848f4",
   "metadata": {},
   "outputs": [],
   "source": [
    "# Создаем корпус из списка с текстами\n",
    "common_dictionary = Dictionary(texts)\n",
    "common_corpus = [common_dictionary.doc2bow(text) for text in texts]"
   ]
  },
  {
   "cell_type": "code",
   "execution_count": 19,
   "id": "5c48e7fc",
   "metadata": {},
   "outputs": [
    {
     "data": {
      "text/plain": [
       "135645"
      ]
     },
     "execution_count": 19,
     "metadata": {},
     "output_type": "execute_result"
    }
   ],
   "source": [
    "len(common_dictionary)"
   ]
  },
  {
   "cell_type": "code",
   "execution_count": 56,
   "id": "b8c2bf7b",
   "metadata": {},
   "outputs": [],
   "source": [
    "# Количество тем\n",
    "\n",
    "N_topic = 30"
   ]
  },
  {
   "cell_type": "code",
   "execution_count": 57,
   "id": "32c87fbd",
   "metadata": {},
   "outputs": [
    {
     "name": "stdout",
     "output_type": "stream",
     "text": [
      "Wall time: 14min 4s\n"
     ]
    }
   ],
   "source": [
    "# %%time\n",
    "# from gensim.models import LdaModel\n",
    "\n",
    "# # Обучаем модель на корпусе\n",
    "# lda = LdaModel(common_corpus, num_topics=N_topic, id2word=common_dictionary\n",
    "#                , passes=15\n",
    "#               )"
   ]
  },
  {
   "cell_type": "code",
   "execution_count": 138,
   "id": "5209cb44",
   "metadata": {},
   "outputs": [],
   "source": [
    "# from gensim.test.utils import datapath\n",
    "\n",
    "# # Сохраняем модель на диск\n",
    "# temp_file = datapath('D:\\GB\\ML-business\\model.lda')\n",
    "# lda.save(temp_file)"
   ]
  },
  {
   "cell_type": "code",
   "execution_count": 191,
   "id": "b84c486f",
   "metadata": {},
   "outputs": [],
   "source": [
    "# загружаем обученную модель с диска\n",
    "lda = LdaModel.load('.\\model.lda')"
   ]
  },
  {
   "cell_type": "code",
   "execution_count": 192,
   "id": "9b8155ef",
   "metadata": {},
   "outputs": [
    {
     "name": "stdout",
     "output_type": "stream",
     "text": [
      "['матч', 'финал', 'кубок', 'россия', 'футбол', 'приостановить', 'судья', 'изз', 'взрыв', 'пиротехнический', 'снаряд', 'передавать', 'корреспондент', 'газета', 'ru', 'болельщик', 'выбросить', 'поле', 'петарда', 'судья', 'увести', 'команда', 'поле', 'подтрибунный', 'помещение', 'динамовец', 'уйти', 'торпедовец', 'остаться', 'кромка', 'поле', 'матч', 'остановить', 'пять', 'минута', 'газета', 'ru', 'вести', 'онлайнтрансляция', 'матч']\n"
     ]
    }
   ],
   "source": [
    "# Создаем новый корпус документов, которые раньше не видели\n",
    "\n",
    "other_texts = list(news['title'].iloc[:3])\n",
    "other_corpus = [common_dictionary.doc2bow(text) for text in other_texts]\n",
    "\n",
    "unseen_doc = other_corpus[1]\n",
    "print(other_texts[1])\n",
    "pfs = lda[unseen_doc]"
   ]
  },
  {
   "cell_type": "code",
   "execution_count": 193,
   "id": "f6fbab40",
   "metadata": {},
   "outputs": [],
   "source": [
    "x = lda.show_topics(num_topics=N_topic, num_words=7, formatted=False)\n",
    "topics_words = [(tp[0], [wd[0] for wd in tp[1]]) for tp in x]"
   ]
  },
  {
   "cell_type": "code",
   "execution_count": 194,
   "id": "11ec0408",
   "metadata": {
    "scrolled": false
   },
   "outputs": [
    {
     "name": "stdout",
     "output_type": "stream",
     "text": [
      "topic_0: ребёнок мозг школа семья родитель памятник помещение\n",
      "topic_1: агентство станция центр объект москва дом житель\n",
      "topic_2: проект мероприятие сайт фестиваль участник участие праздник\n",
      "topic_3: иск фотография умереть жена юрист польский автобус\n",
      "topic_4: млн тыс продажа составить место около вырасти\n",
      "topic_5: земля миссия кризис небо знаменитый изучение треть\n",
      "topic_6: медведев золото награда балл золотой россия лесной\n",
      "topic_7: законодательство мальчик девочка годовой су дворец вход\n",
      "topic_8: военный сила российский наука россия оборона часть\n",
      "topic_9: сша американский ракета новый система китай российский\n",
      "topic_10: газ погибнуть турция европа турецкий франция польша\n",
      "topic_11: сотрудник управление поток задержать эксперимент китайский строительство\n",
      "topic_12: гражданин население россиянин доллар доля расти актив\n",
      "topic_13: северный запуск южный корея ким дания la\n",
      "topic_14: статья писать изз час британский день газета\n",
      "topic_15: всё очень большой новый первый научный ru\n",
      "topic_16: россия российский украина украинский путин глава владимир\n",
      "topic_17: поверхность форум параметр приоритетный стресс профессия молдавия\n",
      "topic_18: советский союз русский ссср первый германия мировой\n",
      "topic_19: операция армия территория помощь источник данные связь\n",
      "topic_20: млрд рубль рост рынок россия банк цена\n",
      "topic_21: документ решение закон право принять власть лицо\n",
      "topic_22: день вода средний воздух обнаружить погода маршрут\n",
      "topic_23: обнаружить пенсия применение препарат след кожа выплата\n",
      "topic_24: исследование женщина жизнь мужчина университет возраст выяснить\n",
      "topic_25: восток команда энергия изучить планета игра клуб\n",
      "topic_26: флот инвестиция новгород радикальный прибытие владивосток предсказать\n",
      "topic_27: журнал космос век чёрный планета климат солнце\n",
      "topic_28: район произойти пострадать температура инцидент граница экипаж\n",
      "topic_29: фонд область москва директор александр московский глава\n"
     ]
    }
   ],
   "source": [
    "# Печатаем только слова\n",
    "for topic, words in topics_words:\n",
    "    print(f'topic_{topic}: ' + ' '.join(words))"
   ]
  },
  {
   "cell_type": "code",
   "execution_count": 195,
   "id": "62cf43aa",
   "metadata": {},
   "outputs": [],
   "source": [
    "# векторное представление новости\n",
    "\n",
    "def get_lda_vector(lda, text):\n",
    "    unseen_doc = common_dictionary.doc2bow(text)\n",
    "    lda_tuple = lda[unseen_doc]\n",
    "    \n",
    "    not_null_topics = dict(zip([i[0] for i in lda_tuple], [i[1] for i in lda_tuple]))\n",
    "    \n",
    "    output_vector = []\n",
    "    for i in range(N_topic):\n",
    "        if i not in not_null_topics:\n",
    "            output_vector.append(0)\n",
    "        else:\n",
    "            output_vector.append(not_null_topics[i])\n",
    "    return np.array(output_vector)"
   ]
  },
  {
   "cell_type": "code",
   "execution_count": 196,
   "id": "84988e1b",
   "metadata": {},
   "outputs": [
    {
     "data": {
      "text/plain": [
       "array([0.        , 0.        , 0.        , 0.        , 0.        ,\n",
       "       0.        , 0.        , 0.        , 0.        , 0.        ,\n",
       "       0.        , 0.        , 0.        , 0.        , 0.        ,\n",
       "       0.06194016, 0.14583793, 0.        , 0.04091108, 0.        ,\n",
       "       0.05789844, 0.21056148, 0.        , 0.        , 0.        ,\n",
       "       0.11397315, 0.        , 0.        , 0.        , 0.36146417])"
      ]
     },
     "execution_count": 196,
     "metadata": {},
     "output_type": "execute_result"
    }
   ],
   "source": [
    "get_lda_vector(lda, news['title'].iloc[0])"
   ]
  },
  {
   "cell_type": "code",
   "execution_count": 197,
   "id": "faa1fc88",
   "metadata": {},
   "outputs": [
    {
     "name": "stdout",
     "output_type": "stream",
     "text": [
      "Wall time: 1min 7s\n"
     ]
    }
   ],
   "source": [
    "%%time\n",
    "topic_matrix = pd.DataFrame([get_lda_vector(lda, text) for text in news['title'].values])"
   ]
  },
  {
   "cell_type": "code",
   "execution_count": 198,
   "id": "f12736a2",
   "metadata": {},
   "outputs": [],
   "source": [
    "topic_matrix.columns = [f'topic_{i}' for i in range(N_topic)]"
   ]
  },
  {
   "cell_type": "code",
   "execution_count": 199,
   "id": "2c42892d",
   "metadata": {},
   "outputs": [
    {
     "data": {
      "text/html": [
       "<div>\n",
       "<style scoped>\n",
       "    .dataframe tbody tr th:only-of-type {\n",
       "        vertical-align: middle;\n",
       "    }\n",
       "\n",
       "    .dataframe tbody tr th {\n",
       "        vertical-align: top;\n",
       "    }\n",
       "\n",
       "    .dataframe thead th {\n",
       "        text-align: right;\n",
       "    }\n",
       "</style>\n",
       "<table border=\"1\" class=\"dataframe\">\n",
       "  <thead>\n",
       "    <tr style=\"text-align: right;\">\n",
       "      <th></th>\n",
       "      <th>doc_id</th>\n",
       "      <th>topic_0</th>\n",
       "      <th>topic_1</th>\n",
       "      <th>topic_2</th>\n",
       "      <th>topic_3</th>\n",
       "      <th>topic_4</th>\n",
       "      <th>topic_5</th>\n",
       "      <th>topic_6</th>\n",
       "      <th>topic_7</th>\n",
       "      <th>topic_8</th>\n",
       "      <th>...</th>\n",
       "      <th>topic_20</th>\n",
       "      <th>topic_21</th>\n",
       "      <th>topic_22</th>\n",
       "      <th>topic_23</th>\n",
       "      <th>topic_24</th>\n",
       "      <th>topic_25</th>\n",
       "      <th>topic_26</th>\n",
       "      <th>topic_27</th>\n",
       "      <th>topic_28</th>\n",
       "      <th>topic_29</th>\n",
       "    </tr>\n",
       "  </thead>\n",
       "  <tbody>\n",
       "    <tr>\n",
       "      <th>0</th>\n",
       "      <td>6</td>\n",
       "      <td>0.00000</td>\n",
       "      <td>0.0</td>\n",
       "      <td>0.00000</td>\n",
       "      <td>0.000000</td>\n",
       "      <td>0.0</td>\n",
       "      <td>0.000000</td>\n",
       "      <td>0.0</td>\n",
       "      <td>0.0</td>\n",
       "      <td>0.000000</td>\n",
       "      <td>...</td>\n",
       "      <td>0.057879</td>\n",
       "      <td>0.210620</td>\n",
       "      <td>0.0</td>\n",
       "      <td>0.0</td>\n",
       "      <td>0.000000</td>\n",
       "      <td>0.113974</td>\n",
       "      <td>0.000000</td>\n",
       "      <td>0.0</td>\n",
       "      <td>0.0</td>\n",
       "      <td>0.361533</td>\n",
       "    </tr>\n",
       "    <tr>\n",
       "      <th>1</th>\n",
       "      <td>4896</td>\n",
       "      <td>0.02797</td>\n",
       "      <td>0.0</td>\n",
       "      <td>0.00000</td>\n",
       "      <td>0.000000</td>\n",
       "      <td>0.0</td>\n",
       "      <td>0.000000</td>\n",
       "      <td>0.0</td>\n",
       "      <td>0.0</td>\n",
       "      <td>0.454149</td>\n",
       "      <td>...</td>\n",
       "      <td>0.000000</td>\n",
       "      <td>0.000000</td>\n",
       "      <td>0.0</td>\n",
       "      <td>0.0</td>\n",
       "      <td>0.000000</td>\n",
       "      <td>0.442866</td>\n",
       "      <td>0.000000</td>\n",
       "      <td>0.0</td>\n",
       "      <td>0.0</td>\n",
       "      <td>0.000000</td>\n",
       "    </tr>\n",
       "    <tr>\n",
       "      <th>2</th>\n",
       "      <td>4897</td>\n",
       "      <td>0.00000</td>\n",
       "      <td>0.0</td>\n",
       "      <td>0.00000</td>\n",
       "      <td>0.000000</td>\n",
       "      <td>0.0</td>\n",
       "      <td>0.052786</td>\n",
       "      <td>0.0</td>\n",
       "      <td>0.0</td>\n",
       "      <td>0.000000</td>\n",
       "      <td>...</td>\n",
       "      <td>0.041178</td>\n",
       "      <td>0.000000</td>\n",
       "      <td>0.0</td>\n",
       "      <td>0.0</td>\n",
       "      <td>0.060951</td>\n",
       "      <td>0.651175</td>\n",
       "      <td>0.052331</td>\n",
       "      <td>0.0</td>\n",
       "      <td>0.0</td>\n",
       "      <td>0.000000</td>\n",
       "    </tr>\n",
       "    <tr>\n",
       "      <th>3</th>\n",
       "      <td>4898</td>\n",
       "      <td>0.00000</td>\n",
       "      <td>0.0</td>\n",
       "      <td>0.02343</td>\n",
       "      <td>0.012221</td>\n",
       "      <td>0.0</td>\n",
       "      <td>0.000000</td>\n",
       "      <td>0.0</td>\n",
       "      <td>0.0</td>\n",
       "      <td>0.000000</td>\n",
       "      <td>...</td>\n",
       "      <td>0.000000</td>\n",
       "      <td>0.000000</td>\n",
       "      <td>0.0</td>\n",
       "      <td>0.0</td>\n",
       "      <td>0.000000</td>\n",
       "      <td>0.349820</td>\n",
       "      <td>0.000000</td>\n",
       "      <td>0.0</td>\n",
       "      <td>0.0</td>\n",
       "      <td>0.000000</td>\n",
       "    </tr>\n",
       "    <tr>\n",
       "      <th>4</th>\n",
       "      <td>4899</td>\n",
       "      <td>0.00000</td>\n",
       "      <td>0.0</td>\n",
       "      <td>0.00000</td>\n",
       "      <td>0.000000</td>\n",
       "      <td>0.0</td>\n",
       "      <td>0.000000</td>\n",
       "      <td>0.0</td>\n",
       "      <td>0.0</td>\n",
       "      <td>0.000000</td>\n",
       "      <td>...</td>\n",
       "      <td>0.000000</td>\n",
       "      <td>0.183478</td>\n",
       "      <td>0.0</td>\n",
       "      <td>0.0</td>\n",
       "      <td>0.000000</td>\n",
       "      <td>0.175192</td>\n",
       "      <td>0.000000</td>\n",
       "      <td>0.0</td>\n",
       "      <td>0.0</td>\n",
       "      <td>0.361601</td>\n",
       "    </tr>\n",
       "  </tbody>\n",
       "</table>\n",
       "<p>5 rows × 31 columns</p>\n",
       "</div>"
      ],
      "text/plain": [
       "   doc_id  topic_0  topic_1  topic_2   topic_3  topic_4   topic_5  topic_6  \\\n",
       "0       6  0.00000      0.0  0.00000  0.000000      0.0  0.000000      0.0   \n",
       "1    4896  0.02797      0.0  0.00000  0.000000      0.0  0.000000      0.0   \n",
       "2    4897  0.00000      0.0  0.00000  0.000000      0.0  0.052786      0.0   \n",
       "3    4898  0.00000      0.0  0.02343  0.012221      0.0  0.000000      0.0   \n",
       "4    4899  0.00000      0.0  0.00000  0.000000      0.0  0.000000      0.0   \n",
       "\n",
       "   topic_7   topic_8  ...  topic_20  topic_21  topic_22  topic_23  topic_24  \\\n",
       "0      0.0  0.000000  ...  0.057879  0.210620       0.0       0.0  0.000000   \n",
       "1      0.0  0.454149  ...  0.000000  0.000000       0.0       0.0  0.000000   \n",
       "2      0.0  0.000000  ...  0.041178  0.000000       0.0       0.0  0.060951   \n",
       "3      0.0  0.000000  ...  0.000000  0.000000       0.0       0.0  0.000000   \n",
       "4      0.0  0.000000  ...  0.000000  0.183478       0.0       0.0  0.000000   \n",
       "\n",
       "   topic_25  topic_26  topic_27  topic_28  topic_29  \n",
       "0  0.113974  0.000000       0.0       0.0  0.361533  \n",
       "1  0.442866  0.000000       0.0       0.0  0.000000  \n",
       "2  0.651175  0.052331       0.0       0.0  0.000000  \n",
       "3  0.349820  0.000000       0.0       0.0  0.000000  \n",
       "4  0.175192  0.000000       0.0       0.0  0.361601  \n",
       "\n",
       "[5 rows x 31 columns]"
      ]
     },
     "execution_count": 199,
     "metadata": {},
     "output_type": "execute_result"
    }
   ],
   "source": [
    "topic_matrix['doc_id'] = news['doc_id'].values\n",
    "topic_matrix = topic_matrix[['doc_id'] + [f'topic_{i}' for i in range(N_topic)]]\n",
    "topic_matrix.head(5)"
   ]
  },
  {
   "cell_type": "markdown",
   "id": "990af4a7",
   "metadata": {},
   "source": [
    "## Векторное представление пользователей"
   ]
  },
  {
   "cell_type": "code",
   "execution_count": 68,
   "id": "5b81ce42",
   "metadata": {},
   "outputs": [
    {
     "data": {
      "text/plain": [
       "(8000, 2)"
      ]
     },
     "execution_count": 68,
     "metadata": {},
     "output_type": "execute_result"
    }
   ],
   "source": [
    "users.shape"
   ]
  },
  {
   "cell_type": "code",
   "execution_count": 69,
   "id": "0ee04979",
   "metadata": {},
   "outputs": [
    {
     "data": {
      "text/html": [
       "<div>\n",
       "<style scoped>\n",
       "    .dataframe tbody tr th:only-of-type {\n",
       "        vertical-align: middle;\n",
       "    }\n",
       "\n",
       "    .dataframe tbody tr th {\n",
       "        vertical-align: top;\n",
       "    }\n",
       "\n",
       "    .dataframe thead th {\n",
       "        text-align: right;\n",
       "    }\n",
       "</style>\n",
       "<table border=\"1\" class=\"dataframe\">\n",
       "  <thead>\n",
       "    <tr style=\"text-align: right;\">\n",
       "      <th></th>\n",
       "      <th>uid</th>\n",
       "      <th>articles</th>\n",
       "    </tr>\n",
       "  </thead>\n",
       "  <tbody>\n",
       "    <tr>\n",
       "      <th>2858</th>\n",
       "      <td>u106929</td>\n",
       "      <td>[324112, 323731, 324157, 323829, 322732, 1065]</td>\n",
       "    </tr>\n",
       "    <tr>\n",
       "      <th>3109</th>\n",
       "      <td>u102127</td>\n",
       "      <td>[6827, 7053, 6970, 5051, 6694, 486952]</td>\n",
       "    </tr>\n",
       "    <tr>\n",
       "      <th>7471</th>\n",
       "      <td>u103195</td>\n",
       "      <td>[324322, 324361, 323301, 324290, 322518, 532628]</td>\n",
       "    </tr>\n",
       "  </tbody>\n",
       "</table>\n",
       "</div>"
      ],
      "text/plain": [
       "          uid                                          articles\n",
       "2858  u106929    [324112, 323731, 324157, 323829, 322732, 1065]\n",
       "3109  u102127            [6827, 7053, 6970, 5051, 6694, 486952]\n",
       "7471  u103195  [324322, 324361, 323301, 324290, 322518, 532628]"
      ]
     },
     "execution_count": 69,
     "metadata": {},
     "output_type": "execute_result"
    }
   ],
   "source": [
    "users.sample(3)"
   ]
  },
  {
   "cell_type": "code",
   "execution_count": 70,
   "id": "e09f1dc0",
   "metadata": {},
   "outputs": [],
   "source": [
    "doc_dict = dict(zip(topic_matrix['doc_id'].values, topic_matrix[[f'topic_{i}' for i in range(N_topic)]].values))"
   ]
  },
  {
   "cell_type": "code",
   "execution_count": 71,
   "id": "06046770",
   "metadata": {},
   "outputs": [
    {
     "data": {
      "text/plain": [
       "array([0.        , 0.        , 0.        , 0.        , 0.        ,\n",
       "       0.        , 0.        , 0.        , 0.        , 0.        ,\n",
       "       0.        , 0.01189702, 0.        , 0.        , 0.        ,\n",
       "       0.        , 0.        , 0.        , 0.        , 0.        ,\n",
       "       0.13191241, 0.49928585, 0.01244019, 0.        , 0.        ,\n",
       "       0.        , 0.02290852, 0.        , 0.        , 0.31245282])"
      ]
     },
     "execution_count": 71,
     "metadata": {},
     "output_type": "execute_result"
    }
   ],
   "source": [
    "doc_dict[47]"
   ]
  },
  {
   "cell_type": "code",
   "execution_count": 72,
   "id": "528a1e96",
   "metadata": {},
   "outputs": [],
   "source": [
    "def get_user_embedding(user_articles_list, doc_dict):\n",
    "    user_articles_list = eval(user_articles_list)\n",
    "    user_vector = np.array([doc_dict[doc_id] for doc_id in user_articles_list])\n",
    "#     print(user_vector)\n",
    "    user_vector = np.mean(user_vector, axis=0)\n",
    "    return user_vector"
   ]
  },
  {
   "cell_type": "code",
   "execution_count": 73,
   "id": "0ac60849",
   "metadata": {},
   "outputs": [
    {
     "data": {
      "text/plain": [
       "array([0.01368267, 0.0420059 , 0.00292164, 0.        , 0.01294848,\n",
       "       0.00207841, 0.        , 0.00419895, 0.0750339 , 0.06617599,\n",
       "       0.        , 0.02477282, 0.03320883, 0.        , 0.02366039,\n",
       "       0.10889946, 0.14983191, 0.        , 0.00192743, 0.03666404,\n",
       "       0.03580128, 0.20148891, 0.01524172, 0.        , 0.0676374 ,\n",
       "       0.        , 0.00179751, 0.00213397, 0.00237755, 0.06016655])"
      ]
     },
     "execution_count": 73,
     "metadata": {},
     "output_type": "execute_result"
    }
   ],
   "source": [
    "user_articles_list = users['articles'].iloc[33]\n",
    "\n",
    "get_user_embedding(user_articles_list, doc_dict)"
   ]
  },
  {
   "cell_type": "code",
   "execution_count": 74,
   "id": "a8421583",
   "metadata": {},
   "outputs": [
    {
     "name": "stdout",
     "output_type": "stream",
     "text": [
      "Wall time: 318 ms\n"
     ]
    }
   ],
   "source": [
    "%%time\n",
    "user_embeddings = pd.DataFrame([i for i in users['articles'].apply(lambda x: get_user_embedding(x, doc_dict))])\n",
    "user_embeddings.columns = [f'topic_{i}' for i in range(N_topic)]\n",
    "user_embeddings['uid'] = users['uid'].values\n",
    "user_embeddings = user_embeddings[['uid'] + [f'topic_{i}' for i in range(N_topic)]]"
   ]
  },
  {
   "cell_type": "code",
   "execution_count": 75,
   "id": "e164b171",
   "metadata": {},
   "outputs": [
    {
     "data": {
      "text/html": [
       "<div>\n",
       "<style scoped>\n",
       "    .dataframe tbody tr th:only-of-type {\n",
       "        vertical-align: middle;\n",
       "    }\n",
       "\n",
       "    .dataframe tbody tr th {\n",
       "        vertical-align: top;\n",
       "    }\n",
       "\n",
       "    .dataframe thead th {\n",
       "        text-align: right;\n",
       "    }\n",
       "</style>\n",
       "<table border=\"1\" class=\"dataframe\">\n",
       "  <thead>\n",
       "    <tr style=\"text-align: right;\">\n",
       "      <th></th>\n",
       "      <th>uid</th>\n",
       "      <th>topic_0</th>\n",
       "      <th>topic_1</th>\n",
       "      <th>topic_2</th>\n",
       "      <th>topic_3</th>\n",
       "      <th>topic_4</th>\n",
       "      <th>topic_5</th>\n",
       "      <th>topic_6</th>\n",
       "      <th>topic_7</th>\n",
       "      <th>topic_8</th>\n",
       "      <th>...</th>\n",
       "      <th>topic_20</th>\n",
       "      <th>topic_21</th>\n",
       "      <th>topic_22</th>\n",
       "      <th>topic_23</th>\n",
       "      <th>topic_24</th>\n",
       "      <th>topic_25</th>\n",
       "      <th>topic_26</th>\n",
       "      <th>topic_27</th>\n",
       "      <th>topic_28</th>\n",
       "      <th>topic_29</th>\n",
       "    </tr>\n",
       "  </thead>\n",
       "  <tbody>\n",
       "    <tr>\n",
       "      <th>0</th>\n",
       "      <td>u105138</td>\n",
       "      <td>0.043193</td>\n",
       "      <td>0.055397</td>\n",
       "      <td>0.084175</td>\n",
       "      <td>0.007529</td>\n",
       "      <td>0.006536</td>\n",
       "      <td>0.005892</td>\n",
       "      <td>0.000000</td>\n",
       "      <td>0.001815</td>\n",
       "      <td>0.030715</td>\n",
       "      <td>...</td>\n",
       "      <td>0.037632</td>\n",
       "      <td>0.156350</td>\n",
       "      <td>0.000000</td>\n",
       "      <td>0.000000</td>\n",
       "      <td>0.033757</td>\n",
       "      <td>0.037136</td>\n",
       "      <td>0.0</td>\n",
       "      <td>0.0</td>\n",
       "      <td>0.010118</td>\n",
       "      <td>0.101990</td>\n",
       "    </tr>\n",
       "    <tr>\n",
       "      <th>1</th>\n",
       "      <td>u108690</td>\n",
       "      <td>0.017036</td>\n",
       "      <td>0.019337</td>\n",
       "      <td>0.010996</td>\n",
       "      <td>0.000000</td>\n",
       "      <td>0.014791</td>\n",
       "      <td>0.000000</td>\n",
       "      <td>0.002726</td>\n",
       "      <td>0.002535</td>\n",
       "      <td>0.058456</td>\n",
       "      <td>...</td>\n",
       "      <td>0.055123</td>\n",
       "      <td>0.110994</td>\n",
       "      <td>0.003811</td>\n",
       "      <td>0.004853</td>\n",
       "      <td>0.054013</td>\n",
       "      <td>0.011311</td>\n",
       "      <td>0.0</td>\n",
       "      <td>0.0</td>\n",
       "      <td>0.020973</td>\n",
       "      <td>0.069272</td>\n",
       "    </tr>\n",
       "    <tr>\n",
       "      <th>2</th>\n",
       "      <td>u108339</td>\n",
       "      <td>0.015560</td>\n",
       "      <td>0.110288</td>\n",
       "      <td>0.018051</td>\n",
       "      <td>0.001811</td>\n",
       "      <td>0.019119</td>\n",
       "      <td>0.001766</td>\n",
       "      <td>0.000000</td>\n",
       "      <td>0.002970</td>\n",
       "      <td>0.064320</td>\n",
       "      <td>...</td>\n",
       "      <td>0.048358</td>\n",
       "      <td>0.181333</td>\n",
       "      <td>0.020230</td>\n",
       "      <td>0.002685</td>\n",
       "      <td>0.031545</td>\n",
       "      <td>0.008613</td>\n",
       "      <td>0.0</td>\n",
       "      <td>0.0</td>\n",
       "      <td>0.041237</td>\n",
       "      <td>0.081707</td>\n",
       "    </tr>\n",
       "  </tbody>\n",
       "</table>\n",
       "<p>3 rows × 31 columns</p>\n",
       "</div>"
      ],
      "text/plain": [
       "       uid   topic_0   topic_1   topic_2   topic_3   topic_4   topic_5  \\\n",
       "0  u105138  0.043193  0.055397  0.084175  0.007529  0.006536  0.005892   \n",
       "1  u108690  0.017036  0.019337  0.010996  0.000000  0.014791  0.000000   \n",
       "2  u108339  0.015560  0.110288  0.018051  0.001811  0.019119  0.001766   \n",
       "\n",
       "    topic_6   topic_7   topic_8  ...  topic_20  topic_21  topic_22  topic_23  \\\n",
       "0  0.000000  0.001815  0.030715  ...  0.037632  0.156350  0.000000  0.000000   \n",
       "1  0.002726  0.002535  0.058456  ...  0.055123  0.110994  0.003811  0.004853   \n",
       "2  0.000000  0.002970  0.064320  ...  0.048358  0.181333  0.020230  0.002685   \n",
       "\n",
       "   topic_24  topic_25  topic_26  topic_27  topic_28  topic_29  \n",
       "0  0.033757  0.037136       0.0       0.0  0.010118  0.101990  \n",
       "1  0.054013  0.011311       0.0       0.0  0.020973  0.069272  \n",
       "2  0.031545  0.008613       0.0       0.0  0.041237  0.081707  \n",
       "\n",
       "[3 rows x 31 columns]"
      ]
     },
     "execution_count": 75,
     "metadata": {},
     "output_type": "execute_result"
    }
   ],
   "source": [
    "user_embeddings.head(3)"
   ]
  },
  {
   "cell_type": "code",
   "execution_count": 76,
   "id": "06d5137f",
   "metadata": {},
   "outputs": [
    {
     "data": {
      "text/html": [
       "<div>\n",
       "<style scoped>\n",
       "    .dataframe tbody tr th:only-of-type {\n",
       "        vertical-align: middle;\n",
       "    }\n",
       "\n",
       "    .dataframe tbody tr th {\n",
       "        vertical-align: top;\n",
       "    }\n",
       "\n",
       "    .dataframe thead th {\n",
       "        text-align: right;\n",
       "    }\n",
       "</style>\n",
       "<table border=\"1\" class=\"dataframe\">\n",
       "  <thead>\n",
       "    <tr style=\"text-align: right;\">\n",
       "      <th></th>\n",
       "      <th>uid</th>\n",
       "      <th>churn</th>\n",
       "    </tr>\n",
       "  </thead>\n",
       "  <tbody>\n",
       "    <tr>\n",
       "      <th>0</th>\n",
       "      <td>u107120</td>\n",
       "      <td>0</td>\n",
       "    </tr>\n",
       "    <tr>\n",
       "      <th>1</th>\n",
       "      <td>u102277</td>\n",
       "      <td>0</td>\n",
       "    </tr>\n",
       "    <tr>\n",
       "      <th>2</th>\n",
       "      <td>u102444</td>\n",
       "      <td>0</td>\n",
       "    </tr>\n",
       "  </tbody>\n",
       "</table>\n",
       "</div>"
      ],
      "text/plain": [
       "       uid  churn\n",
       "0  u107120      0\n",
       "1  u102277      0\n",
       "2  u102444      0"
      ]
     },
     "execution_count": 76,
     "metadata": {},
     "output_type": "execute_result"
    }
   ],
   "source": [
    "target = pd.read_csv('users_churn.csv')\n",
    "target.head(3)"
   ]
  },
  {
   "cell_type": "code",
   "execution_count": 77,
   "id": "085bbb14",
   "metadata": {},
   "outputs": [],
   "source": [
    "X = pd.merge(user_embeddings, target, 'left')"
   ]
  },
  {
   "cell_type": "code",
   "execution_count": 78,
   "id": "3fd1bbd3",
   "metadata": {},
   "outputs": [],
   "source": [
    "from sklearn.linear_model import LogisticRegression\n",
    "from sklearn.model_selection import train_test_split\n",
    "\n",
    "import matplotlib.pyplot as plt"
   ]
  },
  {
   "cell_type": "code",
   "execution_count": 79,
   "id": "c35f0915",
   "metadata": {},
   "outputs": [],
   "source": [
    "X_train, X_test, y_train, y_test = train_test_split(X[[f'topic_{i}' for i in range(N_topic)]],\n",
    "                                                     X['churn'], random_state=2)"
   ]
  },
  {
   "cell_type": "code",
   "execution_count": 80,
   "id": "f3f3ba62",
   "metadata": {},
   "outputs": [
    {
     "data": {
      "text/plain": [
       "LogisticRegression()"
      ]
     },
     "execution_count": 80,
     "metadata": {},
     "output_type": "execute_result"
    }
   ],
   "source": [
    "logreg = LogisticRegression()\n",
    "# Обучение\n",
    "logreg.fit(X_train, y_train)"
   ]
  },
  {
   "cell_type": "code",
   "execution_count": 81,
   "id": "bf42af91",
   "metadata": {},
   "outputs": [
    {
     "data": {
      "text/plain": [
       "array([0.23076076, 0.1601464 , 0.0173193 , 0.11052273, 0.08975951,\n",
       "       0.0019217 , 0.14370686, 0.08955514, 0.10400558, 0.00405794])"
      ]
     },
     "execution_count": 81,
     "metadata": {},
     "output_type": "execute_result"
    }
   ],
   "source": [
    "# Прогнозы для тестовой выборки\n",
    "preds = logreg.predict_proba(X_test)[:, 1]\n",
    "preds[:10]"
   ]
  },
  {
   "cell_type": "markdown",
   "id": "bbd50e67",
   "metadata": {},
   "source": [
    "Рассчитаем Precision, Recall, F-score"
   ]
  },
  {
   "cell_type": "code",
   "execution_count": 82,
   "id": "98545405",
   "metadata": {},
   "outputs": [],
   "source": [
    "from sklearn.metrics import (f1_score, roc_auc_score, precision_score,\n",
    "                             classification_report, precision_recall_curve,\n",
    "                            confusion_matrix)"
   ]
  },
  {
   "cell_type": "code",
   "execution_count": 50,
   "id": "69fc6d88",
   "metadata": {},
   "outputs": [
    {
     "data": {
      "image/png": "[encoded data removed]",
      "text/plain": [
       "<Figure size 720x432 with 1 Axes>"
      ]
     },
     "metadata": {
      "needs_background": "light"
     },
     "output_type": "display_data"
    }
   ],
   "source": [
    "n = 50\n",
    "plt.figure(figsize=(10, 6))\n",
    "plt.plot(preds[:n], label='predict')\n",
    "plt.plot(y_test.values[:n], label='true')\n",
    "plt.title('ответ модели')\n",
    "plt.xlabel('№ примера')\n",
    "plt.ylabel('выход')\n",
    "plt.legend()\n",
    "plt.grid('On')\n",
    "plt.show()"
   ]
  },
  {
   "cell_type": "code",
   "execution_count": 83,
   "id": "f1ba4af4",
   "metadata": {},
   "outputs": [
    {
     "name": "stdout",
     "output_type": "stream",
     "text": [
      "Best Threshold=0.27369284462329685, F-Score=0.749, Precision=0.794, Recall=0.709\n"
     ]
    }
   ],
   "source": [
    "precision, recall, thresholds = precision_recall_curve(y_test, preds)\n",
    "fscore = (2 * precision * recall) / (precision + recall)\n",
    "# находим индекс наилучшего f-score\n",
    "ix = np.argmax(fscore)\n",
    "print(f'Best Threshold={thresholds[ix]}, F-Score={fscore[ix]:.3f}, Precision={precision[ix]:.3f}, Recall={recall[ix]:.3f}')"
   ]
  },
  {
   "cell_type": "code",
   "execution_count": 84,
   "id": "00822f64",
   "metadata": {},
   "outputs": [],
   "source": [
    "def plot_confusion_matrix(cm, classes,\n",
    "                         normalize=False,\n",
    "                         title='Confusion matrix',\n",
    "                         cmap=plt.cm.Blues):\n",
    "\n",
    "    plt.imshow(cm, interpolation='nearest', cmap=cmap)\n",
    "    plt.title(title)\n",
    "    plt.colorbar()\n",
    "    tick_marks = np.arange(len(classes))\n",
    "    plt.xticks(tick_marks, classes, rotation=45)\n",
    "    plt.yticks(tick_marks, classes)\n",
    "    \n",
    "    if normalize:\n",
    "        cm = cm.astype('float') / cm.sum(axis=1)[:, np.newaxis]\n",
    "        print('Normalized confusion matrix')\n",
    "    else:\n",
    "        print('Confusion matrix, without normalization')\n",
    "        \n",
    "    print(cm)\n",
    "    \n",
    "    thresh = cm.max() / 2\n",
    "    for i, j in itertools.product(range(cm.shape[0]), range(cm.shape[1])):\n",
    "        plt.text(j, i, cm[i, j],\n",
    "                horizontalalignment='center',\n",
    "                color='white' if cm[i, j] > thresh else 'black')\n",
    "        \n",
    "    plt.tight_layout()\n",
    "    plt.ylabel('True label')\n",
    "    plt.xlabel('Predicted label')"
   ]
  },
  {
   "cell_type": "code",
   "execution_count": 85,
   "id": "a37b50da",
   "metadata": {},
   "outputs": [
    {
     "name": "stdout",
     "output_type": "stream",
     "text": [
      "Confusion matrix, without normalization\n",
      "[[1711   45]\n",
      " [  72  172]]\n"
     ]
    },
    {
     "data": {
      "image/png": "[encoded data removed]",
      "text/plain": [
       "<Figure size 720x576 with 2 Axes>"
      ]
     },
     "metadata": {
      "needs_background": "light"
     },
     "output_type": "display_data"
    }
   ],
   "source": [
    "import itertools\n",
    "font = {'size': 15}\n",
    "\n",
    "plt.rc('font', **font)\n",
    "\n",
    "cnf_matrix = confusion_matrix(y_test, preds > thresholds[ix])\n",
    "\n",
    "plt.figure(figsize=(10, 8))\n",
    "plot_confusion_matrix(cnf_matrix, classes=['Non-Churn', 'churn'],\n",
    "                     title='Confusion matrix')\n",
    "\n",
    "# plt.savefig('conf_matrix.png')\n",
    "plt.show()"
   ]
  },
  {
   "cell_type": "code",
   "execution_count": 86,
   "id": "28321dc3",
   "metadata": {},
   "outputs": [
    {
     "data": {
      "text/plain": [
       "0.9634204974046828"
      ]
     },
     "execution_count": 86,
     "metadata": {},
     "output_type": "execute_result"
    }
   ],
   "source": [
    "roc_auc_score(y_test, preds)"
   ]
  },
  {
   "cell_type": "code",
   "execution_count": 87,
   "id": "acbc73fd",
   "metadata": {},
   "outputs": [],
   "source": [
    "mean_precision = precision[ix]\n",
    "mean_recall = recall[ix]\n",
    "mean_fscore = fscore[ix]\n",
    "mean_roc_auc = roc_auc_score(y_test, preds)"
   ]
  },
  {
   "cell_type": "markdown",
   "id": "59984061",
   "metadata": {},
   "source": [
    "# Домашнее задание"
   ]
  },
  {
   "cell_type": "markdown",
   "id": "a1240d0c",
   "metadata": {},
   "source": [
    "### 1. *Самостоятельно повторить tfidf (документация https://scikit-learn.org/stable/modules/generated/sklearn.feature_extraction.text.TfidfVectorizer.html)"
   ]
  },
  {
   "cell_type": "code",
   "execution_count": 88,
   "id": "bee9b189",
   "metadata": {},
   "outputs": [],
   "source": [
    "from sklearn.feature_extraction.text import TfidfVectorizer"
   ]
  },
  {
   "cell_type": "code",
   "execution_count": 89,
   "id": "0dbaf569",
   "metadata": {},
   "outputs": [],
   "source": [
    "docs = pd.read_csv('articles.csv')"
   ]
  },
  {
   "cell_type": "code",
   "execution_count": 90,
   "id": "1133c1b0",
   "metadata": {},
   "outputs": [
    {
     "name": "stderr",
     "output_type": "stream",
     "text": [
      "100%|███████████████████████████████████████████████████████████████████████████| 27000/27000 [00:27<00:00, 999.07it/s]\n"
     ]
    }
   ],
   "source": [
    "docs = docs['title'].progress_apply(clean_text)"
   ]
  },
  {
   "cell_type": "code",
   "execution_count": 91,
   "id": "2ea794a2",
   "metadata": {},
   "outputs": [],
   "source": [
    "tf = TfidfVectorizer(stop_words=stopword_ru, max_features=100)"
   ]
  },
  {
   "cell_type": "code",
   "execution_count": 92,
   "id": "26e803ce",
   "metadata": {},
   "outputs": [
    {
     "name": "stderr",
     "output_type": "stream",
     "text": [
      "C:\\Users\\adurz\\AppData\\Roaming\\Python\\Python310\\site-packages\\sklearn\\feature_extraction\\text.py:396: UserWarning: Your stop_words may be inconsistent with your preprocessing. Tokenizing the stop words generated tokens ['_ссылка', 'всё', 'интерфакс', 'как_сообщили_риа_', 'новости', 'передает_риа_', 'сообщает_', 'сообщает_риа_'] not in stop_words.\n",
      "  warnings.warn(\n"
     ]
    },
    {
     "data": {
      "text/plain": [
       "TfidfVectorizer(max_features=100,\n",
       "                stop_words=['и', 'в', 'во', 'не', 'что', 'он', 'на', 'я', 'с',\n",
       "                            'со', 'как', 'а', 'то', 'все', 'она', 'так', 'его',\n",
       "                            'но', 'да', 'ты', 'к', 'у', 'же', 'вы', 'за', 'бы',\n",
       "                            'по', 'только', 'ее', 'мне', ...])"
      ]
     },
     "execution_count": 92,
     "metadata": {},
     "output_type": "execute_result"
    }
   ],
   "source": [
    "tf.fit(docs)"
   ]
  },
  {
   "cell_type": "code",
   "execution_count": 93,
   "id": "9f4d1a3f",
   "metadata": {},
   "outputs": [],
   "source": [
    "tf_docs = pd.DataFrame.sparse.from_spmatrix(tf.transform(docs), columns=tf.get_feature_names_out())"
   ]
  },
  {
   "cell_type": "code",
   "execution_count": 94,
   "id": "14efc5ab",
   "metadata": {},
   "outputs": [
    {
     "name": "stderr",
     "output_type": "stream",
     "text": [
      "C:\\Users\\adurz\\AppData\\Roaming\\Python\\Python310\\site-packages\\IPython\\core\\interactiveshell.py:3364: PerformanceWarning: DataFrame is highly fragmented.  This is usually the result of calling `frame.insert` many times, which has poor performance.  Consider joining all columns at once using pd.concat(axis=1) instead.  To get a de-fragmented frame, use `newframe = frame.copy()`\n",
      "  if (await self.run_code(code, result,  async_=asy)):\n"
     ]
    }
   ],
   "source": [
    "tf_docs.insert(0, 'doc_id', news['doc_id'].values)"
   ]
  },
  {
   "cell_type": "code",
   "execution_count": 95,
   "id": "08dcdbf5",
   "metadata": {},
   "outputs": [
    {
     "data": {
      "text/html": [
       "<div>\n",
       "<style scoped>\n",
       "    .dataframe tbody tr th:only-of-type {\n",
       "        vertical-align: middle;\n",
       "    }\n",
       "\n",
       "    .dataframe tbody tr th {\n",
       "        vertical-align: top;\n",
       "    }\n",
       "\n",
       "    .dataframe thead th {\n",
       "        text-align: right;\n",
       "    }\n",
       "</style>\n",
       "<table border=\"1\" class=\"dataframe\">\n",
       "  <thead>\n",
       "    <tr style=\"text-align: right;\">\n",
       "      <th></th>\n",
       "      <th>doc_id</th>\n",
       "      <th>безопасности</th>\n",
       "      <th>будут</th>\n",
       "      <th>владимир</th>\n",
       "      <th>власти</th>\n",
       "      <th>вопрос</th>\n",
       "      <th>газетеru</th>\n",
       "      <th>глава</th>\n",
       "      <th>говорит</th>\n",
       "      <th>говорится</th>\n",
       "      <th>...</th>\n",
       "      <th>сша</th>\n",
       "      <th>территории</th>\n",
       "      <th>тыс</th>\n",
       "      <th>украины</th>\n",
       "      <th>ходе</th>\n",
       "      <th>частности</th>\n",
       "      <th>часть</th>\n",
       "      <th>числе</th>\n",
       "      <th>является</th>\n",
       "      <th>января</th>\n",
       "    </tr>\n",
       "  </thead>\n",
       "  <tbody>\n",
       "    <tr>\n",
       "      <th>0</th>\n",
       "      <td>6</td>\n",
       "      <td>0.0</td>\n",
       "      <td>0.0</td>\n",
       "      <td>0.0</td>\n",
       "      <td>0.287383</td>\n",
       "      <td>0.0</td>\n",
       "      <td>0.0</td>\n",
       "      <td>0.0</td>\n",
       "      <td>0.0</td>\n",
       "      <td>0.0</td>\n",
       "      <td>...</td>\n",
       "      <td>0.0</td>\n",
       "      <td>0.0</td>\n",
       "      <td>0.0</td>\n",
       "      <td>0.0</td>\n",
       "      <td>0.0</td>\n",
       "      <td>0.0</td>\n",
       "      <td>0.0</td>\n",
       "      <td>0.0</td>\n",
       "      <td>0.0</td>\n",
       "      <td>0.0</td>\n",
       "    </tr>\n",
       "    <tr>\n",
       "      <th>1</th>\n",
       "      <td>4896</td>\n",
       "      <td>0.0</td>\n",
       "      <td>0.0</td>\n",
       "      <td>0.0</td>\n",
       "      <td>0.000000</td>\n",
       "      <td>0.0</td>\n",
       "      <td>0.0</td>\n",
       "      <td>0.0</td>\n",
       "      <td>0.0</td>\n",
       "      <td>0.0</td>\n",
       "      <td>...</td>\n",
       "      <td>0.0</td>\n",
       "      <td>0.0</td>\n",
       "      <td>0.0</td>\n",
       "      <td>0.0</td>\n",
       "      <td>0.0</td>\n",
       "      <td>0.0</td>\n",
       "      <td>0.0</td>\n",
       "      <td>0.0</td>\n",
       "      <td>0.0</td>\n",
       "      <td>0.0</td>\n",
       "    </tr>\n",
       "    <tr>\n",
       "      <th>2</th>\n",
       "      <td>4897</td>\n",
       "      <td>0.0</td>\n",
       "      <td>0.0</td>\n",
       "      <td>0.0</td>\n",
       "      <td>0.000000</td>\n",
       "      <td>0.0</td>\n",
       "      <td>0.0</td>\n",
       "      <td>0.0</td>\n",
       "      <td>0.0</td>\n",
       "      <td>0.0</td>\n",
       "      <td>...</td>\n",
       "      <td>0.0</td>\n",
       "      <td>0.0</td>\n",
       "      <td>0.0</td>\n",
       "      <td>0.0</td>\n",
       "      <td>0.0</td>\n",
       "      <td>0.0</td>\n",
       "      <td>0.0</td>\n",
       "      <td>0.0</td>\n",
       "      <td>0.0</td>\n",
       "      <td>0.0</td>\n",
       "    </tr>\n",
       "  </tbody>\n",
       "</table>\n",
       "<p>3 rows × 101 columns</p>\n",
       "</div>"
      ],
      "text/plain": [
       "   doc_id  безопасности  будут  владимир    власти  вопрос  газетеru  глава  \\\n",
       "0       6           0.0    0.0       0.0  0.287383     0.0       0.0    0.0   \n",
       "1    4896           0.0    0.0       0.0  0.000000     0.0       0.0    0.0   \n",
       "2    4897           0.0    0.0       0.0  0.000000     0.0       0.0    0.0   \n",
       "\n",
       "   говорит  говорится  ...  сша  территории  тыс  украины  ходе  частности  \\\n",
       "0      0.0        0.0  ...  0.0         0.0  0.0      0.0   0.0        0.0   \n",
       "1      0.0        0.0  ...  0.0         0.0  0.0      0.0   0.0        0.0   \n",
       "2      0.0        0.0  ...  0.0         0.0  0.0      0.0   0.0        0.0   \n",
       "\n",
       "   часть  числе  является  января  \n",
       "0    0.0    0.0       0.0     0.0  \n",
       "1    0.0    0.0       0.0     0.0  \n",
       "2    0.0    0.0       0.0     0.0  \n",
       "\n",
       "[3 rows x 101 columns]"
      ]
     },
     "execution_count": 95,
     "metadata": {},
     "output_type": "execute_result"
    }
   ],
   "source": [
    "tf_docs.head(3)"
   ]
  },
  {
   "cell_type": "markdown",
   "id": "b143f8d6",
   "metadata": {},
   "source": [
    "### 2. Модифицировать код функции get_user_embedding таким образом, чтобы считалось не среднее (как в примере np.mean), а медиана. Применить такое преобразование к данным, обучить модель прогнозирования оттока и посчитать метрики качества и сохранить их: roc auc, precision/recall/f_score (для 3 последних - подобрать оптимальный порог)"
   ]
  },
  {
   "cell_type": "code",
   "execution_count": 96,
   "id": "2df114ca",
   "metadata": {},
   "outputs": [],
   "source": [
    "def get_user_embedding(user_articles_list, doc_dict):\n",
    "    user_articles_list = eval(user_articles_list)\n",
    "    user_vector = np.array([doc_dict[doc_id] for doc_id in user_articles_list])\n",
    "#     print(user_vector)\n",
    "    user_vector = np.median(user_vector, axis=0)\n",
    "    return user_vector"
   ]
  },
  {
   "cell_type": "code",
   "execution_count": 97,
   "id": "9861af2a",
   "metadata": {},
   "outputs": [
    {
     "name": "stdout",
     "output_type": "stream",
     "text": [
      "Wall time: 910 ms\n"
     ]
    }
   ],
   "source": [
    "%%time\n",
    "user_embeddings = pd.DataFrame([i for i in users['articles'].apply(lambda x: get_user_embedding(x, doc_dict))])\n",
    "user_embeddings.columns = [f'topic_{i}' for i in range(N_topic)]\n",
    "user_embeddings['uid'] = users['uid'].values\n",
    "user_embeddings = user_embeddings[['uid'] + [f'topic_{i}' for i in range(N_topic)]]"
   ]
  },
  {
   "cell_type": "code",
   "execution_count": 98,
   "id": "8086169b",
   "metadata": {},
   "outputs": [
    {
     "data": {
      "text/html": [
       "<div>\n",
       "<style scoped>\n",
       "    .dataframe tbody tr th:only-of-type {\n",
       "        vertical-align: middle;\n",
       "    }\n",
       "\n",
       "    .dataframe tbody tr th {\n",
       "        vertical-align: top;\n",
       "    }\n",
       "\n",
       "    .dataframe thead th {\n",
       "        text-align: right;\n",
       "    }\n",
       "</style>\n",
       "<table border=\"1\" class=\"dataframe\">\n",
       "  <thead>\n",
       "    <tr style=\"text-align: right;\">\n",
       "      <th></th>\n",
       "      <th>uid</th>\n",
       "      <th>topic_0</th>\n",
       "      <th>topic_1</th>\n",
       "      <th>topic_2</th>\n",
       "      <th>topic_3</th>\n",
       "      <th>topic_4</th>\n",
       "      <th>topic_5</th>\n",
       "      <th>topic_6</th>\n",
       "      <th>topic_7</th>\n",
       "      <th>topic_8</th>\n",
       "      <th>...</th>\n",
       "      <th>topic_20</th>\n",
       "      <th>topic_21</th>\n",
       "      <th>topic_22</th>\n",
       "      <th>topic_23</th>\n",
       "      <th>topic_24</th>\n",
       "      <th>topic_25</th>\n",
       "      <th>topic_26</th>\n",
       "      <th>topic_27</th>\n",
       "      <th>topic_28</th>\n",
       "      <th>topic_29</th>\n",
       "    </tr>\n",
       "  </thead>\n",
       "  <tbody>\n",
       "    <tr>\n",
       "      <th>0</th>\n",
       "      <td>u105138</td>\n",
       "      <td>0.034551</td>\n",
       "      <td>0.019027</td>\n",
       "      <td>0.107272</td>\n",
       "      <td>0.0</td>\n",
       "      <td>0.000000</td>\n",
       "      <td>0.0</td>\n",
       "      <td>0.0</td>\n",
       "      <td>0.0</td>\n",
       "      <td>0.000000</td>\n",
       "      <td>...</td>\n",
       "      <td>0.000000</td>\n",
       "      <td>0.128452</td>\n",
       "      <td>0.0000</td>\n",
       "      <td>0.0</td>\n",
       "      <td>0.000000</td>\n",
       "      <td>0.000000</td>\n",
       "      <td>0.0</td>\n",
       "      <td>0.0</td>\n",
       "      <td>0.000000</td>\n",
       "      <td>0.056376</td>\n",
       "    </tr>\n",
       "    <tr>\n",
       "      <th>1</th>\n",
       "      <td>u108690</td>\n",
       "      <td>0.000000</td>\n",
       "      <td>0.008695</td>\n",
       "      <td>0.000000</td>\n",
       "      <td>0.0</td>\n",
       "      <td>0.000000</td>\n",
       "      <td>0.0</td>\n",
       "      <td>0.0</td>\n",
       "      <td>0.0</td>\n",
       "      <td>0.062784</td>\n",
       "      <td>...</td>\n",
       "      <td>0.017392</td>\n",
       "      <td>0.089187</td>\n",
       "      <td>0.0000</td>\n",
       "      <td>0.0</td>\n",
       "      <td>0.038711</td>\n",
       "      <td>0.000000</td>\n",
       "      <td>0.0</td>\n",
       "      <td>0.0</td>\n",
       "      <td>0.000000</td>\n",
       "      <td>0.044822</td>\n",
       "    </tr>\n",
       "    <tr>\n",
       "      <th>2</th>\n",
       "      <td>u108339</td>\n",
       "      <td>0.011829</td>\n",
       "      <td>0.107985</td>\n",
       "      <td>0.000000</td>\n",
       "      <td>0.0</td>\n",
       "      <td>0.008958</td>\n",
       "      <td>0.0</td>\n",
       "      <td>0.0</td>\n",
       "      <td>0.0</td>\n",
       "      <td>0.063250</td>\n",
       "      <td>...</td>\n",
       "      <td>0.037851</td>\n",
       "      <td>0.213482</td>\n",
       "      <td>0.0051</td>\n",
       "      <td>0.0</td>\n",
       "      <td>0.041432</td>\n",
       "      <td>0.007986</td>\n",
       "      <td>0.0</td>\n",
       "      <td>0.0</td>\n",
       "      <td>0.034399</td>\n",
       "      <td>0.067344</td>\n",
       "    </tr>\n",
       "  </tbody>\n",
       "</table>\n",
       "<p>3 rows × 31 columns</p>\n",
       "</div>"
      ],
      "text/plain": [
       "       uid   topic_0   topic_1   topic_2  topic_3   topic_4  topic_5  topic_6  \\\n",
       "0  u105138  0.034551  0.019027  0.107272      0.0  0.000000      0.0      0.0   \n",
       "1  u108690  0.000000  0.008695  0.000000      0.0  0.000000      0.0      0.0   \n",
       "2  u108339  0.011829  0.107985  0.000000      0.0  0.008958      0.0      0.0   \n",
       "\n",
       "   topic_7   topic_8  ...  topic_20  topic_21  topic_22  topic_23  topic_24  \\\n",
       "0      0.0  0.000000  ...  0.000000  0.128452    0.0000       0.0  0.000000   \n",
       "1      0.0  0.062784  ...  0.017392  0.089187    0.0000       0.0  0.038711   \n",
       "2      0.0  0.063250  ...  0.037851  0.213482    0.0051       0.0  0.041432   \n",
       "\n",
       "   topic_25  topic_26  topic_27  topic_28  topic_29  \n",
       "0  0.000000       0.0       0.0  0.000000  0.056376  \n",
       "1  0.000000       0.0       0.0  0.000000  0.044822  \n",
       "2  0.007986       0.0       0.0  0.034399  0.067344  \n",
       "\n",
       "[3 rows x 31 columns]"
      ]
     },
     "execution_count": 98,
     "metadata": {},
     "output_type": "execute_result"
    }
   ],
   "source": [
    "user_embeddings.head(3)"
   ]
  },
  {
   "cell_type": "code",
   "execution_count": 99,
   "id": "20cca83b",
   "metadata": {},
   "outputs": [],
   "source": [
    "X = pd.merge(user_embeddings, target, 'left')"
   ]
  },
  {
   "cell_type": "code",
   "execution_count": 100,
   "id": "431cc1bc",
   "metadata": {},
   "outputs": [],
   "source": [
    "X_train, X_test, y_train, y_test = train_test_split(X[[f'topic_{i}' for i in range(N_topic)]],\n",
    "                                                     X['churn'], random_state=2)"
   ]
  },
  {
   "cell_type": "code",
   "execution_count": 101,
   "id": "938bff3a",
   "metadata": {},
   "outputs": [
    {
     "data": {
      "text/plain": [
       "LogisticRegression()"
      ]
     },
     "execution_count": 101,
     "metadata": {},
     "output_type": "execute_result"
    }
   ],
   "source": [
    "logreg = LogisticRegression()\n",
    "# Обучение\n",
    "logreg.fit(X_train, y_train)"
   ]
  },
  {
   "cell_type": "code",
   "execution_count": 102,
   "id": "5b9966c3",
   "metadata": {},
   "outputs": [],
   "source": [
    "# Прогнозы для тестовой выборки\n",
    "preds = logreg.predict_proba(X_test)[:, 1]"
   ]
  },
  {
   "cell_type": "markdown",
   "id": "3217a8e5",
   "metadata": {},
   "source": [
    "Рассчитаем Precision, Recall, F-score"
   ]
  },
  {
   "cell_type": "code",
   "execution_count": 103,
   "id": "ce7e8095",
   "metadata": {},
   "outputs": [
    {
     "name": "stdout",
     "output_type": "stream",
     "text": [
      "Best Threshold=0.24454727646924118, F-Score=0.788, Precision=0.732, Recall=0.852\n"
     ]
    }
   ],
   "source": [
    "precision, recall, thresholds = precision_recall_curve(y_test, preds)\n",
    "fscore = (2 * precision * recall) / (precision + recall)\n",
    "# находим индекс наилучшего f-score\n",
    "ix = np.argmax(fscore)\n",
    "print(f'Best Threshold={thresholds[ix]}, F-Score={fscore[ix]:.3f}, Precision={precision[ix]:.3f}, Recall={recall[ix]:.3f}')"
   ]
  },
  {
   "cell_type": "code",
   "execution_count": 104,
   "id": "57e3e395",
   "metadata": {},
   "outputs": [],
   "source": [
    "median_precision = precision[ix]\n",
    "median_recall = recall[ix]\n",
    "median_fscore = fscore[ix]\n",
    "median_roc_auc = roc_auc_score(y_test, preds)"
   ]
  },
  {
   "cell_type": "markdown",
   "id": "428a069c",
   "metadata": {},
   "source": [
    "### 3. Повторить п.2, но используя уже не медиану, а max"
   ]
  },
  {
   "cell_type": "code",
   "execution_count": 416,
   "id": "ddeaa4d1",
   "metadata": {},
   "outputs": [],
   "source": [
    "def get_user_embedding(user_articles_list, doc_dict):\n",
    "    user_articles_list = eval(user_articles_list)\n",
    "    user_vector = np.array([doc_dict[doc_id] for doc_id in user_articles_list])\n",
    "#     print(user_vector)\n",
    "    user_vector = np.max(user_vector, axis=0)\n",
    "    return user_vector"
   ]
  },
  {
   "cell_type": "code",
   "execution_count": 417,
   "id": "cd6dfe2a",
   "metadata": {},
   "outputs": [
    {
     "name": "stdout",
     "output_type": "stream",
     "text": [
      "Wall time: 465 ms\n"
     ]
    }
   ],
   "source": [
    "%%time\n",
    "user_embeddings = pd.DataFrame([i for i in users['articles'].apply(lambda x: get_user_embedding(x, doc_dict))])\n",
    "user_embeddings.columns = [f'topic_{i}' for i in range(N_topic)]\n",
    "user_embeddings['uid'] = users['uid'].values\n",
    "user_embeddings = user_embeddings[['uid'] + [f'topic_{i}' for i in range(N_topic)]]"
   ]
  },
  {
   "cell_type": "code",
   "execution_count": 418,
   "id": "d8757661",
   "metadata": {},
   "outputs": [
    {
     "data": {
      "text/html": [
       "<div>\n",
       "<style scoped>\n",
       "    .dataframe tbody tr th:only-of-type {\n",
       "        vertical-align: middle;\n",
       "    }\n",
       "\n",
       "    .dataframe tbody tr th {\n",
       "        vertical-align: top;\n",
       "    }\n",
       "\n",
       "    .dataframe thead th {\n",
       "        text-align: right;\n",
       "    }\n",
       "</style>\n",
       "<table border=\"1\" class=\"dataframe\">\n",
       "  <thead>\n",
       "    <tr style=\"text-align: right;\">\n",
       "      <th></th>\n",
       "      <th>uid</th>\n",
       "      <th>topic_0</th>\n",
       "      <th>topic_1</th>\n",
       "      <th>topic_2</th>\n",
       "      <th>topic_3</th>\n",
       "      <th>topic_4</th>\n",
       "      <th>topic_5</th>\n",
       "      <th>topic_6</th>\n",
       "      <th>topic_7</th>\n",
       "      <th>topic_8</th>\n",
       "      <th>...</th>\n",
       "      <th>topic_20</th>\n",
       "      <th>topic_21</th>\n",
       "      <th>topic_22</th>\n",
       "      <th>topic_23</th>\n",
       "      <th>topic_24</th>\n",
       "      <th>topic_25</th>\n",
       "      <th>topic_26</th>\n",
       "      <th>topic_27</th>\n",
       "      <th>topic_28</th>\n",
       "      <th>topic_29</th>\n",
       "    </tr>\n",
       "  </thead>\n",
       "  <tbody>\n",
       "    <tr>\n",
       "      <th>0</th>\n",
       "      <td>u105138</td>\n",
       "      <td>0.121629</td>\n",
       "      <td>0.149492</td>\n",
       "      <td>0.153344</td>\n",
       "      <td>0.045175</td>\n",
       "      <td>0.039215</td>\n",
       "      <td>0.035352</td>\n",
       "      <td>0.000000</td>\n",
       "      <td>0.010888</td>\n",
       "      <td>0.124485</td>\n",
       "      <td>...</td>\n",
       "      <td>0.113378</td>\n",
       "      <td>0.348942</td>\n",
       "      <td>0.000000</td>\n",
       "      <td>0.000000</td>\n",
       "      <td>0.111858</td>\n",
       "      <td>0.123533</td>\n",
       "      <td>0.0</td>\n",
       "      <td>0.0</td>\n",
       "      <td>0.060705</td>\n",
       "      <td>0.294358</td>\n",
       "    </tr>\n",
       "    <tr>\n",
       "      <th>1</th>\n",
       "      <td>u108690</td>\n",
       "      <td>0.072568</td>\n",
       "      <td>0.074451</td>\n",
       "      <td>0.065974</td>\n",
       "      <td>0.000000</td>\n",
       "      <td>0.064825</td>\n",
       "      <td>0.000000</td>\n",
       "      <td>0.016357</td>\n",
       "      <td>0.015210</td>\n",
       "      <td>0.079887</td>\n",
       "      <td>...</td>\n",
       "      <td>0.159778</td>\n",
       "      <td>0.234606</td>\n",
       "      <td>0.022863</td>\n",
       "      <td>0.017688</td>\n",
       "      <td>0.123317</td>\n",
       "      <td>0.048558</td>\n",
       "      <td>0.0</td>\n",
       "      <td>0.0</td>\n",
       "      <td>0.099364</td>\n",
       "      <td>0.162357</td>\n",
       "    </tr>\n",
       "    <tr>\n",
       "      <th>2</th>\n",
       "      <td>u108339</td>\n",
       "      <td>0.043532</td>\n",
       "      <td>0.240098</td>\n",
       "      <td>0.108307</td>\n",
       "      <td>0.010864</td>\n",
       "      <td>0.053018</td>\n",
       "      <td>0.010593</td>\n",
       "      <td>0.000000</td>\n",
       "      <td>0.017821</td>\n",
       "      <td>0.113294</td>\n",
       "      <td>...</td>\n",
       "      <td>0.155107</td>\n",
       "      <td>0.286597</td>\n",
       "      <td>0.096785</td>\n",
       "      <td>0.016107</td>\n",
       "      <td>0.056472</td>\n",
       "      <td>0.018620</td>\n",
       "      <td>0.0</td>\n",
       "      <td>0.0</td>\n",
       "      <td>0.107992</td>\n",
       "      <td>0.197617</td>\n",
       "    </tr>\n",
       "  </tbody>\n",
       "</table>\n",
       "<p>3 rows × 31 columns</p>\n",
       "</div>"
      ],
      "text/plain": [
       "       uid   topic_0   topic_1   topic_2   topic_3   topic_4   topic_5  \\\n",
       "0  u105138  0.121629  0.149492  0.153344  0.045175  0.039215  0.035352   \n",
       "1  u108690  0.072568  0.074451  0.065974  0.000000  0.064825  0.000000   \n",
       "2  u108339  0.043532  0.240098  0.108307  0.010864  0.053018  0.010593   \n",
       "\n",
       "    topic_6   topic_7   topic_8  ...  topic_20  topic_21  topic_22  topic_23  \\\n",
       "0  0.000000  0.010888  0.124485  ...  0.113378  0.348942  0.000000  0.000000   \n",
       "1  0.016357  0.015210  0.079887  ...  0.159778  0.234606  0.022863  0.017688   \n",
       "2  0.000000  0.017821  0.113294  ...  0.155107  0.286597  0.096785  0.016107   \n",
       "\n",
       "   topic_24  topic_25  topic_26  topic_27  topic_28  topic_29  \n",
       "0  0.111858  0.123533       0.0       0.0  0.060705  0.294358  \n",
       "1  0.123317  0.048558       0.0       0.0  0.099364  0.162357  \n",
       "2  0.056472  0.018620       0.0       0.0  0.107992  0.197617  \n",
       "\n",
       "[3 rows x 31 columns]"
      ]
     },
     "execution_count": 418,
     "metadata": {},
     "output_type": "execute_result"
    }
   ],
   "source": [
    "user_embeddings.head(3)"
   ]
  },
  {
   "cell_type": "code",
   "execution_count": 419,
   "id": "88f0b730",
   "metadata": {},
   "outputs": [],
   "source": [
    "X = pd.merge(user_embeddings, target, 'left')"
   ]
  },
  {
   "cell_type": "code",
   "execution_count": 420,
   "id": "0a73db17",
   "metadata": {},
   "outputs": [],
   "source": [
    "X_train, X_test, y_train, y_test = train_test_split(X[[f'topic_{i}' for i in range(N_topic)]],\n",
    "                                                     X['churn'], random_state=2)"
   ]
  },
  {
   "cell_type": "code",
   "execution_count": 421,
   "id": "cf554d0c",
   "metadata": {
    "scrolled": true
   },
   "outputs": [
    {
     "data": {
      "text/plain": [
       "LogisticRegression()"
      ]
     },
     "execution_count": 421,
     "metadata": {},
     "output_type": "execute_result"
    }
   ],
   "source": [
    "logreg = LogisticRegression()\n",
    "# Обучение\n",
    "logreg.fit(X_train, y_train)"
   ]
  },
  {
   "cell_type": "code",
   "execution_count": 422,
   "id": "e9d9e94f",
   "metadata": {},
   "outputs": [],
   "source": [
    "# Прогнозы для тестовой выборки\n",
    "preds = logreg.predict_proba(X_test)[:, 1]"
   ]
  },
  {
   "cell_type": "markdown",
   "id": "43d473ae",
   "metadata": {},
   "source": [
    "Рассчитаем Precision, Recall, F-score"
   ]
  },
  {
   "cell_type": "code",
   "execution_count": 424,
   "id": "3ec2a987",
   "metadata": {},
   "outputs": [
    {
     "data": {
      "text/plain": [
       "5853    2.635926\n",
       "148     2.576874\n",
       "6394    2.866343\n",
       "423     2.767675\n",
       "5214    2.478003\n",
       "          ...   \n",
       "3606    3.487737\n",
       "5704    2.469412\n",
       "6637    3.029377\n",
       "2575    2.802136\n",
       "7336    3.022828\n",
       "Length: 6000, dtype: float64"
      ]
     },
     "execution_count": 424,
     "metadata": {},
     "output_type": "execute_result"
    }
   ],
   "source": [
    "X_train.sum(axis=1)"
   ]
  },
  {
   "cell_type": "code",
   "execution_count": 112,
   "id": "fc9c07c6",
   "metadata": {},
   "outputs": [
    {
     "name": "stdout",
     "output_type": "stream",
     "text": [
      "Best Threshold=0.35336013077654765, F-Score=0.839, Precision=0.846, Recall=0.832\n"
     ]
    }
   ],
   "source": [
    "precision, recall, thresholds = precision_recall_curve(y_test, preds)\n",
    "fscore = (2 * precision * recall) / (precision + recall)\n",
    "# находим индекс наилучшего f-score\n",
    "ix = np.argmax(fscore)\n",
    "print(f'Best Threshold={thresholds[ix]}, F-Score={fscore[ix]:.3f}, Precision={precision[ix]:.3f}, Recall={recall[ix]:.3f}')"
   ]
  },
  {
   "cell_type": "code",
   "execution_count": 113,
   "id": "6e8ede35",
   "metadata": {},
   "outputs": [],
   "source": [
    "max_precision = precision[ix]\n",
    "max_recall = recall[ix]\n",
    "max_fscore = fscore[ix]\n",
    "max_roc_auc = roc_auc_score(y_test, preds)"
   ]
  },
  {
   "cell_type": "markdown",
   "id": "ce82651c",
   "metadata": {},
   "source": [
    "### 4. *Воспользовавшись полученными знаниями из п.1, повторить пункт 2, но уже взвешивая новости по tfidf (взяв список новостей пользователя)\n",
    " - подсказка 1: нужно получить веса-коэффициенты для каждого документа. Не все документы одинаково информативны и несут какой-то положительный сигнал\n",
    " - подсказка 2: нужен именно idf, как вес."
   ]
  },
  {
   "cell_type": "code",
   "execution_count": 293,
   "id": "13e7f5a1",
   "metadata": {},
   "outputs": [],
   "source": [
    "doc_idf = tf_docs.drop(columns=['doc_id']).sum(axis=1)"
   ]
  },
  {
   "cell_type": "code",
   "execution_count": 294,
   "id": "0ce7cea4",
   "metadata": {},
   "outputs": [
    {
     "data": {
      "text/html": [
       "<div>\n",
       "<style scoped>\n",
       "    .dataframe tbody tr th:only-of-type {\n",
       "        vertical-align: middle;\n",
       "    }\n",
       "\n",
       "    .dataframe tbody tr th {\n",
       "        vertical-align: top;\n",
       "    }\n",
       "\n",
       "    .dataframe thead th {\n",
       "        text-align: right;\n",
       "    }\n",
       "</style>\n",
       "<table border=\"1\" class=\"dataframe\">\n",
       "  <thead>\n",
       "    <tr style=\"text-align: right;\">\n",
       "      <th></th>\n",
       "      <th>doc_id</th>\n",
       "      <th>idf</th>\n",
       "    </tr>\n",
       "  </thead>\n",
       "  <tbody>\n",
       "    <tr>\n",
       "      <th>0</th>\n",
       "      <td>6</td>\n",
       "      <td>1.906151</td>\n",
       "    </tr>\n",
       "    <tr>\n",
       "      <th>1</th>\n",
       "      <td>4896</td>\n",
       "      <td>1.394919</td>\n",
       "    </tr>\n",
       "    <tr>\n",
       "      <th>2</th>\n",
       "      <td>4897</td>\n",
       "      <td>1.881910</td>\n",
       "    </tr>\n",
       "  </tbody>\n",
       "</table>\n",
       "</div>"
      ],
      "text/plain": [
       "   doc_id       idf\n",
       "0       6  1.906151\n",
       "1    4896  1.394919\n",
       "2    4897  1.881910"
      ]
     },
     "execution_count": 294,
     "metadata": {},
     "output_type": "execute_result"
    }
   ],
   "source": [
    "doc_idf = pd.concat([tf_docs['doc_id'], doc_idf], axis=1)\n",
    "doc_idf.rename(columns={0: 'idf'}, inplace=True)\n",
    "doc_idf.head(3)"
   ]
  },
  {
   "cell_type": "code",
   "execution_count": 372,
   "id": "cd8a4d01",
   "metadata": {},
   "outputs": [
    {
     "data": {
      "text/plain": [
       "1.9061513639930987"
      ]
     },
     "execution_count": 372,
     "metadata": {},
     "output_type": "execute_result"
    }
   ],
   "source": [
    "tf_dict = dict(zip(doc_idf['doc_id'].values, doc_idf['idf'].values))\n",
    "tf_dict[6]"
   ]
  },
  {
   "cell_type": "code",
   "execution_count": 373,
   "id": "ab95c787",
   "metadata": {},
   "outputs": [],
   "source": [
    "def get_user_embedding(user_articles_list, doc_idf):\n",
    "    user_articles_list = eval(user_articles_list)\n",
    "    user_vector = np.array([doc_idf[doc_id] for doc_id in user_articles_list])\n",
    "#     print(user_vector)\n",
    "    user_vector = np.sum(user_vector, axis=0)\n",
    "    return user_vector"
   ]
  },
  {
   "cell_type": "code",
   "execution_count": 374,
   "id": "aaf808de",
   "metadata": {},
   "outputs": [],
   "source": [
    "user_articles_list = users['articles'].iloc[35]"
   ]
  },
  {
   "cell_type": "code",
   "execution_count": 375,
   "id": "828962a7",
   "metadata": {},
   "outputs": [
    {
     "data": {
      "text/plain": [
       "'[294035, 293677, 294069, 294632, 294579, 3217]'"
      ]
     },
     "execution_count": 375,
     "metadata": {},
     "output_type": "execute_result"
    }
   ],
   "source": [
    "user_articles_list"
   ]
  },
  {
   "cell_type": "code",
   "execution_count": 376,
   "id": "2587f18d",
   "metadata": {},
   "outputs": [
    {
     "data": {
      "text/plain": [
       "array([1.79038914, 1.38639231, 1.69762336, 2.89539367, 2.041155  ,\n",
       "       3.71605778])"
      ]
     },
     "execution_count": 376,
     "metadata": {},
     "output_type": "execute_result"
    }
   ],
   "source": [
    "user_articles_list = eval(user_articles_list)\n",
    "np.array([tf_dict[doc_id] for doc_id in user_articles_list])"
   ]
  },
  {
   "cell_type": "code",
   "execution_count": 377,
   "id": "8e40881e",
   "metadata": {},
   "outputs": [
    {
     "name": "stdout",
     "output_type": "stream",
     "text": [
      "Wall time: 275 ms\n"
     ]
    }
   ],
   "source": [
    "%%time\n",
    "user_embeddings = pd.DataFrame([i for i in users['articles'].apply(lambda x: get_user_embedding(x, tf_dict))])"
   ]
  },
  {
   "cell_type": "code",
   "execution_count": 378,
   "id": "6e10685c",
   "metadata": {},
   "outputs": [
    {
     "data": {
      "text/html": [
       "<div>\n",
       "<style scoped>\n",
       "    .dataframe tbody tr th:only-of-type {\n",
       "        vertical-align: middle;\n",
       "    }\n",
       "\n",
       "    .dataframe tbody tr th {\n",
       "        vertical-align: top;\n",
       "    }\n",
       "\n",
       "    .dataframe thead th {\n",
       "        text-align: right;\n",
       "    }\n",
       "</style>\n",
       "<table border=\"1\" class=\"dataframe\">\n",
       "  <thead>\n",
       "    <tr style=\"text-align: right;\">\n",
       "      <th></th>\n",
       "      <th>user_idf</th>\n",
       "    </tr>\n",
       "  </thead>\n",
       "  <tbody>\n",
       "    <tr>\n",
       "      <th>0</th>\n",
       "      <td>14.919805</td>\n",
       "    </tr>\n",
       "    <tr>\n",
       "      <th>1</th>\n",
       "      <td>23.587216</td>\n",
       "    </tr>\n",
       "    <tr>\n",
       "      <th>2</th>\n",
       "      <td>23.237851</td>\n",
       "    </tr>\n",
       "  </tbody>\n",
       "</table>\n",
       "</div>"
      ],
      "text/plain": [
       "    user_idf\n",
       "0  14.919805\n",
       "1  23.587216\n",
       "2  23.237851"
      ]
     },
     "execution_count": 378,
     "metadata": {},
     "output_type": "execute_result"
    }
   ],
   "source": [
    "user_embeddings.rename(columns={0: 'user_idf'}, inplace=True)\n",
    "user_embeddings.head(3)"
   ]
  },
  {
   "cell_type": "code",
   "execution_count": 379,
   "id": "e2e09c72",
   "metadata": {},
   "outputs": [],
   "source": [
    "user_embeddings.insert(0, 'uid', users['uid'].values)"
   ]
  },
  {
   "cell_type": "code",
   "execution_count": 380,
   "id": "b0114ebf",
   "metadata": {},
   "outputs": [
    {
     "data": {
      "text/html": [
       "<div>\n",
       "<style scoped>\n",
       "    .dataframe tbody tr th:only-of-type {\n",
       "        vertical-align: middle;\n",
       "    }\n",
       "\n",
       "    .dataframe tbody tr th {\n",
       "        vertical-align: top;\n",
       "    }\n",
       "\n",
       "    .dataframe thead th {\n",
       "        text-align: right;\n",
       "    }\n",
       "</style>\n",
       "<table border=\"1\" class=\"dataframe\">\n",
       "  <thead>\n",
       "    <tr style=\"text-align: right;\">\n",
       "      <th></th>\n",
       "      <th>uid</th>\n",
       "      <th>user_idf</th>\n",
       "    </tr>\n",
       "  </thead>\n",
       "  <tbody>\n",
       "    <tr>\n",
       "      <th>0</th>\n",
       "      <td>u105138</td>\n",
       "      <td>14.919805</td>\n",
       "    </tr>\n",
       "    <tr>\n",
       "      <th>1</th>\n",
       "      <td>u108690</td>\n",
       "      <td>23.587216</td>\n",
       "    </tr>\n",
       "    <tr>\n",
       "      <th>2</th>\n",
       "      <td>u108339</td>\n",
       "      <td>23.237851</td>\n",
       "    </tr>\n",
       "  </tbody>\n",
       "</table>\n",
       "</div>"
      ],
      "text/plain": [
       "       uid   user_idf\n",
       "0  u105138  14.919805\n",
       "1  u108690  23.587216\n",
       "2  u108339  23.237851"
      ]
     },
     "execution_count": 380,
     "metadata": {},
     "output_type": "execute_result"
    }
   ],
   "source": [
    "user_embeddings.head(3)"
   ]
  },
  {
   "cell_type": "code",
   "execution_count": 381,
   "id": "422e3914",
   "metadata": {},
   "outputs": [],
   "source": [
    "X = pd.merge(user_embeddings, target, 'left')"
   ]
  },
  {
   "cell_type": "code",
   "execution_count": 382,
   "id": "deec870d",
   "metadata": {},
   "outputs": [
    {
     "data": {
      "text/html": [
       "<div>\n",
       "<style scoped>\n",
       "    .dataframe tbody tr th:only-of-type {\n",
       "        vertical-align: middle;\n",
       "    }\n",
       "\n",
       "    .dataframe tbody tr th {\n",
       "        vertical-align: top;\n",
       "    }\n",
       "\n",
       "    .dataframe thead th {\n",
       "        text-align: right;\n",
       "    }\n",
       "</style>\n",
       "<table border=\"1\" class=\"dataframe\">\n",
       "  <thead>\n",
       "    <tr style=\"text-align: right;\">\n",
       "      <th></th>\n",
       "      <th>uid</th>\n",
       "      <th>user_idf</th>\n",
       "      <th>churn</th>\n",
       "    </tr>\n",
       "  </thead>\n",
       "  <tbody>\n",
       "    <tr>\n",
       "      <th>0</th>\n",
       "      <td>u105138</td>\n",
       "      <td>14.919805</td>\n",
       "      <td>0</td>\n",
       "    </tr>\n",
       "    <tr>\n",
       "      <th>1</th>\n",
       "      <td>u108690</td>\n",
       "      <td>23.587216</td>\n",
       "      <td>1</td>\n",
       "    </tr>\n",
       "    <tr>\n",
       "      <th>2</th>\n",
       "      <td>u108339</td>\n",
       "      <td>23.237851</td>\n",
       "      <td>1</td>\n",
       "    </tr>\n",
       "  </tbody>\n",
       "</table>\n",
       "</div>"
      ],
      "text/plain": [
       "       uid   user_idf  churn\n",
       "0  u105138  14.919805      0\n",
       "1  u108690  23.587216      1\n",
       "2  u108339  23.237851      1"
      ]
     },
     "execution_count": 382,
     "metadata": {},
     "output_type": "execute_result"
    }
   ],
   "source": [
    "X.head(3)"
   ]
  },
  {
   "cell_type": "code",
   "execution_count": 383,
   "id": "0a319242",
   "metadata": {},
   "outputs": [],
   "source": [
    "X_train, X_test, y_train, y_test = train_test_split(X.drop(columns=['uid', 'churn']),\n",
    "                                                     X['churn'], random_state=2)"
   ]
  },
  {
   "cell_type": "code",
   "execution_count": 384,
   "id": "5d2931c2",
   "metadata": {
    "scrolled": true
   },
   "outputs": [
    {
     "data": {
      "text/plain": [
       "LogisticRegression()"
      ]
     },
     "execution_count": 384,
     "metadata": {},
     "output_type": "execute_result"
    }
   ],
   "source": [
    "logreg = LogisticRegression()\n",
    "# Обучение\n",
    "logreg.fit(X_train, y_train)"
   ]
  },
  {
   "cell_type": "code",
   "execution_count": 385,
   "id": "21b5ba50",
   "metadata": {},
   "outputs": [
    {
     "data": {
      "text/plain": [
       "array([1.83553084e-05, 1.91743204e-04, 2.48400101e-11, 5.05839732e-04,\n",
       "       5.54130368e-06, 3.13931616e-11, 1.46739849e-04, 1.84396351e-03,\n",
       "       9.62938433e-14, 1.26670621e-12])"
      ]
     },
     "execution_count": 385,
     "metadata": {},
     "output_type": "execute_result"
    }
   ],
   "source": [
    "# Прогнозы для тестовой выборки\n",
    "preds = logreg.predict_proba(X_test)[:, 1]\n",
    "preds[:10]"
   ]
  },
  {
   "cell_type": "code",
   "execution_count": 386,
   "id": "baf8baa0",
   "metadata": {},
   "outputs": [
    {
     "data": {
      "image/png": "[encoded data removed]",
      "text/plain": [
       "<Figure size 720x432 with 1 Axes>"
      ]
     },
     "metadata": {
      "needs_background": "light"
     },
     "output_type": "display_data"
    }
   ],
   "source": [
    "n = 50\n",
    "plt.figure(figsize=(10, 6))\n",
    "plt.plot(preds[:n], label='predict')\n",
    "plt.plot(y_test.values[:n], label='true')\n",
    "plt.title('ответ модели')\n",
    "plt.xlabel('№ примера')\n",
    "plt.ylabel('выход')\n",
    "plt.legend()\n",
    "plt.grid('On')\n",
    "plt.show()"
   ]
  },
  {
   "cell_type": "markdown",
   "id": "4189ce42",
   "metadata": {},
   "source": [
    "Рассчитаем Precision, Recall, F-score"
   ]
  },
  {
   "cell_type": "code",
   "execution_count": 387,
   "id": "ea13997d",
   "metadata": {},
   "outputs": [
    {
     "name": "stdout",
     "output_type": "stream",
     "text": [
      "Best Threshold=0.5444664965300398, F-Score=0.961, Precision=0.967, Recall=0.955\n"
     ]
    }
   ],
   "source": [
    "precision, recall, thresholds = precision_recall_curve(y_test, preds)\n",
    "fscore = (2 * precision * recall) / (precision + recall)\n",
    "# находим индекс наилучшего f-score\n",
    "ix = np.argmax(fscore)\n",
    "print(f'Best Threshold={thresholds[ix]}, F-Score={fscore[ix]:.3f}, Precision={precision[ix]:.3f}, Recall={recall[ix]:.3f}')"
   ]
  },
  {
   "cell_type": "code",
   "execution_count": 407,
   "id": "79a3d223",
   "metadata": {},
   "outputs": [
    {
     "data": {
      "text/plain": [
       "5853    0\n",
       "148     1\n",
       "6394    0\n",
       "423     1\n",
       "5214    0\n",
       "       ..\n",
       "3606    0\n",
       "5704    0\n",
       "6637    0\n",
       "2575    0\n",
       "7336    0\n",
       "Name: churn, Length: 6000, dtype: int64"
      ]
     },
     "execution_count": 407,
     "metadata": {},
     "output_type": "execute_result"
    }
   ],
   "source": [
    "y_train"
   ]
  },
  {
   "cell_type": "code",
   "execution_count": 413,
   "id": "572ac9b8",
   "metadata": {},
   "outputs": [
    {
     "data": {
      "image/png": "[encoded data removed]",
      "text/plain": [
       "<Figure size 432x432 with 3 Axes>"
      ]
     },
     "metadata": {
      "needs_background": "light"
     },
     "output_type": "display_data"
    }
   ],
   "source": [
    "import seaborn as sns\n",
    "\n",
    "sns.jointplot(x=X_train['user_idf'], y=y_train, kind='reg')\n",
    "plt.xlabel('Суммарный вес просмотренных новостей')\n",
    "plt.ylabel('Вероятность оттока клиента')\n",
    "plt.show()"
   ]
  },
  {
   "cell_type": "markdown",
   "id": "da85ed45",
   "metadata": {},
   "source": [
    "Наблюдается прямая связь между суммой весов документов и вероятностью ухода клиента"
   ]
  },
  {
   "cell_type": "code",
   "execution_count": 391,
   "id": "3463e46b",
   "metadata": {},
   "outputs": [],
   "source": [
    "idf_precision = precision[ix]\n",
    "idf_recall = recall[ix]\n",
    "idf_fscore = fscore[ix]\n",
    "idf_roc_auc = roc_auc_score(y_test, preds)"
   ]
  },
  {
   "cell_type": "markdown",
   "id": "3cec5d83",
   "metadata": {},
   "source": [
    "### 5. Сформировать на выходе единую таблицу, сравнивающую качество 2/3 разных метода получения эмбедингов пользователей: median, max, idf_mean по метрикам roc_auc, precision, recall, f_score"
   ]
  },
  {
   "cell_type": "code",
   "execution_count": 392,
   "id": "39d99340",
   "metadata": {},
   "outputs": [
    {
     "data": {
      "text/html": [
       "<div>\n",
       "<style scoped>\n",
       "    .dataframe tbody tr th:only-of-type {\n",
       "        vertical-align: middle;\n",
       "    }\n",
       "\n",
       "    .dataframe tbody tr th {\n",
       "        vertical-align: top;\n",
       "    }\n",
       "\n",
       "    .dataframe thead th {\n",
       "        text-align: right;\n",
       "    }\n",
       "</style>\n",
       "<table border=\"1\" class=\"dataframe\">\n",
       "  <thead>\n",
       "    <tr style=\"text-align: right;\">\n",
       "      <th></th>\n",
       "      <th>fscore</th>\n",
       "      <th>precision</th>\n",
       "      <th>recall</th>\n",
       "      <th>roc_auc_score</th>\n",
       "    </tr>\n",
       "  </thead>\n",
       "  <tbody>\n",
       "    <tr>\n",
       "      <th>mean</th>\n",
       "      <td>0.748918</td>\n",
       "      <td>0.793578</td>\n",
       "      <td>0.709016</td>\n",
       "      <td>0.963420</td>\n",
       "    </tr>\n",
       "    <tr>\n",
       "      <th>median</th>\n",
       "      <td>0.787879</td>\n",
       "      <td>0.732394</td>\n",
       "      <td>0.852459</td>\n",
       "      <td>0.972023</td>\n",
       "    </tr>\n",
       "    <tr>\n",
       "      <th>max</th>\n",
       "      <td>0.838843</td>\n",
       "      <td>0.845833</td>\n",
       "      <td>0.831967</td>\n",
       "      <td>0.977867</td>\n",
       "    </tr>\n",
       "    <tr>\n",
       "      <th>idf</th>\n",
       "      <td>0.960825</td>\n",
       "      <td>0.966805</td>\n",
       "      <td>0.954918</td>\n",
       "      <td>0.998289</td>\n",
       "    </tr>\n",
       "  </tbody>\n",
       "</table>\n",
       "</div>"
      ],
      "text/plain": [
       "          fscore  precision    recall  roc_auc_score\n",
       "mean    0.748918   0.793578  0.709016       0.963420\n",
       "median  0.787879   0.732394  0.852459       0.972023\n",
       "max     0.838843   0.845833  0.831967       0.977867\n",
       "idf     0.960825   0.966805  0.954918       0.998289"
      ]
     },
     "execution_count": 392,
     "metadata": {},
     "output_type": "execute_result"
    }
   ],
   "source": [
    "pd.DataFrame({'fscore': [mean_fscore, median_fscore, max_fscore, idf_fscore],\n",
    "             'precision': [mean_precision, median_precision, max_precision, idf_precision],\n",
    "             'recall': [mean_recall, median_recall, max_recall, idf_recall],\n",
    "             'roc_auc_score': [mean_roc_auc, median_roc_auc, max_roc_auc, idf_roc_auc]},\n",
    "             index=['mean', 'median', 'max', 'idf'])"
   ]
  },
  {
   "cell_type": "markdown",
   "id": "0d44789a",
   "metadata": {},
   "source": [
    "### 6. Сделать самостоятельные выводы и предположения о том, почему тот или ной способ оказался эффективнее остальных"
   ]
  },
  {
   "cell_type": "markdown",
   "id": "760b279e",
   "metadata": {},
   "source": [
    "- Самым эффективным получился способ оценки оттока клиентов по весу документов, просматриваемых пользователем.\n",
    "- При рассмотрении применения объединения документов в группы получается самый высокий результат при взятии максимального коэффициента тематик документов из всех доступных документов, прочитанных пользователем. Это может получится из-за слишком маленького количества данных о просмотре документов каждым пользователем (всего 6 документов), так как нельзя понять средний интерес пользователя исходя всего из 6 документов, поэтому лучшим выходом становится взять в общем количестве максимальные значения коэффициентов содержания тем из документов.\n",
    "- показатели эффективности модели при прогнозировании на медиане лучше прогнозирования на средних коэффициентов может быть потому, что некоторые новости могут быть выбросные (случайно зашел пользователь). Например: человек увлекается спортом и посмотрел пять документов о спорте с коэф. 0.9, а один документ зашел случайно с коэффициентом темы спорт 0.01, из этого следует, median = 0.9, mean = 0.75. (получается есть вероятности выбросов, т.е. случайных документов) "
   ]
  }
 ],
 "metadata": {
  "kernelspec": {
   "display_name": "Python 3 (ipykernel)",
   "language": "python",
   "name": "python3"
  },
  "language_info": {
   "codemirror_mode": {
    "name": "ipython",
    "version": 3
   },
   "file_extension": ".py",
   "mimetype": "text/x-python",
   "name": "python",
   "nbconvert_exporter": "python",
   "pygments_lexer": "ipython3",
   "version": "3.10.0"
  }
 },
 "nbformat": 4,
 "nbformat_minor": 5
}
