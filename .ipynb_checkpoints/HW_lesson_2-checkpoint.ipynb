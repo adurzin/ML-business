{
 "cells": [
  {
   "cell_type": "markdown",
   "id": "68b534df",
   "metadata": {},
   "source": [
    "# Homework 2"
   ]
  },
  {
   "cell_type": "code",
   "execution_count": 1,
   "id": "ad43f878",
   "metadata": {},
   "outputs": [],
   "source": [
    "import pandas as pd\n",
    "\n",
    "import re\n",
    "import numpy as np\n",
    "from gensim.corpora.dictionary import Dictionary\n",
    "from razdel import tokenize # сегментация русскоязычного текста на токены и предложения\n",
    "import pymorphy2"
   ]
  },
  {
   "cell_type": "code",
   "execution_count": 2,
   "id": "4dbd5558",
   "metadata": {},
   "outputs": [
    {
     "name": "stdout",
     "output_type": "stream",
     "text": [
      "(27000, 2)\n"
     ]
    },
    {
     "data": {
      "text/html": [
       "<div>\n",
       "<style scoped>\n",
       "    .dataframe tbody tr th:only-of-type {\n",
       "        vertical-align: middle;\n",
       "    }\n",
       "\n",
       "    .dataframe tbody tr th {\n",
       "        vertical-align: top;\n",
       "    }\n",
       "\n",
       "    .dataframe thead th {\n",
       "        text-align: right;\n",
       "    }\n",
       "</style>\n",
       "<table border=\"1\" class=\"dataframe\">\n",
       "  <thead>\n",
       "    <tr style=\"text-align: right;\">\n",
       "      <th></th>\n",
       "      <th>doc_id</th>\n",
       "      <th>title</th>\n",
       "    </tr>\n",
       "  </thead>\n",
       "  <tbody>\n",
       "    <tr>\n",
       "      <th>0</th>\n",
       "      <td>6</td>\n",
       "      <td>Заместитель председателяnправительства РФnСерг...</td>\n",
       "    </tr>\n",
       "    <tr>\n",
       "      <th>1</th>\n",
       "      <td>4896</td>\n",
       "      <td>Матч 1/16 финала Кубка России по футболу был п...</td>\n",
       "    </tr>\n",
       "  </tbody>\n",
       "</table>\n",
       "</div>"
      ],
      "text/plain": [
       "   doc_id                                              title\n",
       "0       6  Заместитель председателяnправительства РФnСерг...\n",
       "1    4896  Матч 1/16 финала Кубка России по футболу был п..."
      ]
     },
     "execution_count": 2,
     "metadata": {},
     "output_type": "execute_result"
    }
   ],
   "source": [
    "news = pd.read_csv('articles.csv')\n",
    "print(news.shape)\n",
    "news.head(2)"
   ]
  },
  {
   "cell_type": "code",
   "execution_count": 3,
   "id": "e39c1910",
   "metadata": {},
   "outputs": [
    {
     "data": {
      "text/plain": [
       "'Форвард «Авангарда» Томаш Заборский прокомментировал игру своей команды в матче чемпионата КХЛ против «Атланта»n(4:3)n.nn«Мы провели плохой матч в Нижнем Новгороде против «Торпедо» и настраивались, что с первых же минут включимся в работу, — сказал Заборский. — У нас получилось забросить быстрый гол и задать хороший темп поединку. Мы можем играть еще лучше, но, с другой стороны, пять очков на выезде из девяти — это лучше, чем ничего».'"
      ]
     },
     "execution_count": 3,
     "metadata": {},
     "output_type": "execute_result"
    }
   ],
   "source": [
    "news.iloc[2]['title']"
   ]
  },
  {
   "cell_type": "code",
   "execution_count": 4,
   "id": "cf8b34bd",
   "metadata": {},
   "outputs": [
    {
     "data": {
      "text/html": [
       "<div>\n",
       "<style scoped>\n",
       "    .dataframe tbody tr th:only-of-type {\n",
       "        vertical-align: middle;\n",
       "    }\n",
       "\n",
       "    .dataframe tbody tr th {\n",
       "        vertical-align: top;\n",
       "    }\n",
       "\n",
       "    .dataframe thead th {\n",
       "        text-align: right;\n",
       "    }\n",
       "</style>\n",
       "<table border=\"1\" class=\"dataframe\">\n",
       "  <thead>\n",
       "    <tr style=\"text-align: right;\">\n",
       "      <th></th>\n",
       "      <th>uid</th>\n",
       "      <th>articles</th>\n",
       "    </tr>\n",
       "  </thead>\n",
       "  <tbody>\n",
       "    <tr>\n",
       "      <th>2094</th>\n",
       "      <td>u108186</td>\n",
       "      <td>[3440, 842, 1216, 2014, 1121, 324035]</td>\n",
       "    </tr>\n",
       "    <tr>\n",
       "      <th>3920</th>\n",
       "      <td>u108505</td>\n",
       "      <td>[1616, 2338, 2329, 2452, 1518, 322176]</td>\n",
       "    </tr>\n",
       "    <tr>\n",
       "      <th>5827</th>\n",
       "      <td>u107070</td>\n",
       "      <td>[321904, 323516, 323935, 321874, 323083, 470857]</td>\n",
       "    </tr>\n",
       "  </tbody>\n",
       "</table>\n",
       "</div>"
      ],
      "text/plain": [
       "          uid                                          articles\n",
       "2094  u108186             [3440, 842, 1216, 2014, 1121, 324035]\n",
       "3920  u108505            [1616, 2338, 2329, 2452, 1518, 322176]\n",
       "5827  u107070  [321904, 323516, 323935, 321874, 323083, 470857]"
      ]
     },
     "execution_count": 4,
     "metadata": {},
     "output_type": "execute_result"
    }
   ],
   "source": [
    "users = pd.read_csv('users_articles.csv')\n",
    "users.sample(3)"
   ]
  },
  {
   "cell_type": "code",
   "execution_count": 5,
   "id": "9a39e750",
   "metadata": {},
   "outputs": [
    {
     "name": "stderr",
     "output_type": "stream",
     "text": [
      "[nltk_data] Downloading package stopwords to\n",
      "[nltk_data]     C:\\Users\\adurz\\AppData\\Roaming\\nltk_data...\n",
      "[nltk_data]   Package stopwords is already up-to-date!\n"
     ]
    },
    {
     "data": {
      "text/plain": [
       "True"
      ]
     },
     "execution_count": 5,
     "metadata": {},
     "output_type": "execute_result"
    }
   ],
   "source": [
    "import nltk\n",
    "from nltk.corpus import stopwords\n",
    "nltk.download('stopwords')"
   ]
  },
  {
   "cell_type": "code",
   "execution_count": 6,
   "id": "02289913",
   "metadata": {},
   "outputs": [
    {
     "name": "stdout",
     "output_type": "stream",
     "text": [
      "151\n"
     ]
    }
   ],
   "source": [
    "stopword_ru = stopwords.words('russian')\n",
    "print(len(stopword_ru))"
   ]
  },
  {
   "cell_type": "code",
   "execution_count": 7,
   "id": "50cd449c",
   "metadata": {},
   "outputs": [],
   "source": [
    "with open('stopwords.txt', encoding='utf-8') as f:\n",
    "    additional_stopwords = [w.strip() for w in f.readlines() if w]"
   ]
  },
  {
   "cell_type": "code",
   "execution_count": 8,
   "id": "fc81f9f9",
   "metadata": {},
   "outputs": [
    {
     "data": {
      "text/plain": [
       "776"
      ]
     },
     "execution_count": 8,
     "metadata": {},
     "output_type": "execute_result"
    }
   ],
   "source": [
    "stopword_ru += additional_stopwords\n",
    "len(stopword_ru)"
   ]
  },
  {
   "cell_type": "code",
   "execution_count": 9,
   "id": "a7d98507",
   "metadata": {},
   "outputs": [],
   "source": [
    "# очистка текста\n",
    "\n",
    "def clean_text(text):\n",
    "    if not isinstance(text, str):\n",
    "        text = str(text)\n",
    "        \n",
    "    text = text.lower()\n",
    "    text = text.strip('\\n').strip('\\r').strip('\\t')\n",
    "    text = re.sub('-\\s\\r\\n\\|-\\s\\r\\n|\\r\\n', '', str(text))\n",
    "    \n",
    "    text = re.sub(\"[0-9]|[-—.,:;_%©«»?*!@#№$^•·&()]|[+=]|[[]|[]]|[/]|\", '', text)\n",
    "    text = re.sub(r\"\\r\\n\\t|\\n|\\\\s|\\r\\t|\\\\n\", ' ', text)\n",
    "    text = re.sub(r'[\\xad]|[\\s+]', ' ', text.strip())\n",
    "    text = re.sub('n', ' ', text)\n",
    "    \n",
    "    return text"
   ]
  },
  {
   "cell_type": "code",
   "execution_count": 10,
   "id": "be8934ac",
   "metadata": {},
   "outputs": [],
   "source": [
    "cache = {}\n",
    "morph = pymorphy2.MorphAnalyzer()"
   ]
  },
  {
   "cell_type": "code",
   "execution_count": 11,
   "id": "602747c9",
   "metadata": {},
   "outputs": [],
   "source": [
    "# Лемматизация\n",
    "\n",
    "def lemmatization(text):\n",
    "    '''\n",
    "    лемматизация\n",
    "        [0] если зашел тип не `str` делаем его `str`\n",
    "        [1] токенизация предложения через razdel\n",
    "        [2] проверка есть ли в начале слова '-'\n",
    "        [3] проверка токена с одного символа\n",
    "        [4] проверка есть ли данное слово в кэше\n",
    "        [5] лемматизация слова\n",
    "        [6] проверка на стоп-слова\n",
    "\n",
    "    на выходе лист лемматизированых токенов\n",
    "    '''\n",
    "    \n",
    "    # [0]\n",
    "    if not isinstance(text, str):\n",
    "        text = str(text)\n",
    "        \n",
    "    # [1]\n",
    "    tokens = list(tokenize(text))\n",
    "    words = [_.text for _ in tokens]\n",
    "    \n",
    "    words_lem = []\n",
    "    for w in words:\n",
    "        if w[0] == '-': # [2]\n",
    "            w = w[1:]\n",
    "        if len(w) > 1: # [3]\n",
    "            if w in cache: # [4]\n",
    "                words_lem.append(cache[w])\n",
    "            else: # [5]\n",
    "                temp_cach = cache[w] = morph.parse(w)[0].normal_form\n",
    "                words_lem.append(temp_cach)\n",
    "    \n",
    "    words_lem_without_stopwords = [i for i in words_lem if not i in stopword_ru]\n",
    "    \n",
    "    return words_lem_without_stopwords"
   ]
  },
  {
   "cell_type": "code",
   "execution_count": 12,
   "id": "962a1514",
   "metadata": {},
   "outputs": [
    {
     "name": "stderr",
     "output_type": "stream",
     "text": [
      "C:\\Users\\adurz\\AppData\\Local\\Temp/ipykernel_14640/415316496.py:11: FutureWarning: Possible nested set at position 39\n",
      "  text = re.sub(\"[0-9]|[-—.,:;_%©«»?*!@#№$^•·&()]|[+=]|[[]|[]]|[/]|\", '', text)\n"
     ]
    },
    {
     "data": {
      "text/plain": [
       "0    заместитель председателя правительства рф серг...\n",
       "1    матч  финала кубка россии по футболу был приос...\n",
       "Name: title, dtype: object"
      ]
     },
     "execution_count": 12,
     "metadata": {},
     "output_type": "execute_result"
    }
   ],
   "source": [
    "news['title'].iloc[:2].apply(lambda x: clean_text(x))"
   ]
  },
  {
   "cell_type": "code",
   "execution_count": 13,
   "id": "ff16e445",
   "metadata": {},
   "outputs": [
    {
     "name": "stderr",
     "output_type": "stream",
     "text": [
      "100%|██████████████████████████████████████████████████████████████████████████| 27000/27000 [00:26<00:00, 1034.18it/s]"
     ]
    },
    {
     "name": "stdout",
     "output_type": "stream",
     "text": [
      "Wall time: 26.2 s\n"
     ]
    },
    {
     "name": "stderr",
     "output_type": "stream",
     "text": [
      "\n"
     ]
    }
   ],
   "source": [
    "%%time\n",
    "\n",
    "from tqdm import tqdm\n",
    "tqdm.pandas()\n",
    "\n",
    "news['title'] = news['title'].progress_apply(clean_text)"
   ]
  },
  {
   "cell_type": "code",
   "execution_count": 14,
   "id": "5cc72fc6",
   "metadata": {},
   "outputs": [
    {
     "data": {
      "text/plain": [
       "0    заместитель председателя правительства рф серг...\n",
       "1    матч  финала кубка россии по футболу был приос...\n",
       "Name: title, dtype: object"
      ]
     },
     "execution_count": 14,
     "metadata": {},
     "output_type": "execute_result"
    }
   ],
   "source": [
    "news['title'].iloc[:2]"
   ]
  },
  {
   "cell_type": "code",
   "execution_count": 15,
   "id": "3172ec06",
   "metadata": {},
   "outputs": [
    {
     "data": {
      "text/plain": [
       "0    [заместитель, председатель, правительство, рф,...\n",
       "1    [матч, финал, кубок, россия, футбол, приостано...\n",
       "Name: title, dtype: object"
      ]
     },
     "execution_count": 15,
     "metadata": {},
     "output_type": "execute_result"
    }
   ],
   "source": [
    "news['title'].iloc[:2].apply(lambda x: lemmatization(x))"
   ]
  },
  {
   "cell_type": "code",
   "execution_count": 16,
   "id": "a1923640",
   "metadata": {},
   "outputs": [
    {
     "name": "stderr",
     "output_type": "stream",
     "text": [
      "100%|███████████████████████████████████████████████████████████████████████████| 27000/27000 [02:55<00:00, 153.65it/s]"
     ]
    },
    {
     "name": "stdout",
     "output_type": "stream",
     "text": [
      "Wall time: 2min 55s\n"
     ]
    },
    {
     "name": "stderr",
     "output_type": "stream",
     "text": [
      "\n"
     ]
    }
   ],
   "source": [
    "%%time\n",
    "\n",
    "news['title'] = news['title'].progress_apply(lemmatization)"
   ]
  },
  {
   "cell_type": "code",
   "execution_count": 17,
   "id": "7c24a8d9",
   "metadata": {},
   "outputs": [],
   "source": [
    "# формируем список наших текстов\n",
    "texts = list(news['title'].values)"
   ]
  },
  {
   "cell_type": "code",
   "execution_count": 18,
   "id": "ee6848f4",
   "metadata": {},
   "outputs": [],
   "source": [
    "# Создаем корпус из списка с текстами\n",
    "common_dictionary = Dictionary(texts)\n",
    "common_corpus = [common_dictionary.doc2bow(text) for text in texts]"
   ]
  },
  {
   "cell_type": "code",
   "execution_count": 19,
   "id": "5c48e7fc",
   "metadata": {},
   "outputs": [
    {
     "data": {
      "text/plain": [
       "135645"
      ]
     },
     "execution_count": 19,
     "metadata": {},
     "output_type": "execute_result"
    }
   ],
   "source": [
    "len(common_dictionary)"
   ]
  },
  {
   "cell_type": "code",
   "execution_count": 20,
   "id": "b8c2bf7b",
   "metadata": {},
   "outputs": [],
   "source": [
    "# Количество тем\n",
    "\n",
    "N_topic = 20"
   ]
  },
  {
   "cell_type": "code",
   "execution_count": 24,
   "id": "32c87fbd",
   "metadata": {},
   "outputs": [],
   "source": [
    "# %%time\n",
    "from gensim.models import LdaModel\n",
    "\n",
    "# # Обучаем модель на корпусе\n",
    "# lda = LdaModel(common_corpus, num_topics=N_topic, id2word=common_dictionary\n",
    "#                , passes=10\n",
    "#               )"
   ]
  },
  {
   "cell_type": "code",
   "execution_count": 25,
   "id": "5209cb44",
   "metadata": {},
   "outputs": [],
   "source": [
    "# from gensim.test.utils import datapath\n",
    "\n",
    "# # Сохраняем модель на диск\n",
    "# temp_file = datapath('model.lda')\n",
    "# lda.save(temp_file)"
   ]
  },
  {
   "cell_type": "code",
   "execution_count": 26,
   "id": "b84c486f",
   "metadata": {},
   "outputs": [],
   "source": [
    "# загружаем обученную модель с диска\n",
    "lda = LdaModel.load(temp_file)"
   ]
  },
  {
   "cell_type": "code",
   "execution_count": 27,
   "id": "9b8155ef",
   "metadata": {},
   "outputs": [
    {
     "name": "stdout",
     "output_type": "stream",
     "text": [
      "['матч', 'финал', 'кубок', 'россия', 'футбол', 'приостановить', 'судья', 'изз', 'взрыв', 'пиротехнический', 'снаряд', 'передавать', 'корреспондент', 'газета', 'ru', 'болельщик', 'выбросить', 'поле', 'петарда', 'судья', 'увести', 'команда', 'поле', 'подтрибунный', 'помещение', 'динамовец', 'уйти', 'торпедовец', 'остаться', 'кромка', 'поле', 'матч', 'остановить', 'пять', 'минута', 'газета', 'ru', 'вести', 'онлайнтрансляция', 'матч']\n"
     ]
    }
   ],
   "source": [
    "# Создаем новый корпус документов, которые раньше не видели\n",
    "\n",
    "other_texts = list(news['title'].iloc[:3])\n",
    "other_corpus = [common_dictionary.doc2bow(text) for text in other_texts]\n",
    "\n",
    "unseen_doc = other_corpus[1]\n",
    "print(other_texts[1])\n",
    "pfs = lda[unseen_doc]"
   ]
  },
  {
   "cell_type": "code",
   "execution_count": 28,
   "id": "f6fbab40",
   "metadata": {},
   "outputs": [],
   "source": [
    "x = lda.show_topics(num_topics=N_topic, num_words=7, formatted=False)\n",
    "topics_words = [(tp[0], [wd[0] for wd in tp[1]]) for tp in x]"
   ]
  },
  {
   "cell_type": "code",
   "execution_count": 29,
   "id": "11ec0408",
   "metadata": {
    "scrolled": false
   },
   "outputs": [
    {
     "name": "stdout",
     "output_type": "stream",
     "text": [
      "topic_0: газета всё исследование ru система новый научный\n",
      "topic_1: украина украинский киев восток экипаж остров пётр\n",
      "topic_2: всё день очень жизнь хороший большой температура\n",
      "topic_3: иран треть кремль автобус железный новак корь\n",
      "topic_4: медведев законодательство медицина лодка юрист грузия сценарий\n",
      "topic_5: земля обнаружить область день место погибнуть выяснить\n",
      "topic_6: ребёнок женщина мужчина сотрудник семья дом журнал\n",
      "topic_7: игра команда место определение россия золото таиланд\n",
      "topic_8: край энергия ступень краснодарский задать практический тесный\n",
      "topic_9: наука москва проект программа мероприятие новый площадь\n",
      "topic_10: район взрыв турция удар произойти армия поверхность\n",
      "topic_11: россия российский глава вопрос сторона государство путин\n",
      "topic_12: британский великобритания франция обращение французский миссия американский\n",
      "topic_13: газ продукция спрос фестиваль европа германия участник\n",
      "topic_14: сша военный российский американский россия новый китай\n",
      "topic_15: северный южный корея сократиться япония су резерв\n",
      "topic_16: млрд фонд решение закон правительство документ государственный\n",
      "topic_17: млн рост рубль рынок цена уровень тыс\n",
      "topic_18: университет студент изучение полоса употребление актуальный дополнительно\n",
      "topic_19: банк гражданин операция россия служба белоруссия рф\n"
     ]
    }
   ],
   "source": [
    "# Печатаем только слова\n",
    "for topic, words in topics_words:\n",
    "    print(f'topic_{topic}: ' + ' '.join(words))"
   ]
  },
  {
   "cell_type": "code",
   "execution_count": 30,
   "id": "62cf43aa",
   "metadata": {},
   "outputs": [],
   "source": [
    "# векторное представление новости\n",
    "\n",
    "def get_lda_vector(lda, text):\n",
    "    unseen_doc = common_dictionary.doc2bow(text)\n",
    "    lda_tuple = lda[unseen_doc]\n",
    "    \n",
    "    not_null_topics = dict(zip([i[0] for i in lda_tuple], [i[1] for i in lda_tuple]))\n",
    "    \n",
    "    output_vector = []\n",
    "    for i in range(N_topic):\n",
    "        if i not in not_null_topics:\n",
    "            output_vector.append(0)\n",
    "        else:\n",
    "            output_vector.append(not_null_topics[i])\n",
    "    return np.array(output_vector)"
   ]
  },
  {
   "cell_type": "code",
   "execution_count": 31,
   "id": "84988e1b",
   "metadata": {},
   "outputs": [
    {
     "data": {
      "text/plain": [
       "array([0.        , 0.        , 0.04545455, 0.01010877, 0.        ,\n",
       "       0.01579277, 0.        , 0.09375294, 0.        , 0.        ,\n",
       "       0.        , 0.11321323, 0.        , 0.        , 0.        ,\n",
       "       0.        , 0.4015663 , 0.        , 0.        , 0.31384969])"
      ]
     },
     "execution_count": 31,
     "metadata": {},
     "output_type": "execute_result"
    }
   ],
   "source": [
    "get_lda_vector(lda, news['title'].iloc[0])"
   ]
  },
  {
   "cell_type": "code",
   "execution_count": 32,
   "id": "faa1fc88",
   "metadata": {},
   "outputs": [
    {
     "name": "stdout",
     "output_type": "stream",
     "text": [
      "Wall time: 31.3 s\n"
     ]
    }
   ],
   "source": [
    "%%time\n",
    "topic_matrix = pd.DataFrame([get_lda_vector(lda, text) for text in news['title'].values])"
   ]
  },
  {
   "cell_type": "code",
   "execution_count": 33,
   "id": "f12736a2",
   "metadata": {},
   "outputs": [],
   "source": [
    "topic_matrix.columns = [f'topic_{i}' for i in range(N_topic)]"
   ]
  },
  {
   "cell_type": "code",
   "execution_count": 35,
   "id": "2c42892d",
   "metadata": {},
   "outputs": [
    {
     "data": {
      "text/html": [
       "<div>\n",
       "<style scoped>\n",
       "    .dataframe tbody tr th:only-of-type {\n",
       "        vertical-align: middle;\n",
       "    }\n",
       "\n",
       "    .dataframe tbody tr th {\n",
       "        vertical-align: top;\n",
       "    }\n",
       "\n",
       "    .dataframe thead th {\n",
       "        text-align: right;\n",
       "    }\n",
       "</style>\n",
       "<table border=\"1\" class=\"dataframe\">\n",
       "  <thead>\n",
       "    <tr style=\"text-align: right;\">\n",
       "      <th></th>\n",
       "      <th>doc_id</th>\n",
       "      <th>topic_0</th>\n",
       "      <th>topic_1</th>\n",
       "      <th>topic_2</th>\n",
       "      <th>topic_3</th>\n",
       "      <th>topic_4</th>\n",
       "      <th>topic_5</th>\n",
       "      <th>topic_6</th>\n",
       "      <th>topic_7</th>\n",
       "      <th>topic_8</th>\n",
       "      <th>...</th>\n",
       "      <th>topic_10</th>\n",
       "      <th>topic_11</th>\n",
       "      <th>topic_12</th>\n",
       "      <th>topic_13</th>\n",
       "      <th>topic_14</th>\n",
       "      <th>topic_15</th>\n",
       "      <th>topic_16</th>\n",
       "      <th>topic_17</th>\n",
       "      <th>topic_18</th>\n",
       "      <th>topic_19</th>\n",
       "    </tr>\n",
       "  </thead>\n",
       "  <tbody>\n",
       "    <tr>\n",
       "      <th>2546</th>\n",
       "      <td>7441</td>\n",
       "      <td>0.026569</td>\n",
       "      <td>0.000000</td>\n",
       "      <td>0.504659</td>\n",
       "      <td>0.0</td>\n",
       "      <td>0.018131</td>\n",
       "      <td>0.047345</td>\n",
       "      <td>0.000000</td>\n",
       "      <td>0.196894</td>\n",
       "      <td>0.0</td>\n",
       "      <td>...</td>\n",
       "      <td>0.021020</td>\n",
       "      <td>0.152618</td>\n",
       "      <td>0.000000</td>\n",
       "      <td>0.000000</td>\n",
       "      <td>0.023794</td>\n",
       "      <td>0.000000</td>\n",
       "      <td>0.000000</td>\n",
       "      <td>0.000000</td>\n",
       "      <td>0.0</td>\n",
       "      <td>0.000000</td>\n",
       "    </tr>\n",
       "    <tr>\n",
       "      <th>25719</th>\n",
       "      <td>495340</td>\n",
       "      <td>0.369012</td>\n",
       "      <td>0.000000</td>\n",
       "      <td>0.101668</td>\n",
       "      <td>0.0</td>\n",
       "      <td>0.000000</td>\n",
       "      <td>0.220534</td>\n",
       "      <td>0.029204</td>\n",
       "      <td>0.000000</td>\n",
       "      <td>0.0</td>\n",
       "      <td>...</td>\n",
       "      <td>0.000000</td>\n",
       "      <td>0.063928</td>\n",
       "      <td>0.000000</td>\n",
       "      <td>0.027229</td>\n",
       "      <td>0.000000</td>\n",
       "      <td>0.000000</td>\n",
       "      <td>0.000000</td>\n",
       "      <td>0.174010</td>\n",
       "      <td>0.0</td>\n",
       "      <td>0.000000</td>\n",
       "    </tr>\n",
       "    <tr>\n",
       "      <th>14000</th>\n",
       "      <td>477562</td>\n",
       "      <td>0.000000</td>\n",
       "      <td>0.152639</td>\n",
       "      <td>0.000000</td>\n",
       "      <td>0.0</td>\n",
       "      <td>0.096496</td>\n",
       "      <td>0.077251</td>\n",
       "      <td>0.025421</td>\n",
       "      <td>0.163655</td>\n",
       "      <td>0.0</td>\n",
       "      <td>...</td>\n",
       "      <td>0.027865</td>\n",
       "      <td>0.000000</td>\n",
       "      <td>0.000000</td>\n",
       "      <td>0.117900</td>\n",
       "      <td>0.000000</td>\n",
       "      <td>0.025005</td>\n",
       "      <td>0.000000</td>\n",
       "      <td>0.025764</td>\n",
       "      <td>0.0</td>\n",
       "      <td>0.000000</td>\n",
       "    </tr>\n",
       "    <tr>\n",
       "      <th>8054</th>\n",
       "      <td>294440</td>\n",
       "      <td>0.189017</td>\n",
       "      <td>0.039236</td>\n",
       "      <td>0.020340</td>\n",
       "      <td>0.0</td>\n",
       "      <td>0.000000</td>\n",
       "      <td>0.000000</td>\n",
       "      <td>0.000000</td>\n",
       "      <td>0.000000</td>\n",
       "      <td>0.0</td>\n",
       "      <td>...</td>\n",
       "      <td>0.000000</td>\n",
       "      <td>0.000000</td>\n",
       "      <td>0.000000</td>\n",
       "      <td>0.084189</td>\n",
       "      <td>0.099068</td>\n",
       "      <td>0.000000</td>\n",
       "      <td>0.294871</td>\n",
       "      <td>0.000000</td>\n",
       "      <td>0.0</td>\n",
       "      <td>0.000000</td>\n",
       "    </tr>\n",
       "    <tr>\n",
       "      <th>5330</th>\n",
       "      <td>324093</td>\n",
       "      <td>0.000000</td>\n",
       "      <td>0.067633</td>\n",
       "      <td>0.000000</td>\n",
       "      <td>0.0</td>\n",
       "      <td>0.000000</td>\n",
       "      <td>0.000000</td>\n",
       "      <td>0.307944</td>\n",
       "      <td>0.000000</td>\n",
       "      <td>0.0</td>\n",
       "      <td>...</td>\n",
       "      <td>0.114670</td>\n",
       "      <td>0.000000</td>\n",
       "      <td>0.033246</td>\n",
       "      <td>0.000000</td>\n",
       "      <td>0.000000</td>\n",
       "      <td>0.000000</td>\n",
       "      <td>0.171848</td>\n",
       "      <td>0.000000</td>\n",
       "      <td>0.0</td>\n",
       "      <td>0.222906</td>\n",
       "    </tr>\n",
       "  </tbody>\n",
       "</table>\n",
       "<p>5 rows × 21 columns</p>\n",
       "</div>"
      ],
      "text/plain": [
       "       doc_id   topic_0   topic_1   topic_2  topic_3   topic_4   topic_5  \\\n",
       "2546     7441  0.026569  0.000000  0.504659      0.0  0.018131  0.047345   \n",
       "25719  495340  0.369012  0.000000  0.101668      0.0  0.000000  0.220534   \n",
       "14000  477562  0.000000  0.152639  0.000000      0.0  0.096496  0.077251   \n",
       "8054   294440  0.189017  0.039236  0.020340      0.0  0.000000  0.000000   \n",
       "5330   324093  0.000000  0.067633  0.000000      0.0  0.000000  0.000000   \n",
       "\n",
       "        topic_6   topic_7  topic_8  ...  topic_10  topic_11  topic_12  \\\n",
       "2546   0.000000  0.196894      0.0  ...  0.021020  0.152618  0.000000   \n",
       "25719  0.029204  0.000000      0.0  ...  0.000000  0.063928  0.000000   \n",
       "14000  0.025421  0.163655      0.0  ...  0.027865  0.000000  0.000000   \n",
       "8054   0.000000  0.000000      0.0  ...  0.000000  0.000000  0.000000   \n",
       "5330   0.307944  0.000000      0.0  ...  0.114670  0.000000  0.033246   \n",
       "\n",
       "       topic_13  topic_14  topic_15  topic_16  topic_17  topic_18  topic_19  \n",
       "2546   0.000000  0.023794  0.000000  0.000000  0.000000       0.0  0.000000  \n",
       "25719  0.027229  0.000000  0.000000  0.000000  0.174010       0.0  0.000000  \n",
       "14000  0.117900  0.000000  0.025005  0.000000  0.025764       0.0  0.000000  \n",
       "8054   0.084189  0.099068  0.000000  0.294871  0.000000       0.0  0.000000  \n",
       "5330   0.000000  0.000000  0.000000  0.171848  0.000000       0.0  0.222906  \n",
       "\n",
       "[5 rows x 21 columns]"
      ]
     },
     "execution_count": 35,
     "metadata": {},
     "output_type": "execute_result"
    }
   ],
   "source": [
    "topic_matrix['doc_id'] = news['doc_id'].values\n",
    "topic_matrix = topic_matrix[['doc_id'] + [f'topic_{i}' for i in range(N_topic)]]\n",
    "topic_matrix.sample(5)"
   ]
  },
  {
   "cell_type": "markdown",
   "id": "990af4a7",
   "metadata": {},
   "source": [
    "## Векторное представление пользователей"
   ]
  },
  {
   "cell_type": "code",
   "execution_count": 53,
   "id": "5b81ce42",
   "metadata": {},
   "outputs": [
    {
     "data": {
      "text/plain": [
       "(8000, 2)"
      ]
     },
     "execution_count": 53,
     "metadata": {},
     "output_type": "execute_result"
    }
   ],
   "source": [
    "users.shape"
   ]
  },
  {
   "cell_type": "code",
   "execution_count": 36,
   "id": "0ee04979",
   "metadata": {},
   "outputs": [
    {
     "data": {
      "text/html": [
       "<div>\n",
       "<style scoped>\n",
       "    .dataframe tbody tr th:only-of-type {\n",
       "        vertical-align: middle;\n",
       "    }\n",
       "\n",
       "    .dataframe tbody tr th {\n",
       "        vertical-align: top;\n",
       "    }\n",
       "\n",
       "    .dataframe thead th {\n",
       "        text-align: right;\n",
       "    }\n",
       "</style>\n",
       "<table border=\"1\" class=\"dataframe\">\n",
       "  <thead>\n",
       "    <tr style=\"text-align: right;\">\n",
       "      <th></th>\n",
       "      <th>uid</th>\n",
       "      <th>articles</th>\n",
       "    </tr>\n",
       "  </thead>\n",
       "  <tbody>\n",
       "    <tr>\n",
       "      <th>5369</th>\n",
       "      <td>u101144</td>\n",
       "      <td>[6684, 7739, 7088, 6312, 6077, 495267]</td>\n",
       "    </tr>\n",
       "    <tr>\n",
       "      <th>2888</th>\n",
       "      <td>u107040</td>\n",
       "      <td>[322436, 322130, 322212, 322372, 322483, 471634]</td>\n",
       "    </tr>\n",
       "    <tr>\n",
       "      <th>7030</th>\n",
       "      <td>u107337</td>\n",
       "      <td>[322149, 324651, 324314, 323550, 322359, 474821]</td>\n",
       "    </tr>\n",
       "  </tbody>\n",
       "</table>\n",
       "</div>"
      ],
      "text/plain": [
       "          uid                                          articles\n",
       "5369  u101144            [6684, 7739, 7088, 6312, 6077, 495267]\n",
       "2888  u107040  [322436, 322130, 322212, 322372, 322483, 471634]\n",
       "7030  u107337  [322149, 324651, 324314, 323550, 322359, 474821]"
      ]
     },
     "execution_count": 36,
     "metadata": {},
     "output_type": "execute_result"
    }
   ],
   "source": [
    "users.sample(3)"
   ]
  },
  {
   "cell_type": "code",
   "execution_count": 37,
   "id": "e09f1dc0",
   "metadata": {},
   "outputs": [],
   "source": [
    "doc_dict = dict(zip(topic_matrix['doc_id'].values, topic_matrix[[f'topic_{i}' for i in range(N_topic)]].values))"
   ]
  },
  {
   "cell_type": "code",
   "execution_count": 39,
   "id": "06046770",
   "metadata": {},
   "outputs": [
    {
     "data": {
      "text/plain": [
       "array([0.        , 0.        , 0.        , 0.        , 0.        ,\n",
       "       0.04822944, 0.        , 0.04763711, 0.        , 0.0449315 ,\n",
       "       0.        , 0.41901779, 0.        , 0.        , 0.02385179,\n",
       "       0.        , 0.40836   , 0.        , 0.        , 0.        ])"
      ]
     },
     "execution_count": 39,
     "metadata": {},
     "output_type": "execute_result"
    }
   ],
   "source": [
    "doc_dict[47]"
   ]
  },
  {
   "cell_type": "code",
   "execution_count": 69,
   "id": "528a1e96",
   "metadata": {},
   "outputs": [],
   "source": [
    "def get_user_embedding(user_articles_list, doc_dict):\n",
    "    user_articles_list = eval(user_articles_list)\n",
    "    user_vector = np.array([doc_dict[doc_id] for doc_id in user_articles_list])\n",
    "#     print(user_vector)\n",
    "    user_vector = np.mean(user_vector, axis=0)\n",
    "    return user_vector"
   ]
  },
  {
   "cell_type": "code",
   "execution_count": 70,
   "id": "0ac60849",
   "metadata": {},
   "outputs": [
    {
     "data": {
      "text/plain": [
       "array([0.15226346, 0.00257361, 0.01002406, 0.        , 0.00218105,\n",
       "       0.02691051, 0.13687664, 0.        , 0.        , 0.02624031,\n",
       "       0.00286789, 0.25497293, 0.01493789, 0.01063793, 0.14004493,\n",
       "       0.        , 0.12734335, 0.04528635, 0.0021146 , 0.03049206])"
      ]
     },
     "execution_count": 70,
     "metadata": {},
     "output_type": "execute_result"
    }
   ],
   "source": [
    "user_articles_list = users['articles'].iloc[33]\n",
    "\n",
    "get_user_embedding(user_articles_list, doc_dict)"
   ]
  },
  {
   "cell_type": "code",
   "execution_count": 71,
   "id": "a8421583",
   "metadata": {},
   "outputs": [
    {
     "name": "stdout",
     "output_type": "stream",
     "text": [
      "Wall time: 460 ms\n"
     ]
    }
   ],
   "source": [
    "%%time\n",
    "user_embeddings = pd.DataFrame([i for i in users['articles'].apply(lambda x: get_user_embedding(x, doc_dict))])\n",
    "user_embeddings.columns = [f'topic_{i}' for i in range(N_topic)]\n",
    "user_embeddings['uid'] = users['uid'].values\n",
    "user_embeddings = user_embeddings[['uid'] + [f'topic_{i}' for i in range(N_topic)]]"
   ]
  },
  {
   "cell_type": "code",
   "execution_count": 72,
   "id": "e164b171",
   "metadata": {},
   "outputs": [
    {
     "data": {
      "text/html": [
       "<div>\n",
       "<style scoped>\n",
       "    .dataframe tbody tr th:only-of-type {\n",
       "        vertical-align: middle;\n",
       "    }\n",
       "\n",
       "    .dataframe tbody tr th {\n",
       "        vertical-align: top;\n",
       "    }\n",
       "\n",
       "    .dataframe thead th {\n",
       "        text-align: right;\n",
       "    }\n",
       "</style>\n",
       "<table border=\"1\" class=\"dataframe\">\n",
       "  <thead>\n",
       "    <tr style=\"text-align: right;\">\n",
       "      <th></th>\n",
       "      <th>uid</th>\n",
       "      <th>topic_0</th>\n",
       "      <th>topic_1</th>\n",
       "      <th>topic_2</th>\n",
       "      <th>topic_3</th>\n",
       "      <th>topic_4</th>\n",
       "      <th>topic_5</th>\n",
       "      <th>topic_6</th>\n",
       "      <th>topic_7</th>\n",
       "      <th>topic_8</th>\n",
       "      <th>...</th>\n",
       "      <th>topic_10</th>\n",
       "      <th>topic_11</th>\n",
       "      <th>topic_12</th>\n",
       "      <th>topic_13</th>\n",
       "      <th>topic_14</th>\n",
       "      <th>topic_15</th>\n",
       "      <th>topic_16</th>\n",
       "      <th>topic_17</th>\n",
       "      <th>topic_18</th>\n",
       "      <th>topic_19</th>\n",
       "    </tr>\n",
       "  </thead>\n",
       "  <tbody>\n",
       "    <tr>\n",
       "      <th>0</th>\n",
       "      <td>u105138</td>\n",
       "      <td>0.178460</td>\n",
       "      <td>0.044048</td>\n",
       "      <td>0.030954</td>\n",
       "      <td>0.000000</td>\n",
       "      <td>0.000000</td>\n",
       "      <td>0.049634</td>\n",
       "      <td>0.118016</td>\n",
       "      <td>0.019113</td>\n",
       "      <td>0.002872</td>\n",
       "      <td>...</td>\n",
       "      <td>0.046803</td>\n",
       "      <td>0.041865</td>\n",
       "      <td>0.028232</td>\n",
       "      <td>0.054681</td>\n",
       "      <td>0.014194</td>\n",
       "      <td>0.002827</td>\n",
       "      <td>0.131852</td>\n",
       "      <td>0.054415</td>\n",
       "      <td>0.0</td>\n",
       "      <td>0.025899</td>\n",
       "    </tr>\n",
       "    <tr>\n",
       "      <th>1</th>\n",
       "      <td>u108690</td>\n",
       "      <td>0.181981</td>\n",
       "      <td>0.043422</td>\n",
       "      <td>0.092483</td>\n",
       "      <td>0.001918</td>\n",
       "      <td>0.002519</td>\n",
       "      <td>0.041169</td>\n",
       "      <td>0.127751</td>\n",
       "      <td>0.000000</td>\n",
       "      <td>0.000000</td>\n",
       "      <td>...</td>\n",
       "      <td>0.021650</td>\n",
       "      <td>0.226670</td>\n",
       "      <td>0.014644</td>\n",
       "      <td>0.004154</td>\n",
       "      <td>0.042968</td>\n",
       "      <td>0.004813</td>\n",
       "      <td>0.079434</td>\n",
       "      <td>0.037582</td>\n",
       "      <td>0.0</td>\n",
       "      <td>0.024498</td>\n",
       "    </tr>\n",
       "    <tr>\n",
       "      <th>2</th>\n",
       "      <td>u108339</td>\n",
       "      <td>0.115410</td>\n",
       "      <td>0.000000</td>\n",
       "      <td>0.071666</td>\n",
       "      <td>0.000000</td>\n",
       "      <td>0.000000</td>\n",
       "      <td>0.137762</td>\n",
       "      <td>0.183367</td>\n",
       "      <td>0.000000</td>\n",
       "      <td>0.002144</td>\n",
       "      <td>...</td>\n",
       "      <td>0.039647</td>\n",
       "      <td>0.103544</td>\n",
       "      <td>0.013548</td>\n",
       "      <td>0.015642</td>\n",
       "      <td>0.048216</td>\n",
       "      <td>0.000000</td>\n",
       "      <td>0.121698</td>\n",
       "      <td>0.026042</td>\n",
       "      <td>0.0</td>\n",
       "      <td>0.052754</td>\n",
       "    </tr>\n",
       "  </tbody>\n",
       "</table>\n",
       "<p>3 rows × 21 columns</p>\n",
       "</div>"
      ],
      "text/plain": [
       "       uid   topic_0   topic_1   topic_2   topic_3   topic_4   topic_5  \\\n",
       "0  u105138  0.178460  0.044048  0.030954  0.000000  0.000000  0.049634   \n",
       "1  u108690  0.181981  0.043422  0.092483  0.001918  0.002519  0.041169   \n",
       "2  u108339  0.115410  0.000000  0.071666  0.000000  0.000000  0.137762   \n",
       "\n",
       "    topic_6   topic_7   topic_8  ...  topic_10  topic_11  topic_12  topic_13  \\\n",
       "0  0.118016  0.019113  0.002872  ...  0.046803  0.041865  0.028232  0.054681   \n",
       "1  0.127751  0.000000  0.000000  ...  0.021650  0.226670  0.014644  0.004154   \n",
       "2  0.183367  0.000000  0.002144  ...  0.039647  0.103544  0.013548  0.015642   \n",
       "\n",
       "   topic_14  topic_15  topic_16  topic_17  topic_18  topic_19  \n",
       "0  0.014194  0.002827  0.131852  0.054415       0.0  0.025899  \n",
       "1  0.042968  0.004813  0.079434  0.037582       0.0  0.024498  \n",
       "2  0.048216  0.000000  0.121698  0.026042       0.0  0.052754  \n",
       "\n",
       "[3 rows x 21 columns]"
      ]
     },
     "execution_count": 72,
     "metadata": {},
     "output_type": "execute_result"
    }
   ],
   "source": [
    "user_embeddings.head(3)"
   ]
  },
  {
   "cell_type": "code",
   "execution_count": 74,
   "id": "06d5137f",
   "metadata": {},
   "outputs": [
    {
     "data": {
      "text/html": [
       "<div>\n",
       "<style scoped>\n",
       "    .dataframe tbody tr th:only-of-type {\n",
       "        vertical-align: middle;\n",
       "    }\n",
       "\n",
       "    .dataframe tbody tr th {\n",
       "        vertical-align: top;\n",
       "    }\n",
       "\n",
       "    .dataframe thead th {\n",
       "        text-align: right;\n",
       "    }\n",
       "</style>\n",
       "<table border=\"1\" class=\"dataframe\">\n",
       "  <thead>\n",
       "    <tr style=\"text-align: right;\">\n",
       "      <th></th>\n",
       "      <th>uid</th>\n",
       "      <th>churn</th>\n",
       "    </tr>\n",
       "  </thead>\n",
       "  <tbody>\n",
       "    <tr>\n",
       "      <th>0</th>\n",
       "      <td>u107120</td>\n",
       "      <td>0</td>\n",
       "    </tr>\n",
       "    <tr>\n",
       "      <th>1</th>\n",
       "      <td>u102277</td>\n",
       "      <td>0</td>\n",
       "    </tr>\n",
       "    <tr>\n",
       "      <th>2</th>\n",
       "      <td>u102444</td>\n",
       "      <td>0</td>\n",
       "    </tr>\n",
       "  </tbody>\n",
       "</table>\n",
       "</div>"
      ],
      "text/plain": [
       "       uid  churn\n",
       "0  u107120      0\n",
       "1  u102277      0\n",
       "2  u102444      0"
      ]
     },
     "execution_count": 74,
     "metadata": {},
     "output_type": "execute_result"
    }
   ],
   "source": [
    "target = pd.read_csv('users_churn.csv')\n",
    "target.head(3)"
   ]
  },
  {
   "cell_type": "code",
   "execution_count": null,
   "id": "3fd1bbd3",
   "metadata": {},
   "outputs": [],
   "source": []
  }
 ],
 "metadata": {
  "kernelspec": {
   "display_name": "Python 3 (ipykernel)",
   "language": "python",
   "name": "python3"
  },
  "language_info": {
   "codemirror_mode": {
    "name": "ipython",
    "version": 3
   },
   "file_extension": ".py",
   "mimetype": "text/x-python",
   "name": "python",
   "nbconvert_exporter": "python",
   "pygments_lexer": "ipython3",
   "version": "3.10.0"
  }
 },
 "nbformat": 4,
 "nbformat_minor": 5
}
