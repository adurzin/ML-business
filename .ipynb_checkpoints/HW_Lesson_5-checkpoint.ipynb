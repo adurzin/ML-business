{
 "cells": [
  {
   "cell_type": "markdown",
   "id": "9334af86",
   "metadata": {},
   "source": [
    "# HW_Lesson_5"
   ]
  },
  {
   "cell_type": "markdown",
   "id": "cdaa06e2",
   "metadata": {},
   "source": [
    "**1). Для нашего пайплайна (Case1) поэкспериментировать с разными моделями:**\n",
    "- бустинг\n",
    "- логистическая регрессия"
   ]
  },
  {
   "cell_type": "code",
   "execution_count": 126,
   "id": "d356c94e",
   "metadata": {},
   "outputs": [],
   "source": [
    "import pandas as pd\n",
    "import numpy as np\n",
    "from sklearn.pipeline import Pipeline, FeatureUnion, make_pipeline\n",
    "from sklearn.base import BaseEstimator, TransformerMixin\n",
    "from sklearn.model_selection import train_test_split\n",
    "from sklearn.linear_model import LogisticRegression\n",
    "from sklearn.ensemble import RandomForestClassifier\n",
    "from catboost import CatBoostClassifier\n",
    "import lightgbm\n",
    "from xgboost import XGBRFClassifier\n",
    "from sklearn.metrics import f1_score, precision_recall_curve, roc_auc_score, classification_report, confusion_matrix\n",
    "\n",
    "import matplotlib.pyplot as plt\n",
    "\n",
    "%matplotlib inline"
   ]
  },
  {
   "cell_type": "code",
   "execution_count": 127,
   "id": "d536af83",
   "metadata": {},
   "outputs": [],
   "source": [
    "df = pd.read_csv('Churn_Modelling.csv')"
   ]
  },
  {
   "cell_type": "code",
   "execution_count": 128,
   "id": "00375f6c",
   "metadata": {},
   "outputs": [
    {
     "data": {
      "text/html": [
       "<div>\n",
       "<style scoped>\n",
       "    .dataframe tbody tr th:only-of-type {\n",
       "        vertical-align: middle;\n",
       "    }\n",
       "\n",
       "    .dataframe tbody tr th {\n",
       "        vertical-align: top;\n",
       "    }\n",
       "\n",
       "    .dataframe thead th {\n",
       "        text-align: right;\n",
       "    }\n",
       "</style>\n",
       "<table border=\"1\" class=\"dataframe\">\n",
       "  <thead>\n",
       "    <tr style=\"text-align: right;\">\n",
       "      <th></th>\n",
       "      <th>RowNumber</th>\n",
       "      <th>CustomerId</th>\n",
       "      <th>Surname</th>\n",
       "      <th>CreditScore</th>\n",
       "      <th>Geography</th>\n",
       "      <th>Gender</th>\n",
       "      <th>Age</th>\n",
       "      <th>Tenure</th>\n",
       "      <th>Balance</th>\n",
       "      <th>NumOfProducts</th>\n",
       "      <th>HasCrCard</th>\n",
       "      <th>IsActiveMember</th>\n",
       "      <th>EstimatedSalary</th>\n",
       "      <th>Exited</th>\n",
       "    </tr>\n",
       "  </thead>\n",
       "  <tbody>\n",
       "    <tr>\n",
       "      <th>0</th>\n",
       "      <td>1</td>\n",
       "      <td>15634602</td>\n",
       "      <td>Hargrave</td>\n",
       "      <td>619</td>\n",
       "      <td>France</td>\n",
       "      <td>Female</td>\n",
       "      <td>42</td>\n",
       "      <td>2</td>\n",
       "      <td>0.00</td>\n",
       "      <td>1</td>\n",
       "      <td>1</td>\n",
       "      <td>1</td>\n",
       "      <td>101348.88</td>\n",
       "      <td>1</td>\n",
       "    </tr>\n",
       "    <tr>\n",
       "      <th>1</th>\n",
       "      <td>2</td>\n",
       "      <td>15647311</td>\n",
       "      <td>Hill</td>\n",
       "      <td>608</td>\n",
       "      <td>Spain</td>\n",
       "      <td>Female</td>\n",
       "      <td>41</td>\n",
       "      <td>1</td>\n",
       "      <td>83807.86</td>\n",
       "      <td>1</td>\n",
       "      <td>0</td>\n",
       "      <td>1</td>\n",
       "      <td>112542.58</td>\n",
       "      <td>0</td>\n",
       "    </tr>\n",
       "  </tbody>\n",
       "</table>\n",
       "</div>"
      ],
      "text/plain": [
       "   RowNumber  CustomerId   Surname  CreditScore Geography  Gender  Age  \\\n",
       "0          1    15634602  Hargrave          619    France  Female   42   \n",
       "1          2    15647311      Hill          608     Spain  Female   41   \n",
       "\n",
       "   Tenure   Balance  NumOfProducts  HasCrCard  IsActiveMember  \\\n",
       "0       2      0.00              1          1               1   \n",
       "1       1  83807.86              1          0               1   \n",
       "\n",
       "   EstimatedSalary  Exited  \n",
       "0        101348.88       1  \n",
       "1        112542.58       0  "
      ]
     },
     "execution_count": 128,
     "metadata": {},
     "output_type": "execute_result"
    }
   ],
   "source": [
    "df.head(2)"
   ]
  },
  {
   "cell_type": "code",
   "execution_count": 129,
   "id": "1a046f31",
   "metadata": {},
   "outputs": [
    {
     "data": {
      "text/plain": [
       "0    7963\n",
       "1    2037\n",
       "Name: Exited, dtype: int64"
      ]
     },
     "execution_count": 129,
     "metadata": {},
     "output_type": "execute_result"
    }
   ],
   "source": [
    "df['Exited'].value_counts()"
   ]
  },
  {
   "cell_type": "code",
   "execution_count": 130,
   "id": "61c97df1",
   "metadata": {},
   "outputs": [],
   "source": [
    "X_train, X_test, y_train, y_test = train_test_split(df.drop(columns='Exited'),\n",
    "                                                   df['Exited'], test_size=0.25,\n",
    "                                                   random_state=15, stratify=df['Exited'])"
   ]
  },
  {
   "cell_type": "code",
   "execution_count": 131,
   "id": "5c42e85f",
   "metadata": {},
   "outputs": [],
   "source": [
    "# собираем pipeline\n",
    "class FeatureSelector(BaseEstimator, TransformerMixin):\n",
    "    def __init__(self, column):\n",
    "        self.column = column\n",
    "\n",
    "    def fit(self, X, y=None):\n",
    "        return self\n",
    "\n",
    "    def transform(self, X, y=None):\n",
    "        return X[self.column]\n",
    "    \n",
    "class NumberSelector(BaseEstimator, TransformerMixin):\n",
    "    def __init__(self, key):\n",
    "        self.key = key\n",
    "        \n",
    "    def fit(self, X, y=None):\n",
    "        return self\n",
    "    \n",
    "    def transform(self, X, y=None):\n",
    "        return X[[self.key]]\n",
    "    \n",
    "class OHEEncoder(BaseEstimator, TransformerMixin):\n",
    "    def __init__(self, key):\n",
    "        self.key = key\n",
    "        self.columns = []\n",
    "\n",
    "    def fit(self, X, y=None):\n",
    "        self.columns = [col for col in pd.get_dummies(X, prefix=self.key).columns]\n",
    "        return self\n",
    "\n",
    "    def transform(self, X):\n",
    "        X = pd.get_dummies(X, prefix=self.key)\n",
    "        test_columns = [col for col in X.columns]\n",
    "        \n",
    "        for col_ in self.columns:\n",
    "            if col_ not in test_columns:\n",
    "                X[col_] = 0\n",
    "        return X[self.columns]"
   ]
  },
  {
   "cell_type": "code",
   "execution_count": 132,
   "id": "c2176067",
   "metadata": {},
   "outputs": [
    {
     "data": {
      "text/html": [
       "<div>\n",
       "<style scoped>\n",
       "    .dataframe tbody tr th:only-of-type {\n",
       "        vertical-align: middle;\n",
       "    }\n",
       "\n",
       "    .dataframe tbody tr th {\n",
       "        vertical-align: top;\n",
       "    }\n",
       "\n",
       "    .dataframe thead th {\n",
       "        text-align: right;\n",
       "    }\n",
       "</style>\n",
       "<table border=\"1\" class=\"dataframe\">\n",
       "  <thead>\n",
       "    <tr style=\"text-align: right;\">\n",
       "      <th></th>\n",
       "      <th>RowNumber</th>\n",
       "      <th>CustomerId</th>\n",
       "      <th>Surname</th>\n",
       "      <th>CreditScore</th>\n",
       "      <th>Geography</th>\n",
       "      <th>Gender</th>\n",
       "      <th>Age</th>\n",
       "      <th>Tenure</th>\n",
       "      <th>Balance</th>\n",
       "      <th>NumOfProducts</th>\n",
       "      <th>HasCrCard</th>\n",
       "      <th>IsActiveMember</th>\n",
       "      <th>EstimatedSalary</th>\n",
       "      <th>Exited</th>\n",
       "    </tr>\n",
       "  </thead>\n",
       "  <tbody>\n",
       "    <tr>\n",
       "      <th>893</th>\n",
       "      <td>894</td>\n",
       "      <td>15772781</td>\n",
       "      <td>Ball</td>\n",
       "      <td>703</td>\n",
       "      <td>France</td>\n",
       "      <td>Female</td>\n",
       "      <td>51</td>\n",
       "      <td>3</td>\n",
       "      <td>0.0</td>\n",
       "      <td>3</td>\n",
       "      <td>1</td>\n",
       "      <td>1</td>\n",
       "      <td>77294.56</td>\n",
       "      <td>1</td>\n",
       "    </tr>\n",
       "    <tr>\n",
       "      <th>5013</th>\n",
       "      <td>5014</td>\n",
       "      <td>15626795</td>\n",
       "      <td>Gorman</td>\n",
       "      <td>672</td>\n",
       "      <td>France</td>\n",
       "      <td>Female</td>\n",
       "      <td>40</td>\n",
       "      <td>3</td>\n",
       "      <td>0.0</td>\n",
       "      <td>1</td>\n",
       "      <td>1</td>\n",
       "      <td>0</td>\n",
       "      <td>113171.61</td>\n",
       "      <td>1</td>\n",
       "    </tr>\n",
       "  </tbody>\n",
       "</table>\n",
       "</div>"
      ],
      "text/plain": [
       "      RowNumber  CustomerId Surname  CreditScore Geography  Gender  Age  \\\n",
       "893         894    15772781    Ball          703    France  Female   51   \n",
       "5013       5014    15626795  Gorman          672    France  Female   40   \n",
       "\n",
       "      Tenure  Balance  NumOfProducts  HasCrCard  IsActiveMember  \\\n",
       "893        3      0.0              3          1               1   \n",
       "5013       3      0.0              1          1               0   \n",
       "\n",
       "      EstimatedSalary  Exited  \n",
       "893          77294.56       1  \n",
       "5013        113171.61       1  "
      ]
     },
     "execution_count": 132,
     "metadata": {},
     "output_type": "execute_result"
    }
   ],
   "source": [
    "df.sample(2)"
   ]
  },
  {
   "cell_type": "code",
   "execution_count": 133,
   "id": "a0578172",
   "metadata": {},
   "outputs": [],
   "source": [
    "# Разделение признаков\n",
    "cat_columns = ['Geography', 'Gender', 'Tenure', 'HasCrCard', 'IsActiveMember']\n",
    "continuous_columns = ['CreditScore', 'Age', 'Balance', 'NumOfProducts', 'EstimatedSalary']"
   ]
  },
  {
   "cell_type": "code",
   "execution_count": 134,
   "id": "b13bbea0",
   "metadata": {},
   "outputs": [],
   "source": [
    "final_transformers = list()\n",
    "\n",
    "for cat_col in cat_columns:\n",
    "    cat_transformer = Pipeline([\n",
    "        ('selector', FeatureSelector(column=cat_col)),\n",
    "        ('ohe', OHEEncoder(key=cat_col))\n",
    "    ])\n",
    "    \n",
    "    final_transformers.append((cat_col, cat_transformer))\n",
    "\n",
    "for cont_col in continuous_columns:\n",
    "    cont_transformer = Pipeline([\n",
    "        ('selector', NumberSelector(key=cont_col))\n",
    "                                ])\n",
    "    final_transformers.append((cont_col, cont_transformer))"
   ]
  },
  {
   "cell_type": "code",
   "execution_count": 135,
   "id": "a9ea36cd",
   "metadata": {},
   "outputs": [],
   "source": [
    "feats = FeatureUnion(final_transformers)\n",
    "feature_processing = Pipeline([('feats', feats)])"
   ]
  },
  {
   "cell_type": "code",
   "execution_count": 136,
   "id": "da557c92",
   "metadata": {},
   "outputs": [],
   "source": [
    "# функция нахождения оптимального порога для модели\n",
    "\n",
    "def pipeline_classifier(model):\n",
    "    pipeline = Pipeline([\n",
    "        ('features', feats),\n",
    "        ('classifier', model)\n",
    "    ])\n",
    "    \n",
    "    pipeline.fit(X_train, y_train)\n",
    "    preds = pipeline.predict_proba(X_test)[:, 1]\n",
    "    \n",
    "    precision, recall, thresholds = precision_recall_curve(y_test, preds)\n",
    "\n",
    "    fscore = (2 * precision * recall) / (precision + recall)\n",
    "    ix = np.nanargmax(fscore)\n",
    "    print(f'Best threshold={thresholds[ix]}, F-score = {fscore[ix]:.3f}, \\\n",
    "    Precision = {precision[ix]:.3f}, Recall = {recall[ix]:.3f}')\n",
    "    \n",
    "    return preds, thresholds[ix]"
   ]
  },
  {
   "cell_type": "markdown",
   "id": "e794ea4a",
   "metadata": {},
   "source": [
    "*RandomForestClassifier*"
   ]
  },
  {
   "cell_type": "code",
   "execution_count": 137,
   "id": "c42baa23",
   "metadata": {},
   "outputs": [
    {
     "name": "stdout",
     "output_type": "stream",
     "text": [
      "Best threshold=0.4, F-score = 0.631,     Precision = 0.705, Recall = 0.572\n"
     ]
    },
    {
     "data": {
      "text/plain": [
       "(array([0.22, 0.04, 0.01, ..., 0.41, 0.01, 0.  ]), 0.4)"
      ]
     },
     "execution_count": 137,
     "metadata": {},
     "output_type": "execute_result"
    }
   ],
   "source": [
    "pipeline_classifier(RandomForestClassifier(random_state=14))"
   ]
  },
  {
   "cell_type": "markdown",
   "id": "0752ab97",
   "metadata": {},
   "source": [
    "*LogisticRegression*"
   ]
  },
  {
   "cell_type": "code",
   "execution_count": 138,
   "id": "90f1bc97",
   "metadata": {},
   "outputs": [
    {
     "name": "stdout",
     "output_type": "stream",
     "text": [
      "Best threshold=0.2275352162900428, F-score = 0.406,     Precision = 0.319, Recall = 0.558\n"
     ]
    },
    {
     "data": {
      "text/plain": [
       "(array([0.20831243, 0.1212888 , 0.0730186 , ..., 0.16394312, 0.12985877,\n",
       "        0.06791397]),\n",
       " 0.2275352162900428)"
      ]
     },
     "execution_count": 138,
     "metadata": {},
     "output_type": "execute_result"
    }
   ],
   "source": [
    "pipeline_classifier(LogisticRegression(random_state=14))"
   ]
  },
  {
   "cell_type": "markdown",
   "id": "1f6dbad9",
   "metadata": {},
   "source": [
    "*Lightgbm*"
   ]
  },
  {
   "cell_type": "code",
   "execution_count": 139,
   "id": "e3064f05",
   "metadata": {},
   "outputs": [
    {
     "name": "stdout",
     "output_type": "stream",
     "text": [
      "Best threshold=0.3300176801787979, F-score = 0.622,     Precision = 0.635, Recall = 0.609\n"
     ]
    },
    {
     "data": {
      "text/plain": [
       "(array([0.05909078, 0.04439657, 0.00399244, ..., 0.4094348 , 0.02245124,\n",
       "        0.02494585]),\n",
       " 0.3300176801787979)"
      ]
     },
     "execution_count": 139,
     "metadata": {},
     "output_type": "execute_result"
    }
   ],
   "source": [
    "pipeline_classifier(lightgbm.LGBMClassifier(random_state=14))"
   ]
  },
  {
   "cell_type": "markdown",
   "id": "3398b925",
   "metadata": {},
   "source": [
    "*XGBoost*"
   ]
  },
  {
   "cell_type": "code",
   "execution_count": 140,
   "id": "86f0d682",
   "metadata": {},
   "outputs": [
    {
     "name": "stdout",
     "output_type": "stream",
     "text": [
      "Best threshold=0.34546005725860596, F-score = 0.623,     Precision = 0.678, Recall = 0.576\n"
     ]
    },
    {
     "data": {
      "text/plain": [
       "(array([0.15745042, 0.14073116, 0.12587737, ..., 0.47954518, 0.12617415,\n",
       "        0.12587737], dtype=float32),\n",
       " 0.34546006)"
      ]
     },
     "execution_count": 140,
     "metadata": {},
     "output_type": "execute_result"
    }
   ],
   "source": [
    "pipeline_classifier(XGBRFClassifier(random_state=14))"
   ]
  },
  {
   "cell_type": "markdown",
   "id": "3dab582d",
   "metadata": {},
   "source": [
    "*Catboost*"
   ]
  },
  {
   "cell_type": "code",
   "execution_count": 141,
   "id": "35f7c62b",
   "metadata": {},
   "outputs": [
    {
     "name": "stdout",
     "output_type": "stream",
     "text": [
      "Best threshold=0.4438907438739124, F-score = 0.627,     Precision = 0.735, Recall = 0.546\n"
     ]
    },
    {
     "data": {
      "text/plain": [
       "(array([0.04141454, 0.05125524, 0.00458215, ..., 0.41390666, 0.01326525,\n",
       "        0.01251828]),\n",
       " 0.4438907438739124)"
      ]
     },
     "execution_count": 141,
     "metadata": {},
     "output_type": "execute_result"
    }
   ],
   "source": [
    "pipeline_classifier(CatBoostClassifier(silent=True, random_state=14))"
   ]
  },
  {
   "cell_type": "markdown",
   "id": "022fc315",
   "metadata": {},
   "source": [
    "**2). Отобрать лучшую модель по метрикам (какая по вашему мнению здесь наиболее подходящая ML-метрика)**"
   ]
  },
  {
   "cell_type": "markdown",
   "id": "3c609588",
   "metadata": {},
   "source": [
    "Наиболее подходящей метрикой здесь будет являться Precision(точность), так как важнее не нести затрат на людей, которые не собираются уходить."
   ]
  },
  {
   "cell_type": "markdown",
   "id": "6c6a816c",
   "metadata": {},
   "source": [
    "**3). Для отобранной модели (на отложенной выборке) сделать оценку экономической эффективности при тех же вводных, как в вопросе 2:**\n",
    "   - 1 доллар на удержание\n",
    "   - 2 доллара - с каждого правильно классифицированного (True Positive)"
   ]
  },
  {
   "cell_type": "code",
   "execution_count": 142,
   "id": "fdbed552",
   "metadata": {},
   "outputs": [
    {
     "name": "stdout",
     "output_type": "stream",
     "text": [
      "Best threshold=0.4438907438739124, F-score = 0.627,     Precision = 0.735, Recall = 0.546\n"
     ]
    }
   ],
   "source": [
    "preds, threshold = pipeline_classifier(CatBoostClassifier(silent=True, random_state=14))"
   ]
  },
  {
   "cell_type": "code",
   "execution_count": 143,
   "id": "d85f1b4b",
   "metadata": {},
   "outputs": [],
   "source": [
    "cnf_matrix = confusion_matrix(y_test, preds > threshold)"
   ]
  },
  {
   "cell_type": "code",
   "execution_count": 144,
   "id": "cf47c013",
   "metadata": {},
   "outputs": [],
   "source": [
    "TN = cnf_matrix[0, 0]\n",
    "FN = cnf_matrix[1, 0]\n",
    "FP = cnf_matrix[0, 1]\n",
    "TP = cnf_matrix[1, 1]"
   ]
  },
  {
   "cell_type": "code",
   "execution_count": 145,
   "id": "56c094ef",
   "metadata": {},
   "outputs": [
    {
     "name": "stdout",
     "output_type": "stream",
     "text": [
      "Дополнительный доход: 177\n"
     ]
    }
   ],
   "source": [
    "summ = TP * 2 - (TP + FP) * 1\n",
    "print(f'Дополнительный доход: {summ}')"
   ]
  },
  {
   "cell_type": "code",
   "execution_count": 146,
   "id": "bc08019a",
   "metadata": {},
   "outputs": [],
   "source": [
    "def get_rubles(y_test, probs):\n",
    "    \n",
    "    add_summ = []\n",
    "    thresholds = np.linspace(0, 1, 100)\n",
    "    for i in thresholds:\n",
    "        cnf_matrix = confusion_matrix(y_test, probs > i)\n",
    "        add_summ.append(cnf_matrix[1,1] - cnf_matrix[0,1])\n",
    "        \n",
    "    # locate the index of the largest f score\n",
    "    ix = np.argmax(add_summ)\n",
    "    print('Best Threshold=%.3f, summ=%.3f'%(thresholds[ix], add_summ[ix]))\n",
    "    return thresholds[ix]"
   ]
  },
  {
   "cell_type": "code",
   "execution_count": 147,
   "id": "b0ee229d",
   "metadata": {},
   "outputs": [
    {
     "name": "stdout",
     "output_type": "stream",
     "text": [
      "Best Threshold=0.495, summ=180.000\n"
     ]
    },
    {
     "data": {
      "text/plain": [
       "0.494949494949495"
      ]
     },
     "execution_count": 147,
     "metadata": {},
     "output_type": "execute_result"
    }
   ],
   "source": [
    "get_rubles(y_test, preds)"
   ]
  },
  {
   "cell_type": "markdown",
   "id": "e4a9a73f",
   "metadata": {},
   "source": [
    "*Доп.доход = 180 $*"
   ]
  },
  {
   "cell_type": "markdown",
   "id": "ac394e6c",
   "metadata": {},
   "source": [
    "**4). *Провести подбор гиперпараметров лучшей модели по итогам 2-3**"
   ]
  },
  {
   "cell_type": "markdown",
   "id": "4bed5bb2",
   "metadata": {},
   "source": [
    "Поменяем в функции пайплайна максимизацию f-score на precision"
   ]
  },
  {
   "cell_type": "code",
   "execution_count": 148,
   "id": "ebf16e8e",
   "metadata": {},
   "outputs": [],
   "source": [
    "# from sklearn.model_selection import GridSearchCV"
   ]
  },
  {
   "cell_type": "code",
   "execution_count": 149,
   "id": "01aba626",
   "metadata": {},
   "outputs": [],
   "source": [
    "# params = {\n",
    "#     'classifier__iterations': [100, 300, 600, 1000],\n",
    "#     'classifier__learning_rate': [1, 0.1, 0.01, 0.001],\n",
    "#     'classifier__l2_leaf_reg': [10, 1, 0.1, 0.01, 0.001],\n",
    "#     'classifier__auto_class_weights': ['None', 'Balanced', 'SqrtBalanced']\n",
    "# }"
   ]
  },
  {
   "cell_type": "code",
   "execution_count": 150,
   "id": "ff8c4ab7",
   "metadata": {},
   "outputs": [],
   "source": [
    "# pipeline = Pipeline([\n",
    "#         ('features', feats),\n",
    "#         ('classifier', CatBoostClassifier(verbose=True, random_state=14,\n",
    "#                                           early_stopping_rounds=100, task_type='GPU'))\n",
    "#     ])"
   ]
  },
  {
   "cell_type": "code",
   "execution_count": 151,
   "id": "9183fc9d",
   "metadata": {},
   "outputs": [],
   "source": [
    "# grid = GridSearchCV(pipeline, param_grid=params, cv=6, refit=False)"
   ]
  },
  {
   "cell_type": "code",
   "execution_count": 152,
   "id": "41ee53f9",
   "metadata": {},
   "outputs": [],
   "source": [
    "# %%time\n",
    "# search = grid.fit(X_train, y_train)"
   ]
  },
  {
   "cell_type": "code",
   "execution_count": 153,
   "id": "ae918906",
   "metadata": {},
   "outputs": [],
   "source": [
    "# search.best_params_"
   ]
  },
  {
   "cell_type": "code",
   "execution_count": 154,
   "id": "f103d727",
   "metadata": {},
   "outputs": [],
   "source": [
    "# search.best_score_"
   ]
  },
  {
   "cell_type": "code",
   "execution_count": 155,
   "id": "11f5155c",
   "metadata": {},
   "outputs": [
    {
     "name": "stdout",
     "output_type": "stream",
     "text": [
      "Best threshold=0.35065000773392263, F-score = 0.641,     Precision = 0.684, Recall = 0.603\n"
     ]
    }
   ],
   "source": [
    "preds, threshold = pipeline_classifier(CatBoostClassifier(silent=True, random_state=14,\n",
    "                                       early_stopping_rounds=100, iterations=1000,\n",
    "                                       l2_leaf_reg=10, learning_rate=0.01))"
   ]
  },
  {
   "cell_type": "code",
   "execution_count": 156,
   "id": "f35374f1",
   "metadata": {},
   "outputs": [
    {
     "name": "stdout",
     "output_type": "stream",
     "text": [
      "Дополнительный доход: 164\n"
     ]
    }
   ],
   "source": [
    "cnf_matrix = confusion_matrix(y_test, preds > threshold)\n",
    "TN = cnf_matrix[0, 0]\n",
    "FN = cnf_matrix[1, 0]\n",
    "FP = cnf_matrix[0, 1]\n",
    "TP = cnf_matrix[1, 1]\n",
    "summ = TP * 2 - (TP + FP) * 1\n",
    "print(f'Дополнительный доход: {summ}')"
   ]
  },
  {
   "cell_type": "markdown",
   "id": "41b2bcbd",
   "metadata": {},
   "source": [
    "**5). *Еще раз провести оценку экономической эффективности**"
   ]
  },
  {
   "cell_type": "code",
   "execution_count": 158,
   "id": "5a88de75",
   "metadata": {},
   "outputs": [
    {
     "name": "stdout",
     "output_type": "stream",
     "text": [
      "Best Threshold=0.505, summ=186.000\n"
     ]
    },
    {
     "data": {
      "text/plain": [
       "0.5050505050505051"
      ]
     },
     "execution_count": 158,
     "metadata": {},
     "output_type": "execute_result"
    }
   ],
   "source": [
    "get_rubles(y_test, preds)"
   ]
  },
  {
   "cell_type": "markdown",
   "id": "7ee98460",
   "metadata": {},
   "source": [
    "При применении данной модели с выбором отсечки при самом выгодном доходе получается 186 $ дополнительного дохода."
   ]
  }
 ],
 "metadata": {
  "kernelspec": {
   "display_name": "Python 3 (ipykernel)",
   "language": "python",
   "name": "python3"
  },
  "language_info": {
   "codemirror_mode": {
    "name": "ipython",
    "version": 3
   },
   "file_extension": ".py",
   "mimetype": "text/x-python",
   "name": "python",
   "nbconvert_exporter": "python",
   "pygments_lexer": "ipython3",
   "version": "3.10.4"
  }
 },
 "nbformat": 4,
 "nbformat_minor": 5
}
