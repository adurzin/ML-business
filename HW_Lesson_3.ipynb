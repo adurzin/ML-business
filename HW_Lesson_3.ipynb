{
 "cells": [
  {
   "cell_type": "markdown",
   "id": "90d425e5",
   "metadata": {},
   "source": [
    "# Lesson_3"
   ]
  },
  {
   "cell_type": "markdown",
   "id": "dc20a1c0",
   "metadata": {},
   "source": [
    "1. Обучить несколько разных моделей на наборе данных ССЗ (train_case2.csv): логрег, бустинг, лес и т.д - на ваш выбор 2-3 варианта\n",
    "2. Вывести сравнение полученных моделей по основным метрикам классификации: pr/rec/auc/f_score (можно в виде таблицы, где строки - модели, а столбцы - метрики)\n",
    "3. Вывести сравнение полученных моделей по метрикам бизнеса по показателям с урока\n",
    "    - стоимость лечения 15000р, если сделали тест и начали лечить вовремя\n",
    "    - стоимость лечения 20000р, если упустили и начали лечить когда уже проявились все симптомы\n",
    "    - стоимость теста 1400р\n",
    "4. Сделать выводы о том, какая модель справилась с задачей лучше других\n",
    "5. *Найти порог классификации по деньгам для лучшей модели\n",
    "    - Стоимость лечения 15000р, если сделали тест и начали лечить вовремя\n",
    "    - Стоимость лечения 20000р, если упустили и начали лечить когда уже проявились все симптомы\n",
    "    - Стоимость теста 1400р"
   ]
  },
  {
   "cell_type": "markdown",
   "id": "c0adb858",
   "metadata": {},
   "source": [
    "## 1)."
   ]
  },
  {
   "cell_type": "code",
   "execution_count": 2,
   "id": "4b6d6bbe",
   "metadata": {},
   "outputs": [],
   "source": [
    "import pandas as pd\n",
    "import numpy as np\n",
    "\n",
    "from sklearn.metrics import roc_auc_score, precision_recall_curve, roc_curve, confusion_matrix\n",
    "from sklearn.model_selection import train_test_split, cross_val_score\n",
    "from sklearn.pipeline import Pipeline, make_pipeline\n",
    "from sklearn.base import BaseEstimator, TransformerMixin\n",
    "from sklearn.feature_extraction.text import TfidfVectorizer\n",
    "\n",
    "import matplotlib.pyplot as plt\n",
    "import seaborn as sns\n",
    "\n",
    "import warnings\n",
    "warnings.filterwarnings('ignore')"
   ]
  },
  {
   "cell_type": "code",
   "execution_count": 3,
   "id": "56b92e26",
   "metadata": {},
   "outputs": [
    {
     "data": {
      "text/html": [
       "<div>\n",
       "<style scoped>\n",
       "    .dataframe tbody tr th:only-of-type {\n",
       "        vertical-align: middle;\n",
       "    }\n",
       "\n",
       "    .dataframe tbody tr th {\n",
       "        vertical-align: top;\n",
       "    }\n",
       "\n",
       "    .dataframe thead th {\n",
       "        text-align: right;\n",
       "    }\n",
       "</style>\n",
       "<table border=\"1\" class=\"dataframe\">\n",
       "  <thead>\n",
       "    <tr style=\"text-align: right;\">\n",
       "      <th></th>\n",
       "      <th>id</th>\n",
       "      <th>age</th>\n",
       "      <th>gender</th>\n",
       "      <th>height</th>\n",
       "      <th>weight</th>\n",
       "      <th>ap_hi</th>\n",
       "      <th>ap_lo</th>\n",
       "      <th>cholesterol</th>\n",
       "      <th>gluc</th>\n",
       "      <th>smoke</th>\n",
       "      <th>alco</th>\n",
       "      <th>active</th>\n",
       "      <th>cardio</th>\n",
       "    </tr>\n",
       "  </thead>\n",
       "  <tbody>\n",
       "    <tr>\n",
       "      <th>25547</th>\n",
       "      <td>36457</td>\n",
       "      <td>22536</td>\n",
       "      <td>1</td>\n",
       "      <td>150</td>\n",
       "      <td>79.0</td>\n",
       "      <td>140</td>\n",
       "      <td>90</td>\n",
       "      <td>3</td>\n",
       "      <td>3</td>\n",
       "      <td>0</td>\n",
       "      <td>0</td>\n",
       "      <td>1</td>\n",
       "      <td>1</td>\n",
       "    </tr>\n",
       "    <tr>\n",
       "      <th>18702</th>\n",
       "      <td>26708</td>\n",
       "      <td>17610</td>\n",
       "      <td>2</td>\n",
       "      <td>154</td>\n",
       "      <td>78.0</td>\n",
       "      <td>120</td>\n",
       "      <td>80</td>\n",
       "      <td>1</td>\n",
       "      <td>1</td>\n",
       "      <td>0</td>\n",
       "      <td>0</td>\n",
       "      <td>1</td>\n",
       "      <td>0</td>\n",
       "    </tr>\n",
       "    <tr>\n",
       "      <th>19240</th>\n",
       "      <td>27489</td>\n",
       "      <td>16728</td>\n",
       "      <td>1</td>\n",
       "      <td>164</td>\n",
       "      <td>59.0</td>\n",
       "      <td>110</td>\n",
       "      <td>70</td>\n",
       "      <td>1</td>\n",
       "      <td>1</td>\n",
       "      <td>0</td>\n",
       "      <td>0</td>\n",
       "      <td>1</td>\n",
       "      <td>1</td>\n",
       "    </tr>\n",
       "  </tbody>\n",
       "</table>\n",
       "</div>"
      ],
      "text/plain": [
       "          id    age  gender  height  weight  ap_hi  ap_lo  cholesterol  gluc  \\\n",
       "25547  36457  22536       1     150    79.0    140     90            3     3   \n",
       "18702  26708  17610       2     154    78.0    120     80            1     1   \n",
       "19240  27489  16728       1     164    59.0    110     70            1     1   \n",
       "\n",
       "       smoke  alco  active  cardio  \n",
       "25547      0     0       1       1  \n",
       "18702      0     0       1       0  \n",
       "19240      0     0       1       1  "
      ]
     },
     "execution_count": 3,
     "metadata": {},
     "output_type": "execute_result"
    }
   ],
   "source": [
    "df = pd.read_csv('train_case2.csv', ';')\n",
    "df.sample(3)"
   ]
  },
  {
   "cell_type": "code",
   "execution_count": 4,
   "id": "dfe3b9b0",
   "metadata": {},
   "outputs": [],
   "source": [
    "X_train, X_test, y_train, y_test = train_test_split(df.drop(columns='cardio'),\n",
    "                                                   df['cardio'], random_state=2)"
   ]
  },
  {
   "cell_type": "code",
   "execution_count": 5,
   "id": "142e5737",
   "metadata": {},
   "outputs": [],
   "source": [
    "class ColumnSelector(BaseEstimator, TransformerMixin):\n",
    "    \n",
    "    def __init__(self, key):\n",
    "        self.key = key\n",
    "        \n",
    "    def fit(self, X, y=None):\n",
    "        return self\n",
    "    \n",
    "    def transform(self, X):\n",
    "        return X[self.key]\n",
    "    \n",
    "\n",
    "class NumberSelector(BaseEstimator, TransformerMixin):\n",
    "    \n",
    "    def __init__(self, key):\n",
    "        self.key = key\n",
    "        \n",
    "    def fit(self, X, y=None):\n",
    "        return self\n",
    "    \n",
    "    def transform(self, X):\n",
    "        return X[[self.key]]\n",
    "    \n",
    "\n",
    "class OHEEncoder(BaseEstimator, TransformerMixin):\n",
    "    \n",
    "    def __init__(self, key):\n",
    "        self.key = key\n",
    "        \n",
    "    def fit(self, X, y=None):\n",
    "        self.columns = [col for col in pd.get_dummies(X, prefix=self.key).columns]\n",
    "        return self\n",
    "    \n",
    "    def transform(self, X):\n",
    "        X = pd.get_dummies(X, prefix=self.key)\n",
    "        test_columns = [col for col in X.columns]\n",
    "        for col_ in self.columns:\n",
    "            if col_ not in test_columns:\n",
    "                X[col_] = 0\n",
    "        return X[self.columns]\n",
    "    \n",
    "from sklearn.preprocessing import StandardScaler\n",
    "\n",
    "continuos_cols = ['age', 'height', 'weight', 'ap_hi', 'ap_lo']\n",
    "cat_cols = ['gender', 'cholesterol']\n",
    "base_cols = ['gluc', 'smoke', 'alco', 'active']\n",
    "\n",
    "continuos_transformers = []\n",
    "cat_transformers = []\n",
    "base_transformers = []\n",
    "\n",
    "for cont_col in continuos_cols:\n",
    "    transformer =  Pipeline([\n",
    "                ('selector', NumberSelector(key=cont_col)),\n",
    "                ('standard', StandardScaler())\n",
    "            ])\n",
    "    continuos_transformers.append((cont_col, transformer))\n",
    "    \n",
    "for cat_col in cat_cols:\n",
    "    cat_transformer = Pipeline([\n",
    "                ('selector', ColumnSelector(key=cat_col)),\n",
    "                ('ohe', OHEEncoder(key=cat_col))\n",
    "            ])\n",
    "    cat_transformers.append((cat_col, cat_transformer))\n",
    "    \n",
    "for base_col in base_cols:\n",
    "    base_transformer = Pipeline([\n",
    "                ('selector', NumberSelector(key=base_col))\n",
    "            ])\n",
    "    base_transformers.append((base_col, base_transformer))"
   ]
  },
  {
   "cell_type": "code",
   "execution_count": 6,
   "id": "f3a375bd",
   "metadata": {},
   "outputs": [],
   "source": [
    "from sklearn.pipeline import FeatureUnion\n",
    "\n",
    "feats = FeatureUnion(continuos_transformers+cat_transformers+base_transformers)\n",
    "feature_processing = Pipeline([('feats', feats)])"
   ]
  },
  {
   "cell_type": "code",
   "execution_count": 7,
   "id": "161df1f9",
   "metadata": {},
   "outputs": [
    {
     "data": {
      "text/plain": [
       "array([[ 0.63862212,  0.68719022, -0.15189705, ...,  1.        ,\n",
       "         0.        ,  1.        ],\n",
       "       [-0.80462358, -1.50641457, -0.8459871 , ...,  0.        ,\n",
       "         0.        ,  1.        ],\n",
       "       [-0.20452226, -0.04401137,  1.51391908, ...,  0.        ,\n",
       "         0.        ,  1.        ],\n",
       "       ...,\n",
       "       [ 1.59131847,  0.32158943,  1.23628306, ...,  0.        ,\n",
       "         0.        ,  0.        ],\n",
       "       [ 0.11277269, -0.28774524, -0.8459871 , ...,  0.        ,\n",
       "         0.        ,  0.        ],\n",
       "       [-0.52952642,  0.07785556,  1.02805604, ...,  0.        ,\n",
       "         0.        ,  1.        ]])"
      ]
     },
     "execution_count": 7,
     "metadata": {},
     "output_type": "execute_result"
    }
   ],
   "source": [
    "feature_processing.fit_transform(X_train)"
   ]
  },
  {
   "cell_type": "markdown",
   "id": "fefda5d1",
   "metadata": {},
   "source": [
    "#### LogisticRegression"
   ]
  },
  {
   "cell_type": "code",
   "execution_count": 8,
   "id": "9327fab8",
   "metadata": {},
   "outputs": [
    {
     "name": "stdout",
     "output_type": "stream",
     "text": [
      "CV score in (0.7874680986554055 +- 0.0026869871307792378)\n"
     ]
    }
   ],
   "source": [
    "from sklearn.linear_model import LogisticRegression\n",
    "\n",
    "\n",
    "classifier_log = Pipeline([\n",
    "    ('features', feats),\n",
    "    ('classifier', LogisticRegression(random_state=15))\n",
    "])\n",
    "\n",
    "# запустим кросс-валидацию\n",
    "\n",
    "cv_scores = cross_val_score(classifier_log, X_train, y_train, cv=7, scoring='roc_auc')\n",
    "cv_score = np.mean(cv_scores)\n",
    "cv_score_std = np.std(cv_scores)\n",
    "print(f'CV score in ({cv_score} +- {cv_score_std})')\n",
    "\n",
    "classifier_log.fit(X_train, y_train)\n",
    "y_score_log = classifier_log.predict_proba(X_test)[:, 1]"
   ]
  },
  {
   "cell_type": "code",
   "execution_count": 9,
   "id": "85488440",
   "metadata": {},
   "outputs": [
    {
     "name": "stdout",
     "output_type": "stream",
     "text": [
      "Best Threshold=0.40548000050388566, F-Score=0.7332441058375373, Precision=0.6664795058955643, Recall=0.8148741418764303\n"
     ]
    }
   ],
   "source": [
    "# Посчитаем метрики\n",
    "b = 1\n",
    "precision, recall, thresholds = precision_recall_curve(y_test.values, y_score_log)\n",
    "fscore = (1 + b**2) * (precision * recall) / (b**2 * precision + recall)\n",
    "# максимальное значение f-score\n",
    "ix = np.argmax(fscore)\n",
    "precision_log = precision[ix]\n",
    "recall_log = recall[ix]\n",
    "fscore_log = fscore[ix]\n",
    "thresholds_log = thresholds[ix]\n",
    "print(f'Best Threshold={thresholds[ix]}, F-Score={fscore[ix]}, Precision={precision[ix]}, Recall={recall[ix]}')"
   ]
  },
  {
   "cell_type": "code",
   "execution_count": 11,
   "id": "b33120f3",
   "metadata": {},
   "outputs": [
    {
     "name": "stdout",
     "output_type": "stream",
     "text": [
      "roc auc score: 0.787908978992452\n",
      "roc auc score: 0.783400585666071\n"
     ]
    }
   ],
   "source": [
    "print(f'roc auc score: {roc_auc_score(y_train, classifier_log.predict_proba(X_train)[:, 1])}')\n",
    "\n",
    "roc_auc_log = roc_auc_score(y_test, classifier_log.predict_proba(X_test)[:, 1])\n",
    "print(f'roc auc score: {roc_auc_log}')"
   ]
  },
  {
   "cell_type": "markdown",
   "id": "ab859d5f",
   "metadata": {},
   "source": [
    "#### RandomForest"
   ]
  },
  {
   "cell_type": "code",
   "execution_count": 12,
   "id": "e2757c17",
   "metadata": {},
   "outputs": [],
   "source": [
    "from sklearn.ensemble import RandomForestClassifier"
   ]
  },
  {
   "cell_type": "code",
   "execution_count": 13,
   "id": "45c6ea6f",
   "metadata": {},
   "outputs": [
    {
     "name": "stdout",
     "output_type": "stream",
     "text": [
      "CV score in (0.800120053053112 +- 0.0024200585693701106)\n",
      "CPU times: total: 3min 9s\n",
      "Wall time: 3min 14s\n"
     ]
    }
   ],
   "source": [
    "%%time\n",
    "classifier_random_forest = Pipeline([\n",
    "    ('features', feats),\n",
    "    ('classifier', RandomForestClassifier(random_state=15, n_estimators=15, min_samples_leaf=15))\n",
    "])\n",
    "\n",
    "# запустим кросс-валидацию\n",
    "\n",
    "cv_scores = cross_val_score(classifier_random_forest, X_train, y_train, cv=7, scoring='roc_auc')\n",
    "cv_score = np.mean(cv_scores)\n",
    "cv_score_std = np.std(cv_scores)\n",
    "print(f'CV score in ({cv_score} +- {cv_score_std})')\n",
    "\n",
    "classifier_random_forest.fit(X_train, y_train)\n",
    "y_score_random_forest = classifier_random_forest.predict_proba(X_test)[:, 1]"
   ]
  },
  {
   "cell_type": "code",
   "execution_count": 36,
   "id": "08e3aa6b",
   "metadata": {},
   "outputs": [
    {
     "name": "stdout",
     "output_type": "stream",
     "text": [
      "Best Threshold=0.36749514090106394, F-Score=0.7415232402349788, Precision=0.6745734108381773, Recall=0.8232265446224256\n"
     ]
    }
   ],
   "source": [
    "# Посчитаем метрики\n",
    "b = 1\n",
    "precision, recall, thresholds = precision_recall_curve(y_test.values, y_score_random_forest)\n",
    "fscore = (1 + b**2) * (precision * recall) / (b**2 * precision + recall)\n",
    "# максимальное значение f-score\n",
    "ix = np.nanargmax(fscore)\n",
    "precision_forest = precision[ix]\n",
    "recall_forest = recall[ix]\n",
    "fscore_forest = fscore[ix]\n",
    "thresholds_forest = thresholds[ix]\n",
    "print(f'Best Threshold={thresholds[ix]}, F-Score={fscore[ix]}, Precision={precision[ix]}, Recall={recall[ix]}')"
   ]
  },
  {
   "cell_type": "code",
   "execution_count": 37,
   "id": "5c9f7c1e",
   "metadata": {},
   "outputs": [
    {
     "name": "stdout",
     "output_type": "stream",
     "text": [
      "roc auc score: 0.8354144639784491\n",
      "roc auc score: 0.7965363546597286\n"
     ]
    }
   ],
   "source": [
    "print(f'roc auc score: {roc_auc_score(y_train, classifier_random_forest.predict_proba(X_train)[:, 1])}')\n",
    "\n",
    "roc_auc_forest = roc_auc_score(y_test, classifier_random_forest.predict_proba(X_test)[:, 1])\n",
    "print(f'roc auc score: {roc_auc_forest}')"
   ]
  },
  {
   "cell_type": "markdown",
   "id": "39703d1a",
   "metadata": {},
   "source": [
    "#### Catboost"
   ]
  },
  {
   "cell_type": "code",
   "execution_count": 51,
   "id": "d14a08e6",
   "metadata": {},
   "outputs": [],
   "source": [
    "from catboost import CatBoostClassifier"
   ]
  },
  {
   "cell_type": "code",
   "execution_count": 17,
   "id": "45778a72",
   "metadata": {},
   "outputs": [
    {
     "name": "stdout",
     "output_type": "stream",
     "text": [
      "CV score in (0.8025428751396235 +- 0.003032884487355725)\n",
      "CPU times: total: 10min 16s\n",
      "Wall time: 2min 23s\n"
     ]
    }
   ],
   "source": [
    "%%time\n",
    "classifier_catboost = Pipeline([\n",
    "    ('features', feats),\n",
    "    ('classifier', CatBoostClassifier(random_state=15,\n",
    "                                      silent=True))\n",
    "])\n",
    "\n",
    "# запустим кросс-валидацию\n",
    "\n",
    "cv_scores = cross_val_score(classifier_catboost, X_train, y_train, cv=7, scoring='roc_auc')\n",
    "cv_score = np.mean(cv_scores)\n",
    "cv_score_std = np.std(cv_scores)\n",
    "print(f'CV score in ({cv_score} +- {cv_score_std})')\n",
    "\n",
    "classifier_catboost.fit(X_train, y_train)\n",
    "y_score_catboost = classifier_catboost.predict_proba(X_test)[:, 1]"
   ]
  },
  {
   "cell_type": "code",
   "execution_count": 38,
   "id": "6174ea68",
   "metadata": {},
   "outputs": [
    {
     "name": "stdout",
     "output_type": "stream",
     "text": [
      "Best Threshold=0.3547559604856096, F-Score=0.744485294117647, Precision=0.6722611582441903, Recall=0.834096109839817\n"
     ]
    }
   ],
   "source": [
    "# Посчитаем метрики\n",
    "b = 1\n",
    "precision, recall, thresholds = precision_recall_curve(y_test.values, y_score_catboost)\n",
    "fscore = (1 + b**2) * (precision * recall) / (b**2 * precision + recall)\n",
    "# максимальное значение f-score\n",
    "ix = np.nanargmax(fscore)\n",
    "precision_catb = precision[ix]\n",
    "recall_catb = recall[ix]\n",
    "fscore_catb = fscore[ix]\n",
    "thresholds_catb = thresholds[ix]\n",
    "print(f'Best Threshold={thresholds[ix]}, F-Score={fscore[ix]}, Precision={precision[ix]}, Recall={recall[ix]}')"
   ]
  },
  {
   "cell_type": "code",
   "execution_count": 19,
   "id": "f6b0b27c",
   "metadata": {},
   "outputs": [
    {
     "name": "stdout",
     "output_type": "stream",
     "text": [
      "roc auc score: 0.8342554622329773\n",
      "roc auc score: 0.7998760749401794\n"
     ]
    }
   ],
   "source": [
    "print(f'roc auc score: {roc_auc_score(y_train, classifier_catboost.predict_proba(X_train)[:, 1])}')\n",
    "\n",
    "roc_auc_catb = roc_auc_score(y_test, classifier_catboost.predict_proba(X_test)[:, 1])\n",
    "print(f'roc auc score: {roc_auc_catb}')"
   ]
  },
  {
   "cell_type": "markdown",
   "id": "efd94c5b",
   "metadata": {},
   "source": [
    "#### LightGBM"
   ]
  },
  {
   "cell_type": "code",
   "execution_count": 20,
   "id": "5aa62323",
   "metadata": {},
   "outputs": [],
   "source": [
    "from lightgbm import LGBMClassifier as lgbm"
   ]
  },
  {
   "cell_type": "code",
   "execution_count": 21,
   "id": "95e7d44c",
   "metadata": {},
   "outputs": [
    {
     "name": "stdout",
     "output_type": "stream",
     "text": [
      "CV score in (0.8034548599611272 +- 0.0022798028047318897)\n",
      "CPU times: total: 23.3 s\n",
      "Wall time: 3.16 s\n"
     ]
    }
   ],
   "source": [
    "%%time\n",
    "classifier_lgbm = Pipeline([\n",
    "    ('features', feats),\n",
    "    ('classifier', lgbm(random_state=15))\n",
    "])\n",
    "\n",
    "# запустим кросс-валидацию\n",
    "\n",
    "cv_scores = cross_val_score(classifier_lgbm, X_train, y_train, cv=7, scoring='roc_auc')\n",
    "cv_score = np.mean(cv_scores)\n",
    "cv_score_std = np.std(cv_scores)\n",
    "print(f'CV score in ({cv_score} +- {cv_score_std})')\n",
    "\n",
    "classifier_lgbm.fit(X_train, y_train)\n",
    "y_score_lgbm = classifier_lgbm.predict_proba(X_test)[:, 1]"
   ]
  },
  {
   "cell_type": "code",
   "execution_count": 22,
   "id": "8e6b4cf4",
   "metadata": {},
   "outputs": [
    {
     "name": "stdout",
     "output_type": "stream",
     "text": [
      "Best Threshold=0.3656438335871373, F-Score=0.7430394730070506, Precision=0.6752408567954354, Recall=0.8259725400457666\n"
     ]
    }
   ],
   "source": [
    "# Посчитаем метрики\n",
    "b = 1\n",
    "precision, recall, thresholds = precision_recall_curve(y_test.values, y_score_lgbm)\n",
    "fscore = (1 + b**2) * (precision * recall) / (b**2 * precision + recall)\n",
    "# максимальное значение f-score\n",
    "ix = np.nanargmax(fscore)\n",
    "precision_lgbm = precision[ix]\n",
    "recall_lgbm = recall[ix]\n",
    "fscore_lgbm = fscore[ix]\n",
    "thresholds_lgbm = thresholds[ix]\n",
    "print(f'Best Threshold={thresholds[ix]}, F-Score={fscore[ix]}, Precision={precision[ix]}, Recall={recall[ix]}')"
   ]
  },
  {
   "cell_type": "code",
   "execution_count": 23,
   "id": "d017fa46",
   "metadata": {},
   "outputs": [
    {
     "name": "stdout",
     "output_type": "stream",
     "text": [
      "roc auc score: 0.8256878990051495\n",
      "roc auc score: 0.8000824490872804\n"
     ]
    }
   ],
   "source": [
    "print(f'roc auc score: {roc_auc_score(y_train, classifier_lgbm.predict_proba(X_train)[:, 1])}')\n",
    "\n",
    "roc_auc_lgbm = roc_auc_score(y_test, classifier_lgbm.predict_proba(X_test)[:, 1])\n",
    "print(f'roc auc score: {roc_auc_lgbm}')"
   ]
  },
  {
   "cell_type": "markdown",
   "id": "59c20db4",
   "metadata": {},
   "source": [
    "## 2)."
   ]
  },
  {
   "cell_type": "code",
   "execution_count": 40,
   "id": "6b609cc0",
   "metadata": {},
   "outputs": [
    {
     "data": {
      "text/html": [
       "<div>\n",
       "<style scoped>\n",
       "    .dataframe tbody tr th:only-of-type {\n",
       "        vertical-align: middle;\n",
       "    }\n",
       "\n",
       "    .dataframe tbody tr th {\n",
       "        vertical-align: top;\n",
       "    }\n",
       "\n",
       "    .dataframe thead th {\n",
       "        text-align: right;\n",
       "    }\n",
       "</style>\n",
       "<table border=\"1\" class=\"dataframe\">\n",
       "  <thead>\n",
       "    <tr style=\"text-align: right;\">\n",
       "      <th></th>\n",
       "      <th>model</th>\n",
       "      <th>precision</th>\n",
       "      <th>recall</th>\n",
       "      <th>fscore</th>\n",
       "      <th>roc_auc</th>\n",
       "    </tr>\n",
       "  </thead>\n",
       "  <tbody>\n",
       "    <tr>\n",
       "      <th>0</th>\n",
       "      <td>logreg</td>\n",
       "      <td>0.666480</td>\n",
       "      <td>0.814874</td>\n",
       "      <td>0.733244</td>\n",
       "      <td>0.783401</td>\n",
       "    </tr>\n",
       "    <tr>\n",
       "      <th>1</th>\n",
       "      <td>random_forest</td>\n",
       "      <td>0.674573</td>\n",
       "      <td>0.823227</td>\n",
       "      <td>0.741523</td>\n",
       "      <td>0.796536</td>\n",
       "    </tr>\n",
       "    <tr>\n",
       "      <th>2</th>\n",
       "      <td>catboost</td>\n",
       "      <td>0.672261</td>\n",
       "      <td>0.834096</td>\n",
       "      <td>0.744485</td>\n",
       "      <td>0.799876</td>\n",
       "    </tr>\n",
       "    <tr>\n",
       "      <th>3</th>\n",
       "      <td>lightgbm</td>\n",
       "      <td>0.675241</td>\n",
       "      <td>0.825973</td>\n",
       "      <td>0.743039</td>\n",
       "      <td>0.800082</td>\n",
       "    </tr>\n",
       "  </tbody>\n",
       "</table>\n",
       "</div>"
      ],
      "text/plain": [
       "           model  precision    recall    fscore   roc_auc\n",
       "0         logreg   0.666480  0.814874  0.733244  0.783401\n",
       "1  random_forest   0.674573  0.823227  0.741523  0.796536\n",
       "2       catboost   0.672261  0.834096  0.744485  0.799876\n",
       "3       lightgbm   0.675241  0.825973  0.743039  0.800082"
      ]
     },
     "execution_count": 40,
     "metadata": {},
     "output_type": "execute_result"
    }
   ],
   "source": [
    "pd.DataFrame({\n",
    "    'model': ['logreg', 'random_forest', 'catboost', 'lightgbm'],\n",
    "    'precision': [precision_log, precision_forest, precision_catb, precision_lgbm],\n",
    "    'recall': [recall_log, recall_forest, recall_catb, recall_lgbm],\n",
    "    'fscore': [fscore_log, fscore_forest, fscore_catb, fscore_lgbm],\n",
    "    'roc_auc': [roc_auc_log, roc_auc_forest, roc_auc_catb, roc_auc_lgbm]\n",
    "})"
   ]
  },
  {
   "cell_type": "markdown",
   "id": "039c1c7a",
   "metadata": {},
   "source": [
    "## 3)."
   ]
  },
  {
   "cell_type": "code",
   "execution_count": 41,
   "id": "4c28ab15",
   "metadata": {},
   "outputs": [],
   "source": [
    "rubl_test=1400\n",
    "rubl_early_treatment=15000\n",
    "rubl_late_treatment=20000"
   ]
  },
  {
   "cell_type": "code",
   "execution_count": 42,
   "id": "428d36a4",
   "metadata": {},
   "outputs": [],
   "source": [
    "def busines_lost(y_test, y_score, threshold):\n",
    "    cnf_matrix = confusion_matrix(y_test, y_score > threshold)\n",
    "    TN = cnf_matrix[0,0]\n",
    "    TP = cnf_matrix[1,1]\n",
    "    FN = cnf_matrix[1,0]\n",
    "    FP = cnf_matrix[0,1]\n",
    "    lost = (TP + FP) * rubl_test + FN * rubl_late_treatment + TP * rubl_early_treatment\n",
    "    \n",
    "    return lost / 10**6"
   ]
  },
  {
   "cell_type": "code",
   "execution_count": 43,
   "id": "b2cf1737",
   "metadata": {},
   "outputs": [
    {
     "data": {
      "text/html": [
       "<div>\n",
       "<style scoped>\n",
       "    .dataframe tbody tr th:only-of-type {\n",
       "        vertical-align: middle;\n",
       "    }\n",
       "\n",
       "    .dataframe tbody tr th {\n",
       "        vertical-align: top;\n",
       "    }\n",
       "\n",
       "    .dataframe thead th {\n",
       "        text-align: right;\n",
       "    }\n",
       "</style>\n",
       "<table border=\"1\" class=\"dataframe\">\n",
       "  <thead>\n",
       "    <tr style=\"text-align: right;\">\n",
       "      <th></th>\n",
       "      <th>model</th>\n",
       "      <th>busines_losts</th>\n",
       "    </tr>\n",
       "  </thead>\n",
       "  <tbody>\n",
       "    <tr>\n",
       "      <th>2</th>\n",
       "      <td>catboost</td>\n",
       "      <td>153.5352</td>\n",
       "    </tr>\n",
       "    <tr>\n",
       "      <th>3</th>\n",
       "      <td>lightgbm</td>\n",
       "      <td>153.6760</td>\n",
       "    </tr>\n",
       "    <tr>\n",
       "      <th>1</th>\n",
       "      <td>random_forest</td>\n",
       "      <td>153.7610</td>\n",
       "    </tr>\n",
       "    <tr>\n",
       "      <th>0</th>\n",
       "      <td>logreg</td>\n",
       "      <td>154.1540</td>\n",
       "    </tr>\n",
       "  </tbody>\n",
       "</table>\n",
       "</div>"
      ],
      "text/plain": [
       "           model  busines_losts\n",
       "2       catboost       153.5352\n",
       "3       lightgbm       153.6760\n",
       "1  random_forest       153.7610\n",
       "0         logreg       154.1540"
      ]
     },
     "execution_count": 43,
     "metadata": {},
     "output_type": "execute_result"
    }
   ],
   "source": [
    "losts = pd.DataFrame({'model': ['logreg', 'random_forest', 'catboost', 'lightgbm'],\n",
    "    'busines_losts': [\n",
    "        busines_lost(y_test, y_score_log, thresholds_log),\n",
    "        busines_lost(y_test, y_score_random_forest, thresholds_forest),\n",
    "        busines_lost(y_test, y_score_catboost, thresholds_catb),\n",
    "        busines_lost(y_test, y_score_lgbm, thresholds_lgbm)\n",
    "    ]\n",
    "})\n",
    "losts.sort_values(by='busines_losts')"
   ]
  },
  {
   "cell_type": "markdown",
   "id": "dbeb7da3",
   "metadata": {},
   "source": [
    "## 4)."
   ]
  },
  {
   "cell_type": "markdown",
   "id": "44751ebb",
   "metadata": {},
   "source": [
    "Лучше всего себя показывают модели градиентного бустинга Catboost и Lightgbm.\n",
    "Из-за несущественных отличий между lgbm и catb лучше выбирать lgbm, так как затраты мощностей и время создания модели гораздо меньше, а это существенно ускорит работу при подборе гиперпараметров модели."
   ]
  },
  {
   "cell_type": "markdown",
   "id": "e561df1c",
   "metadata": {},
   "source": [
    "## *5)."
   ]
  },
  {
   "cell_type": "code",
   "execution_count": 44,
   "id": "20e3de6b",
   "metadata": {},
   "outputs": [],
   "source": [
    "def business_threshold_calibrate(y_test, y_score, thresholds,\n",
    "                                 rubl_test=100, rubl_early_treatment=100, rubl_late_treatment=1000):\n",
    "    business_threshold = 0\n",
    "    r_test_all_r_ML_ = 0\n",
    "\n",
    "    rubl_ML_ = 1_000_000_000 \n",
    "\n",
    "    rs = []\n",
    "    n = 100\n",
    "    for opt_buisness_tr in np.linspace(0, 1, n).tolist():\n",
    "        # подберем порог для улучшения бизнесс показателя\n",
    "\n",
    "        cnf_matrix = confusion_matrix(y_test, y_score > (opt_buisness_tr))\n",
    "        TN = cnf_matrix[0][0]\n",
    "        FN = cnf_matrix[1][0]\n",
    "        TP = cnf_matrix[1][1]\n",
    "        FP = cnf_matrix[0][1]\n",
    "\n",
    "        rubl_ML = (TP + FP) * rubl_test + FN * rubl_late_treatment + TP * rubl_early_treatment\n",
    "        \n",
    "        if rubl_ML < rubl_ML_:            \n",
    "            business_threshold = opt_buisness_tr\n",
    "            \n",
    "            rubl_ML_ = rubl_ML\n",
    "            \n",
    "        rs.append(rubl_ML)   \n",
    "\n",
    "    return rubl_ML_ / 10**6"
   ]
  },
  {
   "cell_type": "code",
   "execution_count": 45,
   "id": "b2da51d6",
   "metadata": {},
   "outputs": [],
   "source": [
    "busines_tr_log = business_threshold_calibrate(y_test, y_score_log, \n",
    "                                          thresholds_log,\n",
    "                                          rubl_test=1400, \n",
    "                                          rubl_early_treatment=15000, \n",
    "                                          rubl_late_treatment=20000)"
   ]
  },
  {
   "cell_type": "code",
   "execution_count": 46,
   "id": "833c2de5",
   "metadata": {},
   "outputs": [],
   "source": [
    "busines_tr_forest = business_threshold_calibrate(y_test, y_score_random_forest, \n",
    "                                          thresholds_forest,\n",
    "                                          rubl_test=1400, \n",
    "                                          rubl_early_treatment=15000, \n",
    "                                          rubl_late_treatment=20000)"
   ]
  },
  {
   "cell_type": "code",
   "execution_count": 47,
   "id": "14ea727c",
   "metadata": {},
   "outputs": [],
   "source": [
    "busines_tr_catb = business_threshold_calibrate(y_test, y_score_catboost, \n",
    "                                          thresholds_catb,\n",
    "                                          rubl_test=1400, \n",
    "                                          rubl_early_treatment=15000, \n",
    "                                          rubl_late_treatment=20000)"
   ]
  },
  {
   "cell_type": "code",
   "execution_count": 48,
   "id": "309d479c",
   "metadata": {},
   "outputs": [],
   "source": [
    "busines_tr_lgbm = business_threshold_calibrate(y_test, y_score_lgbm, \n",
    "                                          thresholds_lgbm,\n",
    "                                          rubl_test=1400, \n",
    "                                          rubl_early_treatment=15000, \n",
    "                                          rubl_late_treatment=20000)"
   ]
  },
  {
   "cell_type": "code",
   "execution_count": 49,
   "id": "cc28a308",
   "metadata": {},
   "outputs": [
    {
     "data": {
      "text/html": [
       "<div>\n",
       "<style scoped>\n",
       "    .dataframe tbody tr th:only-of-type {\n",
       "        vertical-align: middle;\n",
       "    }\n",
       "\n",
       "    .dataframe tbody tr th {\n",
       "        vertical-align: top;\n",
       "    }\n",
       "\n",
       "    .dataframe thead th {\n",
       "        text-align: right;\n",
       "    }\n",
       "</style>\n",
       "<table border=\"1\" class=\"dataframe\">\n",
       "  <thead>\n",
       "    <tr style=\"text-align: right;\">\n",
       "      <th></th>\n",
       "      <th>model</th>\n",
       "      <th>busines_losts</th>\n",
       "    </tr>\n",
       "  </thead>\n",
       "  <tbody>\n",
       "    <tr>\n",
       "      <th>3</th>\n",
       "      <td>lightgbm</td>\n",
       "      <td>153.2484</td>\n",
       "    </tr>\n",
       "    <tr>\n",
       "      <th>2</th>\n",
       "      <td>catboost</td>\n",
       "      <td>153.2950</td>\n",
       "    </tr>\n",
       "    <tr>\n",
       "      <th>1</th>\n",
       "      <td>random_forest</td>\n",
       "      <td>153.3438</td>\n",
       "    </tr>\n",
       "    <tr>\n",
       "      <th>0</th>\n",
       "      <td>logreg</td>\n",
       "      <td>153.6580</td>\n",
       "    </tr>\n",
       "  </tbody>\n",
       "</table>\n",
       "</div>"
      ],
      "text/plain": [
       "           model  busines_losts\n",
       "3       lightgbm       153.2484\n",
       "2       catboost       153.2950\n",
       "1  random_forest       153.3438\n",
       "0         logreg       153.6580"
      ]
     },
     "execution_count": 49,
     "metadata": {},
     "output_type": "execute_result"
    }
   ],
   "source": [
    "losts = pd.DataFrame({'model': ['logreg', 'random_forest', 'catboost', 'lightgbm'],\n",
    "    'busines_losts': [busines_tr_log, busines_tr_forest,\n",
    "                      busines_tr_catb, busines_tr_lgbm]\n",
    "})\n",
    "losts.sort_values(by='busines_losts')"
   ]
  },
  {
   "cell_type": "code",
   "execution_count": 50,
   "id": "dec872cf",
   "metadata": {},
   "outputs": [
    {
     "name": "stdout",
     "output_type": "stream",
     "text": [
      "Если всем делать тесты: 155.6 млн. рублей\n",
      "Если никому не делать тесты: 174.8 млн. рублей\n"
     ]
    }
   ],
   "source": [
    "print(f'Если всем делать тесты: {(rubl_test * y_test.shape[0] + rubl_early_treatment * y_test.value_counts()[1]) / 10**6} млн. рублей')\n",
    "print(f'Если никому не делать тесты: {(rubl_late_treatment * y_test.value_counts()[1]) / 10**6} млн. рублей')"
   ]
  },
  {
   "cell_type": "markdown",
   "id": "a771bc2f",
   "metadata": {},
   "source": [
    "**В среднем разница между решением модели с отсечкой по бизнес метрике и решением сделать тесты всем около 2 млн. рублей только на тестовой выборке - 25% от общей.**"
   ]
  }
 ],
 "metadata": {
  "kernelspec": {
   "display_name": "Python 3 (ipykernel)",
   "language": "python",
   "name": "python3"
  },
  "language_info": {
   "codemirror_mode": {
    "name": "ipython",
    "version": 3
   },
   "file_extension": ".py",
   "mimetype": "text/x-python",
   "name": "python",
   "nbconvert_exporter": "python",
   "pygments_lexer": "ipython3",
   "version": "3.10.4"
  }
 },
 "nbformat": 4,
 "nbformat_minor": 5
}
